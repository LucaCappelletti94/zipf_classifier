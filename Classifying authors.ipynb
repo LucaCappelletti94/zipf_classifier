{
 "cells": [
  {
   "cell_type": "markdown",
   "metadata": {},
   "source": [
    "# A Zipf classifier\n",
    "## Using Zipf and statistics to map books to their authors and periods\n",
    "\n",
    "## Introduction\n",
    "Hello, I'm Luca Cappelletti and here I will show you an example of usage of [ZipfClassifier](https://github.com/LucaCappelletti94/zipf_classifier), a classifier that leverages the assumption that some kind of datasets (texts, [some images](http://www.dcs.warwick.ac.uk/bmvc2007/proceedings/CD-ROM/papers/paper-288.pdf), even [sounds in spoken languages](http://journals.plos.org/plosone/article?id=10.1371/journal.pone.0033993)) follows the [Zipf distribution](https://en.wikipedia.org/wiki/Zipf%27s_law)."
   ]
  },
  {
   "cell_type": "markdown",
   "metadata": {},
   "source": [
    "## How to use this notebook"
   ]
  },
  {
   "cell_type": "markdown",
   "metadata": {},
   "source": [
    "This is a [Jupyter Notebook](http://jupyter.org/). You can either read it [here on github](https://github.com/LucaCappelletti94/zipf_classifier/blob/master/Classifying%20authors.ipynb) or, **preferably** to enjoy all its aspects, run it on your own computer. Jupyter comes installed with [Anaconda](https://anaconda.org/), to execute it you just need to run the following in your terminal:\n",
    "\n",
    "`jupyter-notebook`"
   ]
  },
  {
   "cell_type": "markdown",
   "metadata": {},
   "source": [
    "## What we will use"
   ]
  },
  {
   "cell_type": "markdown",
   "metadata": {},
   "source": [
    "### The packages\n",
    "We will use obviously the [ZipfClassifier](https://github.com/LucaCappelletti94/zipf_classifier) and other two packages of mine: [Zipf](https://github.com/LucaCappelletti94/zipf) to create the distributions from the texts and [Dictances](https://github.com/LucaCappelletti94/dictances) for the classifications metrics. If you need to install them just run the following command in your terminal:\n",
    "\n",
    "```pip install zipf dictances zipf_classifier```"
   ]
  },
  {
   "cell_type": "code",
   "execution_count": 1,
   "metadata": {},
   "outputs": [],
   "source": [
    "from zipf.factories import ZipfFromDir\n",
    "from zipf_classifier import ZipfClassifier\n",
    "from dictances import jensen_shannon, normal_total_variation, kullback_leibler, bhattacharyya, bhattacharyya_coefficient, hellinger"
   ]
  },
  {
   "cell_type": "markdown",
   "metadata": {},
   "source": [
    "### Additional packages\n",
    "We will also be using some utilities, such as the loading bar `tqdm` and the `requests` package. If you don't have them already you can install them by running:\n",
    "\n",
    "```\n",
    "pip install tqdm requests tabulate\n",
    "```\n",
    "\n",
    "The others packages should be already installed with python by default."
   ]
  },
  {
   "cell_type": "code",
   "execution_count": 1,
   "metadata": {},
   "outputs": [],
   "source": [
    "import io\n",
    "import inspect\n",
    "import json\n",
    "import math\n",
    "import os\n",
    "import random\n",
    "import shutil\n",
    "import zipfile\n",
    "from collections import defaultdict\n",
    "from pprint import pprint\n",
    "\n",
    "import requests\n",
    "from tqdm import tqdm_notebook as tqdm\n",
    "\n",
    "from pygments import highlight\n",
    "from pygments.lexers import PythonLexer\n",
    "from pygments.formatters import HtmlFormatter\n",
    "from IPython.display import HTML, display\n",
    "import tabulate"
   ]
  },
  {
   "cell_type": "code",
   "execution_count": 2,
   "metadata": {},
   "outputs": [
    {
     "data": {
      "application/vnd.jupyter.widget-view+json": {
       "model_id": "ab6ef7887df84fe4957dbba922c96bb2",
       "version_major": 2,
       "version_minor": 0
      },
      "text/html": [
       "<p>Failed to display Jupyter Widget of type <code>HBox</code>.</p>\n",
       "<p>\n",
       "  If you're reading this message in the Jupyter Notebook or JupyterLab Notebook, it may mean\n",
       "  that the widgets JavaScript is still loading. If this message persists, it\n",
       "  likely means that the widgets JavaScript library is either not installed or\n",
       "  not enabled. See the <a href=\"https://ipywidgets.readthedocs.io/en/stable/user_install.html\">Jupyter\n",
       "  Widgets Documentation</a> for setup instructions.\n",
       "</p>\n",
       "<p>\n",
       "  If you're reading this message in another frontend (for example, a static\n",
       "  rendering on GitHub or <a href=\"https://nbviewer.jupyter.org/\">NBViewer</a>),\n",
       "  it may mean that your frontend doesn't currently support widgets.\n",
       "</p>\n"
      ],
      "text/plain": [
       "HBox(children=(IntProgress(value=0, max=31986), HTML(value='')))"
      ]
     },
     "metadata": {},
     "output_type": "display_data"
    },
    {
     "name": "stdout",
     "output_type": "stream",
     "text": [
      "\n"
     ]
    }
   ],
   "source": [
    "txts = [sub[0]+'/'+txt for sub in os.walk('recipes') for txt in sub[2] if txt.endswith('.txt')]\n",
    "for txt in tqdm(txts):\n",
    "    n = txt.count('/')\n",
    "    if n == 2:\n",
    "        #print(txt)\n",
    "        target = txt[:-4]\n",
    "        #print(\"Creating %s\"%target)\n",
    "        shutil.move(txt, target)"
   ]
  },
  {
   "cell_type": "markdown",
   "metadata": {},
   "source": [
    "### Some small helpers\n",
    "Let's make ome small functions to help out loading folders:"
   ]
  },
  {
   "cell_type": "code",
   "execution_count": 3,
   "metadata": {},
   "outputs": [],
   "source": [
    "def get_dirs(root):\n",
    "    \"\"\"Return subdirectories under a directory.\"\"\"\n",
    "    return [root+\"/\"+d for d in os.listdir(root) if os.path.isdir(root+\"/\"+d)]"
   ]
  },
  {
   "cell_type": "markdown",
   "metadata": {},
   "source": [
    "and the book folders:"
   ]
  },
  {
   "cell_type": "code",
   "execution_count": 4,
   "metadata": {},
   "outputs": [],
   "source": [
    "def get_books(root):\n",
    "    \"\"\"Return all books found under a given root.\"\"\"\n",
    "    return [book[0] for book in os.walk(root) for chapter in book[2][:1] if chapter.endswith('.txt')]"
   ]
  },
  {
   "cell_type": "markdown",
   "metadata": {},
   "source": [
    "and the saved zipfs:"
   ]
  },
  {
   "cell_type": "code",
   "execution_count": 5,
   "metadata": {},
   "outputs": [],
   "source": [
    "def get_zipfs(root):\n",
    "    \"\"\"Return all zipfs found under a given root.\"\"\"\n",
    "    return [zipfs[0]+\"/\"+zipf for zipfs in os.walk(root) for zipf in zipfs[2] if zipf.endswith('.json')]"
   ]
  },
  {
   "cell_type": "markdown",
   "metadata": {},
   "source": [
    "### Some small helpers"
   ]
  },
  {
   "cell_type": "code",
   "execution_count": 6,
   "metadata": {},
   "outputs": [],
   "source": [
    "def b(string):\n",
    "    \"\"\"Return a boldified string.\"\"\"\n",
    "    return \"\\033[1m%s\\033[0;0m\"%string"
   ]
  },
  {
   "cell_type": "code",
   "execution_count": 7,
   "metadata": {},
   "outputs": [],
   "source": [
    "def red(string):\n",
    "    \"\"\"Return a red string.\"\"\"\n",
    "    return \"\\033[0;31m%s\\033[0;0m\"%string"
   ]
  },
  {
   "cell_type": "code",
   "execution_count": 8,
   "metadata": {},
   "outputs": [],
   "source": [
    "def yellow(string):\n",
    "    \"\"\"Return a yellow string.\"\"\"\n",
    "    return \"\\033[0;33m%s\\033[0;0m\"%string"
   ]
  },
  {
   "cell_type": "code",
   "execution_count": 9,
   "metadata": {},
   "outputs": [],
   "source": [
    "def green(string):\n",
    "    \"\"\"Return a green string.\"\"\"\n",
    "    return \"\\033[0;32m%s\\033[0;0m\"%string"
   ]
  },
  {
   "cell_type": "code",
   "execution_count": 10,
   "metadata": {},
   "outputs": [],
   "source": [
    "def success(results, metric):\n",
    "    \"\"\"Show the result of a given test.\"\"\"\n",
    "    successes = results[\"success\"]\n",
    "    total = successes + results[\"failures\"] + results[\"unclassified\"]\n",
    "    percentage = round(successes/total*100,2)\n",
    "    if percentage > 85:\n",
    "        metric_name = green(metric.__name__)\n",
    "    elif percentage > 70:\n",
    "        metric_name = yellow(metric.__name__)\n",
    "    else:\n",
    "        metric_name = red(metric.__name__)\n",
    "    print(\"Success with metric %s: %s\"%(metric_name,b(str(percentage)+\"%\")))\n",
    "    display(HTML(tabulate.tabulate(list(results.items()), tablefmt='html')))"
   ]
  },
  {
   "cell_type": "code",
   "execution_count": 11,
   "metadata": {},
   "outputs": [],
   "source": [
    "def print_function(function):\n",
    "    \"\"\"Print the source of a given function.\"\"\"\n",
    "    code = inspect.getsource(function)\n",
    "    formatter = HtmlFormatter()\n",
    "    display(HTML('<style type=\"text/css\">{}</style>{}'.format(\n",
    "        formatter.get_style_defs('.highlight'),\n",
    "        highlight(code, PythonLexer(), formatter))))"
   ]
  },
  {
   "cell_type": "markdown",
   "metadata": {},
   "source": [
    "### The datasets\n",
    "I've prepared a **datasets** of old famous authors (Mary Shelley, Dumas, Carroll...), available in the repo and downloadable [here](https://github.com/LucaCappelletti94/zipf_classifier/blob/master/dataset.zip?raw=true): the authors are separeted by period and their books are already split into chapters, with extension `.txt`."
   ]
  },
  {
   "cell_type": "markdown",
   "metadata": {},
   "source": [
    "#### Retrieving the datasets\n",
    "We download and extract the dataset:"
   ]
  },
  {
   "cell_type": "code",
   "execution_count": 12,
   "metadata": {},
   "outputs": [],
   "source": [
    "datasets = {\n",
    "    \"authors\": [\n",
    "        \"authors.zip\"\n",
    "    ],\n",
    "    \"periods\": [\n",
    "        \"periods.1.zip\",\n",
    "        \"periods.2.zip\",\n",
    "        \"periods.3.zip\"\n",
    "    ],\n",
    "    \"recipes\": [\n",
    "        \"recipes.1.zip\",\n",
    "        \"recipes.2.zip\"\n",
    "    ]\n",
    "}"
   ]
  },
  {
   "cell_type": "code",
   "execution_count": 13,
   "metadata": {},
   "outputs": [],
   "source": [
    "def download_dataset(filename):\n",
    "    \"\"\"Download a dataset into current folder showing progressbar.\"\"\"\n",
    "    if os.path.exists(filename):\n",
    "        return None\n",
    "    url = \"https://github.com/LucaCappelletti94/zipf_classifier/blob/master/%s?raw=true\"%filename\n",
    "    print(\"Downloading %s from %s\"%(b(filename), url))\n",
    "    # Streaming, so we can iterate over the response.\n",
    "    r = requests.get(url, stream=True)\n",
    "\n",
    "    # Total size in bytes.\n",
    "    total_size = int(r.headers.get('content-length', 0)); \n",
    "    block_size = 1024  * 1024\n",
    "    wrote = 0 \n",
    "    with open(filename, 'wb') as f:\n",
    "        for data in tqdm(r.iter_content(block_size), total=math.ceil(total_size//block_size) , unit='MB', unit_scale=True):\n",
    "            wrote = wrote  + len(data)\n",
    "            f.write(data)\n",
    "    if total_size != 0 and wrote != total_size:\n",
    "        return False\n",
    "    return True"
   ]
  },
  {
   "cell_type": "code",
   "execution_count": 14,
   "metadata": {},
   "outputs": [],
   "source": [
    "def extract_zip(path, name):\n",
    "    \"\"\"Extract zip file at given path.\"\"\"\n",
    "    print(\"Extracting %s\"%b(path))\n",
    "    zip_ref = zipfile.ZipFile(path, 'r')\n",
    "    zip_ref.extractall(name)\n",
    "    zip_ref.close()"
   ]
  },
  {
   "cell_type": "code",
   "execution_count": 15,
   "metadata": {},
   "outputs": [
    {
     "name": "stdout",
     "output_type": "stream",
     "text": [
      "Dataset \u001b[1mauthors\u001b[0;0m component \u001b[0;32mauthors.zip\u001b[0;0m was already downloaded.\n",
      "Dataset \u001b[1mperiods\u001b[0;0m component \u001b[0;32mperiods.1.zip\u001b[0;0m was already downloaded.\n",
      "Dataset \u001b[1mperiods\u001b[0;0m component \u001b[0;32mperiods.2.zip\u001b[0;0m was already downloaded.\n",
      "Dataset \u001b[1mperiods\u001b[0;0m component \u001b[0;32mperiods.3.zip\u001b[0;0m was already downloaded.\n",
      "Done!\n"
     ]
    }
   ],
   "source": [
    "for name, chunks in datasets.items():\n",
    "    for chunk in chunks:\n",
    "        result = download_dataset(chunk)\n",
    "        if result:\n",
    "            extract_zip(chunk, name)\n",
    "        elif result is None:\n",
    "            print(\"Dataset %s component %s was already downloaded.\"%(b(name), green(chunk)))\n",
    "        else:\n",
    "            print(\"Had problems downloading %s for dataset %s\"%(red(chunk), b(name)))\n",
    "print(\"Done!\")"
   ]
  },
  {
   "cell_type": "markdown",
   "metadata": {},
   "source": [
    "#### Splitting into train and test\n",
    "Let's say we leave 70% to learning and 30% to testing. Let's proceed to split the dataset in two:"
   ]
  },
  {
   "cell_type": "code",
   "execution_count": 16,
   "metadata": {},
   "outputs": [],
   "source": [
    "learning_percentage = 0.6"
   ]
  },
  {
   "cell_type": "markdown",
   "metadata": {},
   "source": [
    "First we check if the dataset is already split (this might be a re-run):"
   ]
  },
  {
   "cell_type": "code",
   "execution_count": 17,
   "metadata": {},
   "outputs": [],
   "source": [
    "def is_already_split(root):\n",
    "    \"\"\"Return a bool indicating if the dataset has already been split.\"\"\"\n",
    "    split_warns = [\"learning\", \"testing\"]\n",
    "    for sub_dir in os.listdir(root):\n",
    "        for split_warn in split_warns:\n",
    "            if split_warn in sub_dir:\n",
    "                return True\n",
    "    return False"
   ]
  },
  {
   "cell_type": "markdown",
   "metadata": {},
   "source": [
    "Then we split the dataset's books as follows:\n",
    "\n",
    "Since we want the zipfs that the classifier will use to do the classification built on a proportioned dataset, we pick the percentage of books put aside for learning from the minimum number of books for class in the dataset."
   ]
  },
  {
   "cell_type": "code",
   "execution_count": 18,
   "metadata": {},
   "outputs": [],
   "source": [
    "def split_books(root, percentage):\n",
    "    \"\"\"Split the dataset into learning and testing.\"\"\"\n",
    "    min_books = math.inf\n",
    "    for book_class in get_dirs(root):\n",
    "        books = get_books(book_class)\n",
    "        min_books = min(min_books, len(books))\n",
    "    for book_class in get_dirs(root):\n",
    "        books = get_books(book_class)\n",
    "        random.seed(42) # for reproducibility\n",
    "        random.shuffle(books) # Shuffling books\n",
    "        n = int(min_books*percentage)\n",
    "        learning_set, testing_set = books[:n], books[n:] # splitting books into the two partitions\n",
    "        # Moving into respective folders\n",
    "        [shutil.copytree(book, \"%s/learning/%s\"%(root, book[len(root)+1:])) for book in learning_set]\n",
    "        [shutil.copytree(book, \"%s/testing/%s\"%(root, book[len(root)+1:])) for book in testing_set]"
   ]
  },
  {
   "cell_type": "markdown",
   "metadata": {},
   "source": [
    "Here we actually run the two functions:"
   ]
  },
  {
   "cell_type": "code",
   "execution_count": 19,
   "metadata": {},
   "outputs": [],
   "source": [
    "for dataset in datasets:\n",
    "    if is_already_split(dataset):\n",
    "        print(\"I believe I've already split the dataset %s!\"%(b(dataset)))\n",
    "    else:\n",
    "        split_books(dataset, learning_percentage)"
   ]
  },
  {
   "cell_type": "markdown",
   "metadata": {},
   "source": [
    "### The metrics"
   ]
  },
  {
   "cell_type": "markdown",
   "metadata": {},
   "source": [
    "After experimental analysis I've determined that the [Jensen Shannon Divergence](https://en.wikipedia.org/wiki/Jensen%E2%80%93Shannon_divergence) is one of the best metric for this kind of classification, other being the [Hellinger distance](https://en.wikipedia.org/wiki/Hellinger_distance) and the [Bhattacharyya distance](https://en.wikipedia.org/wiki/Bhattacharyya_distance). \n",
    "\n",
    "_A small test to experimentally verify this claim is run in the end of the presentation._\n",
    "\n",
    "#### Reasons for using these distances\n",
    "1. They are defined on distributions that do not necessarily share all events.\n",
    "2. They can be implemented with computational complexity $O(\\min(n,m))$, where $n$ and $m$ are respectively the length of two distributions $P, Q$ when one assumes that the $\\sum_{i\\in P}^n p_i = 1$ and $\\sum_{i\\in Q}^m q_i = 1$."
   ]
  },
  {
   "cell_type": "markdown",
   "metadata": {},
   "source": [
    "### Kullback Leibler Divergence\n",
    "$$\n",
    "    D_{KL}(P,Q) = \\sum_i P(i) \\log{\\frac{P(i)}{Q(i)}}\n",
    "$$\n",
    "The KL divergece is defined for all events in a set $P, Q \\subseteq X$. \n",
    "\n",
    "This forces to define the KL for zipfs only on the subset of the events that are shared beetween the two distributions: $X = P \\cap Q$.\n",
    "\n",
    "This ignores all the information about non-sharec events and it is solved via the Jensen Shannon divergence."
   ]
  },
  {
   "cell_type": "code",
   "execution_count": 20,
   "metadata": {},
   "outputs": [
    {
     "data": {
      "text/html": [
       "<style type=\"text/css\">.highlight .hll { background-color: #ffffcc }\n",
       ".highlight  { background: #f8f8f8; }\n",
       ".highlight .c { color: #408080; font-style: italic } /* Comment */\n",
       ".highlight .err { border: 1px solid #FF0000 } /* Error */\n",
       ".highlight .k { color: #008000; font-weight: bold } /* Keyword */\n",
       ".highlight .o { color: #666666 } /* Operator */\n",
       ".highlight .ch { color: #408080; font-style: italic } /* Comment.Hashbang */\n",
       ".highlight .cm { color: #408080; font-style: italic } /* Comment.Multiline */\n",
       ".highlight .cp { color: #BC7A00 } /* Comment.Preproc */\n",
       ".highlight .cpf { color: #408080; font-style: italic } /* Comment.PreprocFile */\n",
       ".highlight .c1 { color: #408080; font-style: italic } /* Comment.Single */\n",
       ".highlight .cs { color: #408080; font-style: italic } /* Comment.Special */\n",
       ".highlight .gd { color: #A00000 } /* Generic.Deleted */\n",
       ".highlight .ge { font-style: italic } /* Generic.Emph */\n",
       ".highlight .gr { color: #FF0000 } /* Generic.Error */\n",
       ".highlight .gh { color: #000080; font-weight: bold } /* Generic.Heading */\n",
       ".highlight .gi { color: #00A000 } /* Generic.Inserted */\n",
       ".highlight .go { color: #888888 } /* Generic.Output */\n",
       ".highlight .gp { color: #000080; font-weight: bold } /* Generic.Prompt */\n",
       ".highlight .gs { font-weight: bold } /* Generic.Strong */\n",
       ".highlight .gu { color: #800080; font-weight: bold } /* Generic.Subheading */\n",
       ".highlight .gt { color: #0044DD } /* Generic.Traceback */\n",
       ".highlight .kc { color: #008000; font-weight: bold } /* Keyword.Constant */\n",
       ".highlight .kd { color: #008000; font-weight: bold } /* Keyword.Declaration */\n",
       ".highlight .kn { color: #008000; font-weight: bold } /* Keyword.Namespace */\n",
       ".highlight .kp { color: #008000 } /* Keyword.Pseudo */\n",
       ".highlight .kr { color: #008000; font-weight: bold } /* Keyword.Reserved */\n",
       ".highlight .kt { color: #B00040 } /* Keyword.Type */\n",
       ".highlight .m { color: #666666 } /* Literal.Number */\n",
       ".highlight .s { color: #BA2121 } /* Literal.String */\n",
       ".highlight .na { color: #7D9029 } /* Name.Attribute */\n",
       ".highlight .nb { color: #008000 } /* Name.Builtin */\n",
       ".highlight .nc { color: #0000FF; font-weight: bold } /* Name.Class */\n",
       ".highlight .no { color: #880000 } /* Name.Constant */\n",
       ".highlight .nd { color: #AA22FF } /* Name.Decorator */\n",
       ".highlight .ni { color: #999999; font-weight: bold } /* Name.Entity */\n",
       ".highlight .ne { color: #D2413A; font-weight: bold } /* Name.Exception */\n",
       ".highlight .nf { color: #0000FF } /* Name.Function */\n",
       ".highlight .nl { color: #A0A000 } /* Name.Label */\n",
       ".highlight .nn { color: #0000FF; font-weight: bold } /* Name.Namespace */\n",
       ".highlight .nt { color: #008000; font-weight: bold } /* Name.Tag */\n",
       ".highlight .nv { color: #19177C } /* Name.Variable */\n",
       ".highlight .ow { color: #AA22FF; font-weight: bold } /* Operator.Word */\n",
       ".highlight .w { color: #bbbbbb } /* Text.Whitespace */\n",
       ".highlight .mb { color: #666666 } /* Literal.Number.Bin */\n",
       ".highlight .mf { color: #666666 } /* Literal.Number.Float */\n",
       ".highlight .mh { color: #666666 } /* Literal.Number.Hex */\n",
       ".highlight .mi { color: #666666 } /* Literal.Number.Integer */\n",
       ".highlight .mo { color: #666666 } /* Literal.Number.Oct */\n",
       ".highlight .sa { color: #BA2121 } /* Literal.String.Affix */\n",
       ".highlight .sb { color: #BA2121 } /* Literal.String.Backtick */\n",
       ".highlight .sc { color: #BA2121 } /* Literal.String.Char */\n",
       ".highlight .dl { color: #BA2121 } /* Literal.String.Delimiter */\n",
       ".highlight .sd { color: #BA2121; font-style: italic } /* Literal.String.Doc */\n",
       ".highlight .s2 { color: #BA2121 } /* Literal.String.Double */\n",
       ".highlight .se { color: #BB6622; font-weight: bold } /* Literal.String.Escape */\n",
       ".highlight .sh { color: #BA2121 } /* Literal.String.Heredoc */\n",
       ".highlight .si { color: #BB6688; font-weight: bold } /* Literal.String.Interpol */\n",
       ".highlight .sx { color: #008000 } /* Literal.String.Other */\n",
       ".highlight .sr { color: #BB6688 } /* Literal.String.Regex */\n",
       ".highlight .s1 { color: #BA2121 } /* Literal.String.Single */\n",
       ".highlight .ss { color: #19177C } /* Literal.String.Symbol */\n",
       ".highlight .bp { color: #008000 } /* Name.Builtin.Pseudo */\n",
       ".highlight .fm { color: #0000FF } /* Name.Function.Magic */\n",
       ".highlight .vc { color: #19177C } /* Name.Variable.Class */\n",
       ".highlight .vg { color: #19177C } /* Name.Variable.Global */\n",
       ".highlight .vi { color: #19177C } /* Name.Variable.Instance */\n",
       ".highlight .vm { color: #19177C } /* Name.Variable.Magic */\n",
       ".highlight .il { color: #666666 } /* Literal.Number.Integer.Long */</style><div class=\"highlight\"><pre><span></span><span class=\"k\">def</span> <span class=\"nf\">kullback_leibler</span><span class=\"p\">(</span><span class=\"n\">a</span><span class=\"p\">:</span> <span class=\"nb\">dict</span><span class=\"p\">,</span> <span class=\"n\">b</span><span class=\"p\">:</span> <span class=\"nb\">dict</span><span class=\"p\">)</span> <span class=\"o\">-&gt;</span> <span class=\"nb\">float</span><span class=\"p\">:</span>\n",
       "    <span class=\"sd\">&quot;&quot;&quot;Determine the Kullback Leibler divergence.&quot;&quot;&quot;</span>\n",
       "    <span class=\"n\">total</span> <span class=\"o\">=</span> <span class=\"mi\">0</span>\n",
       "    <span class=\"n\">big</span><span class=\"p\">,</span> <span class=\"n\">small</span> <span class=\"o\">=</span> <span class=\"n\">sort</span><span class=\"p\">(</span><span class=\"n\">a</span><span class=\"p\">,</span> <span class=\"n\">b</span><span class=\"p\">)</span>\n",
       "    <span class=\"n\">big_get</span> <span class=\"o\">=</span> <span class=\"n\">big</span><span class=\"o\">.</span><span class=\"fm\">__getitem__</span>\n",
       "    <span class=\"k\">for</span> <span class=\"n\">key</span><span class=\"p\">,</span> <span class=\"n\">small_value</span> <span class=\"ow\">in</span> <span class=\"n\">a</span><span class=\"o\">.</span><span class=\"n\">items</span><span class=\"p\">():</span>\n",
       "        <span class=\"k\">try</span><span class=\"p\">:</span>\n",
       "            <span class=\"n\">big_value</span> <span class=\"o\">=</span> <span class=\"n\">big_get</span><span class=\"p\">(</span><span class=\"n\">key</span><span class=\"p\">)</span>\n",
       "            <span class=\"k\">if</span> <span class=\"n\">big_value</span><span class=\"p\">:</span>\n",
       "                <span class=\"n\">total</span> <span class=\"o\">+=</span> <span class=\"n\">small_value</span> <span class=\"o\">*</span> <span class=\"n\">log</span><span class=\"p\">(</span><span class=\"n\">small_value</span> <span class=\"o\">/</span> <span class=\"n\">big_value</span><span class=\"p\">)</span>\n",
       "        <span class=\"k\">except</span> <span class=\"ne\">KeyError</span><span class=\"p\">:</span>\n",
       "            <span class=\"k\">pass</span>\n",
       "\n",
       "    <span class=\"k\">return</span> <span class=\"n\">total</span>\n",
       "</pre></div>\n"
      ],
      "text/plain": [
       "<IPython.core.display.HTML object>"
      ]
     },
     "metadata": {},
     "output_type": "display_data"
    }
   ],
   "source": [
    "print_function(kullback_leibler)"
   ]
  },
  {
   "cell_type": "markdown",
   "metadata": {},
   "source": [
    "### Jensen Shannon Divergence\n",
    "$$\n",
    "    JSD(P,Q) = \\frac{1}{2}D(P,M) + \\frac{1}{2}D(Q, M) \\qquad M = \\frac{1}{2}(P+Q)\n",
    "$$\n",
    "\n",
    "The KL divergence is defined for every event in a set $X=P\\cup Q$, it is **symmetric** and has **always a finite value**."
   ]
  },
  {
   "cell_type": "markdown",
   "metadata": {},
   "source": [
    "#### Getting the current implementation\n",
    "\n",
    "The current implementation works as follows:\n",
    "\n",
    "Starting from the extended formulation:\n",
    "\n",
    "$$\n",
    "    m_i = \\frac{1}{2}(p_i+q_i), \\quad p_i = \\begin{cases}\n",
    "        p_i & i \\in P\\\\\n",
    "        0 & otherwise\n",
    "    \\end{cases}, \\quad q_i = \\begin{cases}\n",
    "        q_i & i \\in Q\\\\\n",
    "        0 & otherwise\n",
    "    \\end{cases}\n",
    "$$\n",
    "\n",
    "$$\n",
    "    JSD(P,Q) = \\frac{1}{2}\\sum_{i \\in P} p_i \\log{\\frac{p_i}{m_i}} + \\frac{1}{2}\\sum_{j \\in Q} q_j \\log{\\frac{q_j}{m_j}}\n",
    "$$\n",
    "\n",
    "Replacing in the formulation $m_i$:\n",
    "\n",
    "$$\n",
    "    JSD(P,Q) = \\frac{1}{2}\\sum_{i \\in P} p_i \\log{\\frac{p_i}{\\frac{1}{2}(p_i+q_i)}} + \\frac{1}{2}\\sum_{j \\in Q} q_j \\log{\\frac{q_j}{\\frac{1}{2}(p_j+q_j)}}\n",
    "$$\n",
    "\n",
    "Splitting the sums in 3 parts: $i \\in P\\setminus P\\cap Q$, $i \\in P\\cap Q$ and $i \\in Q\\setminus P\\cap Q$.\n",
    "\n",
    "$$\n",
    "    JSD(P,Q) = JSD_1(P,Q) + JSD_2(P,Q) + JSD_3(P,Q)\n",
    "$$"
   ]
  },
  {
   "cell_type": "markdown",
   "metadata": {},
   "source": [
    "\\begin{align}\n",
    "    JSD_1(P,Q) &= \\frac{1}{2}\\sum_{i \\in P\\setminus P\\cap Q} p_i \\log{\\frac{p_i}{\\frac{1}{2}(p_i+q_i)}} + \\frac{1}{2}\\sum_{j \\in P\\setminus P\\cap Q} q_j \\log{\\frac{q_j}{\\frac{1}{2}(p_j+q_j)}}\\\\\n",
    "               &= \\frac{1}{2}\\sum_{i \\in P\\setminus P\\cap Q} p_i \\log{\\frac{p_i}{\\frac{1}{2}(p_i+q_i)}}\\\\\n",
    "               &= \\frac{1}{2}\\sum_{i \\in P\\setminus P\\cap Q} p_i \\log{\\frac{p_i}{\\frac{1}{2}p_i}}\\\\\n",
    "               &= \\frac{1}{2}\\sum_{i \\in P\\setminus P\\cap Q} p_i \\log{\\frac{1}{\\frac{1}{2}}}\\\\\n",
    "               &= \\frac{1}{2}\\sum_{i \\in P\\setminus P\\cap Q} p_i \\log{2}\\\\\n",
    "               &= \\frac{1}{2}\\log{2}\\sum_{i \\in P\\setminus P\\cap Q} p_i\\\\\n",
    "\\end{align}"
   ]
  },
  {
   "cell_type": "markdown",
   "metadata": {},
   "source": [
    "\\begin{align}\n",
    "    JSD_2(P,Q) &= \\frac{1}{2}\\sum_{i \\in P\\setminus P\\cap Q} p_i \\log{\\frac{p_i}{\\frac{1}{2}(p_i+q_i)}} + \\frac{1}{2}\\sum_{j \\in P\\setminus P\\cap Q} q_j \\log{\\frac{q_j}{\\frac{1}{2}(p_j+q_j)}}\\\\\n",
    "               &= \\frac{1}{2}\\sum_{i \\in P\\cap Q} p_i \\log{\\frac{p_i}{\\frac{1}{2}(p_i+q_i)}} + q_i \\log{\\frac{q_i}{\\frac{1}{2}(p_i+q_i)}}\\\\\n",
    "               &= \\frac{1}{2}\\sum_{i \\in P\\cap Q} p_i \\log{\\frac{2p_i}{p_i+q_i}} + q_i \\log{\\frac{2q_i}{p_i+q_i}}\\\\\n",
    "\\end{align}"
   ]
  },
  {
   "cell_type": "markdown",
   "metadata": {},
   "source": [
    "\\begin{align}\n",
    "    JSD_3(P,Q) &= \\frac{1}{2}\\log{2}\\sum_{j \\in Q\\setminus P\\cap Q} q_j\\\\\n",
    "\\end{align}"
   ]
  },
  {
   "cell_type": "markdown",
   "metadata": {},
   "source": [
    "Summing $JSD_1$ and $JSD_3$ we can obtain:"
   ]
  },
  {
   "cell_type": "markdown",
   "metadata": {},
   "source": [
    "$JSD_1+JSD_3 = \\frac{1}{2}\\log{2}\\left(\\sum_{i \\in P\\setminus P\\cap Q} p_i + \\sum_{j \\in Q\\setminus P\\cap Q} q_j\\right)$"
   ]
  },
  {
   "cell_type": "markdown",
   "metadata": {},
   "source": [
    "In particular, if $\\sum_{j\\in Q}^m q_j = 1$ and $\\sum_{i\\in P}^n p_i = 1$, we can write:"
   ]
  },
  {
   "cell_type": "markdown",
   "metadata": {},
   "source": [
    "\\begin{align}\n",
    "JSD_1+JSD_3 &= \\frac{1}{2}\\log{2}\\left(2 - \\sum_{i \\in P\\cap Q} p_i - \\sum_{j \\in P\\cap Q} q_j\\right)\\\\\n",
    "            &= \\frac{1}{2}\\log{2}\\left(2 - \\sum_{i \\in P\\cap Q} p_i + q_j\\right)\\\\\n",
    "\\end{align}"
   ]
  },
  {
   "cell_type": "markdown",
   "metadata": {},
   "source": [
    "Putting all togheter we obtain:"
   ]
  },
  {
   "cell_type": "markdown",
   "metadata": {},
   "source": [
    "$JSD(P,Q) =  \\frac{1}{2}\\left[\\sum_{i \\in P\\cap Q} \\left(p_i \\log{\\frac{2p_i}{p_i+q_i}} + q_i \\log{\\frac{2q_i}{p_i+q_i}}\\right) + \\log{2}\\left(2 - \\sum_{i \\in P\\cap Q} p_i + q_j\\right)\\right]$"
   ]
  },
  {
   "cell_type": "markdown",
   "metadata": {},
   "source": [
    "What's marvelous about this semplification is that the computational complexity decrease from a naive literal interpretation of the initial formula of $O(n+m)$ to $O(\\min(n,m))$ simply choosing to iterate over whichever of the two distributions holds less events."
   ]
  },
  {
   "cell_type": "markdown",
   "metadata": {},
   "source": [
    "The process is nearly identical for all other metrics shown below:"
   ]
  },
  {
   "cell_type": "code",
   "execution_count": 21,
   "metadata": {},
   "outputs": [
    {
     "data": {
      "text/html": [
       "<style type=\"text/css\">.highlight .hll { background-color: #ffffcc }\n",
       ".highlight  { background: #f8f8f8; }\n",
       ".highlight .c { color: #408080; font-style: italic } /* Comment */\n",
       ".highlight .err { border: 1px solid #FF0000 } /* Error */\n",
       ".highlight .k { color: #008000; font-weight: bold } /* Keyword */\n",
       ".highlight .o { color: #666666 } /* Operator */\n",
       ".highlight .ch { color: #408080; font-style: italic } /* Comment.Hashbang */\n",
       ".highlight .cm { color: #408080; font-style: italic } /* Comment.Multiline */\n",
       ".highlight .cp { color: #BC7A00 } /* Comment.Preproc */\n",
       ".highlight .cpf { color: #408080; font-style: italic } /* Comment.PreprocFile */\n",
       ".highlight .c1 { color: #408080; font-style: italic } /* Comment.Single */\n",
       ".highlight .cs { color: #408080; font-style: italic } /* Comment.Special */\n",
       ".highlight .gd { color: #A00000 } /* Generic.Deleted */\n",
       ".highlight .ge { font-style: italic } /* Generic.Emph */\n",
       ".highlight .gr { color: #FF0000 } /* Generic.Error */\n",
       ".highlight .gh { color: #000080; font-weight: bold } /* Generic.Heading */\n",
       ".highlight .gi { color: #00A000 } /* Generic.Inserted */\n",
       ".highlight .go { color: #888888 } /* Generic.Output */\n",
       ".highlight .gp { color: #000080; font-weight: bold } /* Generic.Prompt */\n",
       ".highlight .gs { font-weight: bold } /* Generic.Strong */\n",
       ".highlight .gu { color: #800080; font-weight: bold } /* Generic.Subheading */\n",
       ".highlight .gt { color: #0044DD } /* Generic.Traceback */\n",
       ".highlight .kc { color: #008000; font-weight: bold } /* Keyword.Constant */\n",
       ".highlight .kd { color: #008000; font-weight: bold } /* Keyword.Declaration */\n",
       ".highlight .kn { color: #008000; font-weight: bold } /* Keyword.Namespace */\n",
       ".highlight .kp { color: #008000 } /* Keyword.Pseudo */\n",
       ".highlight .kr { color: #008000; font-weight: bold } /* Keyword.Reserved */\n",
       ".highlight .kt { color: #B00040 } /* Keyword.Type */\n",
       ".highlight .m { color: #666666 } /* Literal.Number */\n",
       ".highlight .s { color: #BA2121 } /* Literal.String */\n",
       ".highlight .na { color: #7D9029 } /* Name.Attribute */\n",
       ".highlight .nb { color: #008000 } /* Name.Builtin */\n",
       ".highlight .nc { color: #0000FF; font-weight: bold } /* Name.Class */\n",
       ".highlight .no { color: #880000 } /* Name.Constant */\n",
       ".highlight .nd { color: #AA22FF } /* Name.Decorator */\n",
       ".highlight .ni { color: #999999; font-weight: bold } /* Name.Entity */\n",
       ".highlight .ne { color: #D2413A; font-weight: bold } /* Name.Exception */\n",
       ".highlight .nf { color: #0000FF } /* Name.Function */\n",
       ".highlight .nl { color: #A0A000 } /* Name.Label */\n",
       ".highlight .nn { color: #0000FF; font-weight: bold } /* Name.Namespace */\n",
       ".highlight .nt { color: #008000; font-weight: bold } /* Name.Tag */\n",
       ".highlight .nv { color: #19177C } /* Name.Variable */\n",
       ".highlight .ow { color: #AA22FF; font-weight: bold } /* Operator.Word */\n",
       ".highlight .w { color: #bbbbbb } /* Text.Whitespace */\n",
       ".highlight .mb { color: #666666 } /* Literal.Number.Bin */\n",
       ".highlight .mf { color: #666666 } /* Literal.Number.Float */\n",
       ".highlight .mh { color: #666666 } /* Literal.Number.Hex */\n",
       ".highlight .mi { color: #666666 } /* Literal.Number.Integer */\n",
       ".highlight .mo { color: #666666 } /* Literal.Number.Oct */\n",
       ".highlight .sa { color: #BA2121 } /* Literal.String.Affix */\n",
       ".highlight .sb { color: #BA2121 } /* Literal.String.Backtick */\n",
       ".highlight .sc { color: #BA2121 } /* Literal.String.Char */\n",
       ".highlight .dl { color: #BA2121 } /* Literal.String.Delimiter */\n",
       ".highlight .sd { color: #BA2121; font-style: italic } /* Literal.String.Doc */\n",
       ".highlight .s2 { color: #BA2121 } /* Literal.String.Double */\n",
       ".highlight .se { color: #BB6622; font-weight: bold } /* Literal.String.Escape */\n",
       ".highlight .sh { color: #BA2121 } /* Literal.String.Heredoc */\n",
       ".highlight .si { color: #BB6688; font-weight: bold } /* Literal.String.Interpol */\n",
       ".highlight .sx { color: #008000 } /* Literal.String.Other */\n",
       ".highlight .sr { color: #BB6688 } /* Literal.String.Regex */\n",
       ".highlight .s1 { color: #BA2121 } /* Literal.String.Single */\n",
       ".highlight .ss { color: #19177C } /* Literal.String.Symbol */\n",
       ".highlight .bp { color: #008000 } /* Name.Builtin.Pseudo */\n",
       ".highlight .fm { color: #0000FF } /* Name.Function.Magic */\n",
       ".highlight .vc { color: #19177C } /* Name.Variable.Class */\n",
       ".highlight .vg { color: #19177C } /* Name.Variable.Global */\n",
       ".highlight .vi { color: #19177C } /* Name.Variable.Instance */\n",
       ".highlight .vm { color: #19177C } /* Name.Variable.Magic */\n",
       ".highlight .il { color: #666666 } /* Literal.Number.Integer.Long */</style><div class=\"highlight\"><pre><span></span><span class=\"k\">def</span> <span class=\"nf\">jensen_shannon</span><span class=\"p\">(</span><span class=\"n\">a</span><span class=\"p\">:</span> <span class=\"nb\">dict</span><span class=\"p\">,</span> <span class=\"n\">b</span><span class=\"p\">:</span> <span class=\"nb\">dict</span><span class=\"p\">)</span><span class=\"o\">-&gt;</span><span class=\"nb\">float</span><span class=\"p\">:</span>\n",
       "    <span class=\"sd\">&quot;&quot;&quot;Return the jensen shannon divergence beetween a and b.&quot;&quot;&quot;</span>\n",
       "    <span class=\"n\">total</span> <span class=\"o\">=</span> <span class=\"mi\">0</span>\n",
       "    <span class=\"n\">delta</span> <span class=\"o\">=</span> <span class=\"mi\">0</span>\n",
       "    <span class=\"n\">big</span><span class=\"p\">,</span> <span class=\"n\">small</span> <span class=\"o\">=</span> <span class=\"n\">sort</span><span class=\"p\">(</span><span class=\"n\">a</span><span class=\"p\">,</span> <span class=\"n\">b</span><span class=\"p\">)</span>\n",
       "\n",
       "    <span class=\"n\">big_get</span> <span class=\"o\">=</span> <span class=\"n\">big</span><span class=\"o\">.</span><span class=\"fm\">__getitem__</span>\n",
       "\n",
       "    <span class=\"k\">for</span> <span class=\"n\">key</span><span class=\"p\">,</span> <span class=\"n\">small_value</span> <span class=\"ow\">in</span> <span class=\"n\">small</span><span class=\"o\">.</span><span class=\"n\">items</span><span class=\"p\">():</span>\n",
       "        <span class=\"k\">try</span><span class=\"p\">:</span>\n",
       "            <span class=\"n\">big_value</span> <span class=\"o\">=</span> <span class=\"n\">big_get</span><span class=\"p\">(</span><span class=\"n\">key</span><span class=\"p\">)</span>\n",
       "            <span class=\"k\">if</span> <span class=\"n\">big_value</span><span class=\"p\">:</span>\n",
       "                <span class=\"n\">denominator</span> <span class=\"o\">=</span> <span class=\"p\">(</span><span class=\"n\">big_value</span> <span class=\"o\">+</span> <span class=\"n\">small_value</span><span class=\"p\">)</span> <span class=\"o\">/</span> <span class=\"mi\">2</span>\n",
       "                <span class=\"n\">total</span> <span class=\"o\">+=</span> <span class=\"n\">small_value</span> <span class=\"o\">*</span> <span class=\"n\">log</span><span class=\"p\">(</span><span class=\"n\">small_value</span> <span class=\"o\">/</span> <span class=\"n\">denominator</span><span class=\"p\">)</span> <span class=\"o\">+</span> \\\n",
       "                    <span class=\"n\">big_value</span> <span class=\"o\">*</span> <span class=\"n\">log</span><span class=\"p\">(</span><span class=\"n\">big_value</span> <span class=\"o\">/</span> <span class=\"n\">denominator</span><span class=\"p\">)</span>\n",
       "                <span class=\"n\">delta</span> <span class=\"o\">+=</span> <span class=\"n\">big_value</span> <span class=\"o\">+</span> <span class=\"n\">small_value</span>\n",
       "        <span class=\"k\">except</span> <span class=\"ne\">KeyError</span><span class=\"p\">:</span>\n",
       "            <span class=\"k\">pass</span>\n",
       "\n",
       "    <span class=\"n\">total</span> <span class=\"o\">+=</span> <span class=\"p\">(</span><span class=\"mi\">2</span> <span class=\"o\">-</span> <span class=\"n\">delta</span><span class=\"p\">)</span> <span class=\"o\">*</span> <span class=\"n\">log</span><span class=\"p\">(</span><span class=\"mi\">2</span><span class=\"p\">)</span>\n",
       "    <span class=\"k\">return</span> <span class=\"n\">total</span> <span class=\"o\">/</span> <span class=\"mi\">2</span>\n",
       "</pre></div>\n"
      ],
      "text/plain": [
       "<IPython.core.display.HTML object>"
      ]
     },
     "metadata": {},
     "output_type": "display_data"
    }
   ],
   "source": [
    "print_function(jensen_shannon)"
   ]
  },
  {
   "cell_type": "code",
   "execution_count": 22,
   "metadata": {},
   "outputs": [
    {
     "data": {
      "text/html": [
       "<style type=\"text/css\">.highlight .hll { background-color: #ffffcc }\n",
       ".highlight  { background: #f8f8f8; }\n",
       ".highlight .c { color: #408080; font-style: italic } /* Comment */\n",
       ".highlight .err { border: 1px solid #FF0000 } /* Error */\n",
       ".highlight .k { color: #008000; font-weight: bold } /* Keyword */\n",
       ".highlight .o { color: #666666 } /* Operator */\n",
       ".highlight .ch { color: #408080; font-style: italic } /* Comment.Hashbang */\n",
       ".highlight .cm { color: #408080; font-style: italic } /* Comment.Multiline */\n",
       ".highlight .cp { color: #BC7A00 } /* Comment.Preproc */\n",
       ".highlight .cpf { color: #408080; font-style: italic } /* Comment.PreprocFile */\n",
       ".highlight .c1 { color: #408080; font-style: italic } /* Comment.Single */\n",
       ".highlight .cs { color: #408080; font-style: italic } /* Comment.Special */\n",
       ".highlight .gd { color: #A00000 } /* Generic.Deleted */\n",
       ".highlight .ge { font-style: italic } /* Generic.Emph */\n",
       ".highlight .gr { color: #FF0000 } /* Generic.Error */\n",
       ".highlight .gh { color: #000080; font-weight: bold } /* Generic.Heading */\n",
       ".highlight .gi { color: #00A000 } /* Generic.Inserted */\n",
       ".highlight .go { color: #888888 } /* Generic.Output */\n",
       ".highlight .gp { color: #000080; font-weight: bold } /* Generic.Prompt */\n",
       ".highlight .gs { font-weight: bold } /* Generic.Strong */\n",
       ".highlight .gu { color: #800080; font-weight: bold } /* Generic.Subheading */\n",
       ".highlight .gt { color: #0044DD } /* Generic.Traceback */\n",
       ".highlight .kc { color: #008000; font-weight: bold } /* Keyword.Constant */\n",
       ".highlight .kd { color: #008000; font-weight: bold } /* Keyword.Declaration */\n",
       ".highlight .kn { color: #008000; font-weight: bold } /* Keyword.Namespace */\n",
       ".highlight .kp { color: #008000 } /* Keyword.Pseudo */\n",
       ".highlight .kr { color: #008000; font-weight: bold } /* Keyword.Reserved */\n",
       ".highlight .kt { color: #B00040 } /* Keyword.Type */\n",
       ".highlight .m { color: #666666 } /* Literal.Number */\n",
       ".highlight .s { color: #BA2121 } /* Literal.String */\n",
       ".highlight .na { color: #7D9029 } /* Name.Attribute */\n",
       ".highlight .nb { color: #008000 } /* Name.Builtin */\n",
       ".highlight .nc { color: #0000FF; font-weight: bold } /* Name.Class */\n",
       ".highlight .no { color: #880000 } /* Name.Constant */\n",
       ".highlight .nd { color: #AA22FF } /* Name.Decorator */\n",
       ".highlight .ni { color: #999999; font-weight: bold } /* Name.Entity */\n",
       ".highlight .ne { color: #D2413A; font-weight: bold } /* Name.Exception */\n",
       ".highlight .nf { color: #0000FF } /* Name.Function */\n",
       ".highlight .nl { color: #A0A000 } /* Name.Label */\n",
       ".highlight .nn { color: #0000FF; font-weight: bold } /* Name.Namespace */\n",
       ".highlight .nt { color: #008000; font-weight: bold } /* Name.Tag */\n",
       ".highlight .nv { color: #19177C } /* Name.Variable */\n",
       ".highlight .ow { color: #AA22FF; font-weight: bold } /* Operator.Word */\n",
       ".highlight .w { color: #bbbbbb } /* Text.Whitespace */\n",
       ".highlight .mb { color: #666666 } /* Literal.Number.Bin */\n",
       ".highlight .mf { color: #666666 } /* Literal.Number.Float */\n",
       ".highlight .mh { color: #666666 } /* Literal.Number.Hex */\n",
       ".highlight .mi { color: #666666 } /* Literal.Number.Integer */\n",
       ".highlight .mo { color: #666666 } /* Literal.Number.Oct */\n",
       ".highlight .sa { color: #BA2121 } /* Literal.String.Affix */\n",
       ".highlight .sb { color: #BA2121 } /* Literal.String.Backtick */\n",
       ".highlight .sc { color: #BA2121 } /* Literal.String.Char */\n",
       ".highlight .dl { color: #BA2121 } /* Literal.String.Delimiter */\n",
       ".highlight .sd { color: #BA2121; font-style: italic } /* Literal.String.Doc */\n",
       ".highlight .s2 { color: #BA2121 } /* Literal.String.Double */\n",
       ".highlight .se { color: #BB6622; font-weight: bold } /* Literal.String.Escape */\n",
       ".highlight .sh { color: #BA2121 } /* Literal.String.Heredoc */\n",
       ".highlight .si { color: #BB6688; font-weight: bold } /* Literal.String.Interpol */\n",
       ".highlight .sx { color: #008000 } /* Literal.String.Other */\n",
       ".highlight .sr { color: #BB6688 } /* Literal.String.Regex */\n",
       ".highlight .s1 { color: #BA2121 } /* Literal.String.Single */\n",
       ".highlight .ss { color: #19177C } /* Literal.String.Symbol */\n",
       ".highlight .bp { color: #008000 } /* Name.Builtin.Pseudo */\n",
       ".highlight .fm { color: #0000FF } /* Name.Function.Magic */\n",
       ".highlight .vc { color: #19177C } /* Name.Variable.Class */\n",
       ".highlight .vg { color: #19177C } /* Name.Variable.Global */\n",
       ".highlight .vi { color: #19177C } /* Name.Variable.Instance */\n",
       ".highlight .vm { color: #19177C } /* Name.Variable.Magic */\n",
       ".highlight .il { color: #666666 } /* Literal.Number.Integer.Long */</style><div class=\"highlight\"><pre><span></span><span class=\"k\">def</span> <span class=\"nf\">normal_total_variation</span><span class=\"p\">(</span><span class=\"n\">a</span><span class=\"p\">:</span> <span class=\"nb\">dict</span><span class=\"p\">,</span> <span class=\"n\">b</span><span class=\"p\">:</span> <span class=\"nb\">dict</span><span class=\"p\">)</span> <span class=\"o\">-&gt;</span> <span class=\"nb\">float</span><span class=\"p\">:</span>\n",
       "    <span class=\"sd\">&quot;&quot;&quot;Determine the Normalized Total Variation distance.&quot;&quot;&quot;</span>\n",
       "    <span class=\"n\">big</span><span class=\"p\">,</span> <span class=\"n\">small</span> <span class=\"o\">=</span> <span class=\"n\">sort</span><span class=\"p\">(</span><span class=\"n\">a</span><span class=\"p\">,</span> <span class=\"n\">b</span><span class=\"p\">)</span>\n",
       "    <span class=\"n\">big_get</span> <span class=\"o\">=</span> <span class=\"n\">big</span><span class=\"o\">.</span><span class=\"fm\">__getitem__</span>\n",
       "    <span class=\"n\">total</span> <span class=\"o\">=</span> <span class=\"mi\">2</span>\n",
       "    <span class=\"k\">for</span> <span class=\"n\">k</span><span class=\"p\">,</span> <span class=\"n\">small_value</span> <span class=\"ow\">in</span> <span class=\"n\">small</span><span class=\"o\">.</span><span class=\"n\">items</span><span class=\"p\">():</span>\n",
       "        <span class=\"k\">try</span><span class=\"p\">:</span>\n",
       "            <span class=\"n\">big_value</span> <span class=\"o\">=</span> <span class=\"n\">big_get</span><span class=\"p\">(</span><span class=\"n\">k</span><span class=\"p\">)</span>\n",
       "            <span class=\"k\">if</span> <span class=\"n\">big_value</span><span class=\"p\">:</span>\n",
       "                <span class=\"n\">total</span> <span class=\"o\">+=</span> <span class=\"nb\">abs</span><span class=\"p\">(</span><span class=\"n\">big_value</span> <span class=\"o\">-</span> <span class=\"n\">small_value</span><span class=\"p\">)</span> <span class=\"o\">-</span> <span class=\"n\">big_value</span> <span class=\"o\">-</span> <span class=\"n\">small_value</span>\n",
       "        <span class=\"k\">except</span> <span class=\"ne\">KeyError</span><span class=\"p\">:</span>\n",
       "            <span class=\"k\">pass</span>\n",
       "    <span class=\"k\">return</span> <span class=\"n\">total</span> <span class=\"o\">/</span> <span class=\"mi\">2</span>\n",
       "</pre></div>\n"
      ],
      "text/plain": [
       "<IPython.core.display.HTML object>"
      ]
     },
     "metadata": {},
     "output_type": "display_data"
    }
   ],
   "source": [
    "print_function(normal_total_variation)"
   ]
  },
  {
   "cell_type": "code",
   "execution_count": 23,
   "metadata": {},
   "outputs": [
    {
     "data": {
      "text/html": [
       "<style type=\"text/css\">.highlight .hll { background-color: #ffffcc }\n",
       ".highlight  { background: #f8f8f8; }\n",
       ".highlight .c { color: #408080; font-style: italic } /* Comment */\n",
       ".highlight .err { border: 1px solid #FF0000 } /* Error */\n",
       ".highlight .k { color: #008000; font-weight: bold } /* Keyword */\n",
       ".highlight .o { color: #666666 } /* Operator */\n",
       ".highlight .ch { color: #408080; font-style: italic } /* Comment.Hashbang */\n",
       ".highlight .cm { color: #408080; font-style: italic } /* Comment.Multiline */\n",
       ".highlight .cp { color: #BC7A00 } /* Comment.Preproc */\n",
       ".highlight .cpf { color: #408080; font-style: italic } /* Comment.PreprocFile */\n",
       ".highlight .c1 { color: #408080; font-style: italic } /* Comment.Single */\n",
       ".highlight .cs { color: #408080; font-style: italic } /* Comment.Special */\n",
       ".highlight .gd { color: #A00000 } /* Generic.Deleted */\n",
       ".highlight .ge { font-style: italic } /* Generic.Emph */\n",
       ".highlight .gr { color: #FF0000 } /* Generic.Error */\n",
       ".highlight .gh { color: #000080; font-weight: bold } /* Generic.Heading */\n",
       ".highlight .gi { color: #00A000 } /* Generic.Inserted */\n",
       ".highlight .go { color: #888888 } /* Generic.Output */\n",
       ".highlight .gp { color: #000080; font-weight: bold } /* Generic.Prompt */\n",
       ".highlight .gs { font-weight: bold } /* Generic.Strong */\n",
       ".highlight .gu { color: #800080; font-weight: bold } /* Generic.Subheading */\n",
       ".highlight .gt { color: #0044DD } /* Generic.Traceback */\n",
       ".highlight .kc { color: #008000; font-weight: bold } /* Keyword.Constant */\n",
       ".highlight .kd { color: #008000; font-weight: bold } /* Keyword.Declaration */\n",
       ".highlight .kn { color: #008000; font-weight: bold } /* Keyword.Namespace */\n",
       ".highlight .kp { color: #008000 } /* Keyword.Pseudo */\n",
       ".highlight .kr { color: #008000; font-weight: bold } /* Keyword.Reserved */\n",
       ".highlight .kt { color: #B00040 } /* Keyword.Type */\n",
       ".highlight .m { color: #666666 } /* Literal.Number */\n",
       ".highlight .s { color: #BA2121 } /* Literal.String */\n",
       ".highlight .na { color: #7D9029 } /* Name.Attribute */\n",
       ".highlight .nb { color: #008000 } /* Name.Builtin */\n",
       ".highlight .nc { color: #0000FF; font-weight: bold } /* Name.Class */\n",
       ".highlight .no { color: #880000 } /* Name.Constant */\n",
       ".highlight .nd { color: #AA22FF } /* Name.Decorator */\n",
       ".highlight .ni { color: #999999; font-weight: bold } /* Name.Entity */\n",
       ".highlight .ne { color: #D2413A; font-weight: bold } /* Name.Exception */\n",
       ".highlight .nf { color: #0000FF } /* Name.Function */\n",
       ".highlight .nl { color: #A0A000 } /* Name.Label */\n",
       ".highlight .nn { color: #0000FF; font-weight: bold } /* Name.Namespace */\n",
       ".highlight .nt { color: #008000; font-weight: bold } /* Name.Tag */\n",
       ".highlight .nv { color: #19177C } /* Name.Variable */\n",
       ".highlight .ow { color: #AA22FF; font-weight: bold } /* Operator.Word */\n",
       ".highlight .w { color: #bbbbbb } /* Text.Whitespace */\n",
       ".highlight .mb { color: #666666 } /* Literal.Number.Bin */\n",
       ".highlight .mf { color: #666666 } /* Literal.Number.Float */\n",
       ".highlight .mh { color: #666666 } /* Literal.Number.Hex */\n",
       ".highlight .mi { color: #666666 } /* Literal.Number.Integer */\n",
       ".highlight .mo { color: #666666 } /* Literal.Number.Oct */\n",
       ".highlight .sa { color: #BA2121 } /* Literal.String.Affix */\n",
       ".highlight .sb { color: #BA2121 } /* Literal.String.Backtick */\n",
       ".highlight .sc { color: #BA2121 } /* Literal.String.Char */\n",
       ".highlight .dl { color: #BA2121 } /* Literal.String.Delimiter */\n",
       ".highlight .sd { color: #BA2121; font-style: italic } /* Literal.String.Doc */\n",
       ".highlight .s2 { color: #BA2121 } /* Literal.String.Double */\n",
       ".highlight .se { color: #BB6622; font-weight: bold } /* Literal.String.Escape */\n",
       ".highlight .sh { color: #BA2121 } /* Literal.String.Heredoc */\n",
       ".highlight .si { color: #BB6688; font-weight: bold } /* Literal.String.Interpol */\n",
       ".highlight .sx { color: #008000 } /* Literal.String.Other */\n",
       ".highlight .sr { color: #BB6688 } /* Literal.String.Regex */\n",
       ".highlight .s1 { color: #BA2121 } /* Literal.String.Single */\n",
       ".highlight .ss { color: #19177C } /* Literal.String.Symbol */\n",
       ".highlight .bp { color: #008000 } /* Name.Builtin.Pseudo */\n",
       ".highlight .fm { color: #0000FF } /* Name.Function.Magic */\n",
       ".highlight .vc { color: #19177C } /* Name.Variable.Class */\n",
       ".highlight .vg { color: #19177C } /* Name.Variable.Global */\n",
       ".highlight .vi { color: #19177C } /* Name.Variable.Instance */\n",
       ".highlight .vm { color: #19177C } /* Name.Variable.Magic */\n",
       ".highlight .il { color: #666666 } /* Literal.Number.Integer.Long */</style><div class=\"highlight\"><pre><span></span><span class=\"k\">def</span> <span class=\"nf\">bhattacharyya_coefficient</span><span class=\"p\">(</span><span class=\"n\">a</span><span class=\"p\">:</span> <span class=\"nb\">dict</span><span class=\"p\">,</span> <span class=\"n\">b</span><span class=\"p\">:</span> <span class=\"nb\">dict</span><span class=\"p\">)</span> <span class=\"o\">-&gt;</span> <span class=\"nb\">float</span><span class=\"p\">:</span>\n",
       "    <span class=\"sd\">&quot;&quot;&quot;Determine the bhattacharyya coefficient.&quot;&quot;&quot;</span>\n",
       "    <span class=\"n\">total</span> <span class=\"o\">=</span> <span class=\"mi\">0</span>\n",
       "    <span class=\"n\">big</span><span class=\"p\">,</span> <span class=\"n\">small</span> <span class=\"o\">=</span> <span class=\"n\">sort</span><span class=\"p\">(</span><span class=\"n\">a</span><span class=\"p\">,</span> <span class=\"n\">b</span><span class=\"p\">)</span>\n",
       "    <span class=\"n\">big_get</span> <span class=\"o\">=</span> <span class=\"n\">big</span><span class=\"o\">.</span><span class=\"fm\">__getitem__</span>\n",
       "    <span class=\"k\">for</span> <span class=\"n\">k</span><span class=\"p\">,</span> <span class=\"n\">small_value</span> <span class=\"ow\">in</span> <span class=\"n\">small</span><span class=\"o\">.</span><span class=\"n\">items</span><span class=\"p\">():</span>\n",
       "        <span class=\"k\">try</span><span class=\"p\">:</span>\n",
       "            <span class=\"n\">total</span> <span class=\"o\">+=</span> <span class=\"n\">sqrt</span><span class=\"p\">(</span><span class=\"n\">big_get</span><span class=\"p\">(</span><span class=\"n\">k</span><span class=\"p\">)</span> <span class=\"o\">*</span> <span class=\"n\">small_value</span><span class=\"p\">)</span>\n",
       "        <span class=\"k\">except</span> <span class=\"ne\">KeyError</span><span class=\"p\">:</span>\n",
       "            <span class=\"k\">pass</span>\n",
       "    <span class=\"k\">return</span> <span class=\"n\">total</span>\n",
       "</pre></div>\n"
      ],
      "text/plain": [
       "<IPython.core.display.HTML object>"
      ]
     },
     "metadata": {},
     "output_type": "display_data"
    }
   ],
   "source": [
    "print_function(bhattacharyya_coefficient)"
   ]
  },
  {
   "cell_type": "code",
   "execution_count": 24,
   "metadata": {},
   "outputs": [
    {
     "data": {
      "text/html": [
       "<style type=\"text/css\">.highlight .hll { background-color: #ffffcc }\n",
       ".highlight  { background: #f8f8f8; }\n",
       ".highlight .c { color: #408080; font-style: italic } /* Comment */\n",
       ".highlight .err { border: 1px solid #FF0000 } /* Error */\n",
       ".highlight .k { color: #008000; font-weight: bold } /* Keyword */\n",
       ".highlight .o { color: #666666 } /* Operator */\n",
       ".highlight .ch { color: #408080; font-style: italic } /* Comment.Hashbang */\n",
       ".highlight .cm { color: #408080; font-style: italic } /* Comment.Multiline */\n",
       ".highlight .cp { color: #BC7A00 } /* Comment.Preproc */\n",
       ".highlight .cpf { color: #408080; font-style: italic } /* Comment.PreprocFile */\n",
       ".highlight .c1 { color: #408080; font-style: italic } /* Comment.Single */\n",
       ".highlight .cs { color: #408080; font-style: italic } /* Comment.Special */\n",
       ".highlight .gd { color: #A00000 } /* Generic.Deleted */\n",
       ".highlight .ge { font-style: italic } /* Generic.Emph */\n",
       ".highlight .gr { color: #FF0000 } /* Generic.Error */\n",
       ".highlight .gh { color: #000080; font-weight: bold } /* Generic.Heading */\n",
       ".highlight .gi { color: #00A000 } /* Generic.Inserted */\n",
       ".highlight .go { color: #888888 } /* Generic.Output */\n",
       ".highlight .gp { color: #000080; font-weight: bold } /* Generic.Prompt */\n",
       ".highlight .gs { font-weight: bold } /* Generic.Strong */\n",
       ".highlight .gu { color: #800080; font-weight: bold } /* Generic.Subheading */\n",
       ".highlight .gt { color: #0044DD } /* Generic.Traceback */\n",
       ".highlight .kc { color: #008000; font-weight: bold } /* Keyword.Constant */\n",
       ".highlight .kd { color: #008000; font-weight: bold } /* Keyword.Declaration */\n",
       ".highlight .kn { color: #008000; font-weight: bold } /* Keyword.Namespace */\n",
       ".highlight .kp { color: #008000 } /* Keyword.Pseudo */\n",
       ".highlight .kr { color: #008000; font-weight: bold } /* Keyword.Reserved */\n",
       ".highlight .kt { color: #B00040 } /* Keyword.Type */\n",
       ".highlight .m { color: #666666 } /* Literal.Number */\n",
       ".highlight .s { color: #BA2121 } /* Literal.String */\n",
       ".highlight .na { color: #7D9029 } /* Name.Attribute */\n",
       ".highlight .nb { color: #008000 } /* Name.Builtin */\n",
       ".highlight .nc { color: #0000FF; font-weight: bold } /* Name.Class */\n",
       ".highlight .no { color: #880000 } /* Name.Constant */\n",
       ".highlight .nd { color: #AA22FF } /* Name.Decorator */\n",
       ".highlight .ni { color: #999999; font-weight: bold } /* Name.Entity */\n",
       ".highlight .ne { color: #D2413A; font-weight: bold } /* Name.Exception */\n",
       ".highlight .nf { color: #0000FF } /* Name.Function */\n",
       ".highlight .nl { color: #A0A000 } /* Name.Label */\n",
       ".highlight .nn { color: #0000FF; font-weight: bold } /* Name.Namespace */\n",
       ".highlight .nt { color: #008000; font-weight: bold } /* Name.Tag */\n",
       ".highlight .nv { color: #19177C } /* Name.Variable */\n",
       ".highlight .ow { color: #AA22FF; font-weight: bold } /* Operator.Word */\n",
       ".highlight .w { color: #bbbbbb } /* Text.Whitespace */\n",
       ".highlight .mb { color: #666666 } /* Literal.Number.Bin */\n",
       ".highlight .mf { color: #666666 } /* Literal.Number.Float */\n",
       ".highlight .mh { color: #666666 } /* Literal.Number.Hex */\n",
       ".highlight .mi { color: #666666 } /* Literal.Number.Integer */\n",
       ".highlight .mo { color: #666666 } /* Literal.Number.Oct */\n",
       ".highlight .sa { color: #BA2121 } /* Literal.String.Affix */\n",
       ".highlight .sb { color: #BA2121 } /* Literal.String.Backtick */\n",
       ".highlight .sc { color: #BA2121 } /* Literal.String.Char */\n",
       ".highlight .dl { color: #BA2121 } /* Literal.String.Delimiter */\n",
       ".highlight .sd { color: #BA2121; font-style: italic } /* Literal.String.Doc */\n",
       ".highlight .s2 { color: #BA2121 } /* Literal.String.Double */\n",
       ".highlight .se { color: #BB6622; font-weight: bold } /* Literal.String.Escape */\n",
       ".highlight .sh { color: #BA2121 } /* Literal.String.Heredoc */\n",
       ".highlight .si { color: #BB6688; font-weight: bold } /* Literal.String.Interpol */\n",
       ".highlight .sx { color: #008000 } /* Literal.String.Other */\n",
       ".highlight .sr { color: #BB6688 } /* Literal.String.Regex */\n",
       ".highlight .s1 { color: #BA2121 } /* Literal.String.Single */\n",
       ".highlight .ss { color: #19177C } /* Literal.String.Symbol */\n",
       ".highlight .bp { color: #008000 } /* Name.Builtin.Pseudo */\n",
       ".highlight .fm { color: #0000FF } /* Name.Function.Magic */\n",
       ".highlight .vc { color: #19177C } /* Name.Variable.Class */\n",
       ".highlight .vg { color: #19177C } /* Name.Variable.Global */\n",
       ".highlight .vi { color: #19177C } /* Name.Variable.Instance */\n",
       ".highlight .vm { color: #19177C } /* Name.Variable.Magic */\n",
       ".highlight .il { color: #666666 } /* Literal.Number.Integer.Long */</style><div class=\"highlight\"><pre><span></span><span class=\"k\">def</span> <span class=\"nf\">bhattacharyya</span><span class=\"p\">(</span><span class=\"n\">a</span><span class=\"p\">:</span> <span class=\"nb\">dict</span><span class=\"p\">,</span> <span class=\"n\">b</span><span class=\"p\">:</span> <span class=\"nb\">dict</span><span class=\"p\">)</span> <span class=\"o\">-&gt;</span> <span class=\"nb\">float</span><span class=\"p\">:</span>\n",
       "    <span class=\"sd\">&quot;&quot;&quot;Determine the bhattacharyya distance.&quot;&quot;&quot;</span>\n",
       "    <span class=\"k\">return</span> <span class=\"o\">-</span><span class=\"n\">log</span><span class=\"p\">(</span><span class=\"n\">bhattacharyya_coefficient</span><span class=\"p\">(</span><span class=\"n\">a</span><span class=\"p\">,</span> <span class=\"n\">b</span><span class=\"p\">))</span>\n",
       "</pre></div>\n"
      ],
      "text/plain": [
       "<IPython.core.display.HTML object>"
      ]
     },
     "metadata": {},
     "output_type": "display_data"
    }
   ],
   "source": [
    "print_function(bhattacharyya)"
   ]
  },
  {
   "cell_type": "code",
   "execution_count": 25,
   "metadata": {},
   "outputs": [
    {
     "data": {
      "text/html": [
       "<style type=\"text/css\">.highlight .hll { background-color: #ffffcc }\n",
       ".highlight  { background: #f8f8f8; }\n",
       ".highlight .c { color: #408080; font-style: italic } /* Comment */\n",
       ".highlight .err { border: 1px solid #FF0000 } /* Error */\n",
       ".highlight .k { color: #008000; font-weight: bold } /* Keyword */\n",
       ".highlight .o { color: #666666 } /* Operator */\n",
       ".highlight .ch { color: #408080; font-style: italic } /* Comment.Hashbang */\n",
       ".highlight .cm { color: #408080; font-style: italic } /* Comment.Multiline */\n",
       ".highlight .cp { color: #BC7A00 } /* Comment.Preproc */\n",
       ".highlight .cpf { color: #408080; font-style: italic } /* Comment.PreprocFile */\n",
       ".highlight .c1 { color: #408080; font-style: italic } /* Comment.Single */\n",
       ".highlight .cs { color: #408080; font-style: italic } /* Comment.Special */\n",
       ".highlight .gd { color: #A00000 } /* Generic.Deleted */\n",
       ".highlight .ge { font-style: italic } /* Generic.Emph */\n",
       ".highlight .gr { color: #FF0000 } /* Generic.Error */\n",
       ".highlight .gh { color: #000080; font-weight: bold } /* Generic.Heading */\n",
       ".highlight .gi { color: #00A000 } /* Generic.Inserted */\n",
       ".highlight .go { color: #888888 } /* Generic.Output */\n",
       ".highlight .gp { color: #000080; font-weight: bold } /* Generic.Prompt */\n",
       ".highlight .gs { font-weight: bold } /* Generic.Strong */\n",
       ".highlight .gu { color: #800080; font-weight: bold } /* Generic.Subheading */\n",
       ".highlight .gt { color: #0044DD } /* Generic.Traceback */\n",
       ".highlight .kc { color: #008000; font-weight: bold } /* Keyword.Constant */\n",
       ".highlight .kd { color: #008000; font-weight: bold } /* Keyword.Declaration */\n",
       ".highlight .kn { color: #008000; font-weight: bold } /* Keyword.Namespace */\n",
       ".highlight .kp { color: #008000 } /* Keyword.Pseudo */\n",
       ".highlight .kr { color: #008000; font-weight: bold } /* Keyword.Reserved */\n",
       ".highlight .kt { color: #B00040 } /* Keyword.Type */\n",
       ".highlight .m { color: #666666 } /* Literal.Number */\n",
       ".highlight .s { color: #BA2121 } /* Literal.String */\n",
       ".highlight .na { color: #7D9029 } /* Name.Attribute */\n",
       ".highlight .nb { color: #008000 } /* Name.Builtin */\n",
       ".highlight .nc { color: #0000FF; font-weight: bold } /* Name.Class */\n",
       ".highlight .no { color: #880000 } /* Name.Constant */\n",
       ".highlight .nd { color: #AA22FF } /* Name.Decorator */\n",
       ".highlight .ni { color: #999999; font-weight: bold } /* Name.Entity */\n",
       ".highlight .ne { color: #D2413A; font-weight: bold } /* Name.Exception */\n",
       ".highlight .nf { color: #0000FF } /* Name.Function */\n",
       ".highlight .nl { color: #A0A000 } /* Name.Label */\n",
       ".highlight .nn { color: #0000FF; font-weight: bold } /* Name.Namespace */\n",
       ".highlight .nt { color: #008000; font-weight: bold } /* Name.Tag */\n",
       ".highlight .nv { color: #19177C } /* Name.Variable */\n",
       ".highlight .ow { color: #AA22FF; font-weight: bold } /* Operator.Word */\n",
       ".highlight .w { color: #bbbbbb } /* Text.Whitespace */\n",
       ".highlight .mb { color: #666666 } /* Literal.Number.Bin */\n",
       ".highlight .mf { color: #666666 } /* Literal.Number.Float */\n",
       ".highlight .mh { color: #666666 } /* Literal.Number.Hex */\n",
       ".highlight .mi { color: #666666 } /* Literal.Number.Integer */\n",
       ".highlight .mo { color: #666666 } /* Literal.Number.Oct */\n",
       ".highlight .sa { color: #BA2121 } /* Literal.String.Affix */\n",
       ".highlight .sb { color: #BA2121 } /* Literal.String.Backtick */\n",
       ".highlight .sc { color: #BA2121 } /* Literal.String.Char */\n",
       ".highlight .dl { color: #BA2121 } /* Literal.String.Delimiter */\n",
       ".highlight .sd { color: #BA2121; font-style: italic } /* Literal.String.Doc */\n",
       ".highlight .s2 { color: #BA2121 } /* Literal.String.Double */\n",
       ".highlight .se { color: #BB6622; font-weight: bold } /* Literal.String.Escape */\n",
       ".highlight .sh { color: #BA2121 } /* Literal.String.Heredoc */\n",
       ".highlight .si { color: #BB6688; font-weight: bold } /* Literal.String.Interpol */\n",
       ".highlight .sx { color: #008000 } /* Literal.String.Other */\n",
       ".highlight .sr { color: #BB6688 } /* Literal.String.Regex */\n",
       ".highlight .s1 { color: #BA2121 } /* Literal.String.Single */\n",
       ".highlight .ss { color: #19177C } /* Literal.String.Symbol */\n",
       ".highlight .bp { color: #008000 } /* Name.Builtin.Pseudo */\n",
       ".highlight .fm { color: #0000FF } /* Name.Function.Magic */\n",
       ".highlight .vc { color: #19177C } /* Name.Variable.Class */\n",
       ".highlight .vg { color: #19177C } /* Name.Variable.Global */\n",
       ".highlight .vi { color: #19177C } /* Name.Variable.Instance */\n",
       ".highlight .vm { color: #19177C } /* Name.Variable.Magic */\n",
       ".highlight .il { color: #666666 } /* Literal.Number.Integer.Long */</style><div class=\"highlight\"><pre><span></span><span class=\"k\">def</span> <span class=\"nf\">hellinger</span><span class=\"p\">(</span><span class=\"n\">a</span><span class=\"p\">:</span> <span class=\"nb\">dict</span><span class=\"p\">,</span> <span class=\"n\">b</span><span class=\"p\">:</span> <span class=\"nb\">dict</span><span class=\"p\">)</span> <span class=\"o\">-&gt;</span> <span class=\"nb\">float</span><span class=\"p\">:</span>\n",
       "    <span class=\"sd\">&quot;&quot;&quot;Determine the Hellinger distance.&quot;&quot;&quot;</span>\n",
       "    <span class=\"n\">total</span> <span class=\"o\">=</span> <span class=\"mi\">0</span>\n",
       "    <span class=\"n\">big</span><span class=\"p\">,</span> <span class=\"n\">small</span> <span class=\"o\">=</span> <span class=\"n\">sort</span><span class=\"p\">(</span><span class=\"n\">a</span><span class=\"p\">,</span> <span class=\"n\">b</span><span class=\"p\">)</span>\n",
       "    <span class=\"n\">big_get</span> <span class=\"o\">=</span> <span class=\"n\">big</span><span class=\"o\">.</span><span class=\"fm\">__getitem__</span>\n",
       "    <span class=\"k\">for</span> <span class=\"n\">key</span><span class=\"p\">,</span> <span class=\"n\">small_value</span> <span class=\"ow\">in</span> <span class=\"n\">small</span><span class=\"o\">.</span><span class=\"n\">items</span><span class=\"p\">():</span>\n",
       "        <span class=\"k\">try</span><span class=\"p\">:</span>\n",
       "            <span class=\"n\">total</span> <span class=\"o\">+=</span> <span class=\"p\">(</span><span class=\"n\">sqrt</span><span class=\"p\">(</span><span class=\"n\">small_value</span><span class=\"p\">)</span> <span class=\"o\">-</span> <span class=\"n\">sqrt</span><span class=\"p\">(</span><span class=\"n\">big_get</span><span class=\"p\">(</span><span class=\"n\">key</span><span class=\"p\">)))</span><span class=\"o\">**</span><span class=\"mi\">2</span>\n",
       "        <span class=\"k\">except</span> <span class=\"ne\">KeyError</span><span class=\"p\">:</span>\n",
       "            <span class=\"k\">pass</span>\n",
       "    <span class=\"k\">return</span> <span class=\"n\">sqrt</span><span class=\"p\">(</span><span class=\"n\">total</span><span class=\"p\">)</span> <span class=\"o\">/</span> <span class=\"n\">sqrt</span><span class=\"p\">(</span><span class=\"mi\">2</span><span class=\"p\">)</span>\n",
       "</pre></div>\n"
      ],
      "text/plain": [
       "<IPython.core.display.HTML object>"
      ]
     },
     "metadata": {},
     "output_type": "display_data"
    }
   ],
   "source": [
    "print_function(hellinger)"
   ]
  },
  {
   "cell_type": "markdown",
   "metadata": {},
   "source": [
    "### The options\n",
    "We will use the following options for learning and testing. More informations about options' customizations is available [here](https://github.com/LucaCappelletti94/zipf)."
   ]
  },
  {
   "cell_type": "code",
   "execution_count": 26,
   "metadata": {},
   "outputs": [],
   "source": [
    "options = {}"
   ]
  },
  {
   "cell_type": "markdown",
   "metadata": {},
   "source": [
    "## Creating the Zipfs\n",
    "We will now convert all the chapters in the dataset into the respective zipf for each option."
   ]
  },
  {
   "cell_type": "code",
   "execution_count": 27,
   "metadata": {},
   "outputs": [],
   "source": [
    "def create_zipfs(paths, factory, test_path):\n",
    "    for data_path in tqdm(paths, unit=' zipf'):\n",
    "        path = \"%s/%s.json\"%(test_path, '/'.join(data_path.split('/')[1:]))\n",
    "        # If the zipf already exists we skip it\n",
    "        if os.path.exists(path):\n",
    "            continue\n",
    "        path_dirs = '/'.join(path.split('/')[:-1])\n",
    "        zipf = factory.run(data_path, ['txt'])\n",
    "        if not zipf.is_empty():\n",
    "            if not os.path.exists(path_dirs):\n",
    "                os.makedirs(path_dirs)\n",
    "            zipf.save(path)"
   ]
  },
  {
   "cell_type": "markdown",
   "metadata": {},
   "source": [
    "We define the paths for zipfs and their sources:"
   ]
  },
  {
   "cell_type": "code",
   "execution_count": 28,
   "metadata": {},
   "outputs": [],
   "source": [
    "def get_build_paths(dataset):\n",
    "    \"\"\"Return a triple with the build paths for given dataset.\"\"\"\n",
    "    learning_path = \"%s/learning\"%dataset\n",
    "    testing_path = \"%s/testing\"%dataset\n",
    "    zipfs_path = '%s/zipfs'%dataset\n",
    "\n",
    "    print(\"I will build learning zipfs from %s,\\ntesting zipfs from %s\\nand save them in %s\\n\"%(b(learning_path), b(testing_path), b(zipfs_path)))\n",
    "    return learning_path, testing_path, zipfs_path"
   ]
  },
  {
   "cell_type": "markdown",
   "metadata": {},
   "source": [
    "First we create the learning zipfs:"
   ]
  },
  {
   "cell_type": "code",
   "execution_count": 29,
   "metadata": {},
   "outputs": [],
   "source": [
    "def build_learning_zipfs(path, zipfs_path):\n",
    "    \"\"\"Build zipfs from txt files at given path.\"\"\"\n",
    "    print(\"Creating learning zipfs in %s\"%(b(path)))\n",
    "    book_classes = get_dirs(path)\n",
    "    print(\"Some of the paths I'm converting are:\")\n",
    "    random.seed(42) # For reproducibility\n",
    "    random.shuffle(book_classes)\n",
    "    pprint(book_classes[:10])\n",
    "    create_zipfs(book_classes, factory, zipfs_path)"
   ]
  },
  {
   "cell_type": "markdown",
   "metadata": {},
   "source": [
    "And then the testing zipfs:"
   ]
  },
  {
   "cell_type": "code",
   "execution_count": 30,
   "metadata": {},
   "outputs": [],
   "source": [
    "def build_testing_zipfs(path, zipfs_path):\n",
    "    \"\"\"Build zipfs from txt files at given path.\"\"\"\n",
    "    print(\"Creating testing zipfs in %s\"%(b(path)))\n",
    "    books = get_books(path)\n",
    "    print(\"Some of the paths I'm converting are:\")\n",
    "    random.seed(42) # For reproducibility\n",
    "    random.shuffle(books)\n",
    "    pprint(books[:10])\n",
    "    create_zipfs(books, factory, zipfs_path)"
   ]
  },
  {
   "cell_type": "markdown",
   "metadata": {},
   "source": [
    "We create a factory for creating the zipfs objects from files with the options defined above. More informations about factory customization and other possible factories is available [here](https://github.com/LucaCappelletti94/zipf)."
   ]
  },
  {
   "cell_type": "code",
   "execution_count": 31,
   "metadata": {},
   "outputs": [
    {
     "name": "stdout",
     "output_type": "stream",
     "text": [
      "Created a factory with options {\n",
      "  \"remove_stop_words\": false,\n",
      "  \"stop_words\": \"it\",\n",
      "  \"minimum_count\": 0,\n",
      "  \"chain_min_len\": 1,\n",
      "  \"chain_max_len\": 1,\n",
      "  \"chaining_character\": \" \",\n",
      "  \"sort\": false\n",
      "}\n"
     ]
    }
   ],
   "source": [
    "factory = ZipfFromDir(options=options)\n",
    "print(\"Created a factory with options %s\"%(factory))"
   ]
  },
  {
   "cell_type": "markdown",
   "metadata": {},
   "source": [
    "Wake up zipfs factory daemons:"
   ]
  },
  {
   "cell_type": "code",
   "execution_count": 32,
   "metadata": {},
   "outputs": [],
   "source": [
    "factory.start_processes()"
   ]
  },
  {
   "cell_type": "markdown",
   "metadata": {},
   "source": [
    "Actually creating the zipfs:"
   ]
  },
  {
   "cell_type": "code",
   "execution_count": 33,
   "metadata": {},
   "outputs": [
    {
     "name": "stdout",
     "output_type": "stream",
     "text": [
      "Building dataset \u001b[1mauthors\u001b[0;0m\n",
      "I will build learning zipfs from \u001b[1mauthors/learning\u001b[0;0m,\n",
      "testing zipfs from \u001b[1mauthors/testing\u001b[0;0m\n",
      "and save them in \u001b[1mauthors/zipfs\u001b[0;0m\n",
      "\n",
      "Creating learning zipfs in \u001b[1mauthors/learning\u001b[0;0m\n",
      "Some of the paths I'm converting are:\n",
      "['authors/learning/twain',\n",
      " 'authors/learning/dh_lawrence',\n",
      " 'authors/learning/wilde']\n"
     ]
    },
    {
     "data": {
      "application/vnd.jupyter.widget-view+json": {
       "model_id": "1a1fe2ebc3fc4c92ab47368b027db806",
       "version_major": 2,
       "version_minor": 0
      },
      "text/html": [
       "<p>Failed to display Jupyter Widget of type <code>HBox</code>.</p>\n",
       "<p>\n",
       "  If you're reading this message in the Jupyter Notebook or JupyterLab Notebook, it may mean\n",
       "  that the widgets JavaScript is still loading. If this message persists, it\n",
       "  likely means that the widgets JavaScript library is either not installed or\n",
       "  not enabled. See the <a href=\"https://ipywidgets.readthedocs.io/en/stable/user_install.html\">Jupyter\n",
       "  Widgets Documentation</a> for setup instructions.\n",
       "</p>\n",
       "<p>\n",
       "  If you're reading this message in another frontend (for example, a static\n",
       "  rendering on GitHub or <a href=\"https://nbviewer.jupyter.org/\">NBViewer</a>),\n",
       "  it may mean that your frontend doesn't currently support widgets.\n",
       "</p>\n"
      ],
      "text/plain": [
       "HBox(children=(IntProgress(value=0, max=3), HTML(value='')))"
      ]
     },
     "metadata": {},
     "output_type": "display_data"
    },
    {
     "name": "stdout",
     "output_type": "stream",
     "text": [
      "\n",
      "Creating testing zipfs in \u001b[1mauthors/testing\u001b[0;0m\n",
      "Some of the paths I'm converting are:\n",
      "['authors/testing/twain/3275',\n",
      " 'authors/testing/twain/320',\n",
      " 'authors/testing/wilde/florentine-tragedy',\n",
      " 'authors/testing/dh_lawrence/4483',\n",
      " 'authors/testing/wilde/2252',\n",
      " 'authors/testing/twain/3297',\n",
      " 'authors/testing/wilde/2305',\n",
      " 'authors/testing/dh_lawrence/fantasia-of-unconscious',\n",
      " 'authors/testing/wilde/2317',\n",
      " 'authors/testing/twain/3259']\n"
     ]
    },
    {
     "data": {
      "application/vnd.jupyter.widget-view+json": {
       "model_id": "a42a4368613445b2abb19df9ba50fb4a",
       "version_major": 2,
       "version_minor": 0
      },
      "text/html": [
       "<p>Failed to display Jupyter Widget of type <code>HBox</code>.</p>\n",
       "<p>\n",
       "  If you're reading this message in the Jupyter Notebook or JupyterLab Notebook, it may mean\n",
       "  that the widgets JavaScript is still loading. If this message persists, it\n",
       "  likely means that the widgets JavaScript library is either not installed or\n",
       "  not enabled. See the <a href=\"https://ipywidgets.readthedocs.io/en/stable/user_install.html\">Jupyter\n",
       "  Widgets Documentation</a> for setup instructions.\n",
       "</p>\n",
       "<p>\n",
       "  If you're reading this message in another frontend (for example, a static\n",
       "  rendering on GitHub or <a href=\"https://nbviewer.jupyter.org/\">NBViewer</a>),\n",
       "  it may mean that your frontend doesn't currently support widgets.\n",
       "</p>\n"
      ],
      "text/plain": [
       "HBox(children=(IntProgress(value=0, max=160), HTML(value='')))"
      ]
     },
     "metadata": {},
     "output_type": "display_data"
    },
    {
     "name": "stdout",
     "output_type": "stream",
     "text": [
      "\n",
      "Building dataset \u001b[1mperiods\u001b[0;0m\n",
      "I will build learning zipfs from \u001b[1mperiods/learning\u001b[0;0m,\n",
      "testing zipfs from \u001b[1mperiods/testing\u001b[0;0m\n",
      "and save them in \u001b[1mperiods/zipfs\u001b[0;0m\n",
      "\n",
      "Creating learning zipfs in \u001b[1mperiods/learning\u001b[0;0m\n",
      "Some of the paths I'm converting are:\n",
      "['periods/learning/romanticism',\n",
      " 'periods/learning/realism',\n",
      " 'periods/learning/naturalism',\n",
      " 'periods/learning/modernism']\n"
     ]
    },
    {
     "data": {
      "application/vnd.jupyter.widget-view+json": {
       "model_id": "02ca4472f0ac41fd917596e9703f2ebb",
       "version_major": 2,
       "version_minor": 0
      },
      "text/html": [
       "<p>Failed to display Jupyter Widget of type <code>HBox</code>.</p>\n",
       "<p>\n",
       "  If you're reading this message in the Jupyter Notebook or JupyterLab Notebook, it may mean\n",
       "  that the widgets JavaScript is still loading. If this message persists, it\n",
       "  likely means that the widgets JavaScript library is either not installed or\n",
       "  not enabled. See the <a href=\"https://ipywidgets.readthedocs.io/en/stable/user_install.html\">Jupyter\n",
       "  Widgets Documentation</a> for setup instructions.\n",
       "</p>\n",
       "<p>\n",
       "  If you're reading this message in another frontend (for example, a static\n",
       "  rendering on GitHub or <a href=\"https://nbviewer.jupyter.org/\">NBViewer</a>),\n",
       "  it may mean that your frontend doesn't currently support widgets.\n",
       "</p>\n"
      ],
      "text/plain": [
       "HBox(children=(IntProgress(value=0, max=4), HTML(value='')))"
      ]
     },
     "metadata": {},
     "output_type": "display_data"
    },
    {
     "name": "stdout",
     "output_type": "stream",
     "text": [
      "\n",
      "Creating testing zipfs in \u001b[1mperiods/testing\u001b[0;0m\n",
      "Some of the paths I'm converting are:\n",
      "['periods/testing/romanticism/579',\n",
      " 'periods/testing/modernism/3452',\n",
      " 'periods/testing/romanticism/550',\n",
      " 'periods/testing/romanticism/2124',\n",
      " 'periods/testing/romanticism/4545',\n",
      " 'periods/testing/romanticism/491',\n",
      " 'periods/testing/modernism/3484',\n",
      " 'periods/testing/romanticism/143',\n",
      " 'periods/testing/modernism/blanco-posnet',\n",
      " 'periods/testing/realism/indian-summer']\n"
     ]
    },
    {
     "data": {
      "application/vnd.jupyter.widget-view+json": {
       "model_id": "3f8ae9eae3bf41219d989accaf91cd78",
       "version_major": 2,
       "version_minor": 0
      },
      "text/html": [
       "<p>Failed to display Jupyter Widget of type <code>HBox</code>.</p>\n",
       "<p>\n",
       "  If you're reading this message in the Jupyter Notebook or JupyterLab Notebook, it may mean\n",
       "  that the widgets JavaScript is still loading. If this message persists, it\n",
       "  likely means that the widgets JavaScript library is either not installed or\n",
       "  not enabled. See the <a href=\"https://ipywidgets.readthedocs.io/en/stable/user_install.html\">Jupyter\n",
       "  Widgets Documentation</a> for setup instructions.\n",
       "</p>\n",
       "<p>\n",
       "  If you're reading this message in another frontend (for example, a static\n",
       "  rendering on GitHub or <a href=\"https://nbviewer.jupyter.org/\">NBViewer</a>),\n",
       "  it may mean that your frontend doesn't currently support widgets.\n",
       "</p>\n"
      ],
      "text/plain": [
       "HBox(children=(IntProgress(value=0, max=864), HTML(value='')))"
      ]
     },
     "metadata": {},
     "output_type": "display_data"
    },
    {
     "name": "stdout",
     "output_type": "stream",
     "text": [
      "\n"
     ]
    }
   ],
   "source": [
    "for dataset in datasets:\n",
    "    print(\"Building dataset %s\"%(b(dataset)))\n",
    "    learning_path, testing_path, zipfs_path = get_build_paths(dataset)\n",
    "    build_learning_zipfs(learning_path, zipfs_path)\n",
    "    build_testing_zipfs(testing_path, zipfs_path)"
   ]
  },
  {
   "cell_type": "markdown",
   "metadata": {},
   "source": [
    "Slaying daemons:"
   ]
  },
  {
   "cell_type": "code",
   "execution_count": 34,
   "metadata": {},
   "outputs": [],
   "source": [
    "factory.close_processes()"
   ]
  },
  {
   "cell_type": "markdown",
   "metadata": {},
   "source": [
    "\n",
    "## Creating the Classifier\n",
    "Now we have rendered the learning. Let's run some tests!"
   ]
  },
  {
   "cell_type": "code",
   "execution_count": 35,
   "metadata": {},
   "outputs": [],
   "source": [
    "def get_classifier_paths(dataset):\n",
    "    \"\"\"Return paths for classifier, given a dataset.\"\"\"\n",
    "    zipfs_path = get_build_paths(dataset)[2]\n",
    "    learning_zipfs_path = \"%s/learning\"%zipfs_path\n",
    "    testing_zipfs_path = \"%s/testing\"%zipfs_path\n",
    "    return learning_zipfs_path, testing_zipfs_path"
   ]
  },
  {
   "cell_type": "code",
   "execution_count": 36,
   "metadata": {},
   "outputs": [],
   "source": [
    "def load_zipfs(classifier, path):\n",
    "    \"\"\"Load zipfs from given path into given classifier.\"\"\"\n",
    "    print(\"Loading zipfs from %s\"%(b(path)))\n",
    "    loaded = []\n",
    "    for zipf in tqdm(get_zipfs(path)):\n",
    "        book_class = zipf.split('/')[-1].split('.')[0]\n",
    "        args = zipf, book_class\n",
    "        loaded.append(args)\n",
    "        classifier.add_zipf(*args)\n",
    "    \n",
    "    print(\"Some of the loaded zipfs and its class:\")\n",
    "    for path, cls in loaded[:10]:\n",
    "        print(\"Path: %s, class: %s\"%(b(path), b(cls)))"
   ]
  },
  {
   "cell_type": "code",
   "execution_count": 37,
   "metadata": {},
   "outputs": [],
   "source": [
    "def load_test_couples(path):\n",
    "    \"\"\"Return list of zipfs from given path.\"\"\"\n",
    "    print(\"Loading tests from %s\"%(b(path)))\n",
    "    test_couples = []\n",
    "    for zipf in tqdm(get_zipfs(path)):\n",
    "        book_class = zipf.split('/')[-2]\n",
    "        args = zipf, book_class\n",
    "        test_couples.append(args)\n",
    "\n",
    "    print(\"Some of the loaded zipfs and its class:\")\n",
    "    random.seed(42)\n",
    "    random.shuffle(test_couples)\n",
    "    for path, cls in test_couples[:10]:\n",
    "        print(\"Path: %s, class: %s\"%(b(path), b(cls)))\n",
    "    return test_couples"
   ]
  },
  {
   "cell_type": "code",
   "execution_count": 38,
   "metadata": {},
   "outputs": [],
   "source": [
    "def metrics_test(classifier, test_couples):\n",
    "    \"\"\"Run test on all metrics usable on zipfs.\"\"\"\n",
    "    metrics = [hellinger]#[normal_total_variation, kullback_leibler, bhattacharyya, hellinger, jensen_shannon]\n",
    "    for metric in tqdm(metrics, unit='metric'):\n",
    "        results = classifier.test(test_couples, metric)\n",
    "        success(results, metric)"
   ]
  },
  {
   "cell_type": "markdown",
   "metadata": {},
   "source": [
    "First we create the classifier with the options set above:"
   ]
  },
  {
   "cell_type": "code",
   "execution_count": 39,
   "metadata": {},
   "outputs": [
    {
     "name": "stdout",
     "output_type": "stream",
     "text": [
      "We're using a classifier with options {\n",
      "    \"sort\": false\n",
      "}\n"
     ]
    }
   ],
   "source": [
    "classifier = ZipfClassifier(options)\n",
    "print(\"We're using a classifier with options %s\"%classifier)"
   ]
  },
  {
   "cell_type": "code",
   "execution_count": 40,
   "metadata": {
    "scrolled": false
   },
   "outputs": [
    {
     "name": "stdout",
     "output_type": "stream",
     "text": [
      "Testing dataset \u001b[1mauthors\u001b[0;0m\n",
      "I will build learning zipfs from \u001b[1mauthors/learning\u001b[0;0m,\n",
      "testing zipfs from \u001b[1mauthors/testing\u001b[0;0m\n",
      "and save them in \u001b[1mauthors/zipfs\u001b[0;0m\n",
      "\n",
      "Loading zipfs from \u001b[1mauthors/zipfs/learning\u001b[0;0m\n"
     ]
    },
    {
     "data": {
      "application/vnd.jupyter.widget-view+json": {
       "model_id": "5d5f964a86b5409e94a7f04ecc981adb",
       "version_major": 2,
       "version_minor": 0
      },
      "text/html": [
       "<p>Failed to display Jupyter Widget of type <code>HBox</code>.</p>\n",
       "<p>\n",
       "  If you're reading this message in the Jupyter Notebook or JupyterLab Notebook, it may mean\n",
       "  that the widgets JavaScript is still loading. If this message persists, it\n",
       "  likely means that the widgets JavaScript library is either not installed or\n",
       "  not enabled. See the <a href=\"https://ipywidgets.readthedocs.io/en/stable/user_install.html\">Jupyter\n",
       "  Widgets Documentation</a> for setup instructions.\n",
       "</p>\n",
       "<p>\n",
       "  If you're reading this message in another frontend (for example, a static\n",
       "  rendering on GitHub or <a href=\"https://nbviewer.jupyter.org/\">NBViewer</a>),\n",
       "  it may mean that your frontend doesn't currently support widgets.\n",
       "</p>\n"
      ],
      "text/plain": [
       "HBox(children=(IntProgress(value=0, max=3), HTML(value='')))"
      ]
     },
     "metadata": {},
     "output_type": "display_data"
    },
    {
     "name": "stdout",
     "output_type": "stream",
     "text": [
      "\n",
      "Some of the loaded zipfs and its class:\n",
      "Path: \u001b[1mauthors/zipfs/learning/twain.json\u001b[0;0m, class: \u001b[1mtwain\u001b[0;0m\n",
      "Path: \u001b[1mauthors/zipfs/learning/dh_lawrence.json\u001b[0;0m, class: \u001b[1mdh_lawrence\u001b[0;0m\n",
      "Path: \u001b[1mauthors/zipfs/learning/wilde.json\u001b[0;0m, class: \u001b[1mwilde\u001b[0;0m\n",
      "Loading tests from \u001b[1mauthors/zipfs/testing\u001b[0;0m\n"
     ]
    },
    {
     "data": {
      "application/vnd.jupyter.widget-view+json": {
       "model_id": "522dca821bd84de4935a01db499b6d49",
       "version_major": 2,
       "version_minor": 0
      },
      "text/html": [
       "<p>Failed to display Jupyter Widget of type <code>HBox</code>.</p>\n",
       "<p>\n",
       "  If you're reading this message in the Jupyter Notebook or JupyterLab Notebook, it may mean\n",
       "  that the widgets JavaScript is still loading. If this message persists, it\n",
       "  likely means that the widgets JavaScript library is either not installed or\n",
       "  not enabled. See the <a href=\"https://ipywidgets.readthedocs.io/en/stable/user_install.html\">Jupyter\n",
       "  Widgets Documentation</a> for setup instructions.\n",
       "</p>\n",
       "<p>\n",
       "  If you're reading this message in another frontend (for example, a static\n",
       "  rendering on GitHub or <a href=\"https://nbviewer.jupyter.org/\">NBViewer</a>),\n",
       "  it may mean that your frontend doesn't currently support widgets.\n",
       "</p>\n"
      ],
      "text/plain": [
       "HBox(children=(IntProgress(value=0, max=160), HTML(value='')))"
      ]
     },
     "metadata": {},
     "output_type": "display_data"
    },
    {
     "name": "stdout",
     "output_type": "stream",
     "text": [
      "\n",
      "Some of the loaded zipfs and its class:\n",
      "Path: \u001b[1mauthors/zipfs/testing/twain/double-barrelled.json\u001b[0;0m, class: \u001b[1mtwain\u001b[0;0m\n",
      "Path: \u001b[1mauthors/zipfs/testing/twain/3294.json\u001b[0;0m, class: \u001b[1mtwain\u001b[0;0m\n",
      "Path: \u001b[1mauthors/zipfs/testing/wilde/2280.json\u001b[0;0m, class: \u001b[1mwilde\u001b[0;0m\n",
      "Path: \u001b[1mauthors/zipfs/testing/dh_lawrence/3484.json\u001b[0;0m, class: \u001b[1mdh_lawrence\u001b[0;0m\n",
      "Path: \u001b[1mauthors/zipfs/testing/wilde/2299.json\u001b[0;0m, class: \u001b[1mwilde\u001b[0;0m\n",
      "Path: \u001b[1mauthors/zipfs/testing/twain/3277.json\u001b[0;0m, class: \u001b[1mtwain\u001b[0;0m\n",
      "Path: \u001b[1mauthors/zipfs/testing/wilde/2318.json\u001b[0;0m, class: \u001b[1mwilde\u001b[0;0m\n",
      "Path: \u001b[1mauthors/zipfs/testing/dh_lawrence/3487.json\u001b[0;0m, class: \u001b[1mdh_lawrence\u001b[0;0m\n",
      "Path: \u001b[1mauthors/zipfs/testing/wilde/2288.json\u001b[0;0m, class: \u001b[1mwilde\u001b[0;0m\n",
      "Path: \u001b[1mauthors/zipfs/testing/twain/323.json\u001b[0;0m, class: \u001b[1mtwain\u001b[0;0m\n"
     ]
    },
    {
     "data": {
      "application/vnd.jupyter.widget-view+json": {
       "model_id": "70629fa18ca54b17a3480220a7acf7f7",
       "version_major": 2,
       "version_minor": 0
      },
      "text/html": [
       "<p>Failed to display Jupyter Widget of type <code>HBox</code>.</p>\n",
       "<p>\n",
       "  If you're reading this message in the Jupyter Notebook or JupyterLab Notebook, it may mean\n",
       "  that the widgets JavaScript is still loading. If this message persists, it\n",
       "  likely means that the widgets JavaScript library is either not installed or\n",
       "  not enabled. See the <a href=\"https://ipywidgets.readthedocs.io/en/stable/user_install.html\">Jupyter\n",
       "  Widgets Documentation</a> for setup instructions.\n",
       "</p>\n",
       "<p>\n",
       "  If you're reading this message in another frontend (for example, a static\n",
       "  rendering on GitHub or <a href=\"https://nbviewer.jupyter.org/\">NBViewer</a>),\n",
       "  it may mean that your frontend doesn't currently support widgets.\n",
       "</p>\n"
      ],
      "text/plain": [
       "HBox(children=(IntProgress(value=0, max=1), HTML(value='')))"
      ]
     },
     "metadata": {},
     "output_type": "display_data"
    },
    {
     "name": "stderr",
     "output_type": "stream",
     "text": [
      "Done testing 100.000000%"
     ]
    },
    {
     "name": "stdout",
     "output_type": "stream",
     "text": [
      "Success with metric \u001b[0;32mhellinger\u001b[0;0m: \u001b[1m87.5%\u001b[0;0m\n"
     ]
    },
    {
     "data": {
      "text/html": [
       "<table>\n",
       "<tbody>\n",
       "<tr><td>success                      </td><td style=\"text-align: right;\">140        </td></tr>\n",
       "<tr><td>failures                     </td><td style=\"text-align: right;\"> 20        </td></tr>\n",
       "<tr><td>unclassified                 </td><td style=\"text-align: right;\">  0        </td></tr>\n",
       "<tr><td>mean_delta                   </td><td style=\"text-align: right;\">  0.0227131</td></tr>\n",
       "<tr><td>Mistook Wilde for Dh_lawrence</td><td style=\"text-align: right;\">  8        </td></tr>\n",
       "<tr><td>Mistook Wilde for Twain      </td><td style=\"text-align: right;\"> 10        </td></tr>\n",
       "<tr><td>Mistook Dh_lawrence for Twain</td><td style=\"text-align: right;\">  1        </td></tr>\n",
       "<tr><td>Mistook Dh_lawrence for Wilde</td><td style=\"text-align: right;\">  1        </td></tr>\n",
       "</tbody>\n",
       "</table>"
      ],
      "text/plain": [
       "<IPython.core.display.HTML object>"
      ]
     },
     "metadata": {},
     "output_type": "display_data"
    },
    {
     "name": "stdout",
     "output_type": "stream",
     "text": [
      "\n",
      "Testing dataset \u001b[1mperiods\u001b[0;0m\n",
      "I will build learning zipfs from \u001b[1mperiods/learning\u001b[0;0m,\n",
      "testing zipfs from \u001b[1mperiods/testing\u001b[0;0m\n",
      "and save them in \u001b[1mperiods/zipfs\u001b[0;0m\n",
      "\n",
      "Loading zipfs from \u001b[1mperiods/zipfs/learning\u001b[0;0m\n"
     ]
    },
    {
     "data": {
      "application/vnd.jupyter.widget-view+json": {
       "model_id": "0fc609a7f2fc46b4a63f4d683e4a4e0a",
       "version_major": 2,
       "version_minor": 0
      },
      "text/html": [
       "<p>Failed to display Jupyter Widget of type <code>HBox</code>.</p>\n",
       "<p>\n",
       "  If you're reading this message in the Jupyter Notebook or JupyterLab Notebook, it may mean\n",
       "  that the widgets JavaScript is still loading. If this message persists, it\n",
       "  likely means that the widgets JavaScript library is either not installed or\n",
       "  not enabled. See the <a href=\"https://ipywidgets.readthedocs.io/en/stable/user_install.html\">Jupyter\n",
       "  Widgets Documentation</a> for setup instructions.\n",
       "</p>\n",
       "<p>\n",
       "  If you're reading this message in another frontend (for example, a static\n",
       "  rendering on GitHub or <a href=\"https://nbviewer.jupyter.org/\">NBViewer</a>),\n",
       "  it may mean that your frontend doesn't currently support widgets.\n",
       "</p>\n"
      ],
      "text/plain": [
       "HBox(children=(IntProgress(value=0, max=4), HTML(value='')))"
      ]
     },
     "metadata": {},
     "output_type": "display_data"
    },
    {
     "name": "stdout",
     "output_type": "stream",
     "text": [
      "\n",
      "Some of the loaded zipfs and its class:\n",
      "Path: \u001b[1mperiods/zipfs/learning/modernism.json\u001b[0;0m, class: \u001b[1mmodernism\u001b[0;0m\n",
      "Path: \u001b[1mperiods/zipfs/learning/realism.json\u001b[0;0m, class: \u001b[1mrealism\u001b[0;0m\n",
      "Path: \u001b[1mperiods/zipfs/learning/romanticism.json\u001b[0;0m, class: \u001b[1mromanticism\u001b[0;0m\n",
      "Path: \u001b[1mperiods/zipfs/learning/naturalism.json\u001b[0;0m, class: \u001b[1mnaturalism\u001b[0;0m\n",
      "Loading tests from \u001b[1mperiods/zipfs/testing\u001b[0;0m\n"
     ]
    },
    {
     "data": {
      "application/vnd.jupyter.widget-view+json": {
       "model_id": "b181e4c79f3340468e70e2b0fe93e4d4",
       "version_major": 2,
       "version_minor": 0
      },
      "text/html": [
       "<p>Failed to display Jupyter Widget of type <code>HBox</code>.</p>\n",
       "<p>\n",
       "  If you're reading this message in the Jupyter Notebook or JupyterLab Notebook, it may mean\n",
       "  that the widgets JavaScript is still loading. If this message persists, it\n",
       "  likely means that the widgets JavaScript library is either not installed or\n",
       "  not enabled. See the <a href=\"https://ipywidgets.readthedocs.io/en/stable/user_install.html\">Jupyter\n",
       "  Widgets Documentation</a> for setup instructions.\n",
       "</p>\n",
       "<p>\n",
       "  If you're reading this message in another frontend (for example, a static\n",
       "  rendering on GitHub or <a href=\"https://nbviewer.jupyter.org/\">NBViewer</a>),\n",
       "  it may mean that your frontend doesn't currently support widgets.\n",
       "</p>\n"
      ],
      "text/plain": [
       "HBox(children=(IntProgress(value=0, max=864), HTML(value='')))"
      ]
     },
     "metadata": {},
     "output_type": "display_data"
    },
    {
     "name": "stdout",
     "output_type": "stream",
     "text": [
      "\n",
      "Some of the loaded zipfs and its class:\n",
      "Path: \u001b[1mperiods/zipfs/testing/romanticism/680.json\u001b[0;0m, class: \u001b[1mromanticism\u001b[0;0m\n",
      "Path: \u001b[1mperiods/zipfs/testing/modernism/sea-and-sardinia.json\u001b[0;0m, class: \u001b[1mmodernism\u001b[0;0m\n",
      "Path: \u001b[1mperiods/zipfs/testing/romanticism/158.json\u001b[0;0m, class: \u001b[1mromanticism\u001b[0;0m\n",
      "Path: \u001b[1mperiods/zipfs/testing/romanticism/fugitive-pieces.json\u001b[0;0m, class: \u001b[1mromanticism\u001b[0;0m\n",
      "Path: \u001b[1mperiods/zipfs/testing/romanticism/3882.json\u001b[0;0m, class: \u001b[1mromanticism\u001b[0;0m\n",
      "Path: \u001b[1mperiods/zipfs/testing/romanticism/129.json\u001b[0;0m, class: \u001b[1mromanticism\u001b[0;0m\n",
      "Path: \u001b[1mperiods/zipfs/testing/modernism/misalliance.json\u001b[0;0m, class: \u001b[1mmodernism\u001b[0;0m\n",
      "Path: \u001b[1mperiods/zipfs/testing/romanticism/684.json\u001b[0;0m, class: \u001b[1mromanticism\u001b[0;0m\n",
      "Path: \u001b[1mperiods/zipfs/testing/modernism/in-the-cage.json\u001b[0;0m, class: \u001b[1mmodernism\u001b[0;0m\n",
      "Path: \u001b[1mperiods/zipfs/testing/realism/4137.json\u001b[0;0m, class: \u001b[1mrealism\u001b[0;0m\n"
     ]
    },
    {
     "data": {
      "application/vnd.jupyter.widget-view+json": {
       "model_id": "4fef0d537dcf4542b8c47dd21c0e6154",
       "version_major": 2,
       "version_minor": 0
      },
      "text/html": [
       "<p>Failed to display Jupyter Widget of type <code>HBox</code>.</p>\n",
       "<p>\n",
       "  If you're reading this message in the Jupyter Notebook or JupyterLab Notebook, it may mean\n",
       "  that the widgets JavaScript is still loading. If this message persists, it\n",
       "  likely means that the widgets JavaScript library is either not installed or\n",
       "  not enabled. See the <a href=\"https://ipywidgets.readthedocs.io/en/stable/user_install.html\">Jupyter\n",
       "  Widgets Documentation</a> for setup instructions.\n",
       "</p>\n",
       "<p>\n",
       "  If you're reading this message in another frontend (for example, a static\n",
       "  rendering on GitHub or <a href=\"https://nbviewer.jupyter.org/\">NBViewer</a>),\n",
       "  it may mean that your frontend doesn't currently support widgets.\n",
       "</p>\n"
      ],
      "text/plain": [
       "HBox(children=(IntProgress(value=0, max=1), HTML(value='')))"
      ]
     },
     "metadata": {},
     "output_type": "display_data"
    },
    {
     "name": "stderr",
     "output_type": "stream",
     "text": [
      "Done testing 100.000000%"
     ]
    },
    {
     "name": "stdout",
     "output_type": "stream",
     "text": [
      "Success with metric \u001b[0;33mhellinger\u001b[0;0m: \u001b[1m79.51%\u001b[0;0m\n"
     ]
    },
    {
     "data": {
      "text/html": [
       "<table>\n",
       "<tbody>\n",
       "<tr><td>success                           </td><td style=\"text-align: right;\">687        </td></tr>\n",
       "<tr><td>failures                          </td><td style=\"text-align: right;\">177        </td></tr>\n",
       "<tr><td>unclassified                      </td><td style=\"text-align: right;\">  0        </td></tr>\n",
       "<tr><td>mean_delta                        </td><td style=\"text-align: right;\">  0.0132782</td></tr>\n",
       "<tr><td>Mistook Modernism for Naturalism  </td><td style=\"text-align: right;\"> 24        </td></tr>\n",
       "<tr><td>Mistook Realism for Romanticism   </td><td style=\"text-align: right;\"> 44        </td></tr>\n",
       "<tr><td>Mistook Realism for Naturalism    </td><td style=\"text-align: right;\"> 10        </td></tr>\n",
       "<tr><td>Mistook Modernism for Realism     </td><td style=\"text-align: right;\">  7        </td></tr>\n",
       "<tr><td>Mistook Modernism for Romanticism </td><td style=\"text-align: right;\"> 36        </td></tr>\n",
       "<tr><td>Mistook Romanticism for Naturalism</td><td style=\"text-align: right;\">  4        </td></tr>\n",
       "<tr><td>Mistook Naturalism for Modernism  </td><td style=\"text-align: right;\"> 11        </td></tr>\n",
       "<tr><td>Mistook Romanticism for Realism   </td><td style=\"text-align: right;\">  7        </td></tr>\n",
       "<tr><td>Mistook Realism for Modernism     </td><td style=\"text-align: right;\"> 12        </td></tr>\n",
       "<tr><td>Mistook Naturalism for Romanticism</td><td style=\"text-align: right;\">  9        </td></tr>\n",
       "<tr><td>Mistook Romanticism for Modernism </td><td style=\"text-align: right;\">  9        </td></tr>\n",
       "<tr><td>Mistook Naturalism for Realism    </td><td style=\"text-align: right;\">  4        </td></tr>\n",
       "</tbody>\n",
       "</table>"
      ],
      "text/plain": [
       "<IPython.core.display.HTML object>"
      ]
     },
     "metadata": {},
     "output_type": "display_data"
    },
    {
     "name": "stdout",
     "output_type": "stream",
     "text": [
      "\n"
     ]
    }
   ],
   "source": [
    "for dataset in datasets:\n",
    "    print(\"Testing dataset %s\"%(b(dataset)))\n",
    "    learning_zipfs_path, testing_zipfs_path = get_classifier_paths(dataset)\n",
    "    load_zipfs(classifier, learning_zipfs_path)\n",
    "    test_couples = load_test_couples(testing_zipfs_path)\n",
    "    metrics_test(classifier, test_couples)\n",
    "    classifier.clear()"
   ]
  }
 ],
 "metadata": {
  "kernelspec": {
   "display_name": "Python 3",
   "language": "python",
   "name": "python3"
  },
  "language_info": {
   "codemirror_mode": {
    "name": "ipython",
    "version": 3
   },
   "file_extension": ".py",
   "mimetype": "text/x-python",
   "name": "python",
   "nbconvert_exporter": "python",
   "pygments_lexer": "ipython3",
   "version": "3.6.4"
  }
 },
 "nbformat": 4,
 "nbformat_minor": 2
}
