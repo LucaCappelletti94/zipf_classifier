{
 "cells": [
  {
   "cell_type": "markdown",
   "metadata": {},
   "source": [
    "# A Zipf classifier\n",
    "## Using Zipf and statistics to map books to their authors and periods\n",
    "\n",
    "## Introduction\n",
    "Hello, I'm Luca Cappelletti and here I will show you an example of usage of [ZipfClassifier](https://github.com/LucaCappelletti94/zipf_classifier), a classifier that leverages the assumption that some kind of datasets (texts, [some images](http://www.dcs.warwick.ac.uk/bmvc2007/proceedings/CD-ROM/papers/paper-288.pdf), even [sounds in spoken languages](http://journals.plos.org/plosone/article?id=10.1371/journal.pone.0033993)) follows the [Zipf distribution](https://en.wikipedia.org/wiki/Zipf%27s_law)."
   ]
  },
  {
   "cell_type": "markdown",
   "metadata": {},
   "source": [
    "## How to use this notebook"
   ]
  },
  {
   "cell_type": "markdown",
   "metadata": {},
   "source": [
    "This is a [Jupyter Notebook](http://jupyter.org/). You can either read it [here on github](https://github.com/LucaCappelletti94/zipf_classifier/blob/master/Classifying%20authors.ipynb) or, **preferably** to enjoy all its aspects, run it on your own computer. Jupyter comes installed with [Anaconda](https://anaconda.org/), to execute it you just need to run the following in your terminal:\n",
    "\n",
    "`jupyter-notebook`"
   ]
  },
  {
   "cell_type": "markdown",
   "metadata": {},
   "source": [
    "## What we will use"
   ]
  },
  {
   "cell_type": "markdown",
   "metadata": {},
   "source": [
    "### The packages\n",
    "We will use obviously the [ZipfClassifier](https://github.com/LucaCappelletti94/zipf_classifier) and other two packages of mine: [Zipf](https://github.com/LucaCappelletti94/zipf) to create the distributions from the texts and [Dictances](https://github.com/LucaCappelletti94/dictances) for the classifications metrics. If you need to install them just run the following command in your terminal:\n",
    "\n",
    "```pip install zipf dictances zipf_classifier```"
   ]
  },
  {
   "cell_type": "code",
   "execution_count": 1,
   "metadata": {},
   "outputs": [],
   "source": [
    "from zipf.factories import ZipfFromDir\n",
    "from zipf_classifier import ZipfClassifier\n",
    "from dictances import jensen_shannon, normal_total_variation, intersection_total_variation, kullback_leibler, intersection_squared_hellinger, hellinger, squared_hellinger\n"
   ]
  },
  {
   "cell_type": "markdown",
   "metadata": {},
   "source": [
    "### Additional packages\n",
    "We will also be using some utilities, such as the loading bar `tqdm` and the `requests` package. If you don't have them already you can install them by running:\n",
    "\n",
    "```\n",
    "pip install tqdm requests tabulate\n",
    "```\n",
    "\n",
    "The others packages should be already installed with python by default."
   ]
  },
  {
   "cell_type": "code",
   "execution_count": 2,
   "metadata": {},
   "outputs": [],
   "source": [
    "import io\n",
    "import inspect\n",
    "import json\n",
    "import math\n",
    "import os\n",
    "import random\n",
    "import shutil\n",
    "import zipfile\n",
    "from collections import defaultdict\n",
    "from pprint import pprint\n",
    "\n",
    "import requests\n",
    "from tqdm import tqdm_notebook as tqdm\n",
    "\n",
    "from pygments import highlight\n",
    "from pygments.lexers import PythonLexer\n",
    "from pygments.formatters import HtmlFormatter\n",
    "from IPython.display import HTML, display\n",
    "import tabulate"
   ]
  },
  {
   "cell_type": "markdown",
   "metadata": {},
   "source": [
    "### Some small helpers\n",
    "Let's make ome small functions to help out loading folders:"
   ]
  },
  {
   "cell_type": "code",
   "execution_count": 3,
   "metadata": {},
   "outputs": [],
   "source": [
    "def get_dirs(root):\n",
    "    \"\"\"Return subdirectories under a directory.\"\"\"\n",
    "    return [root+\"/\"+d for d in os.listdir(root) if os.path.isdir(root+\"/\"+d)]"
   ]
  },
  {
   "cell_type": "markdown",
   "metadata": {},
   "source": [
    "and the book folders:"
   ]
  },
  {
   "cell_type": "code",
   "execution_count": 4,
   "metadata": {},
   "outputs": [],
   "source": [
    "def get_books(root):\n",
    "    \"\"\"Return all books found under a given root.\"\"\"\n",
    "    return [book[0] for book in os.walk(root) for chapter in book[2][:1] if chapter.endswith('.txt')]"
   ]
  },
  {
   "cell_type": "markdown",
   "metadata": {},
   "source": [
    "and the saved zipfs:"
   ]
  },
  {
   "cell_type": "code",
   "execution_count": 5,
   "metadata": {},
   "outputs": [],
   "source": [
    "def get_zipfs(root):\n",
    "    \"\"\"Return all zipfs found under a given root.\"\"\"\n",
    "    return [zipfs[0]+\"/\"+zipf for zipfs in os.walk(root) for zipf in zipfs[2] if zipf.endswith('.json')]"
   ]
  },
  {
   "cell_type": "markdown",
   "metadata": {},
   "source": [
    "### Some stylers"
   ]
  },
  {
   "cell_type": "code",
   "execution_count": 6,
   "metadata": {},
   "outputs": [],
   "source": [
    "def b(string):\n",
    "    \"\"\"Return a boldified string.\"\"\"\n",
    "    return \"\\033[1m%s\\033[0;0m\"%string"
   ]
  },
  {
   "cell_type": "code",
   "execution_count": 7,
   "metadata": {},
   "outputs": [],
   "source": [
    "def red(string):\n",
    "    \"\"\"Return a red string.\"\"\"\n",
    "    return \"\\033[0;31m%s\\033[0;0m\"%string"
   ]
  },
  {
   "cell_type": "code",
   "execution_count": 8,
   "metadata": {},
   "outputs": [],
   "source": [
    "def yellow(string):\n",
    "    \"\"\"Return a yellow string.\"\"\"\n",
    "    return \"\\033[0;33m%s\\033[0;0m\"%string"
   ]
  },
  {
   "cell_type": "code",
   "execution_count": 9,
   "metadata": {},
   "outputs": [],
   "source": [
    "def green(string):\n",
    "    \"\"\"Return a green string.\"\"\"\n",
    "    return \"\\033[0;32m%s\\033[0;0m\"%string"
   ]
  },
  {
   "cell_type": "code",
   "execution_count": 10,
   "metadata": {},
   "outputs": [],
   "source": [
    "def success(results, metric):\n",
    "    \"\"\"Show the result of a given test.\"\"\"\n",
    "    successes = results[\"success\"]\n",
    "    total = successes + results[\"failures\"] + results[\"unclassified\"]\n",
    "    percentage = round(successes/total*100,2)\n",
    "    if percentage > 85:\n",
    "        metric_name = green(metric.__name__)\n",
    "    elif percentage > 70:\n",
    "        metric_name = yellow(metric.__name__)\n",
    "    else:\n",
    "        metric_name = red(metric.__name__)\n",
    "    print(\"Success with metric %s: %s\"%(metric_name,b(str(percentage)+\"%\")))\n",
    "    display(HTML(tabulate.tabulate(list(results.items()), tablefmt='html')))"
   ]
  },
  {
   "cell_type": "code",
   "execution_count": 11,
   "metadata": {},
   "outputs": [],
   "source": [
    "def print_function(function):\n",
    "    \"\"\"Print the source of a given function.\"\"\"\n",
    "    code = inspect.getsource(function)\n",
    "    formatter = HtmlFormatter()\n",
    "    display(HTML('<style type=\"text/css\">{}</style>{}'.format(\n",
    "        formatter.get_style_defs('.highlight'),\n",
    "        highlight(code, PythonLexer(), formatter))))"
   ]
  },
  {
   "cell_type": "markdown",
   "metadata": {},
   "source": [
    "### The datasets\n",
    "I've prepared three **datasets**:\n",
    "\n",
    "#### Authors dataset\n",
    "Dataset of english books from three **famous authors**: **D. H. Lawrence**, **Oscar Wilde** and **Mark Twain**.\n",
    "\n",
    "This dataset will be used to build a classifier able to classify the books to the respective author.\n",
    "\n",
    "#### Periods dataset\n",
    "Dataset of english books from four **style periods**: **Modernism**, **Naturalism**, **Realism** and **Romanticism**. \n",
    "This dataset will be used to build a classifier able to classify the books to the respective style period.\n",
    "\n",
    "#### Recipes dataset\n",
    "Dataset of italian articles, some containing recipes and some containing food reviews, food descriptions (eg wikipedia) or other articles.\n",
    "\n",
    "We will use this to classify articles to **recipes** and **non recipes**."
   ]
  },
  {
   "cell_type": "markdown",
   "metadata": {},
   "source": [
    "### Retrieving the datasets\n",
    "We download and extract the datasets:\n",
    "\n",
    "- [Link to authors dataset](https://mega.nz/#!SS4jgDKJ!zoBJ-sP22_qfI5YUquTewzeZ2KsuLqSvM1u_UL--46A)\n",
    "- [Link to periods dataset](https://mega.nz/#!2WREgZpQ!nDItooUUwVyGFyDBw1TA5TJ3GZGR7dzmJ4LbALvsiNs)\n",
    "- [Link to recipes dataset](https://mega.nz/#!vLZUwTLB!LkK_ZdA8D3loowd3byw7CisZrDPkbcOPjBq1lu2PbnA)\n",
    "\n",
    "Put them in the same folder of this notebook to use the datasets."
   ]
  },
  {
   "cell_type": "code",
   "execution_count": 12,
   "metadata": {},
   "outputs": [],
   "source": [
    "datasets = [\"authors\", \"periods\", \"recipes\"]"
   ]
  },
  {
   "cell_type": "markdown",
   "metadata": {},
   "source": [
    "#### Splitting into train and test\n",
    "Let's say we leave 70% to learning and 30% to testing. Let's proceed to split the dataset in two:"
   ]
  },
  {
   "cell_type": "code",
   "execution_count": 13,
   "metadata": {},
   "outputs": [],
   "source": [
    "learning_percentage = 0.6"
   ]
  },
  {
   "cell_type": "markdown",
   "metadata": {},
   "source": [
    "First we check if the dataset is already split (this might be a re-run):"
   ]
  },
  {
   "cell_type": "code",
   "execution_count": 14,
   "metadata": {},
   "outputs": [],
   "source": [
    "def is_already_split(root):\n",
    "    \"\"\"Return a bool indicating if the dataset has already been split.\"\"\"\n",
    "    split_warns = [\"learning\", \"testing\"]\n",
    "    for sub_dir in os.listdir(root):\n",
    "        for split_warn in split_warns:\n",
    "            if split_warn in sub_dir:\n",
    "                return True\n",
    "    return False"
   ]
  },
  {
   "cell_type": "markdown",
   "metadata": {},
   "source": [
    "Then we split the dataset's books as follows:\n",
    "\n",
    "Since we want the zipfs that the classifier will use to do the classification built on a proportioned dataset, we pick the percentage of books put aside for learning from the minimum number of books for class in the dataset."
   ]
  },
  {
   "cell_type": "code",
   "execution_count": 15,
   "metadata": {},
   "outputs": [],
   "source": [
    "def split_books(root, percentage):\n",
    "    \"\"\"Split the dataset into learning and testing.\"\"\"\n",
    "    min_books = math.inf\n",
    "    for book_class in get_dirs(root):\n",
    "        books = get_books(book_class)\n",
    "        min_books = min(min_books, len(books))\n",
    "    for book_class in get_dirs(root):\n",
    "        books = get_books(book_class)\n",
    "        random.seed(42) # for reproducibility\n",
    "        random.shuffle(books) # Shuffling books\n",
    "        n = int(min_books*percentage)\n",
    "        learning_set, testing_set = books[:n], books[n:] # splitting books into the two partitions\n",
    "        # Moving into respective folders\n",
    "        [shutil.copytree(book, \"%s/learning/%s\"%(root, book[len(root)+1:])) for book in learning_set]\n",
    "        [shutil.copytree(book, \"%s/testing/%s\"%(root, book[len(root)+1:])) for book in testing_set]"
   ]
  },
  {
   "cell_type": "markdown",
   "metadata": {},
   "source": [
    "Here we actually run the two functions:"
   ]
  },
  {
   "cell_type": "code",
   "execution_count": 16,
   "metadata": {},
   "outputs": [
    {
     "name": "stdout",
     "output_type": "stream",
     "text": [
      "I believe I've already split the dataset \u001b[1mauthors\u001b[0;0m!\n",
      "I believe I've already split the dataset \u001b[1mperiods\u001b[0;0m!\n",
      "I believe I've already split the dataset \u001b[1mrecipes\u001b[0;0m!\n"
     ]
    }
   ],
   "source": [
    "for dataset in datasets:\n",
    "    if is_already_split(dataset):\n",
    "        print(\"I believe I've already split the dataset %s!\"%(b(dataset)))\n",
    "    else:\n",
    "        split_books(dataset, learning_percentage)"
   ]
  },
  {
   "cell_type": "markdown",
   "metadata": {},
   "source": [
    "## The metrics"
   ]
  },
  {
   "cell_type": "markdown",
   "metadata": {},
   "source": [
    "After experimental analysis I've determined that the [Jensen Shannon Divergence](https://en.wikipedia.org/wiki/Jensen%E2%80%93Shannon_divergence) is one of the best metric for this kind of classification, other being the [Hellinger distance](https://en.wikipedia.org/wiki/Hellinger_distance) and the [Bhattacharyya distance](https://en.wikipedia.org/wiki/Bhattacharyya_distance). \n",
    "\n",
    "\n",
    "\n",
    "_A small test to experimentally verify this claim is run in the end of the presentation._\n",
    "\n",
    "#### Reasons for using these distances\n",
    "1. They are defined on distributions that do not necessarily share all events.\n",
    "2. They can be implemented with computational complexity $O(\\min(n,m))$, where $n$ and $m$ are respectively the length of two distributions $P, Q$ when one assumes that the $\\sum_{i\\in P}^n p_i = 1$ and $\\sum_{i\\in Q}^m q_i = 1$."
   ]
  },
  {
   "cell_type": "code",
   "execution_count": 17,
   "metadata": {},
   "outputs": [],
   "source": [
    "metrics = [jensen_shannon, normal_total_variation, intersection_total_variation, kullback_leibler, intersection_squared_hellinger, hellinger, squared_hellinger]"
   ]
  },
  {
   "cell_type": "markdown",
   "metadata": {},
   "source": [
    "### Kullback Leibler Divergence\n",
    "$$\n",
    "    D_{KL}(P,Q) = \\sum_i P(i) \\log{\\frac{P(i)}{Q(i)}}\n",
    "$$\n",
    "The KL divergece is defined for all events in a set $P, Q \\subseteq X$. \n",
    "\n",
    "This forces to define the KL for zipfs only on the subset of the events that are shared beetween the two distributions: $X = P \\cap Q$.\n",
    "\n",
    "This ignores all the information about non-sharec events and it is solved via the Jensen Shannon divergence."
   ]
  },
  {
   "cell_type": "markdown",
   "metadata": {},
   "source": [
    "## Jensen Shannon Divergence\n",
    "$$\n",
    "    JSD(P,Q) = \\frac{1}{2}D(P,M) + \\frac{1}{2}D(Q, M) \\qquad M = \\frac{1}{2}(P+Q)\n",
    "$$\n",
    "\n",
    "The KL divergence is defined for every event in a set $X=P\\cup Q$, it is **symmetric** and has **always a finite value**."
   ]
  },
  {
   "cell_type": "markdown",
   "metadata": {},
   "source": [
    "### Getting the current implementation\n",
    "\n",
    "The current implementation works as follows:\n",
    "\n",
    "Starting from the extended formulation:\n",
    "\n",
    "$$\n",
    "    m_i = \\frac{1}{2}(p_i+q_i), \\quad p_i = \\begin{cases}\n",
    "        p_i & i \\in P\\\\\n",
    "        0 & otherwise\n",
    "    \\end{cases}, \\quad q_i = \\begin{cases}\n",
    "        q_i & i \\in Q\\\\\n",
    "        0 & otherwise\n",
    "    \\end{cases}\n",
    "$$\n",
    "\n",
    "$$\n",
    "    JSD(P,Q) = \\frac{1}{2}\\sum_{i \\in P} p_i \\log{\\frac{p_i}{m_i}} + \\frac{1}{2}\\sum_{j \\in Q} q_j \\log{\\frac{q_j}{m_j}}\n",
    "$$\n",
    "\n",
    "Replacing in the formulation $m_i$:\n",
    "\n",
    "$$\n",
    "    JSD(P,Q) = \\frac{1}{2}\\sum_{i \\in P} p_i \\log{\\frac{p_i}{\\frac{1}{2}(p_i+q_i)}} + \\frac{1}{2}\\sum_{j \\in Q} q_j \\log{\\frac{q_j}{\\frac{1}{2}(p_j+q_j)}}\n",
    "$$\n",
    "\n",
    "Splitting the sums in 3 parts: $i \\in P\\setminus P\\cap Q$, $i \\in P\\cap Q$ and $i \\in Q\\setminus P\\cap Q$.\n",
    "\n",
    "$$\n",
    "    JSD(P,Q) = JSD_1(P,Q) + JSD_2(P,Q) + JSD_3(P,Q)\n",
    "$$"
   ]
  },
  {
   "cell_type": "markdown",
   "metadata": {},
   "source": [
    "\\begin{align}\n",
    "    JSD_1(P,Q) &= \\frac{1}{2}\\sum_{i \\in P\\setminus P\\cap Q} p_i \\log{\\frac{p_i}{\\frac{1}{2}(p_i+q_i)}} + \\frac{1}{2}\\sum_{j \\in P\\setminus P\\cap Q} q_j \\log{\\frac{q_j}{\\frac{1}{2}(p_j+q_j)}}\\\\\n",
    "               &= \\frac{1}{2}\\sum_{i \\in P\\setminus P\\cap Q} p_i \\log{\\frac{p_i}{\\frac{1}{2}(p_i+q_i)}}\\\\\n",
    "               &= \\frac{1}{2}\\sum_{i \\in P\\setminus P\\cap Q} p_i \\log{\\frac{p_i}{\\frac{1}{2}p_i}}\\\\\n",
    "               &= \\frac{1}{2}\\sum_{i \\in P\\setminus P\\cap Q} p_i \\log{\\frac{1}{\\frac{1}{2}}}\\\\\n",
    "               &= \\frac{1}{2}\\sum_{i \\in P\\setminus P\\cap Q} p_i \\log{2}\\\\\n",
    "               &= \\frac{1}{2}\\log{2}\\sum_{i \\in P\\setminus P\\cap Q} p_i\\\\\n",
    "\\end{align}"
   ]
  },
  {
   "cell_type": "markdown",
   "metadata": {},
   "source": [
    "\\begin{align}\n",
    "    JSD_2(P,Q) &= \\frac{1}{2}\\sum_{i \\in P\\setminus P\\cap Q} p_i \\log{\\frac{p_i}{\\frac{1}{2}(p_i+q_i)}} + \\frac{1}{2}\\sum_{j \\in P\\setminus P\\cap Q} q_j \\log{\\frac{q_j}{\\frac{1}{2}(p_j+q_j)}}\\\\\n",
    "               &= \\frac{1}{2}\\sum_{i \\in P\\cap Q} p_i \\log{\\frac{p_i}{\\frac{1}{2}(p_i+q_i)}} + q_i \\log{\\frac{q_i}{\\frac{1}{2}(p_i+q_i)}}\\\\\n",
    "               &= \\frac{1}{2}\\sum_{i \\in P\\cap Q} p_i \\log{\\frac{2p_i}{p_i+q_i}} + q_i \\log{\\frac{2q_i}{p_i+q_i}}\\\\\n",
    "\\end{align}"
   ]
  },
  {
   "cell_type": "markdown",
   "metadata": {},
   "source": [
    "\\begin{align}\n",
    "    JSD_3(P,Q) &= \\frac{1}{2}\\log{2}\\sum_{j \\in Q\\setminus P\\cap Q} q_j\\\\\n",
    "\\end{align}"
   ]
  },
  {
   "cell_type": "markdown",
   "metadata": {},
   "source": [
    "Summing $JSD_1$ and $JSD_3$ we can obtain:"
   ]
  },
  {
   "cell_type": "markdown",
   "metadata": {},
   "source": [
    "$JSD_1+JSD_3 = \\frac{1}{2}\\log{2}\\left(\\sum_{i \\in P\\setminus P\\cap Q} p_i + \\sum_{j \\in Q\\setminus P\\cap Q} q_j\\right)$"
   ]
  },
  {
   "cell_type": "markdown",
   "metadata": {},
   "source": [
    "In particular, if $\\sum_{j\\in Q}^m q_j = 1$ and $\\sum_{i\\in P}^n p_i = 1$, we can write:"
   ]
  },
  {
   "cell_type": "markdown",
   "metadata": {},
   "source": [
    "\\begin{align}\n",
    "JSD_1+JSD_3 &= \\frac{1}{2}\\log{2}\\left(2 - \\sum_{i \\in P\\cap Q} p_i - \\sum_{j \\in P\\cap Q} q_j\\right)\\\\\n",
    "            &= \\frac{1}{2}\\log{2}\\left(2 - \\sum_{i \\in P\\cap Q} p_i + q_j\\right)\\\\\n",
    "\\end{align}"
   ]
  },
  {
   "cell_type": "markdown",
   "metadata": {},
   "source": [
    "Putting all togheter we obtain:"
   ]
  },
  {
   "cell_type": "markdown",
   "metadata": {},
   "source": [
    "$JSD(P,Q) =  \\frac{1}{2}\\left[\\sum_{i \\in P\\cap Q} \\left(p_i \\log{\\frac{2p_i}{p_i+q_i}} + q_i \\log{\\frac{2q_i}{p_i+q_i}}\\right) + \\log{2}\\left(2 - \\sum_{i \\in P\\cap Q} p_i + q_j\\right)\\right]$"
   ]
  },
  {
   "cell_type": "markdown",
   "metadata": {},
   "source": [
    "What's marvelous about this semplification is that the computational complexity decrease from a naive literal interpretation of the initial formula of $O(n+m)$ to $O(\\min(n,m))$ simply choosing to iterate over whichever of the two distributions holds less events."
   ]
  },
  {
   "cell_type": "markdown",
   "metadata": {},
   "source": [
    "The process is nearly identical for all other metrics shown below:"
   ]
  },
  {
   "cell_type": "markdown",
   "metadata": {},
   "source": [
    "## Hellinger"
   ]
  },
  {
   "cell_type": "markdown",
   "metadata": {},
   "source": [
    "Given two distributions $P, Q \\subseteq X$, the **Hellinger distance** is defined as follows:\n",
    "\n",
    "\\begin{align}\n",
    "    H(P,Q) = \\frac{1}{\\sqrt{2}}\\sqrt{\\sum_{i \\in X} \\left(\\sqrt{p_i} - \\sqrt{q_i} \\right)^2}\n",
    "\\end{align}\n",
    "\n",
    "### Achieving the current implementation\n",
    "Given $\\sum_{i\\in P}^n p_i = 1$ and $\\sum_{i\\in Q}^m q_i = 1$, we can proceed by separating the sum inside the squared root into three partitions of $X$: $i \\in P\\setminus P\\cap Q$, $i \\in P\\cap Q$ and $i \\in Q\\setminus P\\cap Q$.\n",
    "\n",
    "\\begin{align}\n",
    "    H(P,Q) = \\frac{1}{\\sqrt{2}}\\sqrt{H_1(P,Q) + H_2(P,Q) + H_3(P,Q)}\n",
    "\\end{align}\n",
    "\n",
    "Recalling the definitions of $p_i, q_i$:\n",
    "\n",
    "$$p_i = \\begin{cases}\n",
    "        p_i & i \\in P\\\\\n",
    "        0 & otherwise\n",
    "    \\end{cases}, \\quad q_i = \\begin{cases}\n",
    "        q_i & i \\in Q\\\\\n",
    "        0 & otherwise\n",
    "    \\end{cases}$$"
   ]
  },
  {
   "cell_type": "markdown",
   "metadata": {},
   "source": [
    "We begin from $H_1(P,Q)$, for $i \\in P\\setminus P\\cap Q$:\n",
    "\\begin{align}\n",
    "    H_1(P,Q) &= \\sum_{i \\in P\\setminus P\\cap Q} \\left(\\sqrt{p_i} - \\sqrt{q_i} \\right)^2\\\\\n",
    "             &= \\sum_{i \\in P\\setminus P\\cap Q} \\left(\\sqrt{p_i} \\right)^2\\\\\n",
    "             &= \\sum_{i \\in P\\setminus P\\cap Q} p_i\\\\\n",
    "             &= 1 - \\sum_{i \\in P\\cap Q} p_i\n",
    "\\end{align}"
   ]
  },
  {
   "cell_type": "markdown",
   "metadata": {},
   "source": [
    "We solve $H_2(P,Q)$, for $i \\in P\\cap Q$:\n",
    "$$\n",
    "\\sum_{i \\in P\\cap Q} \\left(\\sqrt{p_i} - \\sqrt{q_i} \\right)^2\n",
    "$$"
   ]
  },
  {
   "cell_type": "markdown",
   "metadata": {},
   "source": [
    "Now we solve $H_3(P,Q)$, for $i \\in Q\\setminus P\\cap Q$:\n",
    "\n",
    "\\begin{align}\n",
    "    H_3(P,Q) &= \\sum_{i \\in Q\\setminus P\\cap Q} q_i\\\\\n",
    "             &= 1 - \\sum_{i \\in P\\cap Q} q_i\n",
    "\\end{align}"
   ]
  },
  {
   "cell_type": "markdown",
   "metadata": {},
   "source": [
    "Now, putting it all togheter we have:\n",
    "\n",
    "\\begin{align}\n",
    "    H_1(P,Q) + H_2(P,Q) + H_3(P,Q) &=  2 + \\sum_{i \\in P\\cap Q} \\left[\\left(\\sqrt{p_i} - \\sqrt{q_i} \\right)^2 -p_i - q_i \\right]\\\\\n",
    "        &= 2 + \\sum_{i \\in P\\cap Q} -2\\sqrt{p_i q_i}\\\\\n",
    "        &= 2 \\left(1 - \\sum_{i \\in P \\cap Q} \\sqrt{p_i q_i} \\right)\n",
    "\\end{align}"
   ]
  },
  {
   "cell_type": "markdown",
   "metadata": {},
   "source": [
    "So the Hellinger distance is redefined as:\n",
    "\n",
    "\\begin{align}\n",
    "    H(P,Q) &= \\frac{1}{\\sqrt{2}}\\sqrt{2 \\left(1 - \\sum_{i \\in P \\cap Q} \\sqrt{p_i q_i} \\right)}\\\\\n",
    "           &= \\sqrt{1 - \\sum_{i \\in P \\cap Q} \\sqrt{p_i q_i}}\n",
    "\\end{align}"
   ]
  },
  {
   "cell_type": "code",
   "execution_count": 18,
   "metadata": {},
   "outputs": [
    {
     "data": {
      "text/html": [
       "<style type=\"text/css\">.highlight .hll { background-color: #ffffcc }\n",
       ".highlight  { background: #f8f8f8; }\n",
       ".highlight .c { color: #408080; font-style: italic } /* Comment */\n",
       ".highlight .err { border: 1px solid #FF0000 } /* Error */\n",
       ".highlight .k { color: #008000; font-weight: bold } /* Keyword */\n",
       ".highlight .o { color: #666666 } /* Operator */\n",
       ".highlight .ch { color: #408080; font-style: italic } /* Comment.Hashbang */\n",
       ".highlight .cm { color: #408080; font-style: italic } /* Comment.Multiline */\n",
       ".highlight .cp { color: #BC7A00 } /* Comment.Preproc */\n",
       ".highlight .cpf { color: #408080; font-style: italic } /* Comment.PreprocFile */\n",
       ".highlight .c1 { color: #408080; font-style: italic } /* Comment.Single */\n",
       ".highlight .cs { color: #408080; font-style: italic } /* Comment.Special */\n",
       ".highlight .gd { color: #A00000 } /* Generic.Deleted */\n",
       ".highlight .ge { font-style: italic } /* Generic.Emph */\n",
       ".highlight .gr { color: #FF0000 } /* Generic.Error */\n",
       ".highlight .gh { color: #000080; font-weight: bold } /* Generic.Heading */\n",
       ".highlight .gi { color: #00A000 } /* Generic.Inserted */\n",
       ".highlight .go { color: #888888 } /* Generic.Output */\n",
       ".highlight .gp { color: #000080; font-weight: bold } /* Generic.Prompt */\n",
       ".highlight .gs { font-weight: bold } /* Generic.Strong */\n",
       ".highlight .gu { color: #800080; font-weight: bold } /* Generic.Subheading */\n",
       ".highlight .gt { color: #0044DD } /* Generic.Traceback */\n",
       ".highlight .kc { color: #008000; font-weight: bold } /* Keyword.Constant */\n",
       ".highlight .kd { color: #008000; font-weight: bold } /* Keyword.Declaration */\n",
       ".highlight .kn { color: #008000; font-weight: bold } /* Keyword.Namespace */\n",
       ".highlight .kp { color: #008000 } /* Keyword.Pseudo */\n",
       ".highlight .kr { color: #008000; font-weight: bold } /* Keyword.Reserved */\n",
       ".highlight .kt { color: #B00040 } /* Keyword.Type */\n",
       ".highlight .m { color: #666666 } /* Literal.Number */\n",
       ".highlight .s { color: #BA2121 } /* Literal.String */\n",
       ".highlight .na { color: #7D9029 } /* Name.Attribute */\n",
       ".highlight .nb { color: #008000 } /* Name.Builtin */\n",
       ".highlight .nc { color: #0000FF; font-weight: bold } /* Name.Class */\n",
       ".highlight .no { color: #880000 } /* Name.Constant */\n",
       ".highlight .nd { color: #AA22FF } /* Name.Decorator */\n",
       ".highlight .ni { color: #999999; font-weight: bold } /* Name.Entity */\n",
       ".highlight .ne { color: #D2413A; font-weight: bold } /* Name.Exception */\n",
       ".highlight .nf { color: #0000FF } /* Name.Function */\n",
       ".highlight .nl { color: #A0A000 } /* Name.Label */\n",
       ".highlight .nn { color: #0000FF; font-weight: bold } /* Name.Namespace */\n",
       ".highlight .nt { color: #008000; font-weight: bold } /* Name.Tag */\n",
       ".highlight .nv { color: #19177C } /* Name.Variable */\n",
       ".highlight .ow { color: #AA22FF; font-weight: bold } /* Operator.Word */\n",
       ".highlight .w { color: #bbbbbb } /* Text.Whitespace */\n",
       ".highlight .mb { color: #666666 } /* Literal.Number.Bin */\n",
       ".highlight .mf { color: #666666 } /* Literal.Number.Float */\n",
       ".highlight .mh { color: #666666 } /* Literal.Number.Hex */\n",
       ".highlight .mi { color: #666666 } /* Literal.Number.Integer */\n",
       ".highlight .mo { color: #666666 } /* Literal.Number.Oct */\n",
       ".highlight .sa { color: #BA2121 } /* Literal.String.Affix */\n",
       ".highlight .sb { color: #BA2121 } /* Literal.String.Backtick */\n",
       ".highlight .sc { color: #BA2121 } /* Literal.String.Char */\n",
       ".highlight .dl { color: #BA2121 } /* Literal.String.Delimiter */\n",
       ".highlight .sd { color: #BA2121; font-style: italic } /* Literal.String.Doc */\n",
       ".highlight .s2 { color: #BA2121 } /* Literal.String.Double */\n",
       ".highlight .se { color: #BB6622; font-weight: bold } /* Literal.String.Escape */\n",
       ".highlight .sh { color: #BA2121 } /* Literal.String.Heredoc */\n",
       ".highlight .si { color: #BB6688; font-weight: bold } /* Literal.String.Interpol */\n",
       ".highlight .sx { color: #008000 } /* Literal.String.Other */\n",
       ".highlight .sr { color: #BB6688 } /* Literal.String.Regex */\n",
       ".highlight .s1 { color: #BA2121 } /* Literal.String.Single */\n",
       ".highlight .ss { color: #19177C } /* Literal.String.Symbol */\n",
       ".highlight .bp { color: #008000 } /* Name.Builtin.Pseudo */\n",
       ".highlight .fm { color: #0000FF } /* Name.Function.Magic */\n",
       ".highlight .vc { color: #19177C } /* Name.Variable.Class */\n",
       ".highlight .vg { color: #19177C } /* Name.Variable.Global */\n",
       ".highlight .vi { color: #19177C } /* Name.Variable.Instance */\n",
       ".highlight .vm { color: #19177C } /* Name.Variable.Magic */\n",
       ".highlight .il { color: #666666 } /* Literal.Number.Integer.Long */</style><div class=\"highlight\"><pre><span></span><span class=\"k\">def</span> <span class=\"nf\">jensen_shannon</span><span class=\"p\">(</span><span class=\"n\">a</span><span class=\"p\">:</span> <span class=\"nb\">dict</span><span class=\"p\">,</span> <span class=\"n\">b</span><span class=\"p\">:</span> <span class=\"nb\">dict</span><span class=\"p\">)</span><span class=\"o\">-&gt;</span><span class=\"nb\">float</span><span class=\"p\">:</span>\n",
       "    <span class=\"sd\">&quot;&quot;&quot;Return the jensen shannon divergence beetween a and b.&quot;&quot;&quot;</span>\n",
       "    <span class=\"n\">total</span> <span class=\"o\">=</span> <span class=\"mi\">0</span>\n",
       "    <span class=\"n\">delta</span> <span class=\"o\">=</span> <span class=\"mi\">0</span>\n",
       "    <span class=\"n\">big</span><span class=\"p\">,</span> <span class=\"n\">small</span> <span class=\"o\">=</span> <span class=\"n\">sort</span><span class=\"p\">(</span><span class=\"n\">a</span><span class=\"p\">,</span> <span class=\"n\">b</span><span class=\"p\">)</span>\n",
       "\n",
       "    <span class=\"n\">big_get</span> <span class=\"o\">=</span> <span class=\"n\">big</span><span class=\"o\">.</span><span class=\"fm\">__getitem__</span>\n",
       "\n",
       "    <span class=\"k\">for</span> <span class=\"n\">key</span><span class=\"p\">,</span> <span class=\"n\">small_value</span> <span class=\"ow\">in</span> <span class=\"n\">small</span><span class=\"o\">.</span><span class=\"n\">items</span><span class=\"p\">():</span>\n",
       "        <span class=\"k\">try</span><span class=\"p\">:</span>\n",
       "            <span class=\"n\">big_value</span> <span class=\"o\">=</span> <span class=\"n\">big_get</span><span class=\"p\">(</span><span class=\"n\">key</span><span class=\"p\">)</span>\n",
       "            <span class=\"k\">if</span> <span class=\"n\">big_value</span><span class=\"p\">:</span>\n",
       "                <span class=\"n\">denominator</span> <span class=\"o\">=</span> <span class=\"p\">(</span><span class=\"n\">big_value</span> <span class=\"o\">+</span> <span class=\"n\">small_value</span><span class=\"p\">)</span> <span class=\"o\">/</span> <span class=\"mi\">2</span>\n",
       "                <span class=\"n\">total</span> <span class=\"o\">+=</span> <span class=\"n\">small_value</span> <span class=\"o\">*</span> <span class=\"n\">log</span><span class=\"p\">(</span><span class=\"n\">small_value</span> <span class=\"o\">/</span> <span class=\"n\">denominator</span><span class=\"p\">)</span> <span class=\"o\">+</span> \\\n",
       "                    <span class=\"n\">big_value</span> <span class=\"o\">*</span> <span class=\"n\">log</span><span class=\"p\">(</span><span class=\"n\">big_value</span> <span class=\"o\">/</span> <span class=\"n\">denominator</span><span class=\"p\">)</span>\n",
       "                <span class=\"n\">delta</span> <span class=\"o\">+=</span> <span class=\"n\">big_value</span> <span class=\"o\">+</span> <span class=\"n\">small_value</span>\n",
       "        <span class=\"k\">except</span> <span class=\"ne\">KeyError</span><span class=\"p\">:</span>\n",
       "            <span class=\"k\">pass</span>\n",
       "\n",
       "    <span class=\"n\">total</span> <span class=\"o\">+=</span> <span class=\"p\">(</span><span class=\"mi\">2</span> <span class=\"o\">-</span> <span class=\"n\">delta</span><span class=\"p\">)</span> <span class=\"o\">*</span> <span class=\"n\">log</span><span class=\"p\">(</span><span class=\"mi\">2</span><span class=\"p\">)</span>\n",
       "    <span class=\"k\">return</span> <span class=\"n\">total</span> <span class=\"o\">/</span> <span class=\"mi\">2</span>\n",
       "</pre></div>\n"
      ],
      "text/plain": [
       "<IPython.core.display.HTML object>"
      ]
     },
     "metadata": {},
     "output_type": "display_data"
    },
    {
     "data": {
      "text/html": [
       "<style type=\"text/css\">.highlight .hll { background-color: #ffffcc }\n",
       ".highlight  { background: #f8f8f8; }\n",
       ".highlight .c { color: #408080; font-style: italic } /* Comment */\n",
       ".highlight .err { border: 1px solid #FF0000 } /* Error */\n",
       ".highlight .k { color: #008000; font-weight: bold } /* Keyword */\n",
       ".highlight .o { color: #666666 } /* Operator */\n",
       ".highlight .ch { color: #408080; font-style: italic } /* Comment.Hashbang */\n",
       ".highlight .cm { color: #408080; font-style: italic } /* Comment.Multiline */\n",
       ".highlight .cp { color: #BC7A00 } /* Comment.Preproc */\n",
       ".highlight .cpf { color: #408080; font-style: italic } /* Comment.PreprocFile */\n",
       ".highlight .c1 { color: #408080; font-style: italic } /* Comment.Single */\n",
       ".highlight .cs { color: #408080; font-style: italic } /* Comment.Special */\n",
       ".highlight .gd { color: #A00000 } /* Generic.Deleted */\n",
       ".highlight .ge { font-style: italic } /* Generic.Emph */\n",
       ".highlight .gr { color: #FF0000 } /* Generic.Error */\n",
       ".highlight .gh { color: #000080; font-weight: bold } /* Generic.Heading */\n",
       ".highlight .gi { color: #00A000 } /* Generic.Inserted */\n",
       ".highlight .go { color: #888888 } /* Generic.Output */\n",
       ".highlight .gp { color: #000080; font-weight: bold } /* Generic.Prompt */\n",
       ".highlight .gs { font-weight: bold } /* Generic.Strong */\n",
       ".highlight .gu { color: #800080; font-weight: bold } /* Generic.Subheading */\n",
       ".highlight .gt { color: #0044DD } /* Generic.Traceback */\n",
       ".highlight .kc { color: #008000; font-weight: bold } /* Keyword.Constant */\n",
       ".highlight .kd { color: #008000; font-weight: bold } /* Keyword.Declaration */\n",
       ".highlight .kn { color: #008000; font-weight: bold } /* Keyword.Namespace */\n",
       ".highlight .kp { color: #008000 } /* Keyword.Pseudo */\n",
       ".highlight .kr { color: #008000; font-weight: bold } /* Keyword.Reserved */\n",
       ".highlight .kt { color: #B00040 } /* Keyword.Type */\n",
       ".highlight .m { color: #666666 } /* Literal.Number */\n",
       ".highlight .s { color: #BA2121 } /* Literal.String */\n",
       ".highlight .na { color: #7D9029 } /* Name.Attribute */\n",
       ".highlight .nb { color: #008000 } /* Name.Builtin */\n",
       ".highlight .nc { color: #0000FF; font-weight: bold } /* Name.Class */\n",
       ".highlight .no { color: #880000 } /* Name.Constant */\n",
       ".highlight .nd { color: #AA22FF } /* Name.Decorator */\n",
       ".highlight .ni { color: #999999; font-weight: bold } /* Name.Entity */\n",
       ".highlight .ne { color: #D2413A; font-weight: bold } /* Name.Exception */\n",
       ".highlight .nf { color: #0000FF } /* Name.Function */\n",
       ".highlight .nl { color: #A0A000 } /* Name.Label */\n",
       ".highlight .nn { color: #0000FF; font-weight: bold } /* Name.Namespace */\n",
       ".highlight .nt { color: #008000; font-weight: bold } /* Name.Tag */\n",
       ".highlight .nv { color: #19177C } /* Name.Variable */\n",
       ".highlight .ow { color: #AA22FF; font-weight: bold } /* Operator.Word */\n",
       ".highlight .w { color: #bbbbbb } /* Text.Whitespace */\n",
       ".highlight .mb { color: #666666 } /* Literal.Number.Bin */\n",
       ".highlight .mf { color: #666666 } /* Literal.Number.Float */\n",
       ".highlight .mh { color: #666666 } /* Literal.Number.Hex */\n",
       ".highlight .mi { color: #666666 } /* Literal.Number.Integer */\n",
       ".highlight .mo { color: #666666 } /* Literal.Number.Oct */\n",
       ".highlight .sa { color: #BA2121 } /* Literal.String.Affix */\n",
       ".highlight .sb { color: #BA2121 } /* Literal.String.Backtick */\n",
       ".highlight .sc { color: #BA2121 } /* Literal.String.Char */\n",
       ".highlight .dl { color: #BA2121 } /* Literal.String.Delimiter */\n",
       ".highlight .sd { color: #BA2121; font-style: italic } /* Literal.String.Doc */\n",
       ".highlight .s2 { color: #BA2121 } /* Literal.String.Double */\n",
       ".highlight .se { color: #BB6622; font-weight: bold } /* Literal.String.Escape */\n",
       ".highlight .sh { color: #BA2121 } /* Literal.String.Heredoc */\n",
       ".highlight .si { color: #BB6688; font-weight: bold } /* Literal.String.Interpol */\n",
       ".highlight .sx { color: #008000 } /* Literal.String.Other */\n",
       ".highlight .sr { color: #BB6688 } /* Literal.String.Regex */\n",
       ".highlight .s1 { color: #BA2121 } /* Literal.String.Single */\n",
       ".highlight .ss { color: #19177C } /* Literal.String.Symbol */\n",
       ".highlight .bp { color: #008000 } /* Name.Builtin.Pseudo */\n",
       ".highlight .fm { color: #0000FF } /* Name.Function.Magic */\n",
       ".highlight .vc { color: #19177C } /* Name.Variable.Class */\n",
       ".highlight .vg { color: #19177C } /* Name.Variable.Global */\n",
       ".highlight .vi { color: #19177C } /* Name.Variable.Instance */\n",
       ".highlight .vm { color: #19177C } /* Name.Variable.Magic */\n",
       ".highlight .il { color: #666666 } /* Literal.Number.Integer.Long */</style><div class=\"highlight\"><pre><span></span><span class=\"k\">def</span> <span class=\"nf\">normal_total_variation</span><span class=\"p\">(</span><span class=\"n\">a</span><span class=\"p\">:</span> <span class=\"nb\">dict</span><span class=\"p\">,</span> <span class=\"n\">b</span><span class=\"p\">:</span> <span class=\"nb\">dict</span><span class=\"p\">)</span> <span class=\"o\">-&gt;</span> <span class=\"nb\">float</span><span class=\"p\">:</span>\n",
       "    <span class=\"sd\">&quot;&quot;&quot;Determine the Normalized Total Variation distance.&quot;&quot;&quot;</span>\n",
       "    <span class=\"n\">big</span><span class=\"p\">,</span> <span class=\"n\">small</span> <span class=\"o\">=</span> <span class=\"n\">sort</span><span class=\"p\">(</span><span class=\"n\">a</span><span class=\"p\">,</span> <span class=\"n\">b</span><span class=\"p\">)</span>\n",
       "    <span class=\"n\">big_get</span> <span class=\"o\">=</span> <span class=\"n\">big</span><span class=\"o\">.</span><span class=\"fm\">__getitem__</span>\n",
       "    <span class=\"n\">total</span> <span class=\"o\">=</span> <span class=\"mi\">2</span>\n",
       "    <span class=\"k\">for</span> <span class=\"n\">k</span><span class=\"p\">,</span> <span class=\"n\">small_value</span> <span class=\"ow\">in</span> <span class=\"n\">small</span><span class=\"o\">.</span><span class=\"n\">items</span><span class=\"p\">():</span>\n",
       "        <span class=\"k\">try</span><span class=\"p\">:</span>\n",
       "            <span class=\"n\">big_value</span> <span class=\"o\">=</span> <span class=\"n\">big_get</span><span class=\"p\">(</span><span class=\"n\">k</span><span class=\"p\">)</span>\n",
       "            <span class=\"k\">if</span> <span class=\"n\">big_value</span><span class=\"p\">:</span>\n",
       "                <span class=\"n\">total</span> <span class=\"o\">+=</span> <span class=\"nb\">abs</span><span class=\"p\">(</span><span class=\"n\">big_value</span> <span class=\"o\">-</span> <span class=\"n\">small_value</span><span class=\"p\">)</span> <span class=\"o\">-</span> <span class=\"n\">big_value</span> <span class=\"o\">-</span> <span class=\"n\">small_value</span>\n",
       "        <span class=\"k\">except</span> <span class=\"ne\">KeyError</span><span class=\"p\">:</span>\n",
       "            <span class=\"k\">pass</span>\n",
       "    <span class=\"k\">return</span> <span class=\"n\">total</span> <span class=\"o\">/</span> <span class=\"mi\">2</span>\n",
       "</pre></div>\n"
      ],
      "text/plain": [
       "<IPython.core.display.HTML object>"
      ]
     },
     "metadata": {},
     "output_type": "display_data"
    },
    {
     "data": {
      "text/html": [
       "<style type=\"text/css\">.highlight .hll { background-color: #ffffcc }\n",
       ".highlight  { background: #f8f8f8; }\n",
       ".highlight .c { color: #408080; font-style: italic } /* Comment */\n",
       ".highlight .err { border: 1px solid #FF0000 } /* Error */\n",
       ".highlight .k { color: #008000; font-weight: bold } /* Keyword */\n",
       ".highlight .o { color: #666666 } /* Operator */\n",
       ".highlight .ch { color: #408080; font-style: italic } /* Comment.Hashbang */\n",
       ".highlight .cm { color: #408080; font-style: italic } /* Comment.Multiline */\n",
       ".highlight .cp { color: #BC7A00 } /* Comment.Preproc */\n",
       ".highlight .cpf { color: #408080; font-style: italic } /* Comment.PreprocFile */\n",
       ".highlight .c1 { color: #408080; font-style: italic } /* Comment.Single */\n",
       ".highlight .cs { color: #408080; font-style: italic } /* Comment.Special */\n",
       ".highlight .gd { color: #A00000 } /* Generic.Deleted */\n",
       ".highlight .ge { font-style: italic } /* Generic.Emph */\n",
       ".highlight .gr { color: #FF0000 } /* Generic.Error */\n",
       ".highlight .gh { color: #000080; font-weight: bold } /* Generic.Heading */\n",
       ".highlight .gi { color: #00A000 } /* Generic.Inserted */\n",
       ".highlight .go { color: #888888 } /* Generic.Output */\n",
       ".highlight .gp { color: #000080; font-weight: bold } /* Generic.Prompt */\n",
       ".highlight .gs { font-weight: bold } /* Generic.Strong */\n",
       ".highlight .gu { color: #800080; font-weight: bold } /* Generic.Subheading */\n",
       ".highlight .gt { color: #0044DD } /* Generic.Traceback */\n",
       ".highlight .kc { color: #008000; font-weight: bold } /* Keyword.Constant */\n",
       ".highlight .kd { color: #008000; font-weight: bold } /* Keyword.Declaration */\n",
       ".highlight .kn { color: #008000; font-weight: bold } /* Keyword.Namespace */\n",
       ".highlight .kp { color: #008000 } /* Keyword.Pseudo */\n",
       ".highlight .kr { color: #008000; font-weight: bold } /* Keyword.Reserved */\n",
       ".highlight .kt { color: #B00040 } /* Keyword.Type */\n",
       ".highlight .m { color: #666666 } /* Literal.Number */\n",
       ".highlight .s { color: #BA2121 } /* Literal.String */\n",
       ".highlight .na { color: #7D9029 } /* Name.Attribute */\n",
       ".highlight .nb { color: #008000 } /* Name.Builtin */\n",
       ".highlight .nc { color: #0000FF; font-weight: bold } /* Name.Class */\n",
       ".highlight .no { color: #880000 } /* Name.Constant */\n",
       ".highlight .nd { color: #AA22FF } /* Name.Decorator */\n",
       ".highlight .ni { color: #999999; font-weight: bold } /* Name.Entity */\n",
       ".highlight .ne { color: #D2413A; font-weight: bold } /* Name.Exception */\n",
       ".highlight .nf { color: #0000FF } /* Name.Function */\n",
       ".highlight .nl { color: #A0A000 } /* Name.Label */\n",
       ".highlight .nn { color: #0000FF; font-weight: bold } /* Name.Namespace */\n",
       ".highlight .nt { color: #008000; font-weight: bold } /* Name.Tag */\n",
       ".highlight .nv { color: #19177C } /* Name.Variable */\n",
       ".highlight .ow { color: #AA22FF; font-weight: bold } /* Operator.Word */\n",
       ".highlight .w { color: #bbbbbb } /* Text.Whitespace */\n",
       ".highlight .mb { color: #666666 } /* Literal.Number.Bin */\n",
       ".highlight .mf { color: #666666 } /* Literal.Number.Float */\n",
       ".highlight .mh { color: #666666 } /* Literal.Number.Hex */\n",
       ".highlight .mi { color: #666666 } /* Literal.Number.Integer */\n",
       ".highlight .mo { color: #666666 } /* Literal.Number.Oct */\n",
       ".highlight .sa { color: #BA2121 } /* Literal.String.Affix */\n",
       ".highlight .sb { color: #BA2121 } /* Literal.String.Backtick */\n",
       ".highlight .sc { color: #BA2121 } /* Literal.String.Char */\n",
       ".highlight .dl { color: #BA2121 } /* Literal.String.Delimiter */\n",
       ".highlight .sd { color: #BA2121; font-style: italic } /* Literal.String.Doc */\n",
       ".highlight .s2 { color: #BA2121 } /* Literal.String.Double */\n",
       ".highlight .se { color: #BB6622; font-weight: bold } /* Literal.String.Escape */\n",
       ".highlight .sh { color: #BA2121 } /* Literal.String.Heredoc */\n",
       ".highlight .si { color: #BB6688; font-weight: bold } /* Literal.String.Interpol */\n",
       ".highlight .sx { color: #008000 } /* Literal.String.Other */\n",
       ".highlight .sr { color: #BB6688 } /* Literal.String.Regex */\n",
       ".highlight .s1 { color: #BA2121 } /* Literal.String.Single */\n",
       ".highlight .ss { color: #19177C } /* Literal.String.Symbol */\n",
       ".highlight .bp { color: #008000 } /* Name.Builtin.Pseudo */\n",
       ".highlight .fm { color: #0000FF } /* Name.Function.Magic */\n",
       ".highlight .vc { color: #19177C } /* Name.Variable.Class */\n",
       ".highlight .vg { color: #19177C } /* Name.Variable.Global */\n",
       ".highlight .vi { color: #19177C } /* Name.Variable.Instance */\n",
       ".highlight .vm { color: #19177C } /* Name.Variable.Magic */\n",
       ".highlight .il { color: #666666 } /* Literal.Number.Integer.Long */</style><div class=\"highlight\"><pre><span></span><span class=\"k\">def</span> <span class=\"nf\">intersection_total_variation</span><span class=\"p\">(</span><span class=\"n\">a</span><span class=\"p\">:</span> <span class=\"nb\">dict</span><span class=\"p\">,</span> <span class=\"n\">b</span><span class=\"p\">:</span> <span class=\"nb\">dict</span><span class=\"p\">,</span> <span class=\"n\">overlap</span><span class=\"p\">:</span> <span class=\"nb\">bool</span><span class=\"o\">=</span><span class=\"bp\">False</span><span class=\"p\">)</span><span class=\"o\">-&gt;</span><span class=\"nb\">float</span><span class=\"p\">:</span>\n",
       "    <span class=\"sd\">&quot;&quot;&quot;Return the total distance beetween the intersection of a and b.&quot;&quot;&quot;</span>\n",
       "    <span class=\"k\">return</span> <span class=\"n\">intersection_nth_variation</span><span class=\"p\">(</span><span class=\"n\">a</span><span class=\"p\">,</span> <span class=\"n\">b</span><span class=\"p\">,</span> <span class=\"mi\">1</span><span class=\"p\">,</span> <span class=\"n\">overlap</span><span class=\"p\">)</span>\n",
       "</pre></div>\n"
      ],
      "text/plain": [
       "<IPython.core.display.HTML object>"
      ]
     },
     "metadata": {},
     "output_type": "display_data"
    },
    {
     "data": {
      "text/html": [
       "<style type=\"text/css\">.highlight .hll { background-color: #ffffcc }\n",
       ".highlight  { background: #f8f8f8; }\n",
       ".highlight .c { color: #408080; font-style: italic } /* Comment */\n",
       ".highlight .err { border: 1px solid #FF0000 } /* Error */\n",
       ".highlight .k { color: #008000; font-weight: bold } /* Keyword */\n",
       ".highlight .o { color: #666666 } /* Operator */\n",
       ".highlight .ch { color: #408080; font-style: italic } /* Comment.Hashbang */\n",
       ".highlight .cm { color: #408080; font-style: italic } /* Comment.Multiline */\n",
       ".highlight .cp { color: #BC7A00 } /* Comment.Preproc */\n",
       ".highlight .cpf { color: #408080; font-style: italic } /* Comment.PreprocFile */\n",
       ".highlight .c1 { color: #408080; font-style: italic } /* Comment.Single */\n",
       ".highlight .cs { color: #408080; font-style: italic } /* Comment.Special */\n",
       ".highlight .gd { color: #A00000 } /* Generic.Deleted */\n",
       ".highlight .ge { font-style: italic } /* Generic.Emph */\n",
       ".highlight .gr { color: #FF0000 } /* Generic.Error */\n",
       ".highlight .gh { color: #000080; font-weight: bold } /* Generic.Heading */\n",
       ".highlight .gi { color: #00A000 } /* Generic.Inserted */\n",
       ".highlight .go { color: #888888 } /* Generic.Output */\n",
       ".highlight .gp { color: #000080; font-weight: bold } /* Generic.Prompt */\n",
       ".highlight .gs { font-weight: bold } /* Generic.Strong */\n",
       ".highlight .gu { color: #800080; font-weight: bold } /* Generic.Subheading */\n",
       ".highlight .gt { color: #0044DD } /* Generic.Traceback */\n",
       ".highlight .kc { color: #008000; font-weight: bold } /* Keyword.Constant */\n",
       ".highlight .kd { color: #008000; font-weight: bold } /* Keyword.Declaration */\n",
       ".highlight .kn { color: #008000; font-weight: bold } /* Keyword.Namespace */\n",
       ".highlight .kp { color: #008000 } /* Keyword.Pseudo */\n",
       ".highlight .kr { color: #008000; font-weight: bold } /* Keyword.Reserved */\n",
       ".highlight .kt { color: #B00040 } /* Keyword.Type */\n",
       ".highlight .m { color: #666666 } /* Literal.Number */\n",
       ".highlight .s { color: #BA2121 } /* Literal.String */\n",
       ".highlight .na { color: #7D9029 } /* Name.Attribute */\n",
       ".highlight .nb { color: #008000 } /* Name.Builtin */\n",
       ".highlight .nc { color: #0000FF; font-weight: bold } /* Name.Class */\n",
       ".highlight .no { color: #880000 } /* Name.Constant */\n",
       ".highlight .nd { color: #AA22FF } /* Name.Decorator */\n",
       ".highlight .ni { color: #999999; font-weight: bold } /* Name.Entity */\n",
       ".highlight .ne { color: #D2413A; font-weight: bold } /* Name.Exception */\n",
       ".highlight .nf { color: #0000FF } /* Name.Function */\n",
       ".highlight .nl { color: #A0A000 } /* Name.Label */\n",
       ".highlight .nn { color: #0000FF; font-weight: bold } /* Name.Namespace */\n",
       ".highlight .nt { color: #008000; font-weight: bold } /* Name.Tag */\n",
       ".highlight .nv { color: #19177C } /* Name.Variable */\n",
       ".highlight .ow { color: #AA22FF; font-weight: bold } /* Operator.Word */\n",
       ".highlight .w { color: #bbbbbb } /* Text.Whitespace */\n",
       ".highlight .mb { color: #666666 } /* Literal.Number.Bin */\n",
       ".highlight .mf { color: #666666 } /* Literal.Number.Float */\n",
       ".highlight .mh { color: #666666 } /* Literal.Number.Hex */\n",
       ".highlight .mi { color: #666666 } /* Literal.Number.Integer */\n",
       ".highlight .mo { color: #666666 } /* Literal.Number.Oct */\n",
       ".highlight .sa { color: #BA2121 } /* Literal.String.Affix */\n",
       ".highlight .sb { color: #BA2121 } /* Literal.String.Backtick */\n",
       ".highlight .sc { color: #BA2121 } /* Literal.String.Char */\n",
       ".highlight .dl { color: #BA2121 } /* Literal.String.Delimiter */\n",
       ".highlight .sd { color: #BA2121; font-style: italic } /* Literal.String.Doc */\n",
       ".highlight .s2 { color: #BA2121 } /* Literal.String.Double */\n",
       ".highlight .se { color: #BB6622; font-weight: bold } /* Literal.String.Escape */\n",
       ".highlight .sh { color: #BA2121 } /* Literal.String.Heredoc */\n",
       ".highlight .si { color: #BB6688; font-weight: bold } /* Literal.String.Interpol */\n",
       ".highlight .sx { color: #008000 } /* Literal.String.Other */\n",
       ".highlight .sr { color: #BB6688 } /* Literal.String.Regex */\n",
       ".highlight .s1 { color: #BA2121 } /* Literal.String.Single */\n",
       ".highlight .ss { color: #19177C } /* Literal.String.Symbol */\n",
       ".highlight .bp { color: #008000 } /* Name.Builtin.Pseudo */\n",
       ".highlight .fm { color: #0000FF } /* Name.Function.Magic */\n",
       ".highlight .vc { color: #19177C } /* Name.Variable.Class */\n",
       ".highlight .vg { color: #19177C } /* Name.Variable.Global */\n",
       ".highlight .vi { color: #19177C } /* Name.Variable.Instance */\n",
       ".highlight .vm { color: #19177C } /* Name.Variable.Magic */\n",
       ".highlight .il { color: #666666 } /* Literal.Number.Integer.Long */</style><div class=\"highlight\"><pre><span></span><span class=\"k\">def</span> <span class=\"nf\">kullback_leibler</span><span class=\"p\">(</span><span class=\"n\">a</span><span class=\"p\">:</span> <span class=\"nb\">dict</span><span class=\"p\">,</span> <span class=\"n\">b</span><span class=\"p\">:</span> <span class=\"nb\">dict</span><span class=\"p\">)</span> <span class=\"o\">-&gt;</span> <span class=\"nb\">float</span><span class=\"p\">:</span>\n",
       "    <span class=\"sd\">&quot;&quot;&quot;Determine the Kullback Leibler divergence.&quot;&quot;&quot;</span>\n",
       "    <span class=\"n\">total</span> <span class=\"o\">=</span> <span class=\"mi\">0</span>\n",
       "    <span class=\"n\">big</span><span class=\"p\">,</span> <span class=\"n\">small</span> <span class=\"o\">=</span> <span class=\"n\">sort</span><span class=\"p\">(</span><span class=\"n\">a</span><span class=\"p\">,</span> <span class=\"n\">b</span><span class=\"p\">)</span>\n",
       "    <span class=\"n\">big_get</span> <span class=\"o\">=</span> <span class=\"n\">big</span><span class=\"o\">.</span><span class=\"fm\">__getitem__</span>\n",
       "    <span class=\"k\">for</span> <span class=\"n\">key</span><span class=\"p\">,</span> <span class=\"n\">small_value</span> <span class=\"ow\">in</span> <span class=\"n\">a</span><span class=\"o\">.</span><span class=\"n\">items</span><span class=\"p\">():</span>\n",
       "        <span class=\"k\">try</span><span class=\"p\">:</span>\n",
       "            <span class=\"n\">big_value</span> <span class=\"o\">=</span> <span class=\"n\">big_get</span><span class=\"p\">(</span><span class=\"n\">key</span><span class=\"p\">)</span>\n",
       "            <span class=\"k\">if</span> <span class=\"n\">big_value</span><span class=\"p\">:</span>\n",
       "                <span class=\"n\">total</span> <span class=\"o\">+=</span> <span class=\"n\">small_value</span> <span class=\"o\">*</span> <span class=\"n\">log</span><span class=\"p\">(</span><span class=\"n\">small_value</span> <span class=\"o\">/</span> <span class=\"n\">big_value</span><span class=\"p\">)</span>\n",
       "        <span class=\"k\">except</span> <span class=\"ne\">KeyError</span><span class=\"p\">:</span>\n",
       "            <span class=\"k\">pass</span>\n",
       "\n",
       "    <span class=\"k\">return</span> <span class=\"n\">total</span>\n",
       "</pre></div>\n"
      ],
      "text/plain": [
       "<IPython.core.display.HTML object>"
      ]
     },
     "metadata": {},
     "output_type": "display_data"
    },
    {
     "data": {
      "text/html": [
       "<style type=\"text/css\">.highlight .hll { background-color: #ffffcc }\n",
       ".highlight  { background: #f8f8f8; }\n",
       ".highlight .c { color: #408080; font-style: italic } /* Comment */\n",
       ".highlight .err { border: 1px solid #FF0000 } /* Error */\n",
       ".highlight .k { color: #008000; font-weight: bold } /* Keyword */\n",
       ".highlight .o { color: #666666 } /* Operator */\n",
       ".highlight .ch { color: #408080; font-style: italic } /* Comment.Hashbang */\n",
       ".highlight .cm { color: #408080; font-style: italic } /* Comment.Multiline */\n",
       ".highlight .cp { color: #BC7A00 } /* Comment.Preproc */\n",
       ".highlight .cpf { color: #408080; font-style: italic } /* Comment.PreprocFile */\n",
       ".highlight .c1 { color: #408080; font-style: italic } /* Comment.Single */\n",
       ".highlight .cs { color: #408080; font-style: italic } /* Comment.Special */\n",
       ".highlight .gd { color: #A00000 } /* Generic.Deleted */\n",
       ".highlight .ge { font-style: italic } /* Generic.Emph */\n",
       ".highlight .gr { color: #FF0000 } /* Generic.Error */\n",
       ".highlight .gh { color: #000080; font-weight: bold } /* Generic.Heading */\n",
       ".highlight .gi { color: #00A000 } /* Generic.Inserted */\n",
       ".highlight .go { color: #888888 } /* Generic.Output */\n",
       ".highlight .gp { color: #000080; font-weight: bold } /* Generic.Prompt */\n",
       ".highlight .gs { font-weight: bold } /* Generic.Strong */\n",
       ".highlight .gu { color: #800080; font-weight: bold } /* Generic.Subheading */\n",
       ".highlight .gt { color: #0044DD } /* Generic.Traceback */\n",
       ".highlight .kc { color: #008000; font-weight: bold } /* Keyword.Constant */\n",
       ".highlight .kd { color: #008000; font-weight: bold } /* Keyword.Declaration */\n",
       ".highlight .kn { color: #008000; font-weight: bold } /* Keyword.Namespace */\n",
       ".highlight .kp { color: #008000 } /* Keyword.Pseudo */\n",
       ".highlight .kr { color: #008000; font-weight: bold } /* Keyword.Reserved */\n",
       ".highlight .kt { color: #B00040 } /* Keyword.Type */\n",
       ".highlight .m { color: #666666 } /* Literal.Number */\n",
       ".highlight .s { color: #BA2121 } /* Literal.String */\n",
       ".highlight .na { color: #7D9029 } /* Name.Attribute */\n",
       ".highlight .nb { color: #008000 } /* Name.Builtin */\n",
       ".highlight .nc { color: #0000FF; font-weight: bold } /* Name.Class */\n",
       ".highlight .no { color: #880000 } /* Name.Constant */\n",
       ".highlight .nd { color: #AA22FF } /* Name.Decorator */\n",
       ".highlight .ni { color: #999999; font-weight: bold } /* Name.Entity */\n",
       ".highlight .ne { color: #D2413A; font-weight: bold } /* Name.Exception */\n",
       ".highlight .nf { color: #0000FF } /* Name.Function */\n",
       ".highlight .nl { color: #A0A000 } /* Name.Label */\n",
       ".highlight .nn { color: #0000FF; font-weight: bold } /* Name.Namespace */\n",
       ".highlight .nt { color: #008000; font-weight: bold } /* Name.Tag */\n",
       ".highlight .nv { color: #19177C } /* Name.Variable */\n",
       ".highlight .ow { color: #AA22FF; font-weight: bold } /* Operator.Word */\n",
       ".highlight .w { color: #bbbbbb } /* Text.Whitespace */\n",
       ".highlight .mb { color: #666666 } /* Literal.Number.Bin */\n",
       ".highlight .mf { color: #666666 } /* Literal.Number.Float */\n",
       ".highlight .mh { color: #666666 } /* Literal.Number.Hex */\n",
       ".highlight .mi { color: #666666 } /* Literal.Number.Integer */\n",
       ".highlight .mo { color: #666666 } /* Literal.Number.Oct */\n",
       ".highlight .sa { color: #BA2121 } /* Literal.String.Affix */\n",
       ".highlight .sb { color: #BA2121 } /* Literal.String.Backtick */\n",
       ".highlight .sc { color: #BA2121 } /* Literal.String.Char */\n",
       ".highlight .dl { color: #BA2121 } /* Literal.String.Delimiter */\n",
       ".highlight .sd { color: #BA2121; font-style: italic } /* Literal.String.Doc */\n",
       ".highlight .s2 { color: #BA2121 } /* Literal.String.Double */\n",
       ".highlight .se { color: #BB6622; font-weight: bold } /* Literal.String.Escape */\n",
       ".highlight .sh { color: #BA2121 } /* Literal.String.Heredoc */\n",
       ".highlight .si { color: #BB6688; font-weight: bold } /* Literal.String.Interpol */\n",
       ".highlight .sx { color: #008000 } /* Literal.String.Other */\n",
       ".highlight .sr { color: #BB6688 } /* Literal.String.Regex */\n",
       ".highlight .s1 { color: #BA2121 } /* Literal.String.Single */\n",
       ".highlight .ss { color: #19177C } /* Literal.String.Symbol */\n",
       ".highlight .bp { color: #008000 } /* Name.Builtin.Pseudo */\n",
       ".highlight .fm { color: #0000FF } /* Name.Function.Magic */\n",
       ".highlight .vc { color: #19177C } /* Name.Variable.Class */\n",
       ".highlight .vg { color: #19177C } /* Name.Variable.Global */\n",
       ".highlight .vi { color: #19177C } /* Name.Variable.Instance */\n",
       ".highlight .vm { color: #19177C } /* Name.Variable.Magic */\n",
       ".highlight .il { color: #666666 } /* Literal.Number.Integer.Long */</style><div class=\"highlight\"><pre><span></span><span class=\"k\">def</span> <span class=\"nf\">intersection_squared_hellinger</span><span class=\"p\">(</span><span class=\"n\">a</span><span class=\"p\">:</span> <span class=\"nb\">dict</span><span class=\"p\">,</span> <span class=\"n\">b</span><span class=\"p\">:</span> <span class=\"nb\">dict</span><span class=\"p\">)</span> <span class=\"o\">-&gt;</span> <span class=\"nb\">float</span><span class=\"p\">:</span>\n",
       "    <span class=\"sd\">&quot;&quot;&quot;Determine the Intersection Squared Hellinger distance.&quot;&quot;&quot;</span>\n",
       "    <span class=\"n\">total</span> <span class=\"o\">=</span> <span class=\"mi\">0</span>\n",
       "    <span class=\"n\">big</span><span class=\"p\">,</span> <span class=\"n\">small</span> <span class=\"o\">=</span> <span class=\"n\">sort</span><span class=\"p\">(</span><span class=\"n\">a</span><span class=\"p\">,</span> <span class=\"n\">b</span><span class=\"p\">)</span>\n",
       "    <span class=\"n\">big_get</span> <span class=\"o\">=</span> <span class=\"n\">big</span><span class=\"o\">.</span><span class=\"fm\">__getitem__</span>\n",
       "    <span class=\"k\">for</span> <span class=\"n\">key</span><span class=\"p\">,</span> <span class=\"n\">small_value</span> <span class=\"ow\">in</span> <span class=\"n\">small</span><span class=\"o\">.</span><span class=\"n\">items</span><span class=\"p\">():</span>\n",
       "        <span class=\"k\">try</span><span class=\"p\">:</span>\n",
       "            <span class=\"n\">total</span> <span class=\"o\">+=</span> <span class=\"p\">(</span><span class=\"n\">small_value</span><span class=\"o\">**</span><span class=\"p\">(</span><span class=\"mi\">1</span> <span class=\"o\">/</span> <span class=\"mi\">5</span><span class=\"p\">)</span> <span class=\"o\">-</span> <span class=\"n\">big_get</span><span class=\"p\">(</span><span class=\"n\">key</span><span class=\"p\">)</span><span class=\"o\">**</span><span class=\"p\">(</span><span class=\"mi\">1</span> <span class=\"o\">/</span> <span class=\"mi\">5</span><span class=\"p\">))</span><span class=\"o\">**</span><span class=\"mi\">2</span>\n",
       "        <span class=\"k\">except</span> <span class=\"ne\">KeyError</span><span class=\"p\">:</span>\n",
       "            <span class=\"k\">pass</span>\n",
       "    <span class=\"k\">return</span> <span class=\"n\">total</span>\n",
       "</pre></div>\n"
      ],
      "text/plain": [
       "<IPython.core.display.HTML object>"
      ]
     },
     "metadata": {},
     "output_type": "display_data"
    },
    {
     "data": {
      "text/html": [
       "<style type=\"text/css\">.highlight .hll { background-color: #ffffcc }\n",
       ".highlight  { background: #f8f8f8; }\n",
       ".highlight .c { color: #408080; font-style: italic } /* Comment */\n",
       ".highlight .err { border: 1px solid #FF0000 } /* Error */\n",
       ".highlight .k { color: #008000; font-weight: bold } /* Keyword */\n",
       ".highlight .o { color: #666666 } /* Operator */\n",
       ".highlight .ch { color: #408080; font-style: italic } /* Comment.Hashbang */\n",
       ".highlight .cm { color: #408080; font-style: italic } /* Comment.Multiline */\n",
       ".highlight .cp { color: #BC7A00 } /* Comment.Preproc */\n",
       ".highlight .cpf { color: #408080; font-style: italic } /* Comment.PreprocFile */\n",
       ".highlight .c1 { color: #408080; font-style: italic } /* Comment.Single */\n",
       ".highlight .cs { color: #408080; font-style: italic } /* Comment.Special */\n",
       ".highlight .gd { color: #A00000 } /* Generic.Deleted */\n",
       ".highlight .ge { font-style: italic } /* Generic.Emph */\n",
       ".highlight .gr { color: #FF0000 } /* Generic.Error */\n",
       ".highlight .gh { color: #000080; font-weight: bold } /* Generic.Heading */\n",
       ".highlight .gi { color: #00A000 } /* Generic.Inserted */\n",
       ".highlight .go { color: #888888 } /* Generic.Output */\n",
       ".highlight .gp { color: #000080; font-weight: bold } /* Generic.Prompt */\n",
       ".highlight .gs { font-weight: bold } /* Generic.Strong */\n",
       ".highlight .gu { color: #800080; font-weight: bold } /* Generic.Subheading */\n",
       ".highlight .gt { color: #0044DD } /* Generic.Traceback */\n",
       ".highlight .kc { color: #008000; font-weight: bold } /* Keyword.Constant */\n",
       ".highlight .kd { color: #008000; font-weight: bold } /* Keyword.Declaration */\n",
       ".highlight .kn { color: #008000; font-weight: bold } /* Keyword.Namespace */\n",
       ".highlight .kp { color: #008000 } /* Keyword.Pseudo */\n",
       ".highlight .kr { color: #008000; font-weight: bold } /* Keyword.Reserved */\n",
       ".highlight .kt { color: #B00040 } /* Keyword.Type */\n",
       ".highlight .m { color: #666666 } /* Literal.Number */\n",
       ".highlight .s { color: #BA2121 } /* Literal.String */\n",
       ".highlight .na { color: #7D9029 } /* Name.Attribute */\n",
       ".highlight .nb { color: #008000 } /* Name.Builtin */\n",
       ".highlight .nc { color: #0000FF; font-weight: bold } /* Name.Class */\n",
       ".highlight .no { color: #880000 } /* Name.Constant */\n",
       ".highlight .nd { color: #AA22FF } /* Name.Decorator */\n",
       ".highlight .ni { color: #999999; font-weight: bold } /* Name.Entity */\n",
       ".highlight .ne { color: #D2413A; font-weight: bold } /* Name.Exception */\n",
       ".highlight .nf { color: #0000FF } /* Name.Function */\n",
       ".highlight .nl { color: #A0A000 } /* Name.Label */\n",
       ".highlight .nn { color: #0000FF; font-weight: bold } /* Name.Namespace */\n",
       ".highlight .nt { color: #008000; font-weight: bold } /* Name.Tag */\n",
       ".highlight .nv { color: #19177C } /* Name.Variable */\n",
       ".highlight .ow { color: #AA22FF; font-weight: bold } /* Operator.Word */\n",
       ".highlight .w { color: #bbbbbb } /* Text.Whitespace */\n",
       ".highlight .mb { color: #666666 } /* Literal.Number.Bin */\n",
       ".highlight .mf { color: #666666 } /* Literal.Number.Float */\n",
       ".highlight .mh { color: #666666 } /* Literal.Number.Hex */\n",
       ".highlight .mi { color: #666666 } /* Literal.Number.Integer */\n",
       ".highlight .mo { color: #666666 } /* Literal.Number.Oct */\n",
       ".highlight .sa { color: #BA2121 } /* Literal.String.Affix */\n",
       ".highlight .sb { color: #BA2121 } /* Literal.String.Backtick */\n",
       ".highlight .sc { color: #BA2121 } /* Literal.String.Char */\n",
       ".highlight .dl { color: #BA2121 } /* Literal.String.Delimiter */\n",
       ".highlight .sd { color: #BA2121; font-style: italic } /* Literal.String.Doc */\n",
       ".highlight .s2 { color: #BA2121 } /* Literal.String.Double */\n",
       ".highlight .se { color: #BB6622; font-weight: bold } /* Literal.String.Escape */\n",
       ".highlight .sh { color: #BA2121 } /* Literal.String.Heredoc */\n",
       ".highlight .si { color: #BB6688; font-weight: bold } /* Literal.String.Interpol */\n",
       ".highlight .sx { color: #008000 } /* Literal.String.Other */\n",
       ".highlight .sr { color: #BB6688 } /* Literal.String.Regex */\n",
       ".highlight .s1 { color: #BA2121 } /* Literal.String.Single */\n",
       ".highlight .ss { color: #19177C } /* Literal.String.Symbol */\n",
       ".highlight .bp { color: #008000 } /* Name.Builtin.Pseudo */\n",
       ".highlight .fm { color: #0000FF } /* Name.Function.Magic */\n",
       ".highlight .vc { color: #19177C } /* Name.Variable.Class */\n",
       ".highlight .vg { color: #19177C } /* Name.Variable.Global */\n",
       ".highlight .vi { color: #19177C } /* Name.Variable.Instance */\n",
       ".highlight .vm { color: #19177C } /* Name.Variable.Magic */\n",
       ".highlight .il { color: #666666 } /* Literal.Number.Integer.Long */</style><div class=\"highlight\"><pre><span></span><span class=\"k\">def</span> <span class=\"nf\">hellinger</span><span class=\"p\">(</span><span class=\"n\">a</span><span class=\"p\">:</span> <span class=\"nb\">dict</span><span class=\"p\">,</span> <span class=\"n\">b</span><span class=\"p\">:</span> <span class=\"nb\">dict</span><span class=\"p\">)</span> <span class=\"o\">-&gt;</span> <span class=\"nb\">float</span><span class=\"p\">:</span>\n",
       "    <span class=\"sd\">&quot;&quot;&quot;Determine the Hellinger distance.&quot;&quot;&quot;</span>\n",
       "    <span class=\"k\">try</span><span class=\"p\">:</span>\n",
       "        <span class=\"n\">v</span> <span class=\"o\">=</span> <span class=\"n\">squared_hellinger</span><span class=\"p\">(</span><span class=\"n\">a</span><span class=\"p\">,</span> <span class=\"n\">b</span><span class=\"p\">)</span>\n",
       "        <span class=\"k\">return</span> <span class=\"n\">sqrt</span><span class=\"p\">(</span><span class=\"n\">v</span><span class=\"p\">)</span>\n",
       "    <span class=\"k\">except</span> <span class=\"ne\">ValueError</span> <span class=\"k\">as</span> <span class=\"n\">e</span><span class=\"p\">:</span>\n",
       "        <span class=\"k\">if</span> <span class=\"n\">isclose</span><span class=\"p\">(</span><span class=\"n\">v</span><span class=\"p\">,</span> <span class=\"mi\">0</span><span class=\"p\">,</span> <span class=\"n\">abs_tol</span><span class=\"o\">=</span><span class=\"mf\">1e-15</span><span class=\"p\">):</span>\n",
       "            <span class=\"k\">return</span> <span class=\"mi\">0</span>\n",
       "        <span class=\"k\">raise</span> <span class=\"n\">e</span>\n",
       "</pre></div>\n"
      ],
      "text/plain": [
       "<IPython.core.display.HTML object>"
      ]
     },
     "metadata": {},
     "output_type": "display_data"
    },
    {
     "data": {
      "text/html": [
       "<style type=\"text/css\">.highlight .hll { background-color: #ffffcc }\n",
       ".highlight  { background: #f8f8f8; }\n",
       ".highlight .c { color: #408080; font-style: italic } /* Comment */\n",
       ".highlight .err { border: 1px solid #FF0000 } /* Error */\n",
       ".highlight .k { color: #008000; font-weight: bold } /* Keyword */\n",
       ".highlight .o { color: #666666 } /* Operator */\n",
       ".highlight .ch { color: #408080; font-style: italic } /* Comment.Hashbang */\n",
       ".highlight .cm { color: #408080; font-style: italic } /* Comment.Multiline */\n",
       ".highlight .cp { color: #BC7A00 } /* Comment.Preproc */\n",
       ".highlight .cpf { color: #408080; font-style: italic } /* Comment.PreprocFile */\n",
       ".highlight .c1 { color: #408080; font-style: italic } /* Comment.Single */\n",
       ".highlight .cs { color: #408080; font-style: italic } /* Comment.Special */\n",
       ".highlight .gd { color: #A00000 } /* Generic.Deleted */\n",
       ".highlight .ge { font-style: italic } /* Generic.Emph */\n",
       ".highlight .gr { color: #FF0000 } /* Generic.Error */\n",
       ".highlight .gh { color: #000080; font-weight: bold } /* Generic.Heading */\n",
       ".highlight .gi { color: #00A000 } /* Generic.Inserted */\n",
       ".highlight .go { color: #888888 } /* Generic.Output */\n",
       ".highlight .gp { color: #000080; font-weight: bold } /* Generic.Prompt */\n",
       ".highlight .gs { font-weight: bold } /* Generic.Strong */\n",
       ".highlight .gu { color: #800080; font-weight: bold } /* Generic.Subheading */\n",
       ".highlight .gt { color: #0044DD } /* Generic.Traceback */\n",
       ".highlight .kc { color: #008000; font-weight: bold } /* Keyword.Constant */\n",
       ".highlight .kd { color: #008000; font-weight: bold } /* Keyword.Declaration */\n",
       ".highlight .kn { color: #008000; font-weight: bold } /* Keyword.Namespace */\n",
       ".highlight .kp { color: #008000 } /* Keyword.Pseudo */\n",
       ".highlight .kr { color: #008000; font-weight: bold } /* Keyword.Reserved */\n",
       ".highlight .kt { color: #B00040 } /* Keyword.Type */\n",
       ".highlight .m { color: #666666 } /* Literal.Number */\n",
       ".highlight .s { color: #BA2121 } /* Literal.String */\n",
       ".highlight .na { color: #7D9029 } /* Name.Attribute */\n",
       ".highlight .nb { color: #008000 } /* Name.Builtin */\n",
       ".highlight .nc { color: #0000FF; font-weight: bold } /* Name.Class */\n",
       ".highlight .no { color: #880000 } /* Name.Constant */\n",
       ".highlight .nd { color: #AA22FF } /* Name.Decorator */\n",
       ".highlight .ni { color: #999999; font-weight: bold } /* Name.Entity */\n",
       ".highlight .ne { color: #D2413A; font-weight: bold } /* Name.Exception */\n",
       ".highlight .nf { color: #0000FF } /* Name.Function */\n",
       ".highlight .nl { color: #A0A000 } /* Name.Label */\n",
       ".highlight .nn { color: #0000FF; font-weight: bold } /* Name.Namespace */\n",
       ".highlight .nt { color: #008000; font-weight: bold } /* Name.Tag */\n",
       ".highlight .nv { color: #19177C } /* Name.Variable */\n",
       ".highlight .ow { color: #AA22FF; font-weight: bold } /* Operator.Word */\n",
       ".highlight .w { color: #bbbbbb } /* Text.Whitespace */\n",
       ".highlight .mb { color: #666666 } /* Literal.Number.Bin */\n",
       ".highlight .mf { color: #666666 } /* Literal.Number.Float */\n",
       ".highlight .mh { color: #666666 } /* Literal.Number.Hex */\n",
       ".highlight .mi { color: #666666 } /* Literal.Number.Integer */\n",
       ".highlight .mo { color: #666666 } /* Literal.Number.Oct */\n",
       ".highlight .sa { color: #BA2121 } /* Literal.String.Affix */\n",
       ".highlight .sb { color: #BA2121 } /* Literal.String.Backtick */\n",
       ".highlight .sc { color: #BA2121 } /* Literal.String.Char */\n",
       ".highlight .dl { color: #BA2121 } /* Literal.String.Delimiter */\n",
       ".highlight .sd { color: #BA2121; font-style: italic } /* Literal.String.Doc */\n",
       ".highlight .s2 { color: #BA2121 } /* Literal.String.Double */\n",
       ".highlight .se { color: #BB6622; font-weight: bold } /* Literal.String.Escape */\n",
       ".highlight .sh { color: #BA2121 } /* Literal.String.Heredoc */\n",
       ".highlight .si { color: #BB6688; font-weight: bold } /* Literal.String.Interpol */\n",
       ".highlight .sx { color: #008000 } /* Literal.String.Other */\n",
       ".highlight .sr { color: #BB6688 } /* Literal.String.Regex */\n",
       ".highlight .s1 { color: #BA2121 } /* Literal.String.Single */\n",
       ".highlight .ss { color: #19177C } /* Literal.String.Symbol */\n",
       ".highlight .bp { color: #008000 } /* Name.Builtin.Pseudo */\n",
       ".highlight .fm { color: #0000FF } /* Name.Function.Magic */\n",
       ".highlight .vc { color: #19177C } /* Name.Variable.Class */\n",
       ".highlight .vg { color: #19177C } /* Name.Variable.Global */\n",
       ".highlight .vi { color: #19177C } /* Name.Variable.Instance */\n",
       ".highlight .vm { color: #19177C } /* Name.Variable.Magic */\n",
       ".highlight .il { color: #666666 } /* Literal.Number.Integer.Long */</style><div class=\"highlight\"><pre><span></span><span class=\"k\">def</span> <span class=\"nf\">squared_hellinger</span><span class=\"p\">(</span><span class=\"n\">a</span><span class=\"p\">:</span> <span class=\"nb\">dict</span><span class=\"p\">,</span> <span class=\"n\">b</span><span class=\"p\">:</span> <span class=\"nb\">dict</span><span class=\"p\">)</span> <span class=\"o\">-&gt;</span> <span class=\"nb\">float</span><span class=\"p\">:</span>\n",
       "    <span class=\"sd\">&quot;&quot;&quot;Determine the Squared Hellinger distance.&quot;&quot;&quot;</span>\n",
       "    <span class=\"n\">total</span> <span class=\"o\">=</span> <span class=\"mi\">1</span>\n",
       "    <span class=\"n\">big</span><span class=\"p\">,</span> <span class=\"n\">small</span> <span class=\"o\">=</span> <span class=\"n\">sort</span><span class=\"p\">(</span><span class=\"n\">a</span><span class=\"p\">,</span> <span class=\"n\">b</span><span class=\"p\">)</span>\n",
       "    <span class=\"n\">big_get</span> <span class=\"o\">=</span> <span class=\"n\">big</span><span class=\"o\">.</span><span class=\"fm\">__getitem__</span>\n",
       "    <span class=\"k\">for</span> <span class=\"n\">key</span><span class=\"p\">,</span> <span class=\"n\">small_value</span> <span class=\"ow\">in</span> <span class=\"n\">small</span><span class=\"o\">.</span><span class=\"n\">items</span><span class=\"p\">():</span>\n",
       "        <span class=\"k\">try</span><span class=\"p\">:</span>\n",
       "            <span class=\"n\">total</span> <span class=\"o\">-=</span> <span class=\"n\">sqrt</span><span class=\"p\">(</span><span class=\"n\">small_value</span> <span class=\"o\">*</span> <span class=\"n\">big_get</span><span class=\"p\">(</span><span class=\"n\">key</span><span class=\"p\">))</span>\n",
       "        <span class=\"k\">except</span> <span class=\"ne\">KeyError</span><span class=\"p\">:</span>\n",
       "            <span class=\"k\">pass</span>\n",
       "    <span class=\"k\">return</span> <span class=\"n\">total</span>\n",
       "</pre></div>\n"
      ],
      "text/plain": [
       "<IPython.core.display.HTML object>"
      ]
     },
     "metadata": {},
     "output_type": "display_data"
    }
   ],
   "source": [
    "for metric in metrics:\n",
    "    print_function(metric)"
   ]
  },
  {
   "cell_type": "markdown",
   "metadata": {},
   "source": [
    "## The options\n",
    "We will use the following options for learning and testing. More informations about options' customizations is available [here](https://github.com/LucaCappelletti94/zipf)."
   ]
  },
  {
   "cell_type": "code",
   "execution_count": 19,
   "metadata": {},
   "outputs": [],
   "source": [
    "options = {}"
   ]
  },
  {
   "cell_type": "markdown",
   "metadata": {},
   "source": [
    "## Creating the Zipfs\n",
    "We will now convert all the chapters in the dataset into the respective zipf for each option."
   ]
  },
  {
   "cell_type": "code",
   "execution_count": 20,
   "metadata": {},
   "outputs": [],
   "source": [
    "def create_zipfs(paths, factory, test_path):\n",
    "    for data_path in tqdm(paths, unit=' zipf'):\n",
    "        path = \"%s/%s.json\"%(test_path, '/'.join(data_path.split('/')[1:]))\n",
    "        # If the zipf already exists we skip it\n",
    "        if os.path.exists(path):\n",
    "            continue\n",
    "        path_dirs = '/'.join(path.split('/')[:-1])\n",
    "        zipf = factory.run(data_path, ['txt'])\n",
    "        if not zipf.is_empty():\n",
    "            if not os.path.exists(path_dirs):\n",
    "                os.makedirs(path_dirs)\n",
    "            zipf.save(path)"
   ]
  },
  {
   "cell_type": "markdown",
   "metadata": {},
   "source": [
    "We define the paths for zipfs and their sources:"
   ]
  },
  {
   "cell_type": "code",
   "execution_count": 21,
   "metadata": {},
   "outputs": [],
   "source": [
    "def get_build_paths(dataset):\n",
    "    \"\"\"Return a triple with the build paths for given dataset.\"\"\"\n",
    "    learning_path = \"%s/learning\"%dataset\n",
    "    testing_path = \"%s/testing\"%dataset\n",
    "    zipfs_path = '%s/zipfs'%dataset\n",
    "\n",
    "    print(\"I will build learning zipfs from %s,\\ntesting zipfs from %s\\nand save them in %s\\n\"%(b(learning_path), b(testing_path), b(zipfs_path)))\n",
    "    return learning_path, testing_path, zipfs_path"
   ]
  },
  {
   "cell_type": "markdown",
   "metadata": {},
   "source": [
    "First we create the learning zipfs:"
   ]
  },
  {
   "cell_type": "code",
   "execution_count": 22,
   "metadata": {},
   "outputs": [],
   "source": [
    "def build_learning_zipfs(path, zipfs_path):\n",
    "    \"\"\"Build zipfs from txt files at given path.\"\"\"\n",
    "    print(\"Creating learning zipfs in %s\"%(b(path)))\n",
    "    book_classes = get_dirs(path)\n",
    "    print(\"Some of the paths I'm converting are:\")\n",
    "    random.seed(42) # For reproducibility\n",
    "    random.shuffle(book_classes)\n",
    "    pprint(book_classes[:10])\n",
    "    create_zipfs(book_classes, factory, zipfs_path)"
   ]
  },
  {
   "cell_type": "markdown",
   "metadata": {},
   "source": [
    "And then the testing zipfs:"
   ]
  },
  {
   "cell_type": "code",
   "execution_count": 23,
   "metadata": {},
   "outputs": [],
   "source": [
    "def build_testing_zipfs(path, zipfs_path):\n",
    "    \"\"\"Build zipfs from txt files at given path.\"\"\"\n",
    "    print(\"Creating testing zipfs in %s\"%(b(path)))\n",
    "    books = get_books(path)\n",
    "    print(\"Some of the paths I'm converting are:\")\n",
    "    random.seed(42) # For reproducibility\n",
    "    random.shuffle(books)\n",
    "    pprint(books[:10])\n",
    "    create_zipfs(books, factory, zipfs_path)"
   ]
  },
  {
   "cell_type": "markdown",
   "metadata": {},
   "source": [
    "We create a factory for creating the zipfs objects from files with the options defined above. More informations about factory customization and other possible factories is available [here](https://github.com/LucaCappelletti94/zipf)."
   ]
  },
  {
   "cell_type": "code",
   "execution_count": 24,
   "metadata": {},
   "outputs": [
    {
     "name": "stdout",
     "output_type": "stream",
     "text": [
      "Created a factory with options {\n",
      "  \"remove_stop_words\": false,\n",
      "  \"stop_words\": \"it\",\n",
      "  \"minimum_count\": 0,\n",
      "  \"chain_min_len\": 1,\n",
      "  \"chain_max_len\": 1,\n",
      "  \"chaining_character\": \" \",\n",
      "  \"sort\": false\n",
      "}\n"
     ]
    }
   ],
   "source": [
    "factory = ZipfFromDir(options=options)\n",
    "print(\"Created a factory with options %s\"%(factory))"
   ]
  },
  {
   "cell_type": "markdown",
   "metadata": {},
   "source": [
    "Wake up zipfs factory daemons:"
   ]
  },
  {
   "cell_type": "code",
   "execution_count": 25,
   "metadata": {},
   "outputs": [],
   "source": [
    "factory.start_processes()"
   ]
  },
  {
   "cell_type": "markdown",
   "metadata": {},
   "source": [
    "Actually creating the zipfs:"
   ]
  },
  {
   "cell_type": "code",
   "execution_count": 26,
   "metadata": {},
   "outputs": [
    {
     "name": "stdout",
     "output_type": "stream",
     "text": [
      "Building dataset \u001b[1mauthors\u001b[0;0m\n",
      "I will build learning zipfs from \u001b[1mauthors/learning\u001b[0;0m,\n",
      "testing zipfs from \u001b[1mauthors/testing\u001b[0;0m\n",
      "and save them in \u001b[1mauthors/zipfs\u001b[0;0m\n",
      "\n",
      "Creating learning zipfs in \u001b[1mauthors/learning\u001b[0;0m\n",
      "Some of the paths I'm converting are:\n",
      "['authors/learning/twain',\n",
      " 'authors/learning/dh_lawrence',\n",
      " 'authors/learning/wilde']\n"
     ]
    },
    {
     "data": {
      "application/vnd.jupyter.widget-view+json": {
       "model_id": "72e45484e51f4ceeb9d27b6f606e2417",
       "version_major": 2,
       "version_minor": 0
      },
      "text/html": [
       "<p>Failed to display Jupyter Widget of type <code>HBox</code>.</p>\n",
       "<p>\n",
       "  If you're reading this message in the Jupyter Notebook or JupyterLab Notebook, it may mean\n",
       "  that the widgets JavaScript is still loading. If this message persists, it\n",
       "  likely means that the widgets JavaScript library is either not installed or\n",
       "  not enabled. See the <a href=\"https://ipywidgets.readthedocs.io/en/stable/user_install.html\">Jupyter\n",
       "  Widgets Documentation</a> for setup instructions.\n",
       "</p>\n",
       "<p>\n",
       "  If you're reading this message in another frontend (for example, a static\n",
       "  rendering on GitHub or <a href=\"https://nbviewer.jupyter.org/\">NBViewer</a>),\n",
       "  it may mean that your frontend doesn't currently support widgets.\n",
       "</p>\n"
      ],
      "text/plain": [
       "HBox(children=(IntProgress(value=0, max=3), HTML(value='')))"
      ]
     },
     "metadata": {},
     "output_type": "display_data"
    },
    {
     "name": "stdout",
     "output_type": "stream",
     "text": [
      "\n",
      "Creating testing zipfs in \u001b[1mauthors/testing\u001b[0;0m\n",
      "Some of the paths I'm converting are:\n",
      "['authors/testing/twain/3275',\n",
      " 'authors/testing/twain/320',\n",
      " 'authors/testing/wilde/florentine-tragedy',\n",
      " 'authors/testing/dh_lawrence/4483',\n",
      " 'authors/testing/wilde/2252',\n",
      " 'authors/testing/twain/3297',\n",
      " 'authors/testing/wilde/2305',\n",
      " 'authors/testing/dh_lawrence/fantasia-of-unconscious',\n",
      " 'authors/testing/wilde/2317',\n",
      " 'authors/testing/twain/3259']\n"
     ]
    },
    {
     "data": {
      "application/vnd.jupyter.widget-view+json": {
       "model_id": "d65699722be04d6c84eff1e473561673",
       "version_major": 2,
       "version_minor": 0
      },
      "text/html": [
       "<p>Failed to display Jupyter Widget of type <code>HBox</code>.</p>\n",
       "<p>\n",
       "  If you're reading this message in the Jupyter Notebook or JupyterLab Notebook, it may mean\n",
       "  that the widgets JavaScript is still loading. If this message persists, it\n",
       "  likely means that the widgets JavaScript library is either not installed or\n",
       "  not enabled. See the <a href=\"https://ipywidgets.readthedocs.io/en/stable/user_install.html\">Jupyter\n",
       "  Widgets Documentation</a> for setup instructions.\n",
       "</p>\n",
       "<p>\n",
       "  If you're reading this message in another frontend (for example, a static\n",
       "  rendering on GitHub or <a href=\"https://nbviewer.jupyter.org/\">NBViewer</a>),\n",
       "  it may mean that your frontend doesn't currently support widgets.\n",
       "</p>\n"
      ],
      "text/plain": [
       "HBox(children=(IntProgress(value=0, max=160), HTML(value='')))"
      ]
     },
     "metadata": {},
     "output_type": "display_data"
    },
    {
     "name": "stdout",
     "output_type": "stream",
     "text": [
      "\n",
      "Building dataset \u001b[1mperiods\u001b[0;0m\n",
      "I will build learning zipfs from \u001b[1mperiods/learning\u001b[0;0m,\n",
      "testing zipfs from \u001b[1mperiods/testing\u001b[0;0m\n",
      "and save them in \u001b[1mperiods/zipfs\u001b[0;0m\n",
      "\n",
      "Creating learning zipfs in \u001b[1mperiods/learning\u001b[0;0m\n",
      "Some of the paths I'm converting are:\n",
      "['periods/learning/romanticism',\n",
      " 'periods/learning/realism',\n",
      " 'periods/learning/naturalism',\n",
      " 'periods/learning/modernism']\n"
     ]
    },
    {
     "data": {
      "application/vnd.jupyter.widget-view+json": {
       "model_id": "55f74f1de6a542948df155f51d750baa",
       "version_major": 2,
       "version_minor": 0
      },
      "text/html": [
       "<p>Failed to display Jupyter Widget of type <code>HBox</code>.</p>\n",
       "<p>\n",
       "  If you're reading this message in the Jupyter Notebook or JupyterLab Notebook, it may mean\n",
       "  that the widgets JavaScript is still loading. If this message persists, it\n",
       "  likely means that the widgets JavaScript library is either not installed or\n",
       "  not enabled. See the <a href=\"https://ipywidgets.readthedocs.io/en/stable/user_install.html\">Jupyter\n",
       "  Widgets Documentation</a> for setup instructions.\n",
       "</p>\n",
       "<p>\n",
       "  If you're reading this message in another frontend (for example, a static\n",
       "  rendering on GitHub or <a href=\"https://nbviewer.jupyter.org/\">NBViewer</a>),\n",
       "  it may mean that your frontend doesn't currently support widgets.\n",
       "</p>\n"
      ],
      "text/plain": [
       "HBox(children=(IntProgress(value=0, max=4), HTML(value='')))"
      ]
     },
     "metadata": {},
     "output_type": "display_data"
    },
    {
     "name": "stdout",
     "output_type": "stream",
     "text": [
      "\n",
      "Creating testing zipfs in \u001b[1mperiods/testing\u001b[0;0m\n",
      "Some of the paths I'm converting are:\n",
      "['periods/testing/romanticism/579',\n",
      " 'periods/testing/modernism/3452',\n",
      " 'periods/testing/romanticism/550',\n",
      " 'periods/testing/romanticism/2124',\n",
      " 'periods/testing/romanticism/4545',\n",
      " 'periods/testing/romanticism/491',\n",
      " 'periods/testing/modernism/3484',\n",
      " 'periods/testing/romanticism/143',\n",
      " 'periods/testing/modernism/blanco-posnet',\n",
      " 'periods/testing/realism/indian-summer']\n"
     ]
    },
    {
     "data": {
      "application/vnd.jupyter.widget-view+json": {
       "model_id": "6ff53b900c784cd7a40babdafc88a28a",
       "version_major": 2,
       "version_minor": 0
      },
      "text/html": [
       "<p>Failed to display Jupyter Widget of type <code>HBox</code>.</p>\n",
       "<p>\n",
       "  If you're reading this message in the Jupyter Notebook or JupyterLab Notebook, it may mean\n",
       "  that the widgets JavaScript is still loading. If this message persists, it\n",
       "  likely means that the widgets JavaScript library is either not installed or\n",
       "  not enabled. See the <a href=\"https://ipywidgets.readthedocs.io/en/stable/user_install.html\">Jupyter\n",
       "  Widgets Documentation</a> for setup instructions.\n",
       "</p>\n",
       "<p>\n",
       "  If you're reading this message in another frontend (for example, a static\n",
       "  rendering on GitHub or <a href=\"https://nbviewer.jupyter.org/\">NBViewer</a>),\n",
       "  it may mean that your frontend doesn't currently support widgets.\n",
       "</p>\n"
      ],
      "text/plain": [
       "HBox(children=(IntProgress(value=0, max=864), HTML(value='')))"
      ]
     },
     "metadata": {},
     "output_type": "display_data"
    },
    {
     "name": "stdout",
     "output_type": "stream",
     "text": [
      "\n",
      "Building dataset \u001b[1mrecipes\u001b[0;0m\n",
      "I will build learning zipfs from \u001b[1mrecipes/learning\u001b[0;0m,\n",
      "testing zipfs from \u001b[1mrecipes/testing\u001b[0;0m\n",
      "and save them in \u001b[1mrecipes/zipfs\u001b[0;0m\n",
      "\n",
      "Creating learning zipfs in \u001b[1mrecipes/learning\u001b[0;0m\n",
      "Some of the paths I'm converting are:\n",
      "['recipes/learning/recipes', 'recipes/learning/non_recipes']\n"
     ]
    },
    {
     "data": {
      "application/vnd.jupyter.widget-view+json": {
       "model_id": "e77deae671c348dbbef200b2d0e6229b",
       "version_major": 2,
       "version_minor": 0
      },
      "text/html": [
       "<p>Failed to display Jupyter Widget of type <code>HBox</code>.</p>\n",
       "<p>\n",
       "  If you're reading this message in the Jupyter Notebook or JupyterLab Notebook, it may mean\n",
       "  that the widgets JavaScript is still loading. If this message persists, it\n",
       "  likely means that the widgets JavaScript library is either not installed or\n",
       "  not enabled. See the <a href=\"https://ipywidgets.readthedocs.io/en/stable/user_install.html\">Jupyter\n",
       "  Widgets Documentation</a> for setup instructions.\n",
       "</p>\n",
       "<p>\n",
       "  If you're reading this message in another frontend (for example, a static\n",
       "  rendering on GitHub or <a href=\"https://nbviewer.jupyter.org/\">NBViewer</a>),\n",
       "  it may mean that your frontend doesn't currently support widgets.\n",
       "</p>\n"
      ],
      "text/plain": [
       "HBox(children=(IntProgress(value=0, max=2), HTML(value='')))"
      ]
     },
     "metadata": {},
     "output_type": "display_data"
    },
    {
     "name": "stdout",
     "output_type": "stream",
     "text": [
      "\n",
      "Creating testing zipfs in \u001b[1mrecipes/testing\u001b[0;0m\n",
      "Some of the paths I'm converting are:\n",
      "['recipes/testing/non_recipes/409d884a6896b8673a0643cb615a7d4b',\n",
      " 'recipes/testing/non_recipes/7e36a2f244dbce34106e0b1c9b9b41ca',\n",
      " 'recipes/testing/recipes/955d93252cccff4b4d7943b8e678e367',\n",
      " 'recipes/testing/recipes/63ec182e7c66babebcd4a2cc487b098b',\n",
      " 'recipes/testing/non_recipes/b456e579f6cd6939e5013d250c7fe0ab',\n",
      " 'recipes/testing/non_recipes/71eb580781257553cd6c850c8144492d',\n",
      " 'recipes/testing/non_recipes/efdce7aa0c2c0c3c61f96ccc77e0f029',\n",
      " 'recipes/testing/non_recipes/9edf96e7b7f8251c85c14f64e9df15d7',\n",
      " 'recipes/testing/non_recipes/fd68ae7002749fe0e63a581fead0ff35',\n",
      " 'recipes/testing/non_recipes/9598041f7ffb1393f1a02f3f81d127d8']\n"
     ]
    },
    {
     "data": {
      "application/vnd.jupyter.widget-view+json": {
       "model_id": "24f717a0de20450fbc501cd2ebc26308",
       "version_major": 2,
       "version_minor": 0
      },
      "text/html": [
       "<p>Failed to display Jupyter Widget of type <code>HBox</code>.</p>\n",
       "<p>\n",
       "  If you're reading this message in the Jupyter Notebook or JupyterLab Notebook, it may mean\n",
       "  that the widgets JavaScript is still loading. If this message persists, it\n",
       "  likely means that the widgets JavaScript library is either not installed or\n",
       "  not enabled. See the <a href=\"https://ipywidgets.readthedocs.io/en/stable/user_install.html\">Jupyter\n",
       "  Widgets Documentation</a> for setup instructions.\n",
       "</p>\n",
       "<p>\n",
       "  If you're reading this message in another frontend (for example, a static\n",
       "  rendering on GitHub or <a href=\"https://nbviewer.jupyter.org/\">NBViewer</a>),\n",
       "  it may mean that your frontend doesn't currently support widgets.\n",
       "</p>\n"
      ],
      "text/plain": [
       "HBox(children=(IntProgress(value=0, max=7214), HTML(value='')))"
      ]
     },
     "metadata": {},
     "output_type": "display_data"
    },
    {
     "name": "stdout",
     "output_type": "stream",
     "text": [
      "\n"
     ]
    }
   ],
   "source": [
    "for dataset in datasets:\n",
    "    print(\"Building dataset %s\"%(b(dataset)))\n",
    "    learning_path, testing_path, zipfs_path = get_build_paths(dataset)\n",
    "    build_learning_zipfs(learning_path, zipfs_path)\n",
    "    build_testing_zipfs(testing_path, zipfs_path)"
   ]
  },
  {
   "cell_type": "markdown",
   "metadata": {},
   "source": [
    "Slaying daemons:"
   ]
  },
  {
   "cell_type": "code",
   "execution_count": 27,
   "metadata": {},
   "outputs": [],
   "source": [
    "factory.close_processes()"
   ]
  },
  {
   "cell_type": "markdown",
   "metadata": {},
   "source": [
    "\n",
    "## Creating the Classifier\n",
    "Now we have rendered the learning. Let's run some tests!"
   ]
  },
  {
   "cell_type": "markdown",
   "metadata": {},
   "source": []
  },
  {
   "cell_type": "code",
   "execution_count": 28,
   "metadata": {},
   "outputs": [],
   "source": [
    "def get_classifier_paths(dataset):\n",
    "    \"\"\"Return paths for classifier, given a dataset.\"\"\"\n",
    "    zipfs_path = get_build_paths(dataset)[2]\n",
    "    learning_zipfs_path = \"%s/learning\"%zipfs_path\n",
    "    testing_zipfs_path = \"%s/testing\"%zipfs_path\n",
    "    return learning_zipfs_path, testing_zipfs_path"
   ]
  },
  {
   "cell_type": "code",
   "execution_count": 29,
   "metadata": {},
   "outputs": [],
   "source": [
    "def load_zipfs(classifier, path):\n",
    "    \"\"\"Load zipfs from given path into given classifier.\"\"\"\n",
    "    print(\"Loading zipfs from %s\"%(b(path)))\n",
    "    loaded = []\n",
    "    for zipf in tqdm(get_zipfs(path)):\n",
    "        book_class = zipf.split('/')[-1].split('.')[0]\n",
    "        args = zipf, book_class\n",
    "        loaded.append(args)\n",
    "        classifier.add_zipf(*args)\n",
    "    \n",
    "    print(\"Some of the loaded zipfs and its class:\")\n",
    "    for path, cls in loaded[:10]:\n",
    "        print(\"Path: %s, class: %s\"%(b(path), b(cls)))"
   ]
  },
  {
   "cell_type": "code",
   "execution_count": 30,
   "metadata": {},
   "outputs": [],
   "source": [
    "def load_test_couples(path):\n",
    "    \"\"\"Return list of zipfs from given path.\"\"\"\n",
    "    print(\"Loading tests from %s\"%(b(path)))\n",
    "    test_couples = []\n",
    "    for zipf in tqdm(get_zipfs(path)):\n",
    "        book_class = zipf.split('/')[-2]\n",
    "        args = zipf, book_class\n",
    "        test_couples.append(args)\n",
    "\n",
    "    print(\"Some of the loaded zipfs and its class:\")\n",
    "    random.seed(42)\n",
    "    random.shuffle(test_couples)\n",
    "    for path, cls in test_couples[:10]:\n",
    "        print(\"Path: %s, class: %s\"%(b(path), b(cls)))\n",
    "    return test_couples"
   ]
  },
  {
   "cell_type": "code",
   "execution_count": 31,
   "metadata": {},
   "outputs": [],
   "source": [
    "def metrics_test(classifier, test_couples):\n",
    "    \"\"\"Run test on all metrics usable on zipfs.\"\"\"\n",
    "    global metrics\n",
    "    for metric in metrics:\n",
    "        results = classifier.test(test_couples, metric)\n",
    "        success(results, metric)"
   ]
  },
  {
   "cell_type": "markdown",
   "metadata": {},
   "source": [
    "First we create the classifier with the options set above:"
   ]
  },
  {
   "cell_type": "code",
   "execution_count": 32,
   "metadata": {},
   "outputs": [
    {
     "name": "stdout",
     "output_type": "stream",
     "text": [
      "We're using a classifier with options {\n",
      "    \"sort\": false\n",
      "}\n"
     ]
    }
   ],
   "source": [
    "classifier = ZipfClassifier(options)\n",
    "print(\"We're using a classifier with options %s\"%classifier)"
   ]
  },
  {
   "cell_type": "code",
   "execution_count": 33,
   "metadata": {
    "scrolled": false
   },
   "outputs": [
    {
     "name": "stdout",
     "output_type": "stream",
     "text": [
      "Testing dataset \u001b[1mauthors\u001b[0;0m\n",
      "I will build learning zipfs from \u001b[1mauthors/learning\u001b[0;0m,\n",
      "testing zipfs from \u001b[1mauthors/testing\u001b[0;0m\n",
      "and save them in \u001b[1mauthors/zipfs\u001b[0;0m\n",
      "\n",
      "Loading zipfs from \u001b[1mauthors/zipfs/learning\u001b[0;0m\n"
     ]
    },
    {
     "data": {
      "application/vnd.jupyter.widget-view+json": {
       "model_id": "72ffb806f5c64f608d66eaca3ea66725",
       "version_major": 2,
       "version_minor": 0
      },
      "text/html": [
       "<p>Failed to display Jupyter Widget of type <code>HBox</code>.</p>\n",
       "<p>\n",
       "  If you're reading this message in the Jupyter Notebook or JupyterLab Notebook, it may mean\n",
       "  that the widgets JavaScript is still loading. If this message persists, it\n",
       "  likely means that the widgets JavaScript library is either not installed or\n",
       "  not enabled. See the <a href=\"https://ipywidgets.readthedocs.io/en/stable/user_install.html\">Jupyter\n",
       "  Widgets Documentation</a> for setup instructions.\n",
       "</p>\n",
       "<p>\n",
       "  If you're reading this message in another frontend (for example, a static\n",
       "  rendering on GitHub or <a href=\"https://nbviewer.jupyter.org/\">NBViewer</a>),\n",
       "  it may mean that your frontend doesn't currently support widgets.\n",
       "</p>\n"
      ],
      "text/plain": [
       "HBox(children=(IntProgress(value=0, max=3), HTML(value='')))"
      ]
     },
     "metadata": {},
     "output_type": "display_data"
    },
    {
     "name": "stdout",
     "output_type": "stream",
     "text": [
      "Zipf authors/zipfs/learning/twain.json has len 68057\n",
      "Zipf authors/zipfs/learning/dh_lawrence.json has len 25513\n",
      "Zipf authors/zipfs/learning/wilde.json has len 27577\n",
      "\n",
      "Some of the loaded zipfs and its class:\n",
      "Path: \u001b[1mauthors/zipfs/learning/twain.json\u001b[0;0m, class: \u001b[1mtwain\u001b[0;0m\n",
      "Path: \u001b[1mauthors/zipfs/learning/dh_lawrence.json\u001b[0;0m, class: \u001b[1mdh_lawrence\u001b[0;0m\n",
      "Path: \u001b[1mauthors/zipfs/learning/wilde.json\u001b[0;0m, class: \u001b[1mwilde\u001b[0;0m\n",
      "Loading tests from \u001b[1mauthors/zipfs/testing\u001b[0;0m\n"
     ]
    },
    {
     "data": {
      "application/vnd.jupyter.widget-view+json": {
       "model_id": "6931a892494a492db7d7e13fe36c11a0",
       "version_major": 2,
       "version_minor": 0
      },
      "text/html": [
       "<p>Failed to display Jupyter Widget of type <code>HBox</code>.</p>\n",
       "<p>\n",
       "  If you're reading this message in the Jupyter Notebook or JupyterLab Notebook, it may mean\n",
       "  that the widgets JavaScript is still loading. If this message persists, it\n",
       "  likely means that the widgets JavaScript library is either not installed or\n",
       "  not enabled. See the <a href=\"https://ipywidgets.readthedocs.io/en/stable/user_install.html\">Jupyter\n",
       "  Widgets Documentation</a> for setup instructions.\n",
       "</p>\n",
       "<p>\n",
       "  If you're reading this message in another frontend (for example, a static\n",
       "  rendering on GitHub or <a href=\"https://nbviewer.jupyter.org/\">NBViewer</a>),\n",
       "  it may mean that your frontend doesn't currently support widgets.\n",
       "</p>\n"
      ],
      "text/plain": [
       "HBox(children=(IntProgress(value=0, max=160), HTML(value='')))"
      ]
     },
     "metadata": {},
     "output_type": "display_data"
    },
    {
     "name": "stdout",
     "output_type": "stream",
     "text": [
      "\n",
      "Some of the loaded zipfs and its class:\n",
      "Path: \u001b[1mauthors/zipfs/testing/twain/double-barrelled.json\u001b[0;0m, class: \u001b[1mtwain\u001b[0;0m\n",
      "Path: \u001b[1mauthors/zipfs/testing/twain/3294.json\u001b[0;0m, class: \u001b[1mtwain\u001b[0;0m\n",
      "Path: \u001b[1mauthors/zipfs/testing/wilde/2280.json\u001b[0;0m, class: \u001b[1mwilde\u001b[0;0m\n",
      "Path: \u001b[1mauthors/zipfs/testing/dh_lawrence/3484.json\u001b[0;0m, class: \u001b[1mdh_lawrence\u001b[0;0m\n",
      "Path: \u001b[1mauthors/zipfs/testing/wilde/2299.json\u001b[0;0m, class: \u001b[1mwilde\u001b[0;0m\n",
      "Path: \u001b[1mauthors/zipfs/testing/twain/3277.json\u001b[0;0m, class: \u001b[1mtwain\u001b[0;0m\n",
      "Path: \u001b[1mauthors/zipfs/testing/wilde/2318.json\u001b[0;0m, class: \u001b[1mwilde\u001b[0;0m\n",
      "Path: \u001b[1mauthors/zipfs/testing/dh_lawrence/3487.json\u001b[0;0m, class: \u001b[1mdh_lawrence\u001b[0;0m\n",
      "Path: \u001b[1mauthors/zipfs/testing/wilde/2288.json\u001b[0;0m, class: \u001b[1mwilde\u001b[0;0m\n",
      "Path: \u001b[1mauthors/zipfs/testing/twain/323.json\u001b[0;0m, class: \u001b[1mtwain\u001b[0;0m\n",
      "Success with metric \u001b[0;33mjensen_shannon\u001b[0;0m: \u001b[1m79.38%\u001b[0;0m\n"
     ]
    },
    {
     "data": {
      "text/html": [
       "<table>\n",
       "<tbody>\n",
       "<tr><td>success                      </td><td style=\"text-align: right;\">127        </td></tr>\n",
       "<tr><td>failures                     </td><td style=\"text-align: right;\"> 32        </td></tr>\n",
       "<tr><td>unclassified                 </td><td style=\"text-align: right;\">  1        </td></tr>\n",
       "<tr><td>mean_delta                   </td><td style=\"text-align: right;\">  0.0180276</td></tr>\n",
       "<tr><td>Mistook Wilde for Dh_lawrence</td><td style=\"text-align: right;\"> 16        </td></tr>\n",
       "<tr><td>Mistook Wilde for Twain      </td><td style=\"text-align: right;\"> 16        </td></tr>\n",
       "</tbody>\n",
       "</table>"
      ],
      "text/plain": [
       "<IPython.core.display.HTML object>"
      ]
     },
     "metadata": {},
     "output_type": "display_data"
    },
    {
     "name": "stdout",
     "output_type": "stream",
     "text": [
      "Success with metric \u001b[0;33mnormal_total_variation\u001b[0;0m: \u001b[1m73.75%\u001b[0;0m\n"
     ]
    },
    {
     "data": {
      "text/html": [
       "<table>\n",
       "<tbody>\n",
       "<tr><td>success                      </td><td style=\"text-align: right;\">118        </td></tr>\n",
       "<tr><td>failures                     </td><td style=\"text-align: right;\"> 42        </td></tr>\n",
       "<tr><td>unclassified                 </td><td style=\"text-align: right;\">  0        </td></tr>\n",
       "<tr><td>mean_delta                   </td><td style=\"text-align: right;\">  0.0265837</td></tr>\n",
       "<tr><td>Mistook Wilde for Dh_lawrence</td><td style=\"text-align: right;\"> 15        </td></tr>\n",
       "<tr><td>Mistook Wilde for Twain      </td><td style=\"text-align: right;\"> 21        </td></tr>\n",
       "<tr><td>Mistook Dh_lawrence for Twain</td><td style=\"text-align: right;\">  5        </td></tr>\n",
       "<tr><td>Mistook Twain for Wilde      </td><td style=\"text-align: right;\">  1        </td></tr>\n",
       "</tbody>\n",
       "</table>"
      ],
      "text/plain": [
       "<IPython.core.display.HTML object>"
      ]
     },
     "metadata": {},
     "output_type": "display_data"
    },
    {
     "name": "stdout",
     "output_type": "stream",
     "text": [
      "Success with metric \u001b[0;33mintersection_total_variation\u001b[0;0m: \u001b[1m78.75%\u001b[0;0m\n"
     ]
    },
    {
     "data": {
      "text/html": [
       "<table>\n",
       "<tbody>\n",
       "<tr><td>success                      </td><td style=\"text-align: right;\">126        </td></tr>\n",
       "<tr><td>failures                     </td><td style=\"text-align: right;\"> 34        </td></tr>\n",
       "<tr><td>unclassified                 </td><td style=\"text-align: right;\">  0        </td></tr>\n",
       "<tr><td>mean_delta                   </td><td style=\"text-align: right;\">  0.0366234</td></tr>\n",
       "<tr><td>Mistook Twain for Wilde      </td><td style=\"text-align: right;\">  3        </td></tr>\n",
       "<tr><td>Mistook Wilde for Dh_lawrence</td><td style=\"text-align: right;\"> 10        </td></tr>\n",
       "<tr><td>Mistook Dh_lawrence for Wilde</td><td style=\"text-align: right;\">  4        </td></tr>\n",
       "<tr><td>Mistook Wilde for Twain      </td><td style=\"text-align: right;\"> 14        </td></tr>\n",
       "<tr><td>Mistook Dh_lawrence for Twain</td><td style=\"text-align: right;\">  2        </td></tr>\n",
       "<tr><td>Mistook Twain for Dh_lawrence</td><td style=\"text-align: right;\">  1        </td></tr>\n",
       "</tbody>\n",
       "</table>"
      ],
      "text/plain": [
       "<IPython.core.display.HTML object>"
      ]
     },
     "metadata": {},
     "output_type": "display_data"
    },
    {
     "name": "stdout",
     "output_type": "stream",
     "text": [
      "Success with metric \u001b[0;31mkullback_leibler\u001b[0;0m: \u001b[1m60.0%\u001b[0;0m\n"
     ]
    },
    {
     "data": {
      "text/html": [
       "<table>\n",
       "<tbody>\n",
       "<tr><td>success                      </td><td style=\"text-align: right;\">96       </td></tr>\n",
       "<tr><td>failures                     </td><td style=\"text-align: right;\">64       </td></tr>\n",
       "<tr><td>unclassified                 </td><td style=\"text-align: right;\"> 0       </td></tr>\n",
       "<tr><td>mean_delta                   </td><td style=\"text-align: right;\"> 0.123656</td></tr>\n",
       "<tr><td>Mistook Dh_lawrence for Wilde</td><td style=\"text-align: right;\">26       </td></tr>\n",
       "<tr><td>Mistook Twain for Wilde      </td><td style=\"text-align: right;\">20       </td></tr>\n",
       "<tr><td>Mistook Wilde for Dh_lawrence</td><td style=\"text-align: right;\">13       </td></tr>\n",
       "<tr><td>Mistook Wilde for Twain      </td><td style=\"text-align: right;\"> 1       </td></tr>\n",
       "<tr><td>Mistook Twain for Dh_lawrence</td><td style=\"text-align: right;\"> 4       </td></tr>\n",
       "</tbody>\n",
       "</table>"
      ],
      "text/plain": [
       "<IPython.core.display.HTML object>"
      ]
     },
     "metadata": {},
     "output_type": "display_data"
    },
    {
     "name": "stdout",
     "output_type": "stream",
     "text": [
      "Success with metric \u001b[0;33mintersection_squared_hellinger\u001b[0;0m: \u001b[1m81.88%\u001b[0;0m\n"
     ]
    },
    {
     "data": {
      "text/html": [
       "<table>\n",
       "<tbody>\n",
       "<tr><td>success                      </td><td style=\"text-align: right;\">131      </td></tr>\n",
       "<tr><td>failures                     </td><td style=\"text-align: right;\"> 29      </td></tr>\n",
       "<tr><td>unclassified                 </td><td style=\"text-align: right;\">  0      </td></tr>\n",
       "<tr><td>mean_delta                   </td><td style=\"text-align: right;\">  2.99136</td></tr>\n",
       "<tr><td>Mistook Wilde for Twain      </td><td style=\"text-align: right;\"> 20      </td></tr>\n",
       "<tr><td>Mistook Wilde for Dh_lawrence</td><td style=\"text-align: right;\">  6      </td></tr>\n",
       "<tr><td>Mistook Dh_lawrence for Twain</td><td style=\"text-align: right;\">  3      </td></tr>\n",
       "</tbody>\n",
       "</table>"
      ],
      "text/plain": [
       "<IPython.core.display.HTML object>"
      ]
     },
     "metadata": {},
     "output_type": "display_data"
    },
    {
     "name": "stdout",
     "output_type": "stream",
     "text": [
      "Success with metric \u001b[0;33mhellinger\u001b[0;0m: \u001b[1m81.25%\u001b[0;0m\n"
     ]
    },
    {
     "data": {
      "text/html": [
       "<table>\n",
       "<tbody>\n",
       "<tr><td>success                      </td><td style=\"text-align: right;\">130        </td></tr>\n",
       "<tr><td>failures                     </td><td style=\"text-align: right;\"> 30        </td></tr>\n",
       "<tr><td>unclassified                 </td><td style=\"text-align: right;\">  0        </td></tr>\n",
       "<tr><td>mean_delta                   </td><td style=\"text-align: right;\">  0.0217585</td></tr>\n",
       "<tr><td>Mistook Wilde for Dh_lawrence</td><td style=\"text-align: right;\"> 15        </td></tr>\n",
       "<tr><td>Mistook Wilde for Twain      </td><td style=\"text-align: right;\"> 15        </td></tr>\n",
       "</tbody>\n",
       "</table>"
      ],
      "text/plain": [
       "<IPython.core.display.HTML object>"
      ]
     },
     "metadata": {},
     "output_type": "display_data"
    },
    {
     "name": "stdout",
     "output_type": "stream",
     "text": [
      "Success with metric \u001b[0;33msquared_hellinger\u001b[0;0m: \u001b[1m81.25%\u001b[0;0m\n"
     ]
    },
    {
     "data": {
      "text/html": [
       "<table>\n",
       "<tbody>\n",
       "<tr><td>success                      </td><td style=\"text-align: right;\">130        </td></tr>\n",
       "<tr><td>failures                     </td><td style=\"text-align: right;\"> 30        </td></tr>\n",
       "<tr><td>unclassified                 </td><td style=\"text-align: right;\">  0        </td></tr>\n",
       "<tr><td>mean_delta                   </td><td style=\"text-align: right;\">  0.0259997</td></tr>\n",
       "<tr><td>Mistook Wilde for Dh_lawrence</td><td style=\"text-align: right;\"> 15        </td></tr>\n",
       "<tr><td>Mistook Wilde for Twain      </td><td style=\"text-align: right;\"> 15        </td></tr>\n",
       "</tbody>\n",
       "</table>"
      ],
      "text/plain": [
       "<IPython.core.display.HTML object>"
      ]
     },
     "metadata": {},
     "output_type": "display_data"
    },
    {
     "name": "stdout",
     "output_type": "stream",
     "text": [
      "Testing dataset \u001b[1mperiods\u001b[0;0m\n",
      "I will build learning zipfs from \u001b[1mperiods/learning\u001b[0;0m,\n",
      "testing zipfs from \u001b[1mperiods/testing\u001b[0;0m\n",
      "and save them in \u001b[1mperiods/zipfs\u001b[0;0m\n",
      "\n",
      "Loading zipfs from \u001b[1mperiods/zipfs/learning\u001b[0;0m\n"
     ]
    },
    {
     "data": {
      "application/vnd.jupyter.widget-view+json": {
       "model_id": "288964596a1e40a5baf1c5c0af34d9cc",
       "version_major": 2,
       "version_minor": 0
      },
      "text/html": [
       "<p>Failed to display Jupyter Widget of type <code>HBox</code>.</p>\n",
       "<p>\n",
       "  If you're reading this message in the Jupyter Notebook or JupyterLab Notebook, it may mean\n",
       "  that the widgets JavaScript is still loading. If this message persists, it\n",
       "  likely means that the widgets JavaScript library is either not installed or\n",
       "  not enabled. See the <a href=\"https://ipywidgets.readthedocs.io/en/stable/user_install.html\">Jupyter\n",
       "  Widgets Documentation</a> for setup instructions.\n",
       "</p>\n",
       "<p>\n",
       "  If you're reading this message in another frontend (for example, a static\n",
       "  rendering on GitHub or <a href=\"https://nbviewer.jupyter.org/\">NBViewer</a>),\n",
       "  it may mean that your frontend doesn't currently support widgets.\n",
       "</p>\n"
      ],
      "text/plain": [
       "HBox(children=(IntProgress(value=0, max=4), HTML(value='')))"
      ]
     },
     "metadata": {},
     "output_type": "display_data"
    },
    {
     "name": "stdout",
     "output_type": "stream",
     "text": [
      "Zipf periods/zipfs/learning/modernism.json has len 160714\n",
      "Zipf periods/zipfs/learning/realism.json has len 100528\n",
      "Zipf periods/zipfs/learning/romanticism.json has len 126252\n",
      "Zipf periods/zipfs/learning/naturalism.json has len 150838\n",
      "\n",
      "Some of the loaded zipfs and its class:\n",
      "Path: \u001b[1mperiods/zipfs/learning/modernism.json\u001b[0;0m, class: \u001b[1mmodernism\u001b[0;0m\n",
      "Path: \u001b[1mperiods/zipfs/learning/realism.json\u001b[0;0m, class: \u001b[1mrealism\u001b[0;0m\n",
      "Path: \u001b[1mperiods/zipfs/learning/romanticism.json\u001b[0;0m, class: \u001b[1mromanticism\u001b[0;0m\n",
      "Path: \u001b[1mperiods/zipfs/learning/naturalism.json\u001b[0;0m, class: \u001b[1mnaturalism\u001b[0;0m\n",
      "Loading tests from \u001b[1mperiods/zipfs/testing\u001b[0;0m\n"
     ]
    },
    {
     "data": {
      "application/vnd.jupyter.widget-view+json": {
       "model_id": "e8402bc42e5b4866b8647f090cf7abef",
       "version_major": 2,
       "version_minor": 0
      },
      "text/html": [
       "<p>Failed to display Jupyter Widget of type <code>HBox</code>.</p>\n",
       "<p>\n",
       "  If you're reading this message in the Jupyter Notebook or JupyterLab Notebook, it may mean\n",
       "  that the widgets JavaScript is still loading. If this message persists, it\n",
       "  likely means that the widgets JavaScript library is either not installed or\n",
       "  not enabled. See the <a href=\"https://ipywidgets.readthedocs.io/en/stable/user_install.html\">Jupyter\n",
       "  Widgets Documentation</a> for setup instructions.\n",
       "</p>\n",
       "<p>\n",
       "  If you're reading this message in another frontend (for example, a static\n",
       "  rendering on GitHub or <a href=\"https://nbviewer.jupyter.org/\">NBViewer</a>),\n",
       "  it may mean that your frontend doesn't currently support widgets.\n",
       "</p>\n"
      ],
      "text/plain": [
       "HBox(children=(IntProgress(value=0, max=864), HTML(value='')))"
      ]
     },
     "metadata": {},
     "output_type": "display_data"
    },
    {
     "name": "stdout",
     "output_type": "stream",
     "text": [
      "\n",
      "Some of the loaded zipfs and its class:\n",
      "Path: \u001b[1mperiods/zipfs/testing/romanticism/680.json\u001b[0;0m, class: \u001b[1mromanticism\u001b[0;0m\n",
      "Path: \u001b[1mperiods/zipfs/testing/modernism/sea-and-sardinia.json\u001b[0;0m, class: \u001b[1mmodernism\u001b[0;0m\n",
      "Path: \u001b[1mperiods/zipfs/testing/romanticism/158.json\u001b[0;0m, class: \u001b[1mromanticism\u001b[0;0m\n",
      "Path: \u001b[1mperiods/zipfs/testing/romanticism/fugitive-pieces.json\u001b[0;0m, class: \u001b[1mromanticism\u001b[0;0m\n",
      "Path: \u001b[1mperiods/zipfs/testing/romanticism/3882.json\u001b[0;0m, class: \u001b[1mromanticism\u001b[0;0m\n",
      "Path: \u001b[1mperiods/zipfs/testing/romanticism/129.json\u001b[0;0m, class: \u001b[1mromanticism\u001b[0;0m\n",
      "Path: \u001b[1mperiods/zipfs/testing/modernism/misalliance.json\u001b[0;0m, class: \u001b[1mmodernism\u001b[0;0m\n",
      "Path: \u001b[1mperiods/zipfs/testing/romanticism/684.json\u001b[0;0m, class: \u001b[1mromanticism\u001b[0;0m\n",
      "Path: \u001b[1mperiods/zipfs/testing/modernism/in-the-cage.json\u001b[0;0m, class: \u001b[1mmodernism\u001b[0;0m\n",
      "Path: \u001b[1mperiods/zipfs/testing/realism/4137.json\u001b[0;0m, class: \u001b[1mrealism\u001b[0;0m\n",
      "Success with metric \u001b[0;31mjensen_shannon\u001b[0;0m: \u001b[1m63.77%\u001b[0;0m\n"
     ]
    },
    {
     "data": {
      "text/html": [
       "<table>\n",
       "<tbody>\n",
       "<tr><td>success                           </td><td style=\"text-align: right;\">551         </td></tr>\n",
       "<tr><td>failures                          </td><td style=\"text-align: right;\">313         </td></tr>\n",
       "<tr><td>unclassified                      </td><td style=\"text-align: right;\">  0         </td></tr>\n",
       "<tr><td>mean_delta                        </td><td style=\"text-align: right;\">  0.00737391</td></tr>\n",
       "<tr><td>Mistook Modernism for Naturalism  </td><td style=\"text-align: right;\"> 16         </td></tr>\n",
       "<tr><td>Mistook Romanticism for Realism   </td><td style=\"text-align: right;\">137         </td></tr>\n",
       "<tr><td>Mistook Modernism for Realism     </td><td style=\"text-align: right;\"> 31         </td></tr>\n",
       "<tr><td>Mistook Realism for Romanticism   </td><td style=\"text-align: right;\"> 25         </td></tr>\n",
       "<tr><td>Mistook Romanticism for Naturalism</td><td style=\"text-align: right;\"> 11         </td></tr>\n",
       "<tr><td>Mistook Naturalism for Realism    </td><td style=\"text-align: right;\"> 27         </td></tr>\n",
       "<tr><td>Mistook Realism for Naturalism    </td><td style=\"text-align: right;\">  5         </td></tr>\n",
       "<tr><td>Mistook Naturalism for Modernism  </td><td style=\"text-align: right;\"> 16         </td></tr>\n",
       "<tr><td>Mistook Realism for Modernism     </td><td style=\"text-align: right;\"> 10         </td></tr>\n",
       "<tr><td>Mistook Modernism for Romanticism </td><td style=\"text-align: right;\"> 23         </td></tr>\n",
       "<tr><td>Mistook Naturalism for Romanticism</td><td style=\"text-align: right;\">  3         </td></tr>\n",
       "<tr><td>Mistook Romanticism for Modernism </td><td style=\"text-align: right;\">  9         </td></tr>\n",
       "</tbody>\n",
       "</table>"
      ],
      "text/plain": [
       "<IPython.core.display.HTML object>"
      ]
     },
     "metadata": {},
     "output_type": "display_data"
    },
    {
     "name": "stdout",
     "output_type": "stream",
     "text": [
      "Success with metric \u001b[0;31mnormal_total_variation\u001b[0;0m: \u001b[1m58.8%\u001b[0;0m\n"
     ]
    },
    {
     "data": {
      "text/html": [
       "<table>\n",
       "<tbody>\n",
       "<tr><td>success                           </td><td style=\"text-align: right;\">508        </td></tr>\n",
       "<tr><td>failures                          </td><td style=\"text-align: right;\">356        </td></tr>\n",
       "<tr><td>unclassified                      </td><td style=\"text-align: right;\">  0        </td></tr>\n",
       "<tr><td>mean_delta                        </td><td style=\"text-align: right;\">  0.0114856</td></tr>\n",
       "<tr><td>Mistook Modernism for Naturalism  </td><td style=\"text-align: right;\"> 20        </td></tr>\n",
       "<tr><td>Mistook Modernism for Realism     </td><td style=\"text-align: right;\"> 27        </td></tr>\n",
       "<tr><td>Mistook Romanticism for Realism   </td><td style=\"text-align: right;\">133        </td></tr>\n",
       "<tr><td>Mistook Realism for Romanticism   </td><td style=\"text-align: right;\"> 26        </td></tr>\n",
       "<tr><td>Mistook Romanticism for Modernism </td><td style=\"text-align: right;\"> 37        </td></tr>\n",
       "<tr><td>Mistook Romanticism for Naturalism</td><td style=\"text-align: right;\"> 24        </td></tr>\n",
       "<tr><td>Mistook Naturalism for Realism    </td><td style=\"text-align: right;\"> 17        </td></tr>\n",
       "<tr><td>Mistook Realism for Naturalism    </td><td style=\"text-align: right;\">  8        </td></tr>\n",
       "<tr><td>Mistook Naturalism for Modernism  </td><td style=\"text-align: right;\"> 24        </td></tr>\n",
       "<tr><td>Mistook Realism for Modernism     </td><td style=\"text-align: right;\"> 12        </td></tr>\n",
       "<tr><td>Mistook Naturalism for Romanticism</td><td style=\"text-align: right;\">  3        </td></tr>\n",
       "<tr><td>Mistook Modernism for Romanticism </td><td style=\"text-align: right;\"> 25        </td></tr>\n",
       "</tbody>\n",
       "</table>"
      ],
      "text/plain": [
       "<IPython.core.display.HTML object>"
      ]
     },
     "metadata": {},
     "output_type": "display_data"
    },
    {
     "name": "stdout",
     "output_type": "stream",
     "text": [
      "Success with metric \u001b[0;31mintersection_total_variation\u001b[0;0m: \u001b[1m59.49%\u001b[0;0m\n"
     ]
    },
    {
     "data": {
      "text/html": [
       "<table>\n",
       "<tbody>\n",
       "<tr><td>success                           </td><td style=\"text-align: right;\">514        </td></tr>\n",
       "<tr><td>failures                          </td><td style=\"text-align: right;\">350        </td></tr>\n",
       "<tr><td>unclassified                      </td><td style=\"text-align: right;\">  0        </td></tr>\n",
       "<tr><td>mean_delta                        </td><td style=\"text-align: right;\">  0.0246552</td></tr>\n",
       "<tr><td>Mistook Romanticism for Realism   </td><td style=\"text-align: right;\"> 40        </td></tr>\n",
       "<tr><td>Mistook Modernism for Naturalism  </td><td style=\"text-align: right;\"> 30        </td></tr>\n",
       "<tr><td>Mistook Romanticism for Modernism </td><td style=\"text-align: right;\"> 85        </td></tr>\n",
       "<tr><td>Mistook Realism for Modernism     </td><td style=\"text-align: right;\"> 23        </td></tr>\n",
       "<tr><td>Mistook Realism for Romanticism   </td><td style=\"text-align: right;\"> 63        </td></tr>\n",
       "<tr><td>Mistook Romanticism for Naturalism</td><td style=\"text-align: right;\"> 21        </td></tr>\n",
       "<tr><td>Mistook Modernism for Realism     </td><td style=\"text-align: right;\">  8        </td></tr>\n",
       "<tr><td>Mistook Realism for Naturalism    </td><td style=\"text-align: right;\"> 17        </td></tr>\n",
       "<tr><td>Mistook Modernism for Romanticism </td><td style=\"text-align: right;\"> 33        </td></tr>\n",
       "<tr><td>Mistook Naturalism for Romanticism</td><td style=\"text-align: right;\">  8        </td></tr>\n",
       "<tr><td>Mistook Naturalism for Modernism  </td><td style=\"text-align: right;\"> 20        </td></tr>\n",
       "<tr><td>Mistook Naturalism for Realism    </td><td style=\"text-align: right;\">  2        </td></tr>\n",
       "</tbody>\n",
       "</table>"
      ],
      "text/plain": [
       "<IPython.core.display.HTML object>"
      ]
     },
     "metadata": {},
     "output_type": "display_data"
    },
    {
     "name": "stdout",
     "output_type": "stream",
     "text": [
      "Success with metric \u001b[0;31mkullback_leibler\u001b[0;0m: \u001b[1m63.54%\u001b[0;0m\n"
     ]
    },
    {
     "data": {
      "text/html": [
       "<table>\n",
       "<tbody>\n",
       "<tr><td>success                           </td><td style=\"text-align: right;\">549       </td></tr>\n",
       "<tr><td>failures                          </td><td style=\"text-align: right;\">315       </td></tr>\n",
       "<tr><td>unclassified                      </td><td style=\"text-align: right;\">  0       </td></tr>\n",
       "<tr><td>mean_delta                        </td><td style=\"text-align: right;\">  0.116207</td></tr>\n",
       "<tr><td>Mistook Modernism for Naturalism  </td><td style=\"text-align: right;\"> 25       </td></tr>\n",
       "<tr><td>Mistook Romanticism for Naturalism</td><td style=\"text-align: right;\"> 15       </td></tr>\n",
       "<tr><td>Mistook Modernism for Realism     </td><td style=\"text-align: right;\"> 33       </td></tr>\n",
       "<tr><td>Mistook Realism for Romanticism   </td><td style=\"text-align: right;\"> 55       </td></tr>\n",
       "<tr><td>Mistook Realism for Naturalism    </td><td style=\"text-align: right;\"> 10       </td></tr>\n",
       "<tr><td>Mistook Romanticism for Realism   </td><td style=\"text-align: right;\"> 40       </td></tr>\n",
       "<tr><td>Mistook Modernism for Romanticism </td><td style=\"text-align: right;\"> 41       </td></tr>\n",
       "<tr><td>Mistook Naturalism for Realism    </td><td style=\"text-align: right;\"> 34       </td></tr>\n",
       "<tr><td>Mistook Realism for Modernism     </td><td style=\"text-align: right;\"> 26       </td></tr>\n",
       "<tr><td>Mistook Naturalism for Romanticism</td><td style=\"text-align: right;\"> 15       </td></tr>\n",
       "<tr><td>Mistook Naturalism for Modernism  </td><td style=\"text-align: right;\"> 14       </td></tr>\n",
       "<tr><td>Mistook Romanticism for Modernism </td><td style=\"text-align: right;\">  7       </td></tr>\n",
       "</tbody>\n",
       "</table>"
      ],
      "text/plain": [
       "<IPython.core.display.HTML object>"
      ]
     },
     "metadata": {},
     "output_type": "display_data"
    },
    {
     "name": "stdout",
     "output_type": "stream",
     "text": [
      "Success with metric \u001b[0;32mintersection_squared_hellinger\u001b[0;0m: \u001b[1m87.5%\u001b[0;0m\n"
     ]
    },
    {
     "data": {
      "text/html": [
       "<table>\n",
       "<tbody>\n",
       "<tr><td>success                           </td><td style=\"text-align: right;\">756      </td></tr>\n",
       "<tr><td>failures                          </td><td style=\"text-align: right;\">108      </td></tr>\n",
       "<tr><td>unclassified                      </td><td style=\"text-align: right;\">  0      </td></tr>\n",
       "<tr><td>mean_delta                        </td><td style=\"text-align: right;\">  1.19871</td></tr>\n",
       "<tr><td>Mistook Romanticism for Naturalism</td><td style=\"text-align: right;\">  8      </td></tr>\n",
       "<tr><td>Mistook Realism for Romanticism   </td><td style=\"text-align: right;\"> 31      </td></tr>\n",
       "<tr><td>Mistook Modernism for Naturalism  </td><td style=\"text-align: right;\"> 22      </td></tr>\n",
       "<tr><td>Mistook Modernism for Romanticism </td><td style=\"text-align: right;\"> 15      </td></tr>\n",
       "<tr><td>Mistook Naturalism for Romanticism</td><td style=\"text-align: right;\">  3      </td></tr>\n",
       "<tr><td>Mistook Realism for Naturalism    </td><td style=\"text-align: right;\"> 12      </td></tr>\n",
       "<tr><td>Mistook Naturalism for Modernism  </td><td style=\"text-align: right;\">  3      </td></tr>\n",
       "<tr><td>Mistook Modernism for Realism     </td><td style=\"text-align: right;\">  2      </td></tr>\n",
       "<tr><td>Mistook Romanticism for Realism   </td><td style=\"text-align: right;\">  3      </td></tr>\n",
       "<tr><td>Mistook Realism for Modernism     </td><td style=\"text-align: right;\">  5      </td></tr>\n",
       "<tr><td>Mistook Romanticism for Modernism </td><td style=\"text-align: right;\">  3      </td></tr>\n",
       "<tr><td>Mistook Naturalism for Realism    </td><td style=\"text-align: right;\">  1      </td></tr>\n",
       "</tbody>\n",
       "</table>"
      ],
      "text/plain": [
       "<IPython.core.display.HTML object>"
      ]
     },
     "metadata": {},
     "output_type": "display_data"
    },
    {
     "name": "stdout",
     "output_type": "stream",
     "text": [
      "Success with metric \u001b[0;31mhellinger\u001b[0;0m: \u001b[1m65.39%\u001b[0;0m\n"
     ]
    },
    {
     "data": {
      "text/html": [
       "<table>\n",
       "<tbody>\n",
       "<tr><td>success                           </td><td style=\"text-align: right;\">565         </td></tr>\n",
       "<tr><td>failures                          </td><td style=\"text-align: right;\">299         </td></tr>\n",
       "<tr><td>unclassified                      </td><td style=\"text-align: right;\">  0         </td></tr>\n",
       "<tr><td>mean_delta                        </td><td style=\"text-align: right;\">  0.00946594</td></tr>\n",
       "<tr><td>Mistook Modernism for Realism     </td><td style=\"text-align: right;\"> 27         </td></tr>\n",
       "<tr><td>Mistook Romanticism for Realism   </td><td style=\"text-align: right;\">137         </td></tr>\n",
       "<tr><td>Mistook Realism for Romanticism   </td><td style=\"text-align: right;\"> 24         </td></tr>\n",
       "<tr><td>Mistook Modernism for Naturalism  </td><td style=\"text-align: right;\"> 10         </td></tr>\n",
       "<tr><td>Mistook Romanticism for Naturalism</td><td style=\"text-align: right;\">  6         </td></tr>\n",
       "<tr><td>Mistook Naturalism for Realism    </td><td style=\"text-align: right;\"> 32         </td></tr>\n",
       "<tr><td>Mistook Realism for Naturalism    </td><td style=\"text-align: right;\">  4         </td></tr>\n",
       "<tr><td>Mistook Naturalism for Modernism  </td><td style=\"text-align: right;\"> 17         </td></tr>\n",
       "<tr><td>Mistook Realism for Modernism     </td><td style=\"text-align: right;\">  7         </td></tr>\n",
       "<tr><td>Mistook Modernism for Romanticism </td><td style=\"text-align: right;\"> 27         </td></tr>\n",
       "<tr><td>Mistook Naturalism for Romanticism</td><td style=\"text-align: right;\">  4         </td></tr>\n",
       "<tr><td>Mistook Romanticism for Modernism </td><td style=\"text-align: right;\">  4         </td></tr>\n",
       "</tbody>\n",
       "</table>"
      ],
      "text/plain": [
       "<IPython.core.display.HTML object>"
      ]
     },
     "metadata": {},
     "output_type": "display_data"
    },
    {
     "name": "stdout",
     "output_type": "stream",
     "text": [
      "Success with metric \u001b[0;31msquared_hellinger\u001b[0;0m: \u001b[1m65.39%\u001b[0;0m\n"
     ]
    },
    {
     "data": {
      "text/html": [
       "<table>\n",
       "<tbody>\n",
       "<tr><td>success                           </td><td style=\"text-align: right;\">565        </td></tr>\n",
       "<tr><td>failures                          </td><td style=\"text-align: right;\">299        </td></tr>\n",
       "<tr><td>unclassified                      </td><td style=\"text-align: right;\">  0        </td></tr>\n",
       "<tr><td>mean_delta                        </td><td style=\"text-align: right;\">  0.0107078</td></tr>\n",
       "<tr><td>Mistook Modernism for Realism     </td><td style=\"text-align: right;\"> 27        </td></tr>\n",
       "<tr><td>Mistook Romanticism for Realism   </td><td style=\"text-align: right;\">137        </td></tr>\n",
       "<tr><td>Mistook Realism for Romanticism   </td><td style=\"text-align: right;\"> 24        </td></tr>\n",
       "<tr><td>Mistook Modernism for Naturalism  </td><td style=\"text-align: right;\"> 10        </td></tr>\n",
       "<tr><td>Mistook Romanticism for Naturalism</td><td style=\"text-align: right;\">  6        </td></tr>\n",
       "<tr><td>Mistook Naturalism for Realism    </td><td style=\"text-align: right;\"> 32        </td></tr>\n",
       "<tr><td>Mistook Realism for Naturalism    </td><td style=\"text-align: right;\">  4        </td></tr>\n",
       "<tr><td>Mistook Naturalism for Modernism  </td><td style=\"text-align: right;\"> 17        </td></tr>\n",
       "<tr><td>Mistook Realism for Modernism     </td><td style=\"text-align: right;\">  7        </td></tr>\n",
       "<tr><td>Mistook Modernism for Romanticism </td><td style=\"text-align: right;\"> 27        </td></tr>\n",
       "<tr><td>Mistook Naturalism for Romanticism</td><td style=\"text-align: right;\">  4        </td></tr>\n",
       "<tr><td>Mistook Romanticism for Modernism </td><td style=\"text-align: right;\">  4        </td></tr>\n",
       "</tbody>\n",
       "</table>"
      ],
      "text/plain": [
       "<IPython.core.display.HTML object>"
      ]
     },
     "metadata": {},
     "output_type": "display_data"
    },
    {
     "name": "stdout",
     "output_type": "stream",
     "text": [
      "Testing dataset \u001b[1mrecipes\u001b[0;0m\n",
      "I will build learning zipfs from \u001b[1mrecipes/learning\u001b[0;0m,\n",
      "testing zipfs from \u001b[1mrecipes/testing\u001b[0;0m\n",
      "and save them in \u001b[1mrecipes/zipfs\u001b[0;0m\n",
      "\n",
      "Loading zipfs from \u001b[1mrecipes/zipfs/learning\u001b[0;0m\n"
     ]
    },
    {
     "data": {
      "application/vnd.jupyter.widget-view+json": {
       "model_id": "470a8e0fae524252a3894a39ebc90750",
       "version_major": 2,
       "version_minor": 0
      },
      "text/html": [
       "<p>Failed to display Jupyter Widget of type <code>HBox</code>.</p>\n",
       "<p>\n",
       "  If you're reading this message in the Jupyter Notebook or JupyterLab Notebook, it may mean\n",
       "  that the widgets JavaScript is still loading. If this message persists, it\n",
       "  likely means that the widgets JavaScript library is either not installed or\n",
       "  not enabled. See the <a href=\"https://ipywidgets.readthedocs.io/en/stable/user_install.html\">Jupyter\n",
       "  Widgets Documentation</a> for setup instructions.\n",
       "</p>\n",
       "<p>\n",
       "  If you're reading this message in another frontend (for example, a static\n",
       "  rendering on GitHub or <a href=\"https://nbviewer.jupyter.org/\">NBViewer</a>),\n",
       "  it may mean that your frontend doesn't currently support widgets.\n",
       "</p>\n"
      ],
      "text/plain": [
       "HBox(children=(IntProgress(value=0, max=2), HTML(value='')))"
      ]
     },
     "metadata": {},
     "output_type": "display_data"
    },
    {
     "name": "stdout",
     "output_type": "stream",
     "text": [
      "Zipf recipes/zipfs/learning/recipes.json has len 29094\n",
      "Zipf recipes/zipfs/learning/non_recipes.json has len 78810\n",
      "\n",
      "Some of the loaded zipfs and its class:\n",
      "Path: \u001b[1mrecipes/zipfs/learning/recipes.json\u001b[0;0m, class: \u001b[1mrecipes\u001b[0;0m\n",
      "Path: \u001b[1mrecipes/zipfs/learning/non_recipes.json\u001b[0;0m, class: \u001b[1mnon_recipes\u001b[0;0m\n",
      "Loading tests from \u001b[1mrecipes/zipfs/testing\u001b[0;0m\n"
     ]
    },
    {
     "data": {
      "application/vnd.jupyter.widget-view+json": {
       "model_id": "24aed1cfd6f24c78be473665598234b3",
       "version_major": 2,
       "version_minor": 0
      },
      "text/html": [
       "<p>Failed to display Jupyter Widget of type <code>HBox</code>.</p>\n",
       "<p>\n",
       "  If you're reading this message in the Jupyter Notebook or JupyterLab Notebook, it may mean\n",
       "  that the widgets JavaScript is still loading. If this message persists, it\n",
       "  likely means that the widgets JavaScript library is either not installed or\n",
       "  not enabled. See the <a href=\"https://ipywidgets.readthedocs.io/en/stable/user_install.html\">Jupyter\n",
       "  Widgets Documentation</a> for setup instructions.\n",
       "</p>\n",
       "<p>\n",
       "  If you're reading this message in another frontend (for example, a static\n",
       "  rendering on GitHub or <a href=\"https://nbviewer.jupyter.org/\">NBViewer</a>),\n",
       "  it may mean that your frontend doesn't currently support widgets.\n",
       "</p>\n"
      ],
      "text/plain": [
       "HBox(children=(IntProgress(value=0, max=7214), HTML(value='')))"
      ]
     },
     "metadata": {},
     "output_type": "display_data"
    },
    {
     "name": "stdout",
     "output_type": "stream",
     "text": [
      "\n",
      "Some of the loaded zipfs and its class:\n",
      "Path: \u001b[1mrecipes/zipfs/testing/non_recipes/3d42a56c681d56a73985877ba3c8bd6f.json\u001b[0;0m, class: \u001b[1mnon_recipes\u001b[0;0m\n",
      "Path: \u001b[1mrecipes/zipfs/testing/non_recipes/7c3d10eb81a2660e81cff3c3b41a951e.json\u001b[0;0m, class: \u001b[1mnon_recipes\u001b[0;0m\n",
      "Path: \u001b[1mrecipes/zipfs/testing/recipes/e2cd675ec121020b224e5118b5ae4d1b.json\u001b[0;0m, class: \u001b[1mrecipes\u001b[0;0m\n",
      "Path: \u001b[1mrecipes/zipfs/testing/recipes/2a90bc4cd74f6bbc578c9c5d8fda741f.json\u001b[0;0m, class: \u001b[1mrecipes\u001b[0;0m\n",
      "Path: \u001b[1mrecipes/zipfs/testing/non_recipes/bfbc1b5eee1d423942b8b0b55f82bbff.json\u001b[0;0m, class: \u001b[1mnon_recipes\u001b[0;0m\n",
      "Path: \u001b[1mrecipes/zipfs/testing/non_recipes/6c41a532214cc6dfdbcc9b3bb5be0630.json\u001b[0;0m, class: \u001b[1mnon_recipes\u001b[0;0m\n",
      "Path: \u001b[1mrecipes/zipfs/testing/non_recipes/c31a242182356ea14acf080f628b03cc.json\u001b[0;0m, class: \u001b[1mnon_recipes\u001b[0;0m\n",
      "Path: \u001b[1mrecipes/zipfs/testing/non_recipes/bbecd5cafac80b5441765704a18db2c3.json\u001b[0;0m, class: \u001b[1mnon_recipes\u001b[0;0m\n",
      "Path: \u001b[1mrecipes/zipfs/testing/non_recipes/3a2b4e9cb1130e371f12e48525e2e190.json\u001b[0;0m, class: \u001b[1mnon_recipes\u001b[0;0m\n",
      "Path: \u001b[1mrecipes/zipfs/testing/non_recipes/38928442e96835f1897ab5c1cb4276a3.json\u001b[0;0m, class: \u001b[1mnon_recipes\u001b[0;0m\n",
      "Success with metric \u001b[0;32mjensen_shannon\u001b[0;0m: \u001b[1m85.71%\u001b[0;0m\n"
     ]
    },
    {
     "data": {
      "text/html": [
       "<table>\n",
       "<tbody>\n",
       "<tr><td>success                        </td><td style=\"text-align: right;\">6183        </td></tr>\n",
       "<tr><td>failures                       </td><td style=\"text-align: right;\">1030        </td></tr>\n",
       "<tr><td>unclassified                   </td><td style=\"text-align: right;\">   1        </td></tr>\n",
       "<tr><td>mean_delta                     </td><td style=\"text-align: right;\">   0.0484755</td></tr>\n",
       "<tr><td>Mistook Non_recipes for Recipes</td><td style=\"text-align: right;\">1030        </td></tr>\n",
       "</tbody>\n",
       "</table>"
      ],
      "text/plain": [
       "<IPython.core.display.HTML object>"
      ]
     },
     "metadata": {},
     "output_type": "display_data"
    },
    {
     "name": "stdout",
     "output_type": "stream",
     "text": [
      "Success with metric \u001b[0;33mnormal_total_variation\u001b[0;0m: \u001b[1m72.04%\u001b[0;0m\n"
     ]
    },
    {
     "data": {
      "text/html": [
       "<table>\n",
       "<tbody>\n",
       "<tr><td>success                        </td><td style=\"text-align: right;\">5197        </td></tr>\n",
       "<tr><td>failures                       </td><td style=\"text-align: right;\">2016        </td></tr>\n",
       "<tr><td>unclassified                   </td><td style=\"text-align: right;\">   1        </td></tr>\n",
       "<tr><td>mean_delta                     </td><td style=\"text-align: right;\">   0.0538705</td></tr>\n",
       "<tr><td>Mistook Non_recipes for Recipes</td><td style=\"text-align: right;\">2016        </td></tr>\n",
       "</tbody>\n",
       "</table>"
      ],
      "text/plain": [
       "<IPython.core.display.HTML object>"
      ]
     },
     "metadata": {},
     "output_type": "display_data"
    },
    {
     "name": "stdout",
     "output_type": "stream",
     "text": [
      "Success with metric \u001b[0;32mintersection_total_variation\u001b[0;0m: \u001b[1m93.64%\u001b[0;0m\n"
     ]
    },
    {
     "data": {
      "text/html": [
       "<table>\n",
       "<tbody>\n",
       "<tr><td>success                        </td><td style=\"text-align: right;\">6755        </td></tr>\n",
       "<tr><td>failures                       </td><td style=\"text-align: right;\"> 459        </td></tr>\n",
       "<tr><td>unclassified                   </td><td style=\"text-align: right;\">   0        </td></tr>\n",
       "<tr><td>mean_delta                     </td><td style=\"text-align: right;\">   0.0799341</td></tr>\n",
       "<tr><td>Mistook Non_recipes for Recipes</td><td style=\"text-align: right;\"> 458        </td></tr>\n",
       "<tr><td>Mistook Recipes for Non_recipes</td><td style=\"text-align: right;\">   1        </td></tr>\n",
       "</tbody>\n",
       "</table>"
      ],
      "text/plain": [
       "<IPython.core.display.HTML object>"
      ]
     },
     "metadata": {},
     "output_type": "display_data"
    },
    {
     "name": "stdout",
     "output_type": "stream",
     "text": [
      "Success with metric \u001b[0;31mkullback_leibler\u001b[0;0m: \u001b[1m28.64%\u001b[0;0m\n"
     ]
    },
    {
     "data": {
      "text/html": [
       "<table>\n",
       "<tbody>\n",
       "<tr><td>success                        </td><td style=\"text-align: right;\">2066       </td></tr>\n",
       "<tr><td>failures                       </td><td style=\"text-align: right;\">5148       </td></tr>\n",
       "<tr><td>unclassified                   </td><td style=\"text-align: right;\">   0       </td></tr>\n",
       "<tr><td>mean_delta                     </td><td style=\"text-align: right;\">   0.848787</td></tr>\n",
       "<tr><td>Mistook Non_recipes for Recipes</td><td style=\"text-align: right;\">5148       </td></tr>\n",
       "</tbody>\n",
       "</table>"
      ],
      "text/plain": [
       "<IPython.core.display.HTML object>"
      ]
     },
     "metadata": {},
     "output_type": "display_data"
    },
    {
     "name": "stdout",
     "output_type": "stream",
     "text": [
      "Success with metric \u001b[0;32mintersection_squared_hellinger\u001b[0;0m: \u001b[1m99.79%\u001b[0;0m\n"
     ]
    },
    {
     "data": {
      "text/html": [
       "<table>\n",
       "<tbody>\n",
       "<tr><td>success                        </td><td style=\"text-align: right;\">7199      </td></tr>\n",
       "<tr><td>failures                       </td><td style=\"text-align: right;\">  15      </td></tr>\n",
       "<tr><td>unclassified                   </td><td style=\"text-align: right;\">   0      </td></tr>\n",
       "<tr><td>mean_delta                     </td><td style=\"text-align: right;\">   6.90183</td></tr>\n",
       "<tr><td>Mistook Non_recipes for Recipes</td><td style=\"text-align: right;\">  14      </td></tr>\n",
       "<tr><td>Mistook Recipes for Non_recipes</td><td style=\"text-align: right;\">   1      </td></tr>\n",
       "</tbody>\n",
       "</table>"
      ],
      "text/plain": [
       "<IPython.core.display.HTML object>"
      ]
     },
     "metadata": {},
     "output_type": "display_data"
    },
    {
     "name": "stdout",
     "output_type": "stream",
     "text": [
      "Success with metric \u001b[0;32mhellinger\u001b[0;0m: \u001b[1m92.47%\u001b[0;0m\n"
     ]
    },
    {
     "data": {
      "text/html": [
       "<table>\n",
       "<tbody>\n",
       "<tr><td>success                        </td><td style=\"text-align: right;\">6671        </td></tr>\n",
       "<tr><td>failures                       </td><td style=\"text-align: right;\"> 541        </td></tr>\n",
       "<tr><td>unclassified                   </td><td style=\"text-align: right;\">   2        </td></tr>\n",
       "<tr><td>mean_delta                     </td><td style=\"text-align: right;\">   0.0540858</td></tr>\n",
       "<tr><td>Mistook Non_recipes for Recipes</td><td style=\"text-align: right;\"> 541        </td></tr>\n",
       "</tbody>\n",
       "</table>"
      ],
      "text/plain": [
       "<IPython.core.display.HTML object>"
      ]
     },
     "metadata": {},
     "output_type": "display_data"
    },
    {
     "name": "stdout",
     "output_type": "stream",
     "text": [
      "Success with metric \u001b[0;32msquared_hellinger\u001b[0;0m: \u001b[1m92.49%\u001b[0;0m\n"
     ]
    },
    {
     "data": {
      "text/html": [
       "<table>\n",
       "<tbody>\n",
       "<tr><td>success                        </td><td style=\"text-align: right;\">6672        </td></tr>\n",
       "<tr><td>failures                       </td><td style=\"text-align: right;\"> 541        </td></tr>\n",
       "<tr><td>unclassified                   </td><td style=\"text-align: right;\">   1        </td></tr>\n",
       "<tr><td>mean_delta                     </td><td style=\"text-align: right;\">   0.0821632</td></tr>\n",
       "<tr><td>Mistook Non_recipes for Recipes</td><td style=\"text-align: right;\"> 541        </td></tr>\n",
       "</tbody>\n",
       "</table>"
      ],
      "text/plain": [
       "<IPython.core.display.HTML object>"
      ]
     },
     "metadata": {},
     "output_type": "display_data"
    }
   ],
   "source": [
    "for dataset in datasets:\n",
    "    print(\"Testing dataset %s\"%(b(dataset)))\n",
    "    learning_zipfs_path, testing_zipfs_path = get_classifier_paths(dataset)\n",
    "    load_zipfs(classifier, learning_zipfs_path)\n",
    "    test_couples = load_test_couples(testing_zipfs_path)\n",
    "    metrics_test(classifier, test_couples)\n",
    "    classifier.clear()"
   ]
  }
 ],
 "metadata": {
  "kernelspec": {
   "display_name": "Python 3",
   "language": "python",
   "name": "python3"
  },
  "language_info": {
   "codemirror_mode": {
    "name": "ipython",
    "version": 3
   },
   "file_extension": ".py",
   "mimetype": "text/x-python",
   "name": "python",
   "nbconvert_exporter": "python",
   "pygments_lexer": "ipython3",
   "version": "3.6.4"
  }
 },
 "nbformat": 4,
 "nbformat_minor": 2
}
