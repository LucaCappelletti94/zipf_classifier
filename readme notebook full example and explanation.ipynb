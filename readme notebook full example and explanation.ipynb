{
 "cells": [
  {
   "cell_type": "markdown",
   "metadata": {},
   "source": [
    "# Zipf Classifier\n",
    "## Using Zipfs to classify books and articles\n",
    "\n",
    "## Introduction\n",
    "Hello, I'm Luca Cappelletti and here I will show you a complete explanation and example of usage of [ZipfClassifier](https://github.com/LucaCappelletti94/zipf_classifier), a classifier that leverages the assumption that some kind of datasets (texts, [some images](http://www.dcs.warwick.ac.uk/bmvc2007/proceedings/CD-ROM/papers/paper-288.pdf), even [sounds in spoken languages](http://journals.plos.org/plosone/article?id=10.1371/journal.pone.0033993)) follows the [Zipf law](https://en.wikipedia.org/wiki/Zipf%27s_law).\n",
    "\n",
    "In the following examples, we will be trying to classify books to their authors and style periods and articles to their type of content."
   ]
  },
  {
   "cell_type": "markdown",
   "metadata": {},
   "source": [
    "## How to use this notebook"
   ]
  },
  {
   "cell_type": "markdown",
   "metadata": {},
   "source": [
    "This is a [Jupyter Notebook](http://jupyter.org/). You can either read it [here on github](https://github.com/LucaCappelletti94/zipf_classifier/blob/master/Classifying%20authors.ipynb) or, **preferably** to enjoy all its features, run it on your own computer. Jupyter comes installed with [Anaconda](https://anaconda.org/), to execute it you just need to run the following in your terminal:\n",
    "\n",
    "`jupyter-notebook`"
   ]
  },
  {
   "cell_type": "markdown",
   "metadata": {},
   "source": [
    "## What we will use"
   ]
  },
  {
   "cell_type": "markdown",
   "metadata": {},
   "source": [
    "### The packages\n",
    "We will use obviously the [ZipfClassifier](https://github.com/LucaCappelletti94/zipf_classifier) and other two packages of mine: [Zipf](https://github.com/LucaCappelletti94/zipf) (comes installed as a dependecy in the zipf_classifier) to create the distributions from the texts and [Dictances](https://github.com/LucaCappelletti94/dictances) for the classifications metrics, even though any custom metric is usable. If you need to install them just run the following command in your terminal:\n",
    "\n",
    "```pip install dictances zipf_classifier```"
   ]
  },
  {
   "cell_type": "code",
   "execution_count": 1,
   "metadata": {},
   "outputs": [],
   "source": [
    "from dictances import (hellinger, intersection_squared_hellinger,\n",
    "                       intersection_total_variation, jensen_shannon,\n",
    "                       kullback_leibler, normal_total_variation,\n",
    "                       squared_hellinger)\n",
    "from zipf.factories import ZipfFromDir\n",
    "\n",
    "from zipf_classifier import ZipfClassifier\n"
   ]
  },
  {
   "cell_type": "markdown",
   "metadata": {},
   "source": [
    "### Additional packages\n",
    "We will also be using some utilities, such as the loading bar `tqdm`. If you don't have them already you can install them by running:\n",
    "\n",
    "```\n",
    "pip install tqdm tabulate\n",
    "```\n",
    "\n",
    "The others packages should be already installed with python by default."
   ]
  },
  {
   "cell_type": "code",
   "execution_count": 2,
   "metadata": {},
   "outputs": [],
   "source": [
    "# To import source code from external packages\n",
    "import inspect \n",
    "# To use mathematical functions and defines\n",
    "import math\n",
    "# To access os functions on files and directories\n",
    "import os\n",
    "# To randomize (predictably) datasets\n",
    "import random\n",
    "# To access high level os functions on files and directories\n",
    "import shutil\n",
    "\n",
    "# To output html tables\n",
    "import tabulate\n",
    "# To display jupyter notebook html content (such as tables)\n",
    "from IPython.display import HTML, display\n",
    "# To highlight code\n",
    "from pygments import highlight\n",
    "from pygments.formatters import HtmlFormatter\n",
    "from pygments.lexers import PythonLexer\n",
    "# A nice loading bar for showing progresses\n",
    "from tqdm import tqdm_notebook as tqdm\n"
   ]
  },
  {
   "cell_type": "markdown",
   "metadata": {},
   "source": [
    "### Some small helpers\n",
    "Let's make ome small functions to help out loading folders:"
   ]
  },
  {
   "cell_type": "code",
   "execution_count": 3,
   "metadata": {},
   "outputs": [],
   "source": [
    "def get_dirs(root):\n",
    "    \"\"\"Return subdirectories under a directory.\"\"\"\n",
    "    return [root+\"/\"+d for d in os.listdir(root) if os.path.isdir(root+\"/\"+d)]"
   ]
  },
  {
   "cell_type": "markdown",
   "metadata": {},
   "source": [
    "and the book folders:"
   ]
  },
  {
   "cell_type": "code",
   "execution_count": 4,
   "metadata": {},
   "outputs": [],
   "source": [
    "def get_books(root):\n",
    "    \"\"\"Return all books found under a given root.\"\"\"\n",
    "    return [book[0] for book in os.walk(root) for chapter in book[2][:1] if chapter.endswith('.txt')]"
   ]
  },
  {
   "cell_type": "markdown",
   "metadata": {},
   "source": [
    "and the saved zipfs:"
   ]
  },
  {
   "cell_type": "code",
   "execution_count": 5,
   "metadata": {},
   "outputs": [],
   "source": [
    "def get_zipfs(root):\n",
    "    \"\"\"Return all zipfs found under a given root.\"\"\"\n",
    "    return [zipfs[0]+\"/\"+zipf for zipfs in os.walk(root) for zipf in zipfs[2] if zipf.endswith('.json')]"
   ]
  },
  {
   "cell_type": "markdown",
   "metadata": {},
   "source": [
    "### Some stylers"
   ]
  },
  {
   "cell_type": "code",
   "execution_count": 6,
   "metadata": {},
   "outputs": [],
   "source": [
    "frame_number = 30"
   ]
  },
  {
   "cell_type": "code",
   "execution_count": 7,
   "metadata": {},
   "outputs": [],
   "source": [
    "def b(string):\n",
    "    \"\"\"Return a boldified string.\"\"\"\n",
    "    return \"\\033[1m%s\\033[0;0m\"%string"
   ]
  },
  {
   "cell_type": "code",
   "execution_count": 8,
   "metadata": {},
   "outputs": [],
   "source": [
    "def red(string):\n",
    "    \"\"\"Return a red string.\"\"\"\n",
    "    return \"\\033[0;31m%s\\033[0;0m\"%string"
   ]
  },
  {
   "cell_type": "code",
   "execution_count": 9,
   "metadata": {},
   "outputs": [],
   "source": [
    "def yellow(string):\n",
    "    \"\"\"Return a yellow string.\"\"\"\n",
    "    return \"\\033[0;33m%s\\033[0;0m\"%string"
   ]
  },
  {
   "cell_type": "code",
   "execution_count": 10,
   "metadata": {},
   "outputs": [],
   "source": [
    "def green(string):\n",
    "    \"\"\"Return a green string.\"\"\"\n",
    "    return \"\\033[0;32m%s\\033[0;0m\"%string"
   ]
  },
  {
   "cell_type": "code",
   "execution_count": 11,
   "metadata": {},
   "outputs": [],
   "source": [
    "def gray(string):\n",
    "    \"\"\"Return a gray string.\"\"\"\n",
    "    return \"\\033[0;37m%s\\033[0;0m\"%string"
   ]
  },
  {
   "cell_type": "code",
   "execution_count": 12,
   "metadata": {},
   "outputs": [],
   "source": [
    "def print_function(function):\n",
    "    \"\"\"Print the source of a given function.\"\"\"\n",
    "    code = inspect.getsource(function)\n",
    "    formatter = HtmlFormatter()\n",
    "    display(HTML('<style type=\"text/css\">{}</style>{}'.format(\n",
    "        formatter.get_style_defs('.highlight'),\n",
    "        highlight(code, PythonLexer(), formatter))))"
   ]
  },
  {
   "cell_type": "code",
   "execution_count": 13,
   "metadata": {},
   "outputs": [],
   "source": [
    "def success(results, metric):\n",
    "    \"\"\"Show the result of a given test.\"\"\"\n",
    "    successes = results[\"success\"]\n",
    "    total = successes + results[\"failures\"] + results[\"unclassified\"]\n",
    "    percentage = round(successes/total*100,2)\n",
    "    if percentage > 85:\n",
    "        metric_name = green(metric.__name__)\n",
    "    elif percentage > 70:\n",
    "        metric_name = yellow(metric.__name__)\n",
    "    else:\n",
    "        metric_name = red(metric.__name__)\n",
    "    print(\"Success with metric %s: %s\"%(metric_name,b(str(percentage)+\"%\")))\n",
    "    display(HTML(tabulate.tabulate(list(results.items()), [\"Info\", \"Values\"], tablefmt='html')))"
   ]
  },
  {
   "cell_type": "markdown",
   "metadata": {},
   "source": [
    "### The datasets\n",
    "I've prepared three **datasets**:\n",
    "\n",
    "#### Authors dataset\n",
    "Dataset of english books from three **famous authors**: **D. H. Lawrence**, **Oscar Wilde** and **Mark Twain**.\n",
    "\n",
    "This dataset will be used to build a classifier able to classify the books to the respective author.\n",
    "\n",
    "#### Periods dataset\n",
    "Dataset of english books from four **style periods**: **Modernism**, **Naturalism**, **Realism** and **Romanticism**. \n",
    "This dataset will be used to build a classifier able to classify the books to the respective style period.\n",
    "\n",
    "#### Recipes dataset\n",
    "Dataset of italian articles, some containing recipes and some containing food reviews, food descriptions (eg wikipedia) or other articles.\n",
    "\n",
    "We will use this to classify articles to **recipes** and **non recipes**."
   ]
  },
  {
   "cell_type": "markdown",
   "metadata": {},
   "source": [
    "### Retrieving the datasets\n",
    "We download and extract the datasets:\n",
    "\n",
    "- [Link to authors dataset](https://mega.nz/#!SS4jgDKJ!zoBJ-sP22_qfI5YUquTewzeZ2KsuLqSvM1u_UL--46A)\n",
    "- [Link to periods dataset](https://mega.nz/#!2WREgZpQ!nDItooUUwVyGFyDBw1TA5TJ3GZGR7dzmJ4LbALvsiNs)\n",
    "- [Link to recipes dataset](https://mega.nz/#!vLZUwTLB!LkK_ZdA8D3loowd3byw7CisZrDPkbcOPjBq1lu2PbnA)\n",
    "\n",
    "Put them in the same folder of this notebook to use the datasets."
   ]
  },
  {
   "cell_type": "code",
   "execution_count": 14,
   "metadata": {},
   "outputs": [],
   "source": [
    "datasets = [\"authors\", \"periods\", \"recipes\"]"
   ]
  },
  {
   "cell_type": "markdown",
   "metadata": {},
   "source": [
    "Before going any further, let's check if the dataset are now present:"
   ]
  },
  {
   "cell_type": "code",
   "execution_count": 15,
   "metadata": {},
   "outputs": [],
   "source": [
    "for dataset in datasets:\n",
    "    if not os.path.isdir(dataset):\n",
    "        raise FileNotFoundError(\"The dataset %s is missing!\"%(red(dataset)))"
   ]
  },
  {
   "cell_type": "markdown",
   "metadata": {},
   "source": [
    "Ok! We can proceed."
   ]
  },
  {
   "cell_type": "markdown",
   "metadata": {},
   "source": [
    "#### Splitting into train and test\n",
    "Let's say we leave 60% to learning and 40% to testing. Let's proceed to split the dataset in two:"
   ]
  },
  {
   "cell_type": "code",
   "execution_count": 16,
   "metadata": {},
   "outputs": [],
   "source": [
    "learning_percentage = 0.6"
   ]
  },
  {
   "cell_type": "markdown",
   "metadata": {},
   "source": [
    "First we check if the dataset is already split (this might be a re-run):"
   ]
  },
  {
   "cell_type": "code",
   "execution_count": 17,
   "metadata": {},
   "outputs": [],
   "source": [
    "def is_already_split(root):\n",
    "    \"\"\"Return a bool indicating if the dataset has already been split.\"\"\"\n",
    "    split_warns = [\"learning\", \"testing\"]\n",
    "    for sub_dir in os.listdir(root):\n",
    "        for split_warn in split_warns:\n",
    "            if split_warn in sub_dir:\n",
    "                return True\n",
    "    return False"
   ]
  },
  {
   "cell_type": "markdown",
   "metadata": {},
   "source": [
    "Then we split the dataset's books as follows:\n",
    "\n",
    "Since we want the zipfs that the classifier will use to do the classification built on a proportioned dataset, we pick the percentage of books put aside for learning from the minimum number of books for class in the dataset."
   ]
  },
  {
   "cell_type": "code",
   "execution_count": 18,
   "metadata": {},
   "outputs": [],
   "source": [
    "def split_books(root, percentage):\n",
    "    \"\"\"Split the dataset into learning and testing.\"\"\"\n",
    "    min_books = math.inf\n",
    "    for book_class in get_dirs(root):\n",
    "        books = get_books(book_class)\n",
    "        min_books = min(min_books, len(books))\n",
    "    for book_class in get_dirs(root):\n",
    "        books = get_books(book_class)\n",
    "        random.seed(42) # for reproducibility\n",
    "        random.shuffle(books) # Shuffling books\n",
    "        n = int(min_books*percentage)\n",
    "        learning_set, testing_set = books[:n], books[n:] # splitting books into the two partitions\n",
    "        # Moving into respective folders\n",
    "        [shutil.copytree(book, \"%s/learning/%s\"%(root, book[len(root)+1:])) for book in learning_set]\n",
    "        [shutil.copytree(book, \"%s/testing/%s\"%(root, book[len(root)+1:])) for book in testing_set]"
   ]
  },
  {
   "cell_type": "markdown",
   "metadata": {},
   "source": [
    "Here we actually run the two functions:"
   ]
  },
  {
   "cell_type": "code",
   "execution_count": 19,
   "metadata": {},
   "outputs": [
    {
     "name": "stdout",
     "output_type": "stream",
     "text": [
      "I believe I've already split the dataset \u001b[1mauthors\u001b[0;0m!\n",
      "I believe I've already split the dataset \u001b[1mperiods\u001b[0;0m!\n",
      "I believe I've already split the dataset \u001b[1mrecipes\u001b[0;0m!\n"
     ]
    }
   ],
   "source": [
    "for dataset in datasets:\n",
    "    if is_already_split(dataset):\n",
    "        print(\"I believe I've already split the dataset %s!\"%(b(dataset)))\n",
    "    else:\n",
    "        split_books(dataset, learning_percentage)"
   ]
  },
  {
   "cell_type": "markdown",
   "metadata": {},
   "source": [
    "## The metrics"
   ]
  },
  {
   "cell_type": "markdown",
   "metadata": {},
   "source": [
    "Since distributions hold the following properties:\n",
    "\n",
    "$$\n",
    "        q_i > 0\\quad \\forall i \\in Q,\\qquad  \\sum_{i \\in Q} q_i = 1\n",
    "$$\n",
    "\n",
    "we will use metrics that will exploit this properties.\n",
    "\n",
    "These metrics must wither have computational complexity $O(\\min{(n,m)}))$ (where $n$ and $m$ are respectively the cardinality of distributions $P$ and $Q$) or be defined only on the intersection of the distributions, for being practically usable (other than for other reasons shown in the `Root of errors` section).\n",
    "\n",
    "Informations on the metrics used are below:"
   ]
  },
  {
   "cell_type": "markdown",
   "metadata": {},
   "source": [
    "### Kullback Leibler Divergence\n",
    "$$\n",
    "    D_{KL}(P,Q) = \\sum_i P(i) \\log{\\frac{P(i)}{Q(i)}}\n",
    "$$\n",
    "The KL divergece is defined for all events in a set $P, Q \\subseteq X$. \n",
    "\n",
    "This forces to define the KL for zipfs only on the subset of the events that are shared beetween the two distributions: $X = P \\cap Q$.\n",
    "\n",
    "This ignores all the information about non-sharec events and it is solved via the Jensen Shannon divergence."
   ]
  },
  {
   "cell_type": "markdown",
   "metadata": {},
   "source": [
    "## Jensen Shannon Divergence\n",
    "$$\n",
    "    JSD(P,Q) = \\frac{1}{2}D_{KL}(P,M) + \\frac{1}{2}D_{KL}(Q, M) \\qquad M = \\frac{1}{2}(P+Q)\n",
    "$$\n",
    "\n",
    "The JS divergence is defined for every event in a set $X=P\\cup Q$, it is **symmetric** and has **always a finite value**."
   ]
  },
  {
   "cell_type": "markdown",
   "metadata": {},
   "source": [
    "### Getting the current implementation\n",
    "\n",
    "The current implementation works as follows:\n",
    "\n",
    "Starting from the extended formulation:\n",
    "\n",
    "$$\n",
    "    m_i = \\frac{1}{2}(p_i+q_i), \\quad p_i = \\begin{cases}\n",
    "        p_i & i \\in P\\\\\n",
    "        0 & otherwise\n",
    "    \\end{cases}, \\quad q_i = \\begin{cases}\n",
    "        q_i & i \\in Q\\\\\n",
    "        0 & otherwise\n",
    "    \\end{cases}\n",
    "$$\n",
    "\n",
    "$$\n",
    "    JSD(P,Q) = \\frac{1}{2}\\sum_{i \\in P} p_i \\log{\\frac{p_i}{m_i}} + \\frac{1}{2}\\sum_{j \\in Q} q_j \\log{\\frac{q_j}{m_j}}\n",
    "$$\n",
    "\n",
    "Replacing in the formulation $m_i$:\n",
    "\n",
    "$$\n",
    "    JSD(P,Q) = \\frac{1}{2}\\sum_{i \\in P} p_i \\log{\\frac{p_i}{\\frac{1}{2}(p_i+q_i)}} + \\frac{1}{2}\\sum_{j \\in Q} q_j \\log{\\frac{q_j}{\\frac{1}{2}(p_j+q_j)}}\n",
    "$$\n",
    "\n",
    "Splitting the sums in 3 distinc sets: $S_1 = i \\in P\\setminus P\\cap Q$, $S_2 = i \\in P\\cap Q$ and $S_3 = i \\in Q\\setminus P\\cap Q$.\n",
    "\n",
    "$$\n",
    "    JSD(P,Q) = JSD_{S_1}(P,Q) + JSD_{S_2}(P,Q) + JSD_{S_3}(P,Q)\n",
    "$$"
   ]
  },
  {
   "cell_type": "markdown",
   "metadata": {},
   "source": [
    "\\begin{align}\n",
    "    JSD_{S_1}(P,Q) &= \\frac{1}{2}\\sum_{i \\in P\\setminus P\\cap Q} p_i \\log{\\frac{p_i}{\\frac{1}{2}(p_i+q_i)}} + \\frac{1}{2}\\sum_{j \\in P\\setminus P\\cap Q} q_j \\log{\\frac{q_j}{\\frac{1}{2}(p_j+q_j)}}\\\\\n",
    "               &= \\frac{1}{2}\\sum_{i \\in P\\setminus P\\cap Q} p_i \\log{\\frac{p_i}{\\frac{1}{2}(p_i+q_i)}}\\\\\n",
    "               &= \\frac{1}{2}\\sum_{i \\in P\\setminus P\\cap Q} p_i \\log{\\frac{p_i}{\\frac{1}{2}p_i}}\\\\\n",
    "               &= \\frac{1}{2}\\sum_{i \\in P\\setminus P\\cap Q} p_i \\log{\\frac{1}{\\frac{1}{2}}}\\\\\n",
    "               &= \\frac{1}{2}\\sum_{i \\in P\\setminus P\\cap Q} p_i \\log{2}\\\\\n",
    "               &= \\frac{1}{2}\\log{2}\\sum_{i \\in P\\setminus P\\cap Q} p_i\\\\\n",
    "\\end{align}"
   ]
  },
  {
   "cell_type": "markdown",
   "metadata": {},
   "source": [
    "\\begin{align}\n",
    "    JSD_{S_2}(P,Q) &= \\frac{1}{2}\\sum_{i \\in P\\cap Q} p_i \\log{\\frac{p_i}{\\frac{1}{2}(p_i+q_i)}} + \\frac{1}{2}\\sum_{j \\in P\\cap Q} q_j \\log{\\frac{q_j}{\\frac{1}{2}(p_j+q_j)}}\\\\\n",
    "               &= \\frac{1}{2}\\sum_{i \\in P\\cap Q} p_i \\log{\\frac{p_i}{\\frac{1}{2}(p_i+q_i)}} + q_i \\log{\\frac{q_i}{\\frac{1}{2}(p_i+q_i)}}\\\\\n",
    "               &= \\frac{1}{2}\\sum_{i \\in P\\cap Q} p_i \\log{\\frac{2p_i}{p_i+q_i}} + q_i \\log{\\frac{2q_i}{p_i+q_i}}\\\\\n",
    "\\end{align}"
   ]
  },
  {
   "cell_type": "markdown",
   "metadata": {},
   "source": [
    "\\begin{align}\n",
    "    JSD_{S_3}(P,Q) &= \\frac{1}{2}\\log{2}\\sum_{j \\in Q\\setminus P\\cap Q} q_j\\\\\n",
    "\\end{align}"
   ]
  },
  {
   "cell_type": "markdown",
   "metadata": {},
   "source": [
    "Summing $JSD_{S_1}$ and $JSD_{S_3}$ we can obtain:"
   ]
  },
  {
   "cell_type": "markdown",
   "metadata": {},
   "source": [
    "$JSD_{S_1}+JSD_{S_3} = \\frac{1}{2}\\log{2}\\left(\\sum_{i \\in P\\setminus P\\cap Q} p_i + \\sum_{j \\in Q\\setminus P\\cap Q} q_j\\right)$"
   ]
  },
  {
   "cell_type": "markdown",
   "metadata": {},
   "source": [
    "In particular, if $\\sum_{j\\in Q}^m q_j = 1$ and $\\sum_{i\\in P}^n p_i = 1$, we can write:"
   ]
  },
  {
   "cell_type": "markdown",
   "metadata": {},
   "source": [
    "\\begin{align}\n",
    "JSD_{S_1}+JSD_{S_3} &= \\frac{1}{2}\\log{2}\\left(2 - \\sum_{i \\in P\\cap Q} p_i - \\sum_{j \\in P\\cap Q} q_j\\right)\\\\\n",
    "            &= \\frac{1}{2}\\log{2}\\left(2 - \\sum_{i \\in P\\cap Q} p_i + q_j\\right)\\\\\n",
    "\\end{align}"
   ]
  },
  {
   "cell_type": "markdown",
   "metadata": {},
   "source": [
    "Putting all togheter we obtain:"
   ]
  },
  {
   "cell_type": "markdown",
   "metadata": {},
   "source": [
    "$JSD(P,Q) =  \\frac{1}{2}\\left[\\sum_{i \\in P\\cap Q} \\left(p_i \\log{\\frac{2p_i}{p_i+q_i}} + q_i \\log{\\frac{2q_i}{p_i+q_i}}\\right) + \\log{2}\\left(2 - \\sum_{i \\in P\\cap Q} p_i + q_j\\right)\\right]$"
   ]
  },
  {
   "cell_type": "markdown",
   "metadata": {},
   "source": [
    "What's marvelous about this semplification is that the computational complexity decrease from a naive literal interpretation of the initial formula of $O(n+m)$ to $O(\\min(n,m))$ simply choosing to iterate over whichever of the two distributions holds less events."
   ]
  },
  {
   "cell_type": "markdown",
   "metadata": {},
   "source": [
    "The process is nearly identical for all other metrics shown below:"
   ]
  },
  {
   "cell_type": "markdown",
   "metadata": {},
   "source": [
    "## Hellinger"
   ]
  },
  {
   "cell_type": "markdown",
   "metadata": {},
   "source": [
    "Given two distributions $P, Q \\subseteq X$, the **Hellinger distance** is defined as follows:\n",
    "\n",
    "\\begin{align}\n",
    "    H(P,Q) = \\frac{1}{\\sqrt{2}}\\sqrt{\\sum_{i \\in X} \\left(\\sqrt{p_i} - \\sqrt{q_i} \\right)^2}\n",
    "\\end{align}\n",
    "\n",
    "### Achieving the current implementation\n",
    "Given $\\sum_{i\\in P}^n p_i = 1$ and $\\sum_{i\\in Q}^m q_i = 1$, we can proceed by separating the sum inside the squared root into three distinct partitions of $X$: $S_1 = i \\in P\\setminus P\\cap Q$, $S_2 = i \\in P\\cap Q$ and $S_3 = i \\in Q\\setminus P\\cap Q$.\n",
    "\n",
    "\\begin{align}\n",
    "    H(P,Q) = \\frac{1}{\\sqrt{2}}\\sqrt{H_{S_1}(P,Q) + H_{S_2}(P,Q) + H_{S_3}(P,Q)}\n",
    "\\end{align}\n",
    "\n",
    "Recalling the definitions of $p_i, q_i$:\n",
    "\n",
    "$$p_i = \\begin{cases}\n",
    "        p_i & i \\in P\\\\\n",
    "        0 & otherwise\n",
    "    \\end{cases}, \\quad q_i = \\begin{cases}\n",
    "        q_i & i \\in Q\\\\\n",
    "        0 & otherwise\n",
    "    \\end{cases}$$"
   ]
  },
  {
   "cell_type": "markdown",
   "metadata": {},
   "source": [
    "We begin from $H_{S_1}(P,Q)$:\n",
    "\\begin{align}\n",
    "    H_{S_1}(P,Q) &= \\sum_{i \\in P\\setminus P\\cap Q} \\left(\\sqrt{p_i} - \\sqrt{q_i} \\right)^2\\\\\n",
    "             &= \\sum_{i \\in P\\setminus P\\cap Q} \\left(\\sqrt{p_i} \\right)^2\\\\\n",
    "             &= \\sum_{i \\in P\\setminus P\\cap Q} p_i\\\\\n",
    "             &= 1 - \\sum_{i \\in P\\cap Q} p_i\n",
    "\\end{align}"
   ]
  },
  {
   "cell_type": "markdown",
   "metadata": {},
   "source": [
    "We solve $H_{S_2}(P,Q)$:\n",
    "$$\n",
    "H_{S_2}(P,Q) = \\sum_{i \\in P\\cap Q} \\left(\\sqrt{p_i} - \\sqrt{q_i} \\right)^2\n",
    "$$"
   ]
  },
  {
   "cell_type": "markdown",
   "metadata": {},
   "source": [
    "Now we solve $H_{S_3}(P,Q)$:\n",
    "\n",
    "\\begin{align}\n",
    "    H_{S_3}(P,Q) &= \\sum_{i \\in Q\\setminus P\\cap Q} q_i\\\\\n",
    "             &= 1 - \\sum_{i \\in P\\cap Q} q_i\n",
    "\\end{align}"
   ]
  },
  {
   "cell_type": "markdown",
   "metadata": {},
   "source": [
    "Now, putting it all togheter we have:\n",
    "\n",
    "\\begin{align}\n",
    "    H_{S_1}(P,Q) + H_{S_2}(P,Q) + H_{S_3}(P,Q) &=  2 + \\sum_{i \\in P\\cap Q} \\left[\\left(\\sqrt{p_i} - \\sqrt{q_i} \\right)^2 -p_i - q_i \\right]\\\\\n",
    "        &= 2 + \\sum_{i \\in P\\cap Q} -2\\sqrt{p_i q_i}\\\\\n",
    "        &= 2 \\left(1 - \\sum_{i \\in P \\cap Q} \\sqrt{p_i q_i} \\right)\n",
    "\\end{align}"
   ]
  },
  {
   "cell_type": "markdown",
   "metadata": {},
   "source": [
    "So the Hellinger distance is redefined as:\n",
    "\n",
    "\\begin{align}\n",
    "    H(P,Q) &= \\frac{1}{\\sqrt{2}}\\sqrt{2 \\left(1 - \\sum_{i \\in P \\cap Q} \\sqrt{p_i q_i} \\right)}\\\\\n",
    "           &= \\sqrt{1 - \\sum_{i \\in P \\cap Q} \\sqrt{p_i q_i}}\n",
    "\\end{align}"
   ]
  },
  {
   "cell_type": "code",
   "execution_count": 20,
   "metadata": {},
   "outputs": [],
   "source": [
    "metrics = [\n",
    "    jensen_shannon,\n",
    "    normal_total_variation,\n",
    "    intersection_total_variation,\n",
    "    kullback_leibler,\n",
    "    intersection_squared_hellinger,\n",
    "    hellinger,\n",
    "    squared_hellinger\n",
    "]"
   ]
  },
  {
   "cell_type": "code",
   "execution_count": 21,
   "metadata": {},
   "outputs": [
    {
     "data": {
      "text/html": [
       "<style type=\"text/css\">.highlight .hll { background-color: #ffffcc }\n",
       ".highlight  { background: #f8f8f8; }\n",
       ".highlight .c { color: #408080; font-style: italic } /* Comment */\n",
       ".highlight .err { border: 1px solid #FF0000 } /* Error */\n",
       ".highlight .k { color: #008000; font-weight: bold } /* Keyword */\n",
       ".highlight .o { color: #666666 } /* Operator */\n",
       ".highlight .ch { color: #408080; font-style: italic } /* Comment.Hashbang */\n",
       ".highlight .cm { color: #408080; font-style: italic } /* Comment.Multiline */\n",
       ".highlight .cp { color: #BC7A00 } /* Comment.Preproc */\n",
       ".highlight .cpf { color: #408080; font-style: italic } /* Comment.PreprocFile */\n",
       ".highlight .c1 { color: #408080; font-style: italic } /* Comment.Single */\n",
       ".highlight .cs { color: #408080; font-style: italic } /* Comment.Special */\n",
       ".highlight .gd { color: #A00000 } /* Generic.Deleted */\n",
       ".highlight .ge { font-style: italic } /* Generic.Emph */\n",
       ".highlight .gr { color: #FF0000 } /* Generic.Error */\n",
       ".highlight .gh { color: #000080; font-weight: bold } /* Generic.Heading */\n",
       ".highlight .gi { color: #00A000 } /* Generic.Inserted */\n",
       ".highlight .go { color: #888888 } /* Generic.Output */\n",
       ".highlight .gp { color: #000080; font-weight: bold } /* Generic.Prompt */\n",
       ".highlight .gs { font-weight: bold } /* Generic.Strong */\n",
       ".highlight .gu { color: #800080; font-weight: bold } /* Generic.Subheading */\n",
       ".highlight .gt { color: #0044DD } /* Generic.Traceback */\n",
       ".highlight .kc { color: #008000; font-weight: bold } /* Keyword.Constant */\n",
       ".highlight .kd { color: #008000; font-weight: bold } /* Keyword.Declaration */\n",
       ".highlight .kn { color: #008000; font-weight: bold } /* Keyword.Namespace */\n",
       ".highlight .kp { color: #008000 } /* Keyword.Pseudo */\n",
       ".highlight .kr { color: #008000; font-weight: bold } /* Keyword.Reserved */\n",
       ".highlight .kt { color: #B00040 } /* Keyword.Type */\n",
       ".highlight .m { color: #666666 } /* Literal.Number */\n",
       ".highlight .s { color: #BA2121 } /* Literal.String */\n",
       ".highlight .na { color: #7D9029 } /* Name.Attribute */\n",
       ".highlight .nb { color: #008000 } /* Name.Builtin */\n",
       ".highlight .nc { color: #0000FF; font-weight: bold } /* Name.Class */\n",
       ".highlight .no { color: #880000 } /* Name.Constant */\n",
       ".highlight .nd { color: #AA22FF } /* Name.Decorator */\n",
       ".highlight .ni { color: #999999; font-weight: bold } /* Name.Entity */\n",
       ".highlight .ne { color: #D2413A; font-weight: bold } /* Name.Exception */\n",
       ".highlight .nf { color: #0000FF } /* Name.Function */\n",
       ".highlight .nl { color: #A0A000 } /* Name.Label */\n",
       ".highlight .nn { color: #0000FF; font-weight: bold } /* Name.Namespace */\n",
       ".highlight .nt { color: #008000; font-weight: bold } /* Name.Tag */\n",
       ".highlight .nv { color: #19177C } /* Name.Variable */\n",
       ".highlight .ow { color: #AA22FF; font-weight: bold } /* Operator.Word */\n",
       ".highlight .w { color: #bbbbbb } /* Text.Whitespace */\n",
       ".highlight .mb { color: #666666 } /* Literal.Number.Bin */\n",
       ".highlight .mf { color: #666666 } /* Literal.Number.Float */\n",
       ".highlight .mh { color: #666666 } /* Literal.Number.Hex */\n",
       ".highlight .mi { color: #666666 } /* Literal.Number.Integer */\n",
       ".highlight .mo { color: #666666 } /* Literal.Number.Oct */\n",
       ".highlight .sa { color: #BA2121 } /* Literal.String.Affix */\n",
       ".highlight .sb { color: #BA2121 } /* Literal.String.Backtick */\n",
       ".highlight .sc { color: #BA2121 } /* Literal.String.Char */\n",
       ".highlight .dl { color: #BA2121 } /* Literal.String.Delimiter */\n",
       ".highlight .sd { color: #BA2121; font-style: italic } /* Literal.String.Doc */\n",
       ".highlight .s2 { color: #BA2121 } /* Literal.String.Double */\n",
       ".highlight .se { color: #BB6622; font-weight: bold } /* Literal.String.Escape */\n",
       ".highlight .sh { color: #BA2121 } /* Literal.String.Heredoc */\n",
       ".highlight .si { color: #BB6688; font-weight: bold } /* Literal.String.Interpol */\n",
       ".highlight .sx { color: #008000 } /* Literal.String.Other */\n",
       ".highlight .sr { color: #BB6688 } /* Literal.String.Regex */\n",
       ".highlight .s1 { color: #BA2121 } /* Literal.String.Single */\n",
       ".highlight .ss { color: #19177C } /* Literal.String.Symbol */\n",
       ".highlight .bp { color: #008000 } /* Name.Builtin.Pseudo */\n",
       ".highlight .fm { color: #0000FF } /* Name.Function.Magic */\n",
       ".highlight .vc { color: #19177C } /* Name.Variable.Class */\n",
       ".highlight .vg { color: #19177C } /* Name.Variable.Global */\n",
       ".highlight .vi { color: #19177C } /* Name.Variable.Instance */\n",
       ".highlight .vm { color: #19177C } /* Name.Variable.Magic */\n",
       ".highlight .il { color: #666666 } /* Literal.Number.Integer.Long */</style><div class=\"highlight\"><pre><span></span><span class=\"k\">def</span> <span class=\"nf\">jensen_shannon</span><span class=\"p\">(</span><span class=\"n\">a</span><span class=\"p\">:</span> <span class=\"nb\">dict</span><span class=\"p\">,</span> <span class=\"n\">b</span><span class=\"p\">:</span> <span class=\"nb\">dict</span><span class=\"p\">)</span><span class=\"o\">-&gt;</span><span class=\"nb\">float</span><span class=\"p\">:</span>\n",
       "    <span class=\"sd\">&quot;&quot;&quot;Return the jensen shannon divergence beetween a and b.&quot;&quot;&quot;</span>\n",
       "    <span class=\"n\">total</span> <span class=\"o\">=</span> <span class=\"mi\">0</span>\n",
       "    <span class=\"n\">delta</span> <span class=\"o\">=</span> <span class=\"mi\">0</span>\n",
       "    <span class=\"n\">big</span><span class=\"p\">,</span> <span class=\"n\">small</span> <span class=\"o\">=</span> <span class=\"n\">sort</span><span class=\"p\">(</span><span class=\"n\">a</span><span class=\"p\">,</span> <span class=\"n\">b</span><span class=\"p\">)</span>\n",
       "\n",
       "    <span class=\"n\">big_get</span> <span class=\"o\">=</span> <span class=\"n\">big</span><span class=\"o\">.</span><span class=\"fm\">__getitem__</span>\n",
       "\n",
       "    <span class=\"k\">for</span> <span class=\"n\">key</span><span class=\"p\">,</span> <span class=\"n\">small_value</span> <span class=\"ow\">in</span> <span class=\"n\">small</span><span class=\"o\">.</span><span class=\"n\">items</span><span class=\"p\">():</span>\n",
       "        <span class=\"k\">try</span><span class=\"p\">:</span>\n",
       "            <span class=\"n\">big_value</span> <span class=\"o\">=</span> <span class=\"n\">big_get</span><span class=\"p\">(</span><span class=\"n\">key</span><span class=\"p\">)</span>\n",
       "            <span class=\"k\">if</span> <span class=\"n\">big_value</span><span class=\"p\">:</span>\n",
       "                <span class=\"n\">denominator</span> <span class=\"o\">=</span> <span class=\"p\">(</span><span class=\"n\">big_value</span> <span class=\"o\">+</span> <span class=\"n\">small_value</span><span class=\"p\">)</span> <span class=\"o\">/</span> <span class=\"mi\">2</span>\n",
       "                <span class=\"n\">total</span> <span class=\"o\">+=</span> <span class=\"n\">small_value</span> <span class=\"o\">*</span> <span class=\"n\">log</span><span class=\"p\">(</span><span class=\"n\">small_value</span> <span class=\"o\">/</span> <span class=\"n\">denominator</span><span class=\"p\">)</span> <span class=\"o\">+</span> \\\n",
       "                    <span class=\"n\">big_value</span> <span class=\"o\">*</span> <span class=\"n\">log</span><span class=\"p\">(</span><span class=\"n\">big_value</span> <span class=\"o\">/</span> <span class=\"n\">denominator</span><span class=\"p\">)</span>\n",
       "                <span class=\"n\">delta</span> <span class=\"o\">+=</span> <span class=\"n\">big_value</span> <span class=\"o\">+</span> <span class=\"n\">small_value</span>\n",
       "        <span class=\"k\">except</span> <span class=\"ne\">KeyError</span><span class=\"p\">:</span>\n",
       "            <span class=\"k\">pass</span>\n",
       "\n",
       "    <span class=\"n\">total</span> <span class=\"o\">+=</span> <span class=\"p\">(</span><span class=\"mi\">2</span> <span class=\"o\">-</span> <span class=\"n\">delta</span><span class=\"p\">)</span> <span class=\"o\">*</span> <span class=\"n\">log</span><span class=\"p\">(</span><span class=\"mi\">2</span><span class=\"p\">)</span>\n",
       "    <span class=\"k\">return</span> <span class=\"n\">total</span> <span class=\"o\">/</span> <span class=\"mi\">2</span>\n",
       "</pre></div>\n"
      ],
      "text/plain": [
       "<IPython.core.display.HTML object>"
      ]
     },
     "metadata": {},
     "output_type": "display_data"
    },
    {
     "data": {
      "text/html": [
       "<style type=\"text/css\">.highlight .hll { background-color: #ffffcc }\n",
       ".highlight  { background: #f8f8f8; }\n",
       ".highlight .c { color: #408080; font-style: italic } /* Comment */\n",
       ".highlight .err { border: 1px solid #FF0000 } /* Error */\n",
       ".highlight .k { color: #008000; font-weight: bold } /* Keyword */\n",
       ".highlight .o { color: #666666 } /* Operator */\n",
       ".highlight .ch { color: #408080; font-style: italic } /* Comment.Hashbang */\n",
       ".highlight .cm { color: #408080; font-style: italic } /* Comment.Multiline */\n",
       ".highlight .cp { color: #BC7A00 } /* Comment.Preproc */\n",
       ".highlight .cpf { color: #408080; font-style: italic } /* Comment.PreprocFile */\n",
       ".highlight .c1 { color: #408080; font-style: italic } /* Comment.Single */\n",
       ".highlight .cs { color: #408080; font-style: italic } /* Comment.Special */\n",
       ".highlight .gd { color: #A00000 } /* Generic.Deleted */\n",
       ".highlight .ge { font-style: italic } /* Generic.Emph */\n",
       ".highlight .gr { color: #FF0000 } /* Generic.Error */\n",
       ".highlight .gh { color: #000080; font-weight: bold } /* Generic.Heading */\n",
       ".highlight .gi { color: #00A000 } /* Generic.Inserted */\n",
       ".highlight .go { color: #888888 } /* Generic.Output */\n",
       ".highlight .gp { color: #000080; font-weight: bold } /* Generic.Prompt */\n",
       ".highlight .gs { font-weight: bold } /* Generic.Strong */\n",
       ".highlight .gu { color: #800080; font-weight: bold } /* Generic.Subheading */\n",
       ".highlight .gt { color: #0044DD } /* Generic.Traceback */\n",
       ".highlight .kc { color: #008000; font-weight: bold } /* Keyword.Constant */\n",
       ".highlight .kd { color: #008000; font-weight: bold } /* Keyword.Declaration */\n",
       ".highlight .kn { color: #008000; font-weight: bold } /* Keyword.Namespace */\n",
       ".highlight .kp { color: #008000 } /* Keyword.Pseudo */\n",
       ".highlight .kr { color: #008000; font-weight: bold } /* Keyword.Reserved */\n",
       ".highlight .kt { color: #B00040 } /* Keyword.Type */\n",
       ".highlight .m { color: #666666 } /* Literal.Number */\n",
       ".highlight .s { color: #BA2121 } /* Literal.String */\n",
       ".highlight .na { color: #7D9029 } /* Name.Attribute */\n",
       ".highlight .nb { color: #008000 } /* Name.Builtin */\n",
       ".highlight .nc { color: #0000FF; font-weight: bold } /* Name.Class */\n",
       ".highlight .no { color: #880000 } /* Name.Constant */\n",
       ".highlight .nd { color: #AA22FF } /* Name.Decorator */\n",
       ".highlight .ni { color: #999999; font-weight: bold } /* Name.Entity */\n",
       ".highlight .ne { color: #D2413A; font-weight: bold } /* Name.Exception */\n",
       ".highlight .nf { color: #0000FF } /* Name.Function */\n",
       ".highlight .nl { color: #A0A000 } /* Name.Label */\n",
       ".highlight .nn { color: #0000FF; font-weight: bold } /* Name.Namespace */\n",
       ".highlight .nt { color: #008000; font-weight: bold } /* Name.Tag */\n",
       ".highlight .nv { color: #19177C } /* Name.Variable */\n",
       ".highlight .ow { color: #AA22FF; font-weight: bold } /* Operator.Word */\n",
       ".highlight .w { color: #bbbbbb } /* Text.Whitespace */\n",
       ".highlight .mb { color: #666666 } /* Literal.Number.Bin */\n",
       ".highlight .mf { color: #666666 } /* Literal.Number.Float */\n",
       ".highlight .mh { color: #666666 } /* Literal.Number.Hex */\n",
       ".highlight .mi { color: #666666 } /* Literal.Number.Integer */\n",
       ".highlight .mo { color: #666666 } /* Literal.Number.Oct */\n",
       ".highlight .sa { color: #BA2121 } /* Literal.String.Affix */\n",
       ".highlight .sb { color: #BA2121 } /* Literal.String.Backtick */\n",
       ".highlight .sc { color: #BA2121 } /* Literal.String.Char */\n",
       ".highlight .dl { color: #BA2121 } /* Literal.String.Delimiter */\n",
       ".highlight .sd { color: #BA2121; font-style: italic } /* Literal.String.Doc */\n",
       ".highlight .s2 { color: #BA2121 } /* Literal.String.Double */\n",
       ".highlight .se { color: #BB6622; font-weight: bold } /* Literal.String.Escape */\n",
       ".highlight .sh { color: #BA2121 } /* Literal.String.Heredoc */\n",
       ".highlight .si { color: #BB6688; font-weight: bold } /* Literal.String.Interpol */\n",
       ".highlight .sx { color: #008000 } /* Literal.String.Other */\n",
       ".highlight .sr { color: #BB6688 } /* Literal.String.Regex */\n",
       ".highlight .s1 { color: #BA2121 } /* Literal.String.Single */\n",
       ".highlight .ss { color: #19177C } /* Literal.String.Symbol */\n",
       ".highlight .bp { color: #008000 } /* Name.Builtin.Pseudo */\n",
       ".highlight .fm { color: #0000FF } /* Name.Function.Magic */\n",
       ".highlight .vc { color: #19177C } /* Name.Variable.Class */\n",
       ".highlight .vg { color: #19177C } /* Name.Variable.Global */\n",
       ".highlight .vi { color: #19177C } /* Name.Variable.Instance */\n",
       ".highlight .vm { color: #19177C } /* Name.Variable.Magic */\n",
       ".highlight .il { color: #666666 } /* Literal.Number.Integer.Long */</style><div class=\"highlight\"><pre><span></span><span class=\"k\">def</span> <span class=\"nf\">normal_total_variation</span><span class=\"p\">(</span><span class=\"n\">a</span><span class=\"p\">:</span> <span class=\"nb\">dict</span><span class=\"p\">,</span> <span class=\"n\">b</span><span class=\"p\">:</span> <span class=\"nb\">dict</span><span class=\"p\">)</span> <span class=\"o\">-&gt;</span> <span class=\"nb\">float</span><span class=\"p\">:</span>\n",
       "    <span class=\"sd\">&quot;&quot;&quot;Determine the Normalized Total Variation distance.&quot;&quot;&quot;</span>\n",
       "    <span class=\"n\">big</span><span class=\"p\">,</span> <span class=\"n\">small</span> <span class=\"o\">=</span> <span class=\"n\">sort</span><span class=\"p\">(</span><span class=\"n\">a</span><span class=\"p\">,</span> <span class=\"n\">b</span><span class=\"p\">)</span>\n",
       "    <span class=\"n\">big_get</span> <span class=\"o\">=</span> <span class=\"n\">big</span><span class=\"o\">.</span><span class=\"fm\">__getitem__</span>\n",
       "    <span class=\"n\">total</span> <span class=\"o\">=</span> <span class=\"mi\">2</span>\n",
       "    <span class=\"k\">for</span> <span class=\"n\">k</span><span class=\"p\">,</span> <span class=\"n\">small_value</span> <span class=\"ow\">in</span> <span class=\"n\">small</span><span class=\"o\">.</span><span class=\"n\">items</span><span class=\"p\">():</span>\n",
       "        <span class=\"k\">try</span><span class=\"p\">:</span>\n",
       "            <span class=\"n\">big_value</span> <span class=\"o\">=</span> <span class=\"n\">big_get</span><span class=\"p\">(</span><span class=\"n\">k</span><span class=\"p\">)</span>\n",
       "            <span class=\"k\">if</span> <span class=\"n\">big_value</span><span class=\"p\">:</span>\n",
       "                <span class=\"n\">total</span> <span class=\"o\">+=</span> <span class=\"nb\">abs</span><span class=\"p\">(</span><span class=\"n\">big_value</span> <span class=\"o\">-</span> <span class=\"n\">small_value</span><span class=\"p\">)</span> <span class=\"o\">-</span> <span class=\"n\">big_value</span> <span class=\"o\">-</span> <span class=\"n\">small_value</span>\n",
       "        <span class=\"k\">except</span> <span class=\"ne\">KeyError</span><span class=\"p\">:</span>\n",
       "            <span class=\"k\">pass</span>\n",
       "    <span class=\"k\">return</span> <span class=\"n\">total</span> <span class=\"o\">/</span> <span class=\"mi\">2</span>\n",
       "</pre></div>\n"
      ],
      "text/plain": [
       "<IPython.core.display.HTML object>"
      ]
     },
     "metadata": {},
     "output_type": "display_data"
    },
    {
     "data": {
      "text/html": [
       "<style type=\"text/css\">.highlight .hll { background-color: #ffffcc }\n",
       ".highlight  { background: #f8f8f8; }\n",
       ".highlight .c { color: #408080; font-style: italic } /* Comment */\n",
       ".highlight .err { border: 1px solid #FF0000 } /* Error */\n",
       ".highlight .k { color: #008000; font-weight: bold } /* Keyword */\n",
       ".highlight .o { color: #666666 } /* Operator */\n",
       ".highlight .ch { color: #408080; font-style: italic } /* Comment.Hashbang */\n",
       ".highlight .cm { color: #408080; font-style: italic } /* Comment.Multiline */\n",
       ".highlight .cp { color: #BC7A00 } /* Comment.Preproc */\n",
       ".highlight .cpf { color: #408080; font-style: italic } /* Comment.PreprocFile */\n",
       ".highlight .c1 { color: #408080; font-style: italic } /* Comment.Single */\n",
       ".highlight .cs { color: #408080; font-style: italic } /* Comment.Special */\n",
       ".highlight .gd { color: #A00000 } /* Generic.Deleted */\n",
       ".highlight .ge { font-style: italic } /* Generic.Emph */\n",
       ".highlight .gr { color: #FF0000 } /* Generic.Error */\n",
       ".highlight .gh { color: #000080; font-weight: bold } /* Generic.Heading */\n",
       ".highlight .gi { color: #00A000 } /* Generic.Inserted */\n",
       ".highlight .go { color: #888888 } /* Generic.Output */\n",
       ".highlight .gp { color: #000080; font-weight: bold } /* Generic.Prompt */\n",
       ".highlight .gs { font-weight: bold } /* Generic.Strong */\n",
       ".highlight .gu { color: #800080; font-weight: bold } /* Generic.Subheading */\n",
       ".highlight .gt { color: #0044DD } /* Generic.Traceback */\n",
       ".highlight .kc { color: #008000; font-weight: bold } /* Keyword.Constant */\n",
       ".highlight .kd { color: #008000; font-weight: bold } /* Keyword.Declaration */\n",
       ".highlight .kn { color: #008000; font-weight: bold } /* Keyword.Namespace */\n",
       ".highlight .kp { color: #008000 } /* Keyword.Pseudo */\n",
       ".highlight .kr { color: #008000; font-weight: bold } /* Keyword.Reserved */\n",
       ".highlight .kt { color: #B00040 } /* Keyword.Type */\n",
       ".highlight .m { color: #666666 } /* Literal.Number */\n",
       ".highlight .s { color: #BA2121 } /* Literal.String */\n",
       ".highlight .na { color: #7D9029 } /* Name.Attribute */\n",
       ".highlight .nb { color: #008000 } /* Name.Builtin */\n",
       ".highlight .nc { color: #0000FF; font-weight: bold } /* Name.Class */\n",
       ".highlight .no { color: #880000 } /* Name.Constant */\n",
       ".highlight .nd { color: #AA22FF } /* Name.Decorator */\n",
       ".highlight .ni { color: #999999; font-weight: bold } /* Name.Entity */\n",
       ".highlight .ne { color: #D2413A; font-weight: bold } /* Name.Exception */\n",
       ".highlight .nf { color: #0000FF } /* Name.Function */\n",
       ".highlight .nl { color: #A0A000 } /* Name.Label */\n",
       ".highlight .nn { color: #0000FF; font-weight: bold } /* Name.Namespace */\n",
       ".highlight .nt { color: #008000; font-weight: bold } /* Name.Tag */\n",
       ".highlight .nv { color: #19177C } /* Name.Variable */\n",
       ".highlight .ow { color: #AA22FF; font-weight: bold } /* Operator.Word */\n",
       ".highlight .w { color: #bbbbbb } /* Text.Whitespace */\n",
       ".highlight .mb { color: #666666 } /* Literal.Number.Bin */\n",
       ".highlight .mf { color: #666666 } /* Literal.Number.Float */\n",
       ".highlight .mh { color: #666666 } /* Literal.Number.Hex */\n",
       ".highlight .mi { color: #666666 } /* Literal.Number.Integer */\n",
       ".highlight .mo { color: #666666 } /* Literal.Number.Oct */\n",
       ".highlight .sa { color: #BA2121 } /* Literal.String.Affix */\n",
       ".highlight .sb { color: #BA2121 } /* Literal.String.Backtick */\n",
       ".highlight .sc { color: #BA2121 } /* Literal.String.Char */\n",
       ".highlight .dl { color: #BA2121 } /* Literal.String.Delimiter */\n",
       ".highlight .sd { color: #BA2121; font-style: italic } /* Literal.String.Doc */\n",
       ".highlight .s2 { color: #BA2121 } /* Literal.String.Double */\n",
       ".highlight .se { color: #BB6622; font-weight: bold } /* Literal.String.Escape */\n",
       ".highlight .sh { color: #BA2121 } /* Literal.String.Heredoc */\n",
       ".highlight .si { color: #BB6688; font-weight: bold } /* Literal.String.Interpol */\n",
       ".highlight .sx { color: #008000 } /* Literal.String.Other */\n",
       ".highlight .sr { color: #BB6688 } /* Literal.String.Regex */\n",
       ".highlight .s1 { color: #BA2121 } /* Literal.String.Single */\n",
       ".highlight .ss { color: #19177C } /* Literal.String.Symbol */\n",
       ".highlight .bp { color: #008000 } /* Name.Builtin.Pseudo */\n",
       ".highlight .fm { color: #0000FF } /* Name.Function.Magic */\n",
       ".highlight .vc { color: #19177C } /* Name.Variable.Class */\n",
       ".highlight .vg { color: #19177C } /* Name.Variable.Global */\n",
       ".highlight .vi { color: #19177C } /* Name.Variable.Instance */\n",
       ".highlight .vm { color: #19177C } /* Name.Variable.Magic */\n",
       ".highlight .il { color: #666666 } /* Literal.Number.Integer.Long */</style><div class=\"highlight\"><pre><span></span><span class=\"k\">def</span> <span class=\"nf\">intersection_total_variation</span><span class=\"p\">(</span><span class=\"n\">a</span><span class=\"p\">:</span> <span class=\"nb\">dict</span><span class=\"p\">,</span> <span class=\"n\">b</span><span class=\"p\">:</span> <span class=\"nb\">dict</span><span class=\"p\">,</span> <span class=\"n\">overlap</span><span class=\"p\">:</span> <span class=\"nb\">bool</span><span class=\"o\">=</span><span class=\"bp\">False</span><span class=\"p\">)</span><span class=\"o\">-&gt;</span><span class=\"nb\">float</span><span class=\"p\">:</span>\n",
       "    <span class=\"sd\">&quot;&quot;&quot;Return the total distance beetween the intersection of a and b.&quot;&quot;&quot;</span>\n",
       "    <span class=\"k\">return</span> <span class=\"n\">intersection_nth_variation</span><span class=\"p\">(</span><span class=\"n\">a</span><span class=\"p\">,</span> <span class=\"n\">b</span><span class=\"p\">,</span> <span class=\"mi\">1</span><span class=\"p\">,</span> <span class=\"n\">overlap</span><span class=\"p\">)</span>\n",
       "</pre></div>\n"
      ],
      "text/plain": [
       "<IPython.core.display.HTML object>"
      ]
     },
     "metadata": {},
     "output_type": "display_data"
    },
    {
     "data": {
      "text/html": [
       "<style type=\"text/css\">.highlight .hll { background-color: #ffffcc }\n",
       ".highlight  { background: #f8f8f8; }\n",
       ".highlight .c { color: #408080; font-style: italic } /* Comment */\n",
       ".highlight .err { border: 1px solid #FF0000 } /* Error */\n",
       ".highlight .k { color: #008000; font-weight: bold } /* Keyword */\n",
       ".highlight .o { color: #666666 } /* Operator */\n",
       ".highlight .ch { color: #408080; font-style: italic } /* Comment.Hashbang */\n",
       ".highlight .cm { color: #408080; font-style: italic } /* Comment.Multiline */\n",
       ".highlight .cp { color: #BC7A00 } /* Comment.Preproc */\n",
       ".highlight .cpf { color: #408080; font-style: italic } /* Comment.PreprocFile */\n",
       ".highlight .c1 { color: #408080; font-style: italic } /* Comment.Single */\n",
       ".highlight .cs { color: #408080; font-style: italic } /* Comment.Special */\n",
       ".highlight .gd { color: #A00000 } /* Generic.Deleted */\n",
       ".highlight .ge { font-style: italic } /* Generic.Emph */\n",
       ".highlight .gr { color: #FF0000 } /* Generic.Error */\n",
       ".highlight .gh { color: #000080; font-weight: bold } /* Generic.Heading */\n",
       ".highlight .gi { color: #00A000 } /* Generic.Inserted */\n",
       ".highlight .go { color: #888888 } /* Generic.Output */\n",
       ".highlight .gp { color: #000080; font-weight: bold } /* Generic.Prompt */\n",
       ".highlight .gs { font-weight: bold } /* Generic.Strong */\n",
       ".highlight .gu { color: #800080; font-weight: bold } /* Generic.Subheading */\n",
       ".highlight .gt { color: #0044DD } /* Generic.Traceback */\n",
       ".highlight .kc { color: #008000; font-weight: bold } /* Keyword.Constant */\n",
       ".highlight .kd { color: #008000; font-weight: bold } /* Keyword.Declaration */\n",
       ".highlight .kn { color: #008000; font-weight: bold } /* Keyword.Namespace */\n",
       ".highlight .kp { color: #008000 } /* Keyword.Pseudo */\n",
       ".highlight .kr { color: #008000; font-weight: bold } /* Keyword.Reserved */\n",
       ".highlight .kt { color: #B00040 } /* Keyword.Type */\n",
       ".highlight .m { color: #666666 } /* Literal.Number */\n",
       ".highlight .s { color: #BA2121 } /* Literal.String */\n",
       ".highlight .na { color: #7D9029 } /* Name.Attribute */\n",
       ".highlight .nb { color: #008000 } /* Name.Builtin */\n",
       ".highlight .nc { color: #0000FF; font-weight: bold } /* Name.Class */\n",
       ".highlight .no { color: #880000 } /* Name.Constant */\n",
       ".highlight .nd { color: #AA22FF } /* Name.Decorator */\n",
       ".highlight .ni { color: #999999; font-weight: bold } /* Name.Entity */\n",
       ".highlight .ne { color: #D2413A; font-weight: bold } /* Name.Exception */\n",
       ".highlight .nf { color: #0000FF } /* Name.Function */\n",
       ".highlight .nl { color: #A0A000 } /* Name.Label */\n",
       ".highlight .nn { color: #0000FF; font-weight: bold } /* Name.Namespace */\n",
       ".highlight .nt { color: #008000; font-weight: bold } /* Name.Tag */\n",
       ".highlight .nv { color: #19177C } /* Name.Variable */\n",
       ".highlight .ow { color: #AA22FF; font-weight: bold } /* Operator.Word */\n",
       ".highlight .w { color: #bbbbbb } /* Text.Whitespace */\n",
       ".highlight .mb { color: #666666 } /* Literal.Number.Bin */\n",
       ".highlight .mf { color: #666666 } /* Literal.Number.Float */\n",
       ".highlight .mh { color: #666666 } /* Literal.Number.Hex */\n",
       ".highlight .mi { color: #666666 } /* Literal.Number.Integer */\n",
       ".highlight .mo { color: #666666 } /* Literal.Number.Oct */\n",
       ".highlight .sa { color: #BA2121 } /* Literal.String.Affix */\n",
       ".highlight .sb { color: #BA2121 } /* Literal.String.Backtick */\n",
       ".highlight .sc { color: #BA2121 } /* Literal.String.Char */\n",
       ".highlight .dl { color: #BA2121 } /* Literal.String.Delimiter */\n",
       ".highlight .sd { color: #BA2121; font-style: italic } /* Literal.String.Doc */\n",
       ".highlight .s2 { color: #BA2121 } /* Literal.String.Double */\n",
       ".highlight .se { color: #BB6622; font-weight: bold } /* Literal.String.Escape */\n",
       ".highlight .sh { color: #BA2121 } /* Literal.String.Heredoc */\n",
       ".highlight .si { color: #BB6688; font-weight: bold } /* Literal.String.Interpol */\n",
       ".highlight .sx { color: #008000 } /* Literal.String.Other */\n",
       ".highlight .sr { color: #BB6688 } /* Literal.String.Regex */\n",
       ".highlight .s1 { color: #BA2121 } /* Literal.String.Single */\n",
       ".highlight .ss { color: #19177C } /* Literal.String.Symbol */\n",
       ".highlight .bp { color: #008000 } /* Name.Builtin.Pseudo */\n",
       ".highlight .fm { color: #0000FF } /* Name.Function.Magic */\n",
       ".highlight .vc { color: #19177C } /* Name.Variable.Class */\n",
       ".highlight .vg { color: #19177C } /* Name.Variable.Global */\n",
       ".highlight .vi { color: #19177C } /* Name.Variable.Instance */\n",
       ".highlight .vm { color: #19177C } /* Name.Variable.Magic */\n",
       ".highlight .il { color: #666666 } /* Literal.Number.Integer.Long */</style><div class=\"highlight\"><pre><span></span><span class=\"k\">def</span> <span class=\"nf\">kullback_leibler</span><span class=\"p\">(</span><span class=\"n\">a</span><span class=\"p\">:</span> <span class=\"nb\">dict</span><span class=\"p\">,</span> <span class=\"n\">b</span><span class=\"p\">:</span> <span class=\"nb\">dict</span><span class=\"p\">)</span> <span class=\"o\">-&gt;</span> <span class=\"nb\">float</span><span class=\"p\">:</span>\n",
       "    <span class=\"sd\">&quot;&quot;&quot;Determine the Kullback Leibler divergence.&quot;&quot;&quot;</span>\n",
       "    <span class=\"n\">total</span> <span class=\"o\">=</span> <span class=\"mi\">0</span>\n",
       "    <span class=\"n\">big</span><span class=\"p\">,</span> <span class=\"n\">small</span> <span class=\"o\">=</span> <span class=\"n\">sort</span><span class=\"p\">(</span><span class=\"n\">a</span><span class=\"p\">,</span> <span class=\"n\">b</span><span class=\"p\">)</span>\n",
       "    <span class=\"n\">big_get</span> <span class=\"o\">=</span> <span class=\"n\">big</span><span class=\"o\">.</span><span class=\"fm\">__getitem__</span>\n",
       "    <span class=\"k\">for</span> <span class=\"n\">key</span><span class=\"p\">,</span> <span class=\"n\">small_value</span> <span class=\"ow\">in</span> <span class=\"n\">a</span><span class=\"o\">.</span><span class=\"n\">items</span><span class=\"p\">():</span>\n",
       "        <span class=\"k\">try</span><span class=\"p\">:</span>\n",
       "            <span class=\"n\">big_value</span> <span class=\"o\">=</span> <span class=\"n\">big_get</span><span class=\"p\">(</span><span class=\"n\">key</span><span class=\"p\">)</span>\n",
       "            <span class=\"k\">if</span> <span class=\"n\">big_value</span><span class=\"p\">:</span>\n",
       "                <span class=\"n\">total</span> <span class=\"o\">+=</span> <span class=\"n\">small_value</span> <span class=\"o\">*</span> <span class=\"n\">log</span><span class=\"p\">(</span><span class=\"n\">small_value</span> <span class=\"o\">/</span> <span class=\"n\">big_value</span><span class=\"p\">)</span>\n",
       "        <span class=\"k\">except</span> <span class=\"ne\">KeyError</span><span class=\"p\">:</span>\n",
       "            <span class=\"k\">pass</span>\n",
       "\n",
       "    <span class=\"k\">return</span> <span class=\"n\">total</span>\n",
       "</pre></div>\n"
      ],
      "text/plain": [
       "<IPython.core.display.HTML object>"
      ]
     },
     "metadata": {},
     "output_type": "display_data"
    },
    {
     "data": {
      "text/html": [
       "<style type=\"text/css\">.highlight .hll { background-color: #ffffcc }\n",
       ".highlight  { background: #f8f8f8; }\n",
       ".highlight .c { color: #408080; font-style: italic } /* Comment */\n",
       ".highlight .err { border: 1px solid #FF0000 } /* Error */\n",
       ".highlight .k { color: #008000; font-weight: bold } /* Keyword */\n",
       ".highlight .o { color: #666666 } /* Operator */\n",
       ".highlight .ch { color: #408080; font-style: italic } /* Comment.Hashbang */\n",
       ".highlight .cm { color: #408080; font-style: italic } /* Comment.Multiline */\n",
       ".highlight .cp { color: #BC7A00 } /* Comment.Preproc */\n",
       ".highlight .cpf { color: #408080; font-style: italic } /* Comment.PreprocFile */\n",
       ".highlight .c1 { color: #408080; font-style: italic } /* Comment.Single */\n",
       ".highlight .cs { color: #408080; font-style: italic } /* Comment.Special */\n",
       ".highlight .gd { color: #A00000 } /* Generic.Deleted */\n",
       ".highlight .ge { font-style: italic } /* Generic.Emph */\n",
       ".highlight .gr { color: #FF0000 } /* Generic.Error */\n",
       ".highlight .gh { color: #000080; font-weight: bold } /* Generic.Heading */\n",
       ".highlight .gi { color: #00A000 } /* Generic.Inserted */\n",
       ".highlight .go { color: #888888 } /* Generic.Output */\n",
       ".highlight .gp { color: #000080; font-weight: bold } /* Generic.Prompt */\n",
       ".highlight .gs { font-weight: bold } /* Generic.Strong */\n",
       ".highlight .gu { color: #800080; font-weight: bold } /* Generic.Subheading */\n",
       ".highlight .gt { color: #0044DD } /* Generic.Traceback */\n",
       ".highlight .kc { color: #008000; font-weight: bold } /* Keyword.Constant */\n",
       ".highlight .kd { color: #008000; font-weight: bold } /* Keyword.Declaration */\n",
       ".highlight .kn { color: #008000; font-weight: bold } /* Keyword.Namespace */\n",
       ".highlight .kp { color: #008000 } /* Keyword.Pseudo */\n",
       ".highlight .kr { color: #008000; font-weight: bold } /* Keyword.Reserved */\n",
       ".highlight .kt { color: #B00040 } /* Keyword.Type */\n",
       ".highlight .m { color: #666666 } /* Literal.Number */\n",
       ".highlight .s { color: #BA2121 } /* Literal.String */\n",
       ".highlight .na { color: #7D9029 } /* Name.Attribute */\n",
       ".highlight .nb { color: #008000 } /* Name.Builtin */\n",
       ".highlight .nc { color: #0000FF; font-weight: bold } /* Name.Class */\n",
       ".highlight .no { color: #880000 } /* Name.Constant */\n",
       ".highlight .nd { color: #AA22FF } /* Name.Decorator */\n",
       ".highlight .ni { color: #999999; font-weight: bold } /* Name.Entity */\n",
       ".highlight .ne { color: #D2413A; font-weight: bold } /* Name.Exception */\n",
       ".highlight .nf { color: #0000FF } /* Name.Function */\n",
       ".highlight .nl { color: #A0A000 } /* Name.Label */\n",
       ".highlight .nn { color: #0000FF; font-weight: bold } /* Name.Namespace */\n",
       ".highlight .nt { color: #008000; font-weight: bold } /* Name.Tag */\n",
       ".highlight .nv { color: #19177C } /* Name.Variable */\n",
       ".highlight .ow { color: #AA22FF; font-weight: bold } /* Operator.Word */\n",
       ".highlight .w { color: #bbbbbb } /* Text.Whitespace */\n",
       ".highlight .mb { color: #666666 } /* Literal.Number.Bin */\n",
       ".highlight .mf { color: #666666 } /* Literal.Number.Float */\n",
       ".highlight .mh { color: #666666 } /* Literal.Number.Hex */\n",
       ".highlight .mi { color: #666666 } /* Literal.Number.Integer */\n",
       ".highlight .mo { color: #666666 } /* Literal.Number.Oct */\n",
       ".highlight .sa { color: #BA2121 } /* Literal.String.Affix */\n",
       ".highlight .sb { color: #BA2121 } /* Literal.String.Backtick */\n",
       ".highlight .sc { color: #BA2121 } /* Literal.String.Char */\n",
       ".highlight .dl { color: #BA2121 } /* Literal.String.Delimiter */\n",
       ".highlight .sd { color: #BA2121; font-style: italic } /* Literal.String.Doc */\n",
       ".highlight .s2 { color: #BA2121 } /* Literal.String.Double */\n",
       ".highlight .se { color: #BB6622; font-weight: bold } /* Literal.String.Escape */\n",
       ".highlight .sh { color: #BA2121 } /* Literal.String.Heredoc */\n",
       ".highlight .si { color: #BB6688; font-weight: bold } /* Literal.String.Interpol */\n",
       ".highlight .sx { color: #008000 } /* Literal.String.Other */\n",
       ".highlight .sr { color: #BB6688 } /* Literal.String.Regex */\n",
       ".highlight .s1 { color: #BA2121 } /* Literal.String.Single */\n",
       ".highlight .ss { color: #19177C } /* Literal.String.Symbol */\n",
       ".highlight .bp { color: #008000 } /* Name.Builtin.Pseudo */\n",
       ".highlight .fm { color: #0000FF } /* Name.Function.Magic */\n",
       ".highlight .vc { color: #19177C } /* Name.Variable.Class */\n",
       ".highlight .vg { color: #19177C } /* Name.Variable.Global */\n",
       ".highlight .vi { color: #19177C } /* Name.Variable.Instance */\n",
       ".highlight .vm { color: #19177C } /* Name.Variable.Magic */\n",
       ".highlight .il { color: #666666 } /* Literal.Number.Integer.Long */</style><div class=\"highlight\"><pre><span></span><span class=\"k\">def</span> <span class=\"nf\">intersection_squared_hellinger</span><span class=\"p\">(</span><span class=\"n\">a</span><span class=\"p\">:</span> <span class=\"nb\">dict</span><span class=\"p\">,</span> <span class=\"n\">b</span><span class=\"p\">:</span> <span class=\"nb\">dict</span><span class=\"p\">)</span> <span class=\"o\">-&gt;</span> <span class=\"nb\">float</span><span class=\"p\">:</span>\n",
       "    <span class=\"sd\">&quot;&quot;&quot;Determine the Intersection Squared Hellinger distance.&quot;&quot;&quot;</span>\n",
       "    <span class=\"n\">total</span> <span class=\"o\">=</span> <span class=\"mi\">0</span>\n",
       "    <span class=\"n\">big</span><span class=\"p\">,</span> <span class=\"n\">small</span> <span class=\"o\">=</span> <span class=\"n\">sort</span><span class=\"p\">(</span><span class=\"n\">a</span><span class=\"p\">,</span> <span class=\"n\">b</span><span class=\"p\">)</span>\n",
       "    <span class=\"n\">big_get</span> <span class=\"o\">=</span> <span class=\"n\">big</span><span class=\"o\">.</span><span class=\"fm\">__getitem__</span>\n",
       "    <span class=\"k\">for</span> <span class=\"n\">key</span><span class=\"p\">,</span> <span class=\"n\">small_value</span> <span class=\"ow\">in</span> <span class=\"n\">small</span><span class=\"o\">.</span><span class=\"n\">items</span><span class=\"p\">():</span>\n",
       "        <span class=\"k\">try</span><span class=\"p\">:</span>\n",
       "            <span class=\"n\">total</span> <span class=\"o\">+=</span> <span class=\"p\">(</span><span class=\"n\">small_value</span><span class=\"o\">**</span><span class=\"p\">(</span><span class=\"mi\">1</span> <span class=\"o\">/</span> <span class=\"mi\">5</span><span class=\"p\">)</span> <span class=\"o\">-</span> <span class=\"n\">big_get</span><span class=\"p\">(</span><span class=\"n\">key</span><span class=\"p\">)</span><span class=\"o\">**</span><span class=\"p\">(</span><span class=\"mi\">1</span> <span class=\"o\">/</span> <span class=\"mi\">5</span><span class=\"p\">))</span><span class=\"o\">**</span><span class=\"mi\">2</span>\n",
       "        <span class=\"k\">except</span> <span class=\"ne\">KeyError</span><span class=\"p\">:</span>\n",
       "            <span class=\"k\">pass</span>\n",
       "    <span class=\"k\">return</span> <span class=\"n\">total</span>\n",
       "</pre></div>\n"
      ],
      "text/plain": [
       "<IPython.core.display.HTML object>"
      ]
     },
     "metadata": {},
     "output_type": "display_data"
    },
    {
     "data": {
      "text/html": [
       "<style type=\"text/css\">.highlight .hll { background-color: #ffffcc }\n",
       ".highlight  { background: #f8f8f8; }\n",
       ".highlight .c { color: #408080; font-style: italic } /* Comment */\n",
       ".highlight .err { border: 1px solid #FF0000 } /* Error */\n",
       ".highlight .k { color: #008000; font-weight: bold } /* Keyword */\n",
       ".highlight .o { color: #666666 } /* Operator */\n",
       ".highlight .ch { color: #408080; font-style: italic } /* Comment.Hashbang */\n",
       ".highlight .cm { color: #408080; font-style: italic } /* Comment.Multiline */\n",
       ".highlight .cp { color: #BC7A00 } /* Comment.Preproc */\n",
       ".highlight .cpf { color: #408080; font-style: italic } /* Comment.PreprocFile */\n",
       ".highlight .c1 { color: #408080; font-style: italic } /* Comment.Single */\n",
       ".highlight .cs { color: #408080; font-style: italic } /* Comment.Special */\n",
       ".highlight .gd { color: #A00000 } /* Generic.Deleted */\n",
       ".highlight .ge { font-style: italic } /* Generic.Emph */\n",
       ".highlight .gr { color: #FF0000 } /* Generic.Error */\n",
       ".highlight .gh { color: #000080; font-weight: bold } /* Generic.Heading */\n",
       ".highlight .gi { color: #00A000 } /* Generic.Inserted */\n",
       ".highlight .go { color: #888888 } /* Generic.Output */\n",
       ".highlight .gp { color: #000080; font-weight: bold } /* Generic.Prompt */\n",
       ".highlight .gs { font-weight: bold } /* Generic.Strong */\n",
       ".highlight .gu { color: #800080; font-weight: bold } /* Generic.Subheading */\n",
       ".highlight .gt { color: #0044DD } /* Generic.Traceback */\n",
       ".highlight .kc { color: #008000; font-weight: bold } /* Keyword.Constant */\n",
       ".highlight .kd { color: #008000; font-weight: bold } /* Keyword.Declaration */\n",
       ".highlight .kn { color: #008000; font-weight: bold } /* Keyword.Namespace */\n",
       ".highlight .kp { color: #008000 } /* Keyword.Pseudo */\n",
       ".highlight .kr { color: #008000; font-weight: bold } /* Keyword.Reserved */\n",
       ".highlight .kt { color: #B00040 } /* Keyword.Type */\n",
       ".highlight .m { color: #666666 } /* Literal.Number */\n",
       ".highlight .s { color: #BA2121 } /* Literal.String */\n",
       ".highlight .na { color: #7D9029 } /* Name.Attribute */\n",
       ".highlight .nb { color: #008000 } /* Name.Builtin */\n",
       ".highlight .nc { color: #0000FF; font-weight: bold } /* Name.Class */\n",
       ".highlight .no { color: #880000 } /* Name.Constant */\n",
       ".highlight .nd { color: #AA22FF } /* Name.Decorator */\n",
       ".highlight .ni { color: #999999; font-weight: bold } /* Name.Entity */\n",
       ".highlight .ne { color: #D2413A; font-weight: bold } /* Name.Exception */\n",
       ".highlight .nf { color: #0000FF } /* Name.Function */\n",
       ".highlight .nl { color: #A0A000 } /* Name.Label */\n",
       ".highlight .nn { color: #0000FF; font-weight: bold } /* Name.Namespace */\n",
       ".highlight .nt { color: #008000; font-weight: bold } /* Name.Tag */\n",
       ".highlight .nv { color: #19177C } /* Name.Variable */\n",
       ".highlight .ow { color: #AA22FF; font-weight: bold } /* Operator.Word */\n",
       ".highlight .w { color: #bbbbbb } /* Text.Whitespace */\n",
       ".highlight .mb { color: #666666 } /* Literal.Number.Bin */\n",
       ".highlight .mf { color: #666666 } /* Literal.Number.Float */\n",
       ".highlight .mh { color: #666666 } /* Literal.Number.Hex */\n",
       ".highlight .mi { color: #666666 } /* Literal.Number.Integer */\n",
       ".highlight .mo { color: #666666 } /* Literal.Number.Oct */\n",
       ".highlight .sa { color: #BA2121 } /* Literal.String.Affix */\n",
       ".highlight .sb { color: #BA2121 } /* Literal.String.Backtick */\n",
       ".highlight .sc { color: #BA2121 } /* Literal.String.Char */\n",
       ".highlight .dl { color: #BA2121 } /* Literal.String.Delimiter */\n",
       ".highlight .sd { color: #BA2121; font-style: italic } /* Literal.String.Doc */\n",
       ".highlight .s2 { color: #BA2121 } /* Literal.String.Double */\n",
       ".highlight .se { color: #BB6622; font-weight: bold } /* Literal.String.Escape */\n",
       ".highlight .sh { color: #BA2121 } /* Literal.String.Heredoc */\n",
       ".highlight .si { color: #BB6688; font-weight: bold } /* Literal.String.Interpol */\n",
       ".highlight .sx { color: #008000 } /* Literal.String.Other */\n",
       ".highlight .sr { color: #BB6688 } /* Literal.String.Regex */\n",
       ".highlight .s1 { color: #BA2121 } /* Literal.String.Single */\n",
       ".highlight .ss { color: #19177C } /* Literal.String.Symbol */\n",
       ".highlight .bp { color: #008000 } /* Name.Builtin.Pseudo */\n",
       ".highlight .fm { color: #0000FF } /* Name.Function.Magic */\n",
       ".highlight .vc { color: #19177C } /* Name.Variable.Class */\n",
       ".highlight .vg { color: #19177C } /* Name.Variable.Global */\n",
       ".highlight .vi { color: #19177C } /* Name.Variable.Instance */\n",
       ".highlight .vm { color: #19177C } /* Name.Variable.Magic */\n",
       ".highlight .il { color: #666666 } /* Literal.Number.Integer.Long */</style><div class=\"highlight\"><pre><span></span><span class=\"k\">def</span> <span class=\"nf\">hellinger</span><span class=\"p\">(</span><span class=\"n\">a</span><span class=\"p\">:</span> <span class=\"nb\">dict</span><span class=\"p\">,</span> <span class=\"n\">b</span><span class=\"p\">:</span> <span class=\"nb\">dict</span><span class=\"p\">)</span> <span class=\"o\">-&gt;</span> <span class=\"nb\">float</span><span class=\"p\">:</span>\n",
       "    <span class=\"sd\">&quot;&quot;&quot;Determine the Hellinger distance.&quot;&quot;&quot;</span>\n",
       "    <span class=\"k\">try</span><span class=\"p\">:</span>\n",
       "        <span class=\"n\">v</span> <span class=\"o\">=</span> <span class=\"n\">squared_hellinger</span><span class=\"p\">(</span><span class=\"n\">a</span><span class=\"p\">,</span> <span class=\"n\">b</span><span class=\"p\">)</span>\n",
       "        <span class=\"k\">return</span> <span class=\"n\">sqrt</span><span class=\"p\">(</span><span class=\"n\">v</span><span class=\"p\">)</span>\n",
       "    <span class=\"k\">except</span> <span class=\"ne\">ValueError</span> <span class=\"k\">as</span> <span class=\"n\">e</span><span class=\"p\">:</span>\n",
       "        <span class=\"k\">if</span> <span class=\"n\">isclose</span><span class=\"p\">(</span><span class=\"n\">v</span><span class=\"p\">,</span> <span class=\"mi\">0</span><span class=\"p\">,</span> <span class=\"n\">abs_tol</span><span class=\"o\">=</span><span class=\"mf\">1e-15</span><span class=\"p\">):</span>\n",
       "            <span class=\"k\">return</span> <span class=\"mi\">0</span>\n",
       "        <span class=\"k\">raise</span> <span class=\"n\">e</span>\n",
       "</pre></div>\n"
      ],
      "text/plain": [
       "<IPython.core.display.HTML object>"
      ]
     },
     "metadata": {},
     "output_type": "display_data"
    },
    {
     "data": {
      "text/html": [
       "<style type=\"text/css\">.highlight .hll { background-color: #ffffcc }\n",
       ".highlight  { background: #f8f8f8; }\n",
       ".highlight .c { color: #408080; font-style: italic } /* Comment */\n",
       ".highlight .err { border: 1px solid #FF0000 } /* Error */\n",
       ".highlight .k { color: #008000; font-weight: bold } /* Keyword */\n",
       ".highlight .o { color: #666666 } /* Operator */\n",
       ".highlight .ch { color: #408080; font-style: italic } /* Comment.Hashbang */\n",
       ".highlight .cm { color: #408080; font-style: italic } /* Comment.Multiline */\n",
       ".highlight .cp { color: #BC7A00 } /* Comment.Preproc */\n",
       ".highlight .cpf { color: #408080; font-style: italic } /* Comment.PreprocFile */\n",
       ".highlight .c1 { color: #408080; font-style: italic } /* Comment.Single */\n",
       ".highlight .cs { color: #408080; font-style: italic } /* Comment.Special */\n",
       ".highlight .gd { color: #A00000 } /* Generic.Deleted */\n",
       ".highlight .ge { font-style: italic } /* Generic.Emph */\n",
       ".highlight .gr { color: #FF0000 } /* Generic.Error */\n",
       ".highlight .gh { color: #000080; font-weight: bold } /* Generic.Heading */\n",
       ".highlight .gi { color: #00A000 } /* Generic.Inserted */\n",
       ".highlight .go { color: #888888 } /* Generic.Output */\n",
       ".highlight .gp { color: #000080; font-weight: bold } /* Generic.Prompt */\n",
       ".highlight .gs { font-weight: bold } /* Generic.Strong */\n",
       ".highlight .gu { color: #800080; font-weight: bold } /* Generic.Subheading */\n",
       ".highlight .gt { color: #0044DD } /* Generic.Traceback */\n",
       ".highlight .kc { color: #008000; font-weight: bold } /* Keyword.Constant */\n",
       ".highlight .kd { color: #008000; font-weight: bold } /* Keyword.Declaration */\n",
       ".highlight .kn { color: #008000; font-weight: bold } /* Keyword.Namespace */\n",
       ".highlight .kp { color: #008000 } /* Keyword.Pseudo */\n",
       ".highlight .kr { color: #008000; font-weight: bold } /* Keyword.Reserved */\n",
       ".highlight .kt { color: #B00040 } /* Keyword.Type */\n",
       ".highlight .m { color: #666666 } /* Literal.Number */\n",
       ".highlight .s { color: #BA2121 } /* Literal.String */\n",
       ".highlight .na { color: #7D9029 } /* Name.Attribute */\n",
       ".highlight .nb { color: #008000 } /* Name.Builtin */\n",
       ".highlight .nc { color: #0000FF; font-weight: bold } /* Name.Class */\n",
       ".highlight .no { color: #880000 } /* Name.Constant */\n",
       ".highlight .nd { color: #AA22FF } /* Name.Decorator */\n",
       ".highlight .ni { color: #999999; font-weight: bold } /* Name.Entity */\n",
       ".highlight .ne { color: #D2413A; font-weight: bold } /* Name.Exception */\n",
       ".highlight .nf { color: #0000FF } /* Name.Function */\n",
       ".highlight .nl { color: #A0A000 } /* Name.Label */\n",
       ".highlight .nn { color: #0000FF; font-weight: bold } /* Name.Namespace */\n",
       ".highlight .nt { color: #008000; font-weight: bold } /* Name.Tag */\n",
       ".highlight .nv { color: #19177C } /* Name.Variable */\n",
       ".highlight .ow { color: #AA22FF; font-weight: bold } /* Operator.Word */\n",
       ".highlight .w { color: #bbbbbb } /* Text.Whitespace */\n",
       ".highlight .mb { color: #666666 } /* Literal.Number.Bin */\n",
       ".highlight .mf { color: #666666 } /* Literal.Number.Float */\n",
       ".highlight .mh { color: #666666 } /* Literal.Number.Hex */\n",
       ".highlight .mi { color: #666666 } /* Literal.Number.Integer */\n",
       ".highlight .mo { color: #666666 } /* Literal.Number.Oct */\n",
       ".highlight .sa { color: #BA2121 } /* Literal.String.Affix */\n",
       ".highlight .sb { color: #BA2121 } /* Literal.String.Backtick */\n",
       ".highlight .sc { color: #BA2121 } /* Literal.String.Char */\n",
       ".highlight .dl { color: #BA2121 } /* Literal.String.Delimiter */\n",
       ".highlight .sd { color: #BA2121; font-style: italic } /* Literal.String.Doc */\n",
       ".highlight .s2 { color: #BA2121 } /* Literal.String.Double */\n",
       ".highlight .se { color: #BB6622; font-weight: bold } /* Literal.String.Escape */\n",
       ".highlight .sh { color: #BA2121 } /* Literal.String.Heredoc */\n",
       ".highlight .si { color: #BB6688; font-weight: bold } /* Literal.String.Interpol */\n",
       ".highlight .sx { color: #008000 } /* Literal.String.Other */\n",
       ".highlight .sr { color: #BB6688 } /* Literal.String.Regex */\n",
       ".highlight .s1 { color: #BA2121 } /* Literal.String.Single */\n",
       ".highlight .ss { color: #19177C } /* Literal.String.Symbol */\n",
       ".highlight .bp { color: #008000 } /* Name.Builtin.Pseudo */\n",
       ".highlight .fm { color: #0000FF } /* Name.Function.Magic */\n",
       ".highlight .vc { color: #19177C } /* Name.Variable.Class */\n",
       ".highlight .vg { color: #19177C } /* Name.Variable.Global */\n",
       ".highlight .vi { color: #19177C } /* Name.Variable.Instance */\n",
       ".highlight .vm { color: #19177C } /* Name.Variable.Magic */\n",
       ".highlight .il { color: #666666 } /* Literal.Number.Integer.Long */</style><div class=\"highlight\"><pre><span></span><span class=\"k\">def</span> <span class=\"nf\">squared_hellinger</span><span class=\"p\">(</span><span class=\"n\">a</span><span class=\"p\">:</span> <span class=\"nb\">dict</span><span class=\"p\">,</span> <span class=\"n\">b</span><span class=\"p\">:</span> <span class=\"nb\">dict</span><span class=\"p\">)</span> <span class=\"o\">-&gt;</span> <span class=\"nb\">float</span><span class=\"p\">:</span>\n",
       "    <span class=\"sd\">&quot;&quot;&quot;Determine the Squared Hellinger distance.&quot;&quot;&quot;</span>\n",
       "    <span class=\"n\">total</span> <span class=\"o\">=</span> <span class=\"mi\">1</span>\n",
       "    <span class=\"n\">big</span><span class=\"p\">,</span> <span class=\"n\">small</span> <span class=\"o\">=</span> <span class=\"n\">sort</span><span class=\"p\">(</span><span class=\"n\">a</span><span class=\"p\">,</span> <span class=\"n\">b</span><span class=\"p\">)</span>\n",
       "    <span class=\"n\">big_get</span> <span class=\"o\">=</span> <span class=\"n\">big</span><span class=\"o\">.</span><span class=\"fm\">__getitem__</span>\n",
       "    <span class=\"k\">for</span> <span class=\"n\">key</span><span class=\"p\">,</span> <span class=\"n\">small_value</span> <span class=\"ow\">in</span> <span class=\"n\">small</span><span class=\"o\">.</span><span class=\"n\">items</span><span class=\"p\">():</span>\n",
       "        <span class=\"k\">try</span><span class=\"p\">:</span>\n",
       "            <span class=\"n\">total</span> <span class=\"o\">-=</span> <span class=\"n\">sqrt</span><span class=\"p\">(</span><span class=\"n\">small_value</span> <span class=\"o\">*</span> <span class=\"n\">big_get</span><span class=\"p\">(</span><span class=\"n\">key</span><span class=\"p\">))</span>\n",
       "        <span class=\"k\">except</span> <span class=\"ne\">KeyError</span><span class=\"p\">:</span>\n",
       "            <span class=\"k\">pass</span>\n",
       "    <span class=\"k\">return</span> <span class=\"n\">total</span>\n",
       "</pre></div>\n"
      ],
      "text/plain": [
       "<IPython.core.display.HTML object>"
      ]
     },
     "metadata": {},
     "output_type": "display_data"
    }
   ],
   "source": [
    "for metric in metrics:\n",
    "    print_function(metric)"
   ]
  },
  {
   "cell_type": "markdown",
   "metadata": {},
   "source": [
    "## The options\n",
    "We will use the following options for learning and testing. More informations about options' customizations is available [here](https://github.com/LucaCappelletti94/zipf#options-in-creating-a-zipf). In this test we use simply the default settings (a plain zipf) with no stop word removal or cardinality removal.\n",
    "\n",
    "### A couple examples\n",
    "Possible options could be to remove english or italian stop words (the stop words list is in the package zipf):\n",
    "```python\n",
    "{\n",
    "  \"remove_stop_words\": false, # Removes stop words\n",
    "  \"stop_words\": \"it\" # Removes italian stop words\n",
    "}\n",
    "```\n",
    "\n",
    "```python\n",
    "{\n",
    "  \"remove_stop_words\": false, # Removes stop words\n",
    "  \"stop_words\": \"en\" # Removes english stop words\n",
    "}\n",
    "```\n",
    "Or to remove words that appear less than a given time:\n",
    "\n",
    "```python\n",
    "{\n",
    "  \"minimum_count\": 1, # Removes words that appear less than 'minimum_count'\n",
    "}\n",
    "```\n",
    "Chaining options are available but the current implementation uses too much memory to be of practically usable."
   ]
  },
  {
   "cell_type": "code",
   "execution_count": 22,
   "metadata": {},
   "outputs": [],
   "source": [
    "options = {}"
   ]
  },
  {
   "cell_type": "markdown",
   "metadata": {},
   "source": [
    "## Creating the Zipfs\n",
    "We will now convert all the chapters in the dataset into the respective zipf for each option."
   ]
  },
  {
   "cell_type": "code",
   "execution_count": 23,
   "metadata": {},
   "outputs": [],
   "source": [
    "def create_zipfs(paths, factory, test_path):\n",
    "    for data_path in tqdm(paths, unit=' zipf'):\n",
    "        path = \"%s/%s.json\"%(test_path, '/'.join(data_path.split('/')[1:]))\n",
    "        # If the zipf already exists we skip it\n",
    "        if os.path.exists(path):\n",
    "            continue\n",
    "        path_dirs = '/'.join(path.split('/')[:-1])\n",
    "        zipf = factory.run(data_path, ['txt'])\n",
    "        if not zipf.is_empty():\n",
    "            if not os.path.exists(path_dirs):\n",
    "                os.makedirs(path_dirs)\n",
    "            zipf.save(path)"
   ]
  },
  {
   "cell_type": "markdown",
   "metadata": {},
   "source": [
    "We define the paths for zipfs and their sources:"
   ]
  },
  {
   "cell_type": "code",
   "execution_count": 24,
   "metadata": {},
   "outputs": [],
   "source": [
    "def get_build_paths(dataset):\n",
    "    \"\"\"Return a triple with the build paths for given dataset.\"\"\"\n",
    "    learning_path = \"%s/learning\"%dataset\n",
    "    testing_path = \"%s/testing\"%dataset\n",
    "    zipfs_path = '%s/zipfs'%dataset\n",
    "\n",
    "    print(\"I will build learning zipfs from %s,\\ntesting zipfs from %s\\nand save them in %s\\n\"%(b(learning_path), b(testing_path), b(zipfs_path)))\n",
    "    return learning_path, testing_path, zipfs_path"
   ]
  },
  {
   "cell_type": "markdown",
   "metadata": {},
   "source": [
    "First we create the learning zipfs:"
   ]
  },
  {
   "cell_type": "code",
   "execution_count": 25,
   "metadata": {},
   "outputs": [],
   "source": [
    "def build_learning_zipfs(path, zipfs_path):\n",
    "    \"\"\"Build zipfs from txt files at given path.\"\"\"\n",
    "    print(\"Creating learning zipfs in %s\"%(b(path)))\n",
    "    book_classes = get_dirs(path)\n",
    "    print(\"Some of the paths I'm converting are:\")\n",
    "    random.seed(42) # For reproducibility\n",
    "    random.shuffle(book_classes)\n",
    "    shown = []\n",
    "    for book in book_classes[:10]:\n",
    "        shown.append((book, ''))\n",
    "    display(HTML(tabulate.tabulate(shown, [\"Learning data paths\"], tablefmt='html')))\n",
    "    create_zipfs(book_classes, factory, zipfs_path)"
   ]
  },
  {
   "cell_type": "markdown",
   "metadata": {},
   "source": [
    "And then the testing zipfs:"
   ]
  },
  {
   "cell_type": "code",
   "execution_count": 26,
   "metadata": {},
   "outputs": [],
   "source": [
    "def build_testing_zipfs(path, zipfs_path):\n",
    "    \"\"\"Build zipfs from txt files at given path.\"\"\"\n",
    "    print(\"Creating testing zipfs in %s\"%(b(path)))\n",
    "    books = get_books(path)\n",
    "    random.seed(42) # For reproducibility\n",
    "    random.shuffle(books)\n",
    "    shown = []\n",
    "    for book in books[:10]:\n",
    "        shown.append((book, ''))\n",
    "    display(HTML(tabulate.tabulate(shown, [\"Testing data paths\", ''], tablefmt='html')))\n",
    "    create_zipfs(books, factory, zipfs_path)"
   ]
  },
  {
   "cell_type": "markdown",
   "metadata": {},
   "source": [
    "We create a factory for creating the zipfs objects from files with the options defined above. More informations about factory customization and other possible factories is available [here](https://github.com/LucaCappelletti94/zipf)."
   ]
  },
  {
   "cell_type": "code",
   "execution_count": 27,
   "metadata": {},
   "outputs": [
    {
     "name": "stdout",
     "output_type": "stream",
     "text": [
      "Created a factory with options {\n",
      "  \"remove_stop_words\": false,\n",
      "  \"stop_words\": \"it\",\n",
      "  \"minimum_count\": 0,\n",
      "  \"chain_min_len\": 1,\n",
      "  \"chain_max_len\": 1,\n",
      "  \"chaining_character\": \" \",\n",
      "  \"sort\": false\n",
      "}\n"
     ]
    }
   ],
   "source": [
    "factory = ZipfFromDir(options=options)\n",
    "print(\"Created a factory with options %s\"%(factory))"
   ]
  },
  {
   "cell_type": "markdown",
   "metadata": {},
   "source": [
    "Wake up zipfs factory daemons:"
   ]
  },
  {
   "cell_type": "code",
   "execution_count": 28,
   "metadata": {},
   "outputs": [],
   "source": [
    "factory.start_processes()"
   ]
  },
  {
   "cell_type": "markdown",
   "metadata": {},
   "source": [
    "Actually creating the zipfs:"
   ]
  },
  {
   "cell_type": "code",
   "execution_count": 29,
   "metadata": {
    "scrolled": false
   },
   "outputs": [
    {
     "name": "stdout",
     "output_type": "stream",
     "text": [
      "Building dataset \u001b[1mauthors\u001b[0;0m\n",
      "I will build learning zipfs from \u001b[1mauthors/learning\u001b[0;0m,\n",
      "testing zipfs from \u001b[1mauthors/testing\u001b[0;0m\n",
      "and save them in \u001b[1mauthors/zipfs\u001b[0;0m\n",
      "\n",
      "Creating learning zipfs in \u001b[1mauthors/learning\u001b[0;0m\n",
      "Some of the paths I'm converting are:\n"
     ]
    },
    {
     "data": {
      "text/html": [
       "<table>\n",
       "<thead>\n",
       "<tr><th>                            </th><th>Learning data paths  </th></tr>\n",
       "</thead>\n",
       "<tbody>\n",
       "<tr><td>authors/learning/twain      </td><td>                     </td></tr>\n",
       "<tr><td>authors/learning/dh_lawrence</td><td>                     </td></tr>\n",
       "<tr><td>authors/learning/wilde      </td><td>                     </td></tr>\n",
       "</tbody>\n",
       "</table>"
      ],
      "text/plain": [
       "<IPython.core.display.HTML object>"
      ]
     },
     "metadata": {},
     "output_type": "display_data"
    },
    {
     "data": {
      "application/vnd.jupyter.widget-view+json": {
       "model_id": "ef3e3ffb5e1641ea8ad840bffdc4ffae",
       "version_major": 2,
       "version_minor": 0
      },
      "text/html": [
       "<p>Failed to display Jupyter Widget of type <code>HBox</code>.</p>\n",
       "<p>\n",
       "  If you're reading this message in the Jupyter Notebook or JupyterLab Notebook, it may mean\n",
       "  that the widgets JavaScript is still loading. If this message persists, it\n",
       "  likely means that the widgets JavaScript library is either not installed or\n",
       "  not enabled. See the <a href=\"https://ipywidgets.readthedocs.io/en/stable/user_install.html\">Jupyter\n",
       "  Widgets Documentation</a> for setup instructions.\n",
       "</p>\n",
       "<p>\n",
       "  If you're reading this message in another frontend (for example, a static\n",
       "  rendering on GitHub or <a href=\"https://nbviewer.jupyter.org/\">NBViewer</a>),\n",
       "  it may mean that your frontend doesn't currently support widgets.\n",
       "</p>\n"
      ],
      "text/plain": [
       "HBox(children=(IntProgress(value=0, max=3), HTML(value='')))"
      ]
     },
     "metadata": {},
     "output_type": "display_data"
    },
    {
     "name": "stdout",
     "output_type": "stream",
     "text": [
      "\n",
      "Creating testing zipfs in \u001b[1mauthors/testing\u001b[0;0m\n"
     ]
    },
    {
     "data": {
      "text/html": [
       "<table>\n",
       "<thead>\n",
       "<tr><th>Testing data paths                                 </th><th>  </th></tr>\n",
       "</thead>\n",
       "<tbody>\n",
       "<tr><td>authors/testing/twain/3275                         </td><td>  </td></tr>\n",
       "<tr><td>authors/testing/twain/320                          </td><td>  </td></tr>\n",
       "<tr><td>authors/testing/wilde/florentine-tragedy           </td><td>  </td></tr>\n",
       "<tr><td>authors/testing/dh_lawrence/4483                   </td><td>  </td></tr>\n",
       "<tr><td>authors/testing/wilde/2252                         </td><td>  </td></tr>\n",
       "<tr><td>authors/testing/twain/3297                         </td><td>  </td></tr>\n",
       "<tr><td>authors/testing/wilde/2305                         </td><td>  </td></tr>\n",
       "<tr><td>authors/testing/dh_lawrence/fantasia-of-unconscious</td><td>  </td></tr>\n",
       "<tr><td>authors/testing/wilde/2317                         </td><td>  </td></tr>\n",
       "<tr><td>authors/testing/twain/3259                         </td><td>  </td></tr>\n",
       "</tbody>\n",
       "</table>"
      ],
      "text/plain": [
       "<IPython.core.display.HTML object>"
      ]
     },
     "metadata": {},
     "output_type": "display_data"
    },
    {
     "data": {
      "application/vnd.jupyter.widget-view+json": {
       "model_id": "3cbc2eebd67c439cb82a06ad0fe2f79f",
       "version_major": 2,
       "version_minor": 0
      },
      "text/html": [
       "<p>Failed to display Jupyter Widget of type <code>HBox</code>.</p>\n",
       "<p>\n",
       "  If you're reading this message in the Jupyter Notebook or JupyterLab Notebook, it may mean\n",
       "  that the widgets JavaScript is still loading. If this message persists, it\n",
       "  likely means that the widgets JavaScript library is either not installed or\n",
       "  not enabled. See the <a href=\"https://ipywidgets.readthedocs.io/en/stable/user_install.html\">Jupyter\n",
       "  Widgets Documentation</a> for setup instructions.\n",
       "</p>\n",
       "<p>\n",
       "  If you're reading this message in another frontend (for example, a static\n",
       "  rendering on GitHub or <a href=\"https://nbviewer.jupyter.org/\">NBViewer</a>),\n",
       "  it may mean that your frontend doesn't currently support widgets.\n",
       "</p>\n"
      ],
      "text/plain": [
       "HBox(children=(IntProgress(value=0, max=160), HTML(value='')))"
      ]
     },
     "metadata": {},
     "output_type": "display_data"
    },
    {
     "name": "stdout",
     "output_type": "stream",
     "text": [
      "\n",
      "\u001b[0;37m==============================\u001b[0;0m\n",
      "Building dataset \u001b[1mperiods\u001b[0;0m\n",
      "I will build learning zipfs from \u001b[1mperiods/learning\u001b[0;0m,\n",
      "testing zipfs from \u001b[1mperiods/testing\u001b[0;0m\n",
      "and save them in \u001b[1mperiods/zipfs\u001b[0;0m\n",
      "\n",
      "Creating learning zipfs in \u001b[1mperiods/learning\u001b[0;0m\n",
      "Some of the paths I'm converting are:\n"
     ]
    },
    {
     "data": {
      "text/html": [
       "<table>\n",
       "<thead>\n",
       "<tr><th>                            </th><th>Learning data paths  </th></tr>\n",
       "</thead>\n",
       "<tbody>\n",
       "<tr><td>periods/learning/romanticism</td><td>                     </td></tr>\n",
       "<tr><td>periods/learning/realism    </td><td>                     </td></tr>\n",
       "<tr><td>periods/learning/naturalism </td><td>                     </td></tr>\n",
       "<tr><td>periods/learning/modernism  </td><td>                     </td></tr>\n",
       "</tbody>\n",
       "</table>"
      ],
      "text/plain": [
       "<IPython.core.display.HTML object>"
      ]
     },
     "metadata": {},
     "output_type": "display_data"
    },
    {
     "data": {
      "application/vnd.jupyter.widget-view+json": {
       "model_id": "6f3a3fa693ef49fe9bdd5dfcc3ab55fc",
       "version_major": 2,
       "version_minor": 0
      },
      "text/html": [
       "<p>Failed to display Jupyter Widget of type <code>HBox</code>.</p>\n",
       "<p>\n",
       "  If you're reading this message in the Jupyter Notebook or JupyterLab Notebook, it may mean\n",
       "  that the widgets JavaScript is still loading. If this message persists, it\n",
       "  likely means that the widgets JavaScript library is either not installed or\n",
       "  not enabled. See the <a href=\"https://ipywidgets.readthedocs.io/en/stable/user_install.html\">Jupyter\n",
       "  Widgets Documentation</a> for setup instructions.\n",
       "</p>\n",
       "<p>\n",
       "  If you're reading this message in another frontend (for example, a static\n",
       "  rendering on GitHub or <a href=\"https://nbviewer.jupyter.org/\">NBViewer</a>),\n",
       "  it may mean that your frontend doesn't currently support widgets.\n",
       "</p>\n"
      ],
      "text/plain": [
       "HBox(children=(IntProgress(value=0, max=4), HTML(value='')))"
      ]
     },
     "metadata": {},
     "output_type": "display_data"
    },
    {
     "name": "stdout",
     "output_type": "stream",
     "text": [
      "\n",
      "Creating testing zipfs in \u001b[1mperiods/testing\u001b[0;0m\n"
     ]
    },
    {
     "data": {
      "text/html": [
       "<table>\n",
       "<thead>\n",
       "<tr><th>Testing data paths                     </th><th>  </th></tr>\n",
       "</thead>\n",
       "<tbody>\n",
       "<tr><td>periods/testing/romanticism/579        </td><td>  </td></tr>\n",
       "<tr><td>periods/testing/modernism/3452         </td><td>  </td></tr>\n",
       "<tr><td>periods/testing/romanticism/550        </td><td>  </td></tr>\n",
       "<tr><td>periods/testing/romanticism/2124       </td><td>  </td></tr>\n",
       "<tr><td>periods/testing/romanticism/4545       </td><td>  </td></tr>\n",
       "<tr><td>periods/testing/romanticism/491        </td><td>  </td></tr>\n",
       "<tr><td>periods/testing/modernism/3484         </td><td>  </td></tr>\n",
       "<tr><td>periods/testing/romanticism/143        </td><td>  </td></tr>\n",
       "<tr><td>periods/testing/modernism/blanco-posnet</td><td>  </td></tr>\n",
       "<tr><td>periods/testing/realism/indian-summer  </td><td>  </td></tr>\n",
       "</tbody>\n",
       "</table>"
      ],
      "text/plain": [
       "<IPython.core.display.HTML object>"
      ]
     },
     "metadata": {},
     "output_type": "display_data"
    },
    {
     "data": {
      "application/vnd.jupyter.widget-view+json": {
       "model_id": "62ddad04b8f74c519a552aef6c8e3c2a",
       "version_major": 2,
       "version_minor": 0
      },
      "text/html": [
       "<p>Failed to display Jupyter Widget of type <code>HBox</code>.</p>\n",
       "<p>\n",
       "  If you're reading this message in the Jupyter Notebook or JupyterLab Notebook, it may mean\n",
       "  that the widgets JavaScript is still loading. If this message persists, it\n",
       "  likely means that the widgets JavaScript library is either not installed or\n",
       "  not enabled. See the <a href=\"https://ipywidgets.readthedocs.io/en/stable/user_install.html\">Jupyter\n",
       "  Widgets Documentation</a> for setup instructions.\n",
       "</p>\n",
       "<p>\n",
       "  If you're reading this message in another frontend (for example, a static\n",
       "  rendering on GitHub or <a href=\"https://nbviewer.jupyter.org/\">NBViewer</a>),\n",
       "  it may mean that your frontend doesn't currently support widgets.\n",
       "</p>\n"
      ],
      "text/plain": [
       "HBox(children=(IntProgress(value=0, max=864), HTML(value='')))"
      ]
     },
     "metadata": {},
     "output_type": "display_data"
    },
    {
     "name": "stdout",
     "output_type": "stream",
     "text": [
      "\n",
      "\u001b[0;37m==============================\u001b[0;0m\n",
      "Building dataset \u001b[1mrecipes\u001b[0;0m\n",
      "I will build learning zipfs from \u001b[1mrecipes/learning\u001b[0;0m,\n",
      "testing zipfs from \u001b[1mrecipes/testing\u001b[0;0m\n",
      "and save them in \u001b[1mrecipes/zipfs\u001b[0;0m\n",
      "\n",
      "Creating learning zipfs in \u001b[1mrecipes/learning\u001b[0;0m\n",
      "Some of the paths I'm converting are:\n"
     ]
    },
    {
     "data": {
      "text/html": [
       "<table>\n",
       "<thead>\n",
       "<tr><th>                            </th><th>Learning data paths  </th></tr>\n",
       "</thead>\n",
       "<tbody>\n",
       "<tr><td>recipes/learning/recipes    </td><td>                     </td></tr>\n",
       "<tr><td>recipes/learning/non_recipes</td><td>                     </td></tr>\n",
       "</tbody>\n",
       "</table>"
      ],
      "text/plain": [
       "<IPython.core.display.HTML object>"
      ]
     },
     "metadata": {},
     "output_type": "display_data"
    },
    {
     "data": {
      "application/vnd.jupyter.widget-view+json": {
       "model_id": "71a87e3341ff4ff1b8319bf61d73fdbe",
       "version_major": 2,
       "version_minor": 0
      },
      "text/html": [
       "<p>Failed to display Jupyter Widget of type <code>HBox</code>.</p>\n",
       "<p>\n",
       "  If you're reading this message in the Jupyter Notebook or JupyterLab Notebook, it may mean\n",
       "  that the widgets JavaScript is still loading. If this message persists, it\n",
       "  likely means that the widgets JavaScript library is either not installed or\n",
       "  not enabled. See the <a href=\"https://ipywidgets.readthedocs.io/en/stable/user_install.html\">Jupyter\n",
       "  Widgets Documentation</a> for setup instructions.\n",
       "</p>\n",
       "<p>\n",
       "  If you're reading this message in another frontend (for example, a static\n",
       "  rendering on GitHub or <a href=\"https://nbviewer.jupyter.org/\">NBViewer</a>),\n",
       "  it may mean that your frontend doesn't currently support widgets.\n",
       "</p>\n"
      ],
      "text/plain": [
       "HBox(children=(IntProgress(value=0, max=2), HTML(value='')))"
      ]
     },
     "metadata": {},
     "output_type": "display_data"
    },
    {
     "name": "stdout",
     "output_type": "stream",
     "text": [
      "\n",
      "Creating testing zipfs in \u001b[1mrecipes/testing\u001b[0;0m\n"
     ]
    },
    {
     "data": {
      "text/html": [
       "<table>\n",
       "<thead>\n",
       "<tr><th>Testing data paths                                          </th><th>  </th></tr>\n",
       "</thead>\n",
       "<tbody>\n",
       "<tr><td>recipes/testing/non_recipes/409d884a6896b8673a0643cb615a7d4b</td><td>  </td></tr>\n",
       "<tr><td>recipes/testing/non_recipes/7e36a2f244dbce34106e0b1c9b9b41ca</td><td>  </td></tr>\n",
       "<tr><td>recipes/testing/recipes/955d93252cccff4b4d7943b8e678e367    </td><td>  </td></tr>\n",
       "<tr><td>recipes/testing/recipes/63ec182e7c66babebcd4a2cc487b098b    </td><td>  </td></tr>\n",
       "<tr><td>recipes/testing/non_recipes/b456e579f6cd6939e5013d250c7fe0ab</td><td>  </td></tr>\n",
       "<tr><td>recipes/testing/non_recipes/71eb580781257553cd6c850c8144492d</td><td>  </td></tr>\n",
       "<tr><td>recipes/testing/non_recipes/efdce7aa0c2c0c3c61f96ccc77e0f029</td><td>  </td></tr>\n",
       "<tr><td>recipes/testing/non_recipes/9edf96e7b7f8251c85c14f64e9df15d7</td><td>  </td></tr>\n",
       "<tr><td>recipes/testing/non_recipes/fd68ae7002749fe0e63a581fead0ff35</td><td>  </td></tr>\n",
       "<tr><td>recipes/testing/non_recipes/9598041f7ffb1393f1a02f3f81d127d8</td><td>  </td></tr>\n",
       "</tbody>\n",
       "</table>"
      ],
      "text/plain": [
       "<IPython.core.display.HTML object>"
      ]
     },
     "metadata": {},
     "output_type": "display_data"
    },
    {
     "data": {
      "application/vnd.jupyter.widget-view+json": {
       "model_id": "b159332e30b54219bfd615acffc77ced",
       "version_major": 2,
       "version_minor": 0
      },
      "text/html": [
       "<p>Failed to display Jupyter Widget of type <code>HBox</code>.</p>\n",
       "<p>\n",
       "  If you're reading this message in the Jupyter Notebook or JupyterLab Notebook, it may mean\n",
       "  that the widgets JavaScript is still loading. If this message persists, it\n",
       "  likely means that the widgets JavaScript library is either not installed or\n",
       "  not enabled. See the <a href=\"https://ipywidgets.readthedocs.io/en/stable/user_install.html\">Jupyter\n",
       "  Widgets Documentation</a> for setup instructions.\n",
       "</p>\n",
       "<p>\n",
       "  If you're reading this message in another frontend (for example, a static\n",
       "  rendering on GitHub or <a href=\"https://nbviewer.jupyter.org/\">NBViewer</a>),\n",
       "  it may mean that your frontend doesn't currently support widgets.\n",
       "</p>\n"
      ],
      "text/plain": [
       "HBox(children=(IntProgress(value=0, max=7214), HTML(value='')))"
      ]
     },
     "metadata": {},
     "output_type": "display_data"
    },
    {
     "name": "stdout",
     "output_type": "stream",
     "text": [
      "\n",
      "\u001b[0;37m==============================\u001b[0;0m\n"
     ]
    }
   ],
   "source": [
    "for dataset in datasets:\n",
    "    print(\"Building dataset %s\"%(b(dataset)))\n",
    "    learning_path, testing_path, zipfs_path = get_build_paths(dataset)\n",
    "    build_learning_zipfs(learning_path, zipfs_path)\n",
    "    build_testing_zipfs(testing_path, zipfs_path)\n",
    "    print(gray('='*frame_number))"
   ]
  },
  {
   "cell_type": "markdown",
   "metadata": {},
   "source": [
    "Slaying daemons:"
   ]
  },
  {
   "cell_type": "code",
   "execution_count": 30,
   "metadata": {},
   "outputs": [],
   "source": [
    "factory.close_processes()"
   ]
  },
  {
   "cell_type": "markdown",
   "metadata": {},
   "source": [
    "\n",
    "## Creating the Classifier\n",
    "Now we have rendered the learning. Let's run some tests!"
   ]
  },
  {
   "cell_type": "markdown",
   "metadata": {},
   "source": [
    "The classifier works as follows:\n",
    "\n",
    "Given a function $z(d): W^u->[0,1]^v, \\quad u\\leq v$ a function to convert a document into a zipf where $d$ is a list of words and $W$ is the domain of possible words, a metric $m(P,Q): [0,1]^n \\times [0,1]^m -> \\mathbb{R}$, a learning set $L$ of $k$ tuples $(l_i, Z_i)$, where $l_i$ is the label of the set of zipfs $Z_i$, we proceed to classify a given document $d$ via two steps:\n",
    "\n",
    "1. Convert the document d to zipf: $z_d = z(d)$\n",
    "2. Predicted label is $l^* = \\text{argmin}_{l_i} \\left\\{(l_i, Z_i): \\frac{1}{\\#\\{Z_i\\}}\\sum_{z \\in Z_i} m(z_d, z)\\right\\}$, where $\\#\\{Z_i\\}$ is the cardinality of $Z_i$."
   ]
  },
  {
   "cell_type": "code",
   "execution_count": 31,
   "metadata": {},
   "outputs": [],
   "source": [
    "def get_classifier_paths(dataset):\n",
    "    \"\"\"Return paths for classifier, given a dataset.\"\"\"\n",
    "    zipfs_path = get_build_paths(dataset)[2]\n",
    "    learning_zipfs_path = \"%s/learning\"%zipfs_path\n",
    "    testing_zipfs_path = \"%s/testing\"%zipfs_path\n",
    "    return learning_zipfs_path, testing_zipfs_path"
   ]
  },
  {
   "cell_type": "code",
   "execution_count": 32,
   "metadata": {},
   "outputs": [],
   "source": [
    "def load_zipfs(classifier, path):\n",
    "    \"\"\"Load zipfs from given path into given classifier.\"\"\"\n",
    "    print(\"Loading zipfs from %s\"%(b(path)))\n",
    "    loaded = []\n",
    "    for zipf in tqdm(get_zipfs(path), unit='zipf'):\n",
    "        book_class = zipf.split('/')[-1].split('.')[0]\n",
    "        args = zipf, book_class\n",
    "        loaded.append(args)\n",
    "        classifier.add_zipf(*args)\n",
    "    \n",
    "    random.seed(42)\n",
    "    random.shuffle(loaded)\n",
    "    display(HTML(tabulate.tabulate(loaded[:10], [\"Path\", \"Class\"], tablefmt='html')))"
   ]
  },
  {
   "cell_type": "code",
   "execution_count": 33,
   "metadata": {},
   "outputs": [],
   "source": [
    "def load_test_couples(path):\n",
    "    \"\"\"Return list of zipfs from given path.\"\"\"\n",
    "    print(\"Loading tests from %s\"%(b(path)))\n",
    "    test_couples = []\n",
    "    for zipf in tqdm(get_zipfs(path)):\n",
    "        book_class = zipf.split('/')[-2]\n",
    "        args = zipf, book_class\n",
    "        test_couples.append(args)\n",
    "\n",
    "    random.seed(42)\n",
    "    random.shuffle(test_couples)\n",
    "    display(HTML(tabulate.tabulate(test_couples[:10], [\"Path\", \"Class\"], tablefmt='html')))\n",
    "    return test_couples"
   ]
  },
  {
   "cell_type": "code",
   "execution_count": 34,
   "metadata": {},
   "outputs": [],
   "source": [
    "def metrics_test(classifier, test_couples):\n",
    "    \"\"\"Run test on all metrics usable on zipfs.\"\"\"\n",
    "    global metrics\n",
    "    for metric in metrics:\n",
    "        results = classifier.test(test_couples, metric)\n",
    "        success(results, metric)"
   ]
  },
  {
   "cell_type": "markdown",
   "metadata": {},
   "source": [
    "First we create the classifier with the options set above:"
   ]
  },
  {
   "cell_type": "code",
   "execution_count": 35,
   "metadata": {},
   "outputs": [
    {
     "name": "stdout",
     "output_type": "stream",
     "text": [
      "We're using a classifier with options {\n",
      "    \"sort\": false\n",
      "}\n"
     ]
    }
   ],
   "source": [
    "classifier = ZipfClassifier(options)\n",
    "print(\"We're using a classifier with options %s\"%classifier)"
   ]
  },
  {
   "cell_type": "code",
   "execution_count": 36,
   "metadata": {
    "scrolled": false
   },
   "outputs": [
    {
     "name": "stdout",
     "output_type": "stream",
     "text": [
      "Testing dataset \u001b[1mauthors\u001b[0;0m\n",
      "I will build learning zipfs from \u001b[1mauthors/learning\u001b[0;0m,\n",
      "testing zipfs from \u001b[1mauthors/testing\u001b[0;0m\n",
      "and save them in \u001b[1mauthors/zipfs\u001b[0;0m\n",
      "\n",
      "\u001b[0;37m------------------------------\u001b[0;0m\n",
      "Loading zipfs from \u001b[1mauthors/zipfs/learning\u001b[0;0m\n"
     ]
    },
    {
     "data": {
      "application/vnd.jupyter.widget-view+json": {
       "model_id": "1e923c5f9f2549eaa8670b346e8a2494",
       "version_major": 2,
       "version_minor": 0
      },
      "text/html": [
       "<p>Failed to display Jupyter Widget of type <code>HBox</code>.</p>\n",
       "<p>\n",
       "  If you're reading this message in the Jupyter Notebook or JupyterLab Notebook, it may mean\n",
       "  that the widgets JavaScript is still loading. If this message persists, it\n",
       "  likely means that the widgets JavaScript library is either not installed or\n",
       "  not enabled. See the <a href=\"https://ipywidgets.readthedocs.io/en/stable/user_install.html\">Jupyter\n",
       "  Widgets Documentation</a> for setup instructions.\n",
       "</p>\n",
       "<p>\n",
       "  If you're reading this message in another frontend (for example, a static\n",
       "  rendering on GitHub or <a href=\"https://nbviewer.jupyter.org/\">NBViewer</a>),\n",
       "  it may mean that your frontend doesn't currently support widgets.\n",
       "</p>\n"
      ],
      "text/plain": [
       "HBox(children=(IntProgress(value=0, max=3), HTML(value='')))"
      ]
     },
     "metadata": {},
     "output_type": "display_data"
    },
    {
     "name": "stdout",
     "output_type": "stream",
     "text": [
      "\n"
     ]
    },
    {
     "data": {
      "text/html": [
       "<table>\n",
       "<thead>\n",
       "<tr><th>Path                                   </th><th>Class      </th></tr>\n",
       "</thead>\n",
       "<tbody>\n",
       "<tr><td>authors/zipfs/learning/dh_lawrence.json</td><td>dh_lawrence</td></tr>\n",
       "<tr><td>authors/zipfs/learning/twain.json      </td><td>twain      </td></tr>\n",
       "<tr><td>authors/zipfs/learning/wilde.json      </td><td>wilde      </td></tr>\n",
       "</tbody>\n",
       "</table>"
      ],
      "text/plain": [
       "<IPython.core.display.HTML object>"
      ]
     },
     "metadata": {},
     "output_type": "display_data"
    },
    {
     "name": "stdout",
     "output_type": "stream",
     "text": [
      "\u001b[0;37m------------------------------\u001b[0;0m\n",
      "Loading tests from \u001b[1mauthors/zipfs/testing\u001b[0;0m\n"
     ]
    },
    {
     "data": {
      "application/vnd.jupyter.widget-view+json": {
       "model_id": "c0c2c9637209450a806d699a2875190b",
       "version_major": 2,
       "version_minor": 0
      },
      "text/html": [
       "<p>Failed to display Jupyter Widget of type <code>HBox</code>.</p>\n",
       "<p>\n",
       "  If you're reading this message in the Jupyter Notebook or JupyterLab Notebook, it may mean\n",
       "  that the widgets JavaScript is still loading. If this message persists, it\n",
       "  likely means that the widgets JavaScript library is either not installed or\n",
       "  not enabled. See the <a href=\"https://ipywidgets.readthedocs.io/en/stable/user_install.html\">Jupyter\n",
       "  Widgets Documentation</a> for setup instructions.\n",
       "</p>\n",
       "<p>\n",
       "  If you're reading this message in another frontend (for example, a static\n",
       "  rendering on GitHub or <a href=\"https://nbviewer.jupyter.org/\">NBViewer</a>),\n",
       "  it may mean that your frontend doesn't currently support widgets.\n",
       "</p>\n"
      ],
      "text/plain": [
       "HBox(children=(IntProgress(value=0, max=160), HTML(value='')))"
      ]
     },
     "metadata": {},
     "output_type": "display_data"
    },
    {
     "name": "stdout",
     "output_type": "stream",
     "text": [
      "\n"
     ]
    },
    {
     "data": {
      "text/html": [
       "<table>\n",
       "<thead>\n",
       "<tr><th>Path                                             </th><th>Class      </th></tr>\n",
       "</thead>\n",
       "<tbody>\n",
       "<tr><td>authors/zipfs/testing/twain/double-barrelled.json</td><td>twain      </td></tr>\n",
       "<tr><td>authors/zipfs/testing/twain/3294.json            </td><td>twain      </td></tr>\n",
       "<tr><td>authors/zipfs/testing/wilde/2280.json            </td><td>wilde      </td></tr>\n",
       "<tr><td>authors/zipfs/testing/dh_lawrence/3484.json      </td><td>dh_lawrence</td></tr>\n",
       "<tr><td>authors/zipfs/testing/wilde/2299.json            </td><td>wilde      </td></tr>\n",
       "<tr><td>authors/zipfs/testing/twain/3277.json            </td><td>twain      </td></tr>\n",
       "<tr><td>authors/zipfs/testing/wilde/2318.json            </td><td>wilde      </td></tr>\n",
       "<tr><td>authors/zipfs/testing/dh_lawrence/3487.json      </td><td>dh_lawrence</td></tr>\n",
       "<tr><td>authors/zipfs/testing/wilde/2288.json            </td><td>wilde      </td></tr>\n",
       "<tr><td>authors/zipfs/testing/twain/323.json             </td><td>twain      </td></tr>\n",
       "</tbody>\n",
       "</table>"
      ],
      "text/plain": [
       "<IPython.core.display.HTML object>"
      ]
     },
     "metadata": {},
     "output_type": "display_data"
    },
    {
     "name": "stdout",
     "output_type": "stream",
     "text": [
      "\u001b[0;37m------------------------------\u001b[0;0m\n",
      "Success with metric \u001b[0;33mjensen_shannon\u001b[0;0m: \u001b[1m79.38%\u001b[0;0m\n"
     ]
    },
    {
     "data": {
      "text/html": [
       "<table>\n",
       "<thead>\n",
       "<tr><th>Info                         </th><th style=\"text-align: right;\">     Values</th></tr>\n",
       "</thead>\n",
       "<tbody>\n",
       "<tr><td>success                      </td><td style=\"text-align: right;\">127        </td></tr>\n",
       "<tr><td>failures                     </td><td style=\"text-align: right;\"> 32        </td></tr>\n",
       "<tr><td>unclassified                 </td><td style=\"text-align: right;\">  1        </td></tr>\n",
       "<tr><td>mean_delta                   </td><td style=\"text-align: right;\">  0.0180276</td></tr>\n",
       "<tr><td>Mistook wilde for dh_lawrence</td><td style=\"text-align: right;\"> 16        </td></tr>\n",
       "<tr><td>Mistook wilde for twain      </td><td style=\"text-align: right;\"> 16        </td></tr>\n",
       "</tbody>\n",
       "</table>"
      ],
      "text/plain": [
       "<IPython.core.display.HTML object>"
      ]
     },
     "metadata": {},
     "output_type": "display_data"
    },
    {
     "name": "stdout",
     "output_type": "stream",
     "text": [
      "Success with metric \u001b[0;33mnormal_total_variation\u001b[0;0m: \u001b[1m73.75%\u001b[0;0m\n"
     ]
    },
    {
     "data": {
      "text/html": [
       "<table>\n",
       "<thead>\n",
       "<tr><th>Info                         </th><th style=\"text-align: right;\">     Values</th></tr>\n",
       "</thead>\n",
       "<tbody>\n",
       "<tr><td>success                      </td><td style=\"text-align: right;\">118        </td></tr>\n",
       "<tr><td>failures                     </td><td style=\"text-align: right;\"> 42        </td></tr>\n",
       "<tr><td>unclassified                 </td><td style=\"text-align: right;\">  0        </td></tr>\n",
       "<tr><td>mean_delta                   </td><td style=\"text-align: right;\">  0.0265837</td></tr>\n",
       "<tr><td>Mistook wilde for dh_lawrence</td><td style=\"text-align: right;\"> 15        </td></tr>\n",
       "<tr><td>Mistook wilde for twain      </td><td style=\"text-align: right;\"> 21        </td></tr>\n",
       "<tr><td>Mistook dh_lawrence for twain</td><td style=\"text-align: right;\">  5        </td></tr>\n",
       "<tr><td>Mistook twain for wilde      </td><td style=\"text-align: right;\">  1        </td></tr>\n",
       "</tbody>\n",
       "</table>"
      ],
      "text/plain": [
       "<IPython.core.display.HTML object>"
      ]
     },
     "metadata": {},
     "output_type": "display_data"
    },
    {
     "name": "stdout",
     "output_type": "stream",
     "text": [
      "Success with metric \u001b[0;33mintersection_total_variation\u001b[0;0m: \u001b[1m78.75%\u001b[0;0m\n"
     ]
    },
    {
     "data": {
      "text/html": [
       "<table>\n",
       "<thead>\n",
       "<tr><th>Info                         </th><th style=\"text-align: right;\">     Values</th></tr>\n",
       "</thead>\n",
       "<tbody>\n",
       "<tr><td>success                      </td><td style=\"text-align: right;\">126        </td></tr>\n",
       "<tr><td>failures                     </td><td style=\"text-align: right;\"> 34        </td></tr>\n",
       "<tr><td>unclassified                 </td><td style=\"text-align: right;\">  0        </td></tr>\n",
       "<tr><td>mean_delta                   </td><td style=\"text-align: right;\">  0.0366234</td></tr>\n",
       "<tr><td>Mistook twain for wilde      </td><td style=\"text-align: right;\">  3        </td></tr>\n",
       "<tr><td>Mistook wilde for dh_lawrence</td><td style=\"text-align: right;\"> 10        </td></tr>\n",
       "<tr><td>Mistook dh_lawrence for wilde</td><td style=\"text-align: right;\">  4        </td></tr>\n",
       "<tr><td>Mistook wilde for twain      </td><td style=\"text-align: right;\"> 14        </td></tr>\n",
       "<tr><td>Mistook dh_lawrence for twain</td><td style=\"text-align: right;\">  2        </td></tr>\n",
       "<tr><td>Mistook twain for dh_lawrence</td><td style=\"text-align: right;\">  1        </td></tr>\n",
       "</tbody>\n",
       "</table>"
      ],
      "text/plain": [
       "<IPython.core.display.HTML object>"
      ]
     },
     "metadata": {},
     "output_type": "display_data"
    },
    {
     "name": "stdout",
     "output_type": "stream",
     "text": [
      "Success with metric \u001b[0;31mkullback_leibler\u001b[0;0m: \u001b[1m60.0%\u001b[0;0m\n"
     ]
    },
    {
     "data": {
      "text/html": [
       "<table>\n",
       "<thead>\n",
       "<tr><th>Info                         </th><th style=\"text-align: right;\">   Values</th></tr>\n",
       "</thead>\n",
       "<tbody>\n",
       "<tr><td>success                      </td><td style=\"text-align: right;\">96       </td></tr>\n",
       "<tr><td>failures                     </td><td style=\"text-align: right;\">64       </td></tr>\n",
       "<tr><td>unclassified                 </td><td style=\"text-align: right;\"> 0       </td></tr>\n",
       "<tr><td>mean_delta                   </td><td style=\"text-align: right;\"> 0.123656</td></tr>\n",
       "<tr><td>Mistook dh_lawrence for wilde</td><td style=\"text-align: right;\">26       </td></tr>\n",
       "<tr><td>Mistook twain for wilde      </td><td style=\"text-align: right;\">20       </td></tr>\n",
       "<tr><td>Mistook wilde for dh_lawrence</td><td style=\"text-align: right;\">13       </td></tr>\n",
       "<tr><td>Mistook wilde for twain      </td><td style=\"text-align: right;\"> 1       </td></tr>\n",
       "<tr><td>Mistook twain for dh_lawrence</td><td style=\"text-align: right;\"> 4       </td></tr>\n",
       "</tbody>\n",
       "</table>"
      ],
      "text/plain": [
       "<IPython.core.display.HTML object>"
      ]
     },
     "metadata": {},
     "output_type": "display_data"
    },
    {
     "name": "stdout",
     "output_type": "stream",
     "text": [
      "Success with metric \u001b[0;33mintersection_squared_hellinger\u001b[0;0m: \u001b[1m81.88%\u001b[0;0m\n"
     ]
    },
    {
     "data": {
      "text/html": [
       "<table>\n",
       "<thead>\n",
       "<tr><th>Info                         </th><th style=\"text-align: right;\">   Values</th></tr>\n",
       "</thead>\n",
       "<tbody>\n",
       "<tr><td>success                      </td><td style=\"text-align: right;\">131      </td></tr>\n",
       "<tr><td>failures                     </td><td style=\"text-align: right;\"> 29      </td></tr>\n",
       "<tr><td>unclassified                 </td><td style=\"text-align: right;\">  0      </td></tr>\n",
       "<tr><td>mean_delta                   </td><td style=\"text-align: right;\">  2.99136</td></tr>\n",
       "<tr><td>Mistook wilde for twain      </td><td style=\"text-align: right;\"> 20      </td></tr>\n",
       "<tr><td>Mistook wilde for dh_lawrence</td><td style=\"text-align: right;\">  6      </td></tr>\n",
       "<tr><td>Mistook dh_lawrence for twain</td><td style=\"text-align: right;\">  3      </td></tr>\n",
       "</tbody>\n",
       "</table>"
      ],
      "text/plain": [
       "<IPython.core.display.HTML object>"
      ]
     },
     "metadata": {},
     "output_type": "display_data"
    },
    {
     "name": "stdout",
     "output_type": "stream",
     "text": [
      "Success with metric \u001b[0;33mhellinger\u001b[0;0m: \u001b[1m81.25%\u001b[0;0m\n"
     ]
    },
    {
     "data": {
      "text/html": [
       "<table>\n",
       "<thead>\n",
       "<tr><th>Info                         </th><th style=\"text-align: right;\">     Values</th></tr>\n",
       "</thead>\n",
       "<tbody>\n",
       "<tr><td>success                      </td><td style=\"text-align: right;\">130        </td></tr>\n",
       "<tr><td>failures                     </td><td style=\"text-align: right;\"> 30        </td></tr>\n",
       "<tr><td>unclassified                 </td><td style=\"text-align: right;\">  0        </td></tr>\n",
       "<tr><td>mean_delta                   </td><td style=\"text-align: right;\">  0.0217585</td></tr>\n",
       "<tr><td>Mistook wilde for dh_lawrence</td><td style=\"text-align: right;\"> 15        </td></tr>\n",
       "<tr><td>Mistook wilde for twain      </td><td style=\"text-align: right;\"> 15        </td></tr>\n",
       "</tbody>\n",
       "</table>"
      ],
      "text/plain": [
       "<IPython.core.display.HTML object>"
      ]
     },
     "metadata": {},
     "output_type": "display_data"
    },
    {
     "name": "stdout",
     "output_type": "stream",
     "text": [
      "Success with metric \u001b[0;33msquared_hellinger\u001b[0;0m: \u001b[1m81.25%\u001b[0;0m\n"
     ]
    },
    {
     "data": {
      "text/html": [
       "<table>\n",
       "<thead>\n",
       "<tr><th>Info                         </th><th style=\"text-align: right;\">     Values</th></tr>\n",
       "</thead>\n",
       "<tbody>\n",
       "<tr><td>success                      </td><td style=\"text-align: right;\">130        </td></tr>\n",
       "<tr><td>failures                     </td><td style=\"text-align: right;\"> 30        </td></tr>\n",
       "<tr><td>unclassified                 </td><td style=\"text-align: right;\">  0        </td></tr>\n",
       "<tr><td>mean_delta                   </td><td style=\"text-align: right;\">  0.0259997</td></tr>\n",
       "<tr><td>Mistook wilde for dh_lawrence</td><td style=\"text-align: right;\"> 15        </td></tr>\n",
       "<tr><td>Mistook wilde for twain      </td><td style=\"text-align: right;\"> 15        </td></tr>\n",
       "</tbody>\n",
       "</table>"
      ],
      "text/plain": [
       "<IPython.core.display.HTML object>"
      ]
     },
     "metadata": {},
     "output_type": "display_data"
    },
    {
     "name": "stdout",
     "output_type": "stream",
     "text": [
      "\u001b[0;37m==============================\u001b[0;0m\n",
      "Testing dataset \u001b[1mperiods\u001b[0;0m\n",
      "I will build learning zipfs from \u001b[1mperiods/learning\u001b[0;0m,\n",
      "testing zipfs from \u001b[1mperiods/testing\u001b[0;0m\n",
      "and save them in \u001b[1mperiods/zipfs\u001b[0;0m\n",
      "\n",
      "\u001b[0;37m------------------------------\u001b[0;0m\n",
      "Loading zipfs from \u001b[1mperiods/zipfs/learning\u001b[0;0m\n"
     ]
    },
    {
     "data": {
      "application/vnd.jupyter.widget-view+json": {
       "model_id": "2cbb2c94ecdf4408a879373345f753ee",
       "version_major": 2,
       "version_minor": 0
      },
      "text/html": [
       "<p>Failed to display Jupyter Widget of type <code>HBox</code>.</p>\n",
       "<p>\n",
       "  If you're reading this message in the Jupyter Notebook or JupyterLab Notebook, it may mean\n",
       "  that the widgets JavaScript is still loading. If this message persists, it\n",
       "  likely means that the widgets JavaScript library is either not installed or\n",
       "  not enabled. See the <a href=\"https://ipywidgets.readthedocs.io/en/stable/user_install.html\">Jupyter\n",
       "  Widgets Documentation</a> for setup instructions.\n",
       "</p>\n",
       "<p>\n",
       "  If you're reading this message in another frontend (for example, a static\n",
       "  rendering on GitHub or <a href=\"https://nbviewer.jupyter.org/\">NBViewer</a>),\n",
       "  it may mean that your frontend doesn't currently support widgets.\n",
       "</p>\n"
      ],
      "text/plain": [
       "HBox(children=(IntProgress(value=0, max=4), HTML(value='')))"
      ]
     },
     "metadata": {},
     "output_type": "display_data"
    },
    {
     "name": "stdout",
     "output_type": "stream",
     "text": [
      "\n"
     ]
    },
    {
     "data": {
      "text/html": [
       "<table>\n",
       "<thead>\n",
       "<tr><th>Path                                   </th><th>Class      </th></tr>\n",
       "</thead>\n",
       "<tbody>\n",
       "<tr><td>periods/zipfs/learning/romanticism.json</td><td>romanticism</td></tr>\n",
       "<tr><td>periods/zipfs/learning/realism.json    </td><td>realism    </td></tr>\n",
       "<tr><td>periods/zipfs/learning/naturalism.json </td><td>naturalism </td></tr>\n",
       "<tr><td>periods/zipfs/learning/modernism.json  </td><td>modernism  </td></tr>\n",
       "</tbody>\n",
       "</table>"
      ],
      "text/plain": [
       "<IPython.core.display.HTML object>"
      ]
     },
     "metadata": {},
     "output_type": "display_data"
    },
    {
     "name": "stdout",
     "output_type": "stream",
     "text": [
      "\u001b[0;37m------------------------------\u001b[0;0m\n",
      "Loading tests from \u001b[1mperiods/zipfs/testing\u001b[0;0m\n"
     ]
    },
    {
     "data": {
      "application/vnd.jupyter.widget-view+json": {
       "model_id": "cab6e35bf2434c489120372ee9749342",
       "version_major": 2,
       "version_minor": 0
      },
      "text/html": [
       "<p>Failed to display Jupyter Widget of type <code>HBox</code>.</p>\n",
       "<p>\n",
       "  If you're reading this message in the Jupyter Notebook or JupyterLab Notebook, it may mean\n",
       "  that the widgets JavaScript is still loading. If this message persists, it\n",
       "  likely means that the widgets JavaScript library is either not installed or\n",
       "  not enabled. See the <a href=\"https://ipywidgets.readthedocs.io/en/stable/user_install.html\">Jupyter\n",
       "  Widgets Documentation</a> for setup instructions.\n",
       "</p>\n",
       "<p>\n",
       "  If you're reading this message in another frontend (for example, a static\n",
       "  rendering on GitHub or <a href=\"https://nbviewer.jupyter.org/\">NBViewer</a>),\n",
       "  it may mean that your frontend doesn't currently support widgets.\n",
       "</p>\n"
      ],
      "text/plain": [
       "HBox(children=(IntProgress(value=0, max=864), HTML(value='')))"
      ]
     },
     "metadata": {},
     "output_type": "display_data"
    },
    {
     "name": "stdout",
     "output_type": "stream",
     "text": [
      "\n"
     ]
    },
    {
     "data": {
      "text/html": [
       "<table>\n",
       "<thead>\n",
       "<tr><th>Path                                                  </th><th>Class      </th></tr>\n",
       "</thead>\n",
       "<tbody>\n",
       "<tr><td>periods/zipfs/testing/romanticism/680.json            </td><td>romanticism</td></tr>\n",
       "<tr><td>periods/zipfs/testing/modernism/sea-and-sardinia.json </td><td>modernism  </td></tr>\n",
       "<tr><td>periods/zipfs/testing/romanticism/158.json            </td><td>romanticism</td></tr>\n",
       "<tr><td>periods/zipfs/testing/romanticism/fugitive-pieces.json</td><td>romanticism</td></tr>\n",
       "<tr><td>periods/zipfs/testing/romanticism/3882.json           </td><td>romanticism</td></tr>\n",
       "<tr><td>periods/zipfs/testing/romanticism/129.json            </td><td>romanticism</td></tr>\n",
       "<tr><td>periods/zipfs/testing/modernism/misalliance.json      </td><td>modernism  </td></tr>\n",
       "<tr><td>periods/zipfs/testing/romanticism/684.json            </td><td>romanticism</td></tr>\n",
       "<tr><td>periods/zipfs/testing/modernism/in-the-cage.json      </td><td>modernism  </td></tr>\n",
       "<tr><td>periods/zipfs/testing/realism/4137.json               </td><td>realism    </td></tr>\n",
       "</tbody>\n",
       "</table>"
      ],
      "text/plain": [
       "<IPython.core.display.HTML object>"
      ]
     },
     "metadata": {},
     "output_type": "display_data"
    },
    {
     "name": "stdout",
     "output_type": "stream",
     "text": [
      "\u001b[0;37m------------------------------\u001b[0;0m\n",
      "Success with metric \u001b[0;31mjensen_shannon\u001b[0;0m: \u001b[1m63.77%\u001b[0;0m\n"
     ]
    },
    {
     "data": {
      "text/html": [
       "<table>\n",
       "<thead>\n",
       "<tr><th>Info                              </th><th style=\"text-align: right;\">      Values</th></tr>\n",
       "</thead>\n",
       "<tbody>\n",
       "<tr><td>success                           </td><td style=\"text-align: right;\">551         </td></tr>\n",
       "<tr><td>failures                          </td><td style=\"text-align: right;\">313         </td></tr>\n",
       "<tr><td>unclassified                      </td><td style=\"text-align: right;\">  0         </td></tr>\n",
       "<tr><td>mean_delta                        </td><td style=\"text-align: right;\">  0.00737391</td></tr>\n",
       "<tr><td>Mistook modernism for naturalism  </td><td style=\"text-align: right;\"> 16         </td></tr>\n",
       "<tr><td>Mistook romanticism for realism   </td><td style=\"text-align: right;\">137         </td></tr>\n",
       "<tr><td>Mistook modernism for realism     </td><td style=\"text-align: right;\"> 31         </td></tr>\n",
       "<tr><td>Mistook realism for romanticism   </td><td style=\"text-align: right;\"> 25         </td></tr>\n",
       "<tr><td>Mistook romanticism for naturalism</td><td style=\"text-align: right;\"> 11         </td></tr>\n",
       "<tr><td>Mistook naturalism for realism    </td><td style=\"text-align: right;\"> 27         </td></tr>\n",
       "<tr><td>Mistook realism for naturalism    </td><td style=\"text-align: right;\">  5         </td></tr>\n",
       "<tr><td>Mistook naturalism for modernism  </td><td style=\"text-align: right;\"> 16         </td></tr>\n",
       "<tr><td>Mistook realism for modernism     </td><td style=\"text-align: right;\"> 10         </td></tr>\n",
       "<tr><td>Mistook modernism for romanticism </td><td style=\"text-align: right;\"> 23         </td></tr>\n",
       "<tr><td>Mistook naturalism for romanticism</td><td style=\"text-align: right;\">  3         </td></tr>\n",
       "<tr><td>Mistook romanticism for modernism </td><td style=\"text-align: right;\">  9         </td></tr>\n",
       "</tbody>\n",
       "</table>"
      ],
      "text/plain": [
       "<IPython.core.display.HTML object>"
      ]
     },
     "metadata": {},
     "output_type": "display_data"
    },
    {
     "name": "stdout",
     "output_type": "stream",
     "text": [
      "Success with metric \u001b[0;31mnormal_total_variation\u001b[0;0m: \u001b[1m58.8%\u001b[0;0m\n"
     ]
    },
    {
     "data": {
      "text/html": [
       "<table>\n",
       "<thead>\n",
       "<tr><th>Info                              </th><th style=\"text-align: right;\">     Values</th></tr>\n",
       "</thead>\n",
       "<tbody>\n",
       "<tr><td>success                           </td><td style=\"text-align: right;\">508        </td></tr>\n",
       "<tr><td>failures                          </td><td style=\"text-align: right;\">356        </td></tr>\n",
       "<tr><td>unclassified                      </td><td style=\"text-align: right;\">  0        </td></tr>\n",
       "<tr><td>mean_delta                        </td><td style=\"text-align: right;\">  0.0114856</td></tr>\n",
       "<tr><td>Mistook modernism for naturalism  </td><td style=\"text-align: right;\"> 20        </td></tr>\n",
       "<tr><td>Mistook modernism for realism     </td><td style=\"text-align: right;\"> 27        </td></tr>\n",
       "<tr><td>Mistook romanticism for realism   </td><td style=\"text-align: right;\">133        </td></tr>\n",
       "<tr><td>Mistook realism for romanticism   </td><td style=\"text-align: right;\"> 26        </td></tr>\n",
       "<tr><td>Mistook romanticism for modernism </td><td style=\"text-align: right;\"> 37        </td></tr>\n",
       "<tr><td>Mistook romanticism for naturalism</td><td style=\"text-align: right;\"> 24        </td></tr>\n",
       "<tr><td>Mistook naturalism for realism    </td><td style=\"text-align: right;\"> 17        </td></tr>\n",
       "<tr><td>Mistook realism for naturalism    </td><td style=\"text-align: right;\">  8        </td></tr>\n",
       "<tr><td>Mistook naturalism for modernism  </td><td style=\"text-align: right;\"> 24        </td></tr>\n",
       "<tr><td>Mistook realism for modernism     </td><td style=\"text-align: right;\"> 12        </td></tr>\n",
       "<tr><td>Mistook naturalism for romanticism</td><td style=\"text-align: right;\">  3        </td></tr>\n",
       "<tr><td>Mistook modernism for romanticism </td><td style=\"text-align: right;\"> 25        </td></tr>\n",
       "</tbody>\n",
       "</table>"
      ],
      "text/plain": [
       "<IPython.core.display.HTML object>"
      ]
     },
     "metadata": {},
     "output_type": "display_data"
    },
    {
     "name": "stdout",
     "output_type": "stream",
     "text": [
      "Success with metric \u001b[0;31mintersection_total_variation\u001b[0;0m: \u001b[1m59.49%\u001b[0;0m\n"
     ]
    },
    {
     "data": {
      "text/html": [
       "<table>\n",
       "<thead>\n",
       "<tr><th>Info                              </th><th style=\"text-align: right;\">     Values</th></tr>\n",
       "</thead>\n",
       "<tbody>\n",
       "<tr><td>success                           </td><td style=\"text-align: right;\">514        </td></tr>\n",
       "<tr><td>failures                          </td><td style=\"text-align: right;\">350        </td></tr>\n",
       "<tr><td>unclassified                      </td><td style=\"text-align: right;\">  0        </td></tr>\n",
       "<tr><td>mean_delta                        </td><td style=\"text-align: right;\">  0.0246552</td></tr>\n",
       "<tr><td>Mistook romanticism for realism   </td><td style=\"text-align: right;\"> 40        </td></tr>\n",
       "<tr><td>Mistook modernism for naturalism  </td><td style=\"text-align: right;\"> 30        </td></tr>\n",
       "<tr><td>Mistook romanticism for modernism </td><td style=\"text-align: right;\"> 85        </td></tr>\n",
       "<tr><td>Mistook realism for modernism     </td><td style=\"text-align: right;\"> 23        </td></tr>\n",
       "<tr><td>Mistook realism for romanticism   </td><td style=\"text-align: right;\"> 63        </td></tr>\n",
       "<tr><td>Mistook romanticism for naturalism</td><td style=\"text-align: right;\"> 21        </td></tr>\n",
       "<tr><td>Mistook modernism for realism     </td><td style=\"text-align: right;\">  8        </td></tr>\n",
       "<tr><td>Mistook realism for naturalism    </td><td style=\"text-align: right;\"> 17        </td></tr>\n",
       "<tr><td>Mistook modernism for romanticism </td><td style=\"text-align: right;\"> 33        </td></tr>\n",
       "<tr><td>Mistook naturalism for romanticism</td><td style=\"text-align: right;\">  8        </td></tr>\n",
       "<tr><td>Mistook naturalism for modernism  </td><td style=\"text-align: right;\"> 20        </td></tr>\n",
       "<tr><td>Mistook naturalism for realism    </td><td style=\"text-align: right;\">  2        </td></tr>\n",
       "</tbody>\n",
       "</table>"
      ],
      "text/plain": [
       "<IPython.core.display.HTML object>"
      ]
     },
     "metadata": {},
     "output_type": "display_data"
    },
    {
     "name": "stdout",
     "output_type": "stream",
     "text": [
      "Success with metric \u001b[0;31mkullback_leibler\u001b[0;0m: \u001b[1m63.54%\u001b[0;0m\n"
     ]
    },
    {
     "data": {
      "text/html": [
       "<table>\n",
       "<thead>\n",
       "<tr><th>Info                              </th><th style=\"text-align: right;\">    Values</th></tr>\n",
       "</thead>\n",
       "<tbody>\n",
       "<tr><td>success                           </td><td style=\"text-align: right;\">549       </td></tr>\n",
       "<tr><td>failures                          </td><td style=\"text-align: right;\">315       </td></tr>\n",
       "<tr><td>unclassified                      </td><td style=\"text-align: right;\">  0       </td></tr>\n",
       "<tr><td>mean_delta                        </td><td style=\"text-align: right;\">  0.116207</td></tr>\n",
       "<tr><td>Mistook modernism for naturalism  </td><td style=\"text-align: right;\"> 25       </td></tr>\n",
       "<tr><td>Mistook romanticism for naturalism</td><td style=\"text-align: right;\"> 15       </td></tr>\n",
       "<tr><td>Mistook modernism for realism     </td><td style=\"text-align: right;\"> 33       </td></tr>\n",
       "<tr><td>Mistook realism for romanticism   </td><td style=\"text-align: right;\"> 55       </td></tr>\n",
       "<tr><td>Mistook realism for naturalism    </td><td style=\"text-align: right;\"> 10       </td></tr>\n",
       "<tr><td>Mistook romanticism for realism   </td><td style=\"text-align: right;\"> 40       </td></tr>\n",
       "<tr><td>Mistook modernism for romanticism </td><td style=\"text-align: right;\"> 41       </td></tr>\n",
       "<tr><td>Mistook naturalism for realism    </td><td style=\"text-align: right;\"> 34       </td></tr>\n",
       "<tr><td>Mistook realism for modernism     </td><td style=\"text-align: right;\"> 26       </td></tr>\n",
       "<tr><td>Mistook naturalism for romanticism</td><td style=\"text-align: right;\"> 15       </td></tr>\n",
       "<tr><td>Mistook naturalism for modernism  </td><td style=\"text-align: right;\"> 14       </td></tr>\n",
       "<tr><td>Mistook romanticism for modernism </td><td style=\"text-align: right;\">  7       </td></tr>\n",
       "</tbody>\n",
       "</table>"
      ],
      "text/plain": [
       "<IPython.core.display.HTML object>"
      ]
     },
     "metadata": {},
     "output_type": "display_data"
    },
    {
     "name": "stdout",
     "output_type": "stream",
     "text": [
      "Success with metric \u001b[0;32mintersection_squared_hellinger\u001b[0;0m: \u001b[1m87.5%\u001b[0;0m\n"
     ]
    },
    {
     "data": {
      "text/html": [
       "<table>\n",
       "<thead>\n",
       "<tr><th>Info                              </th><th style=\"text-align: right;\">   Values</th></tr>\n",
       "</thead>\n",
       "<tbody>\n",
       "<tr><td>success                           </td><td style=\"text-align: right;\">756      </td></tr>\n",
       "<tr><td>failures                          </td><td style=\"text-align: right;\">108      </td></tr>\n",
       "<tr><td>unclassified                      </td><td style=\"text-align: right;\">  0      </td></tr>\n",
       "<tr><td>mean_delta                        </td><td style=\"text-align: right;\">  1.19871</td></tr>\n",
       "<tr><td>Mistook romanticism for naturalism</td><td style=\"text-align: right;\">  8      </td></tr>\n",
       "<tr><td>Mistook realism for romanticism   </td><td style=\"text-align: right;\"> 31      </td></tr>\n",
       "<tr><td>Mistook modernism for naturalism  </td><td style=\"text-align: right;\"> 22      </td></tr>\n",
       "<tr><td>Mistook modernism for romanticism </td><td style=\"text-align: right;\"> 15      </td></tr>\n",
       "<tr><td>Mistook naturalism for romanticism</td><td style=\"text-align: right;\">  3      </td></tr>\n",
       "<tr><td>Mistook realism for naturalism    </td><td style=\"text-align: right;\"> 12      </td></tr>\n",
       "<tr><td>Mistook naturalism for modernism  </td><td style=\"text-align: right;\">  3      </td></tr>\n",
       "<tr><td>Mistook modernism for realism     </td><td style=\"text-align: right;\">  2      </td></tr>\n",
       "<tr><td>Mistook romanticism for realism   </td><td style=\"text-align: right;\">  3      </td></tr>\n",
       "<tr><td>Mistook realism for modernism     </td><td style=\"text-align: right;\">  5      </td></tr>\n",
       "<tr><td>Mistook romanticism for modernism </td><td style=\"text-align: right;\">  3      </td></tr>\n",
       "<tr><td>Mistook naturalism for realism    </td><td style=\"text-align: right;\">  1      </td></tr>\n",
       "</tbody>\n",
       "</table>"
      ],
      "text/plain": [
       "<IPython.core.display.HTML object>"
      ]
     },
     "metadata": {},
     "output_type": "display_data"
    },
    {
     "name": "stdout",
     "output_type": "stream",
     "text": [
      "Success with metric \u001b[0;31mhellinger\u001b[0;0m: \u001b[1m65.39%\u001b[0;0m\n"
     ]
    },
    {
     "data": {
      "text/html": [
       "<table>\n",
       "<thead>\n",
       "<tr><th>Info                              </th><th style=\"text-align: right;\">      Values</th></tr>\n",
       "</thead>\n",
       "<tbody>\n",
       "<tr><td>success                           </td><td style=\"text-align: right;\">565         </td></tr>\n",
       "<tr><td>failures                          </td><td style=\"text-align: right;\">299         </td></tr>\n",
       "<tr><td>unclassified                      </td><td style=\"text-align: right;\">  0         </td></tr>\n",
       "<tr><td>mean_delta                        </td><td style=\"text-align: right;\">  0.00946594</td></tr>\n",
       "<tr><td>Mistook modernism for realism     </td><td style=\"text-align: right;\"> 27         </td></tr>\n",
       "<tr><td>Mistook romanticism for realism   </td><td style=\"text-align: right;\">137         </td></tr>\n",
       "<tr><td>Mistook realism for romanticism   </td><td style=\"text-align: right;\"> 24         </td></tr>\n",
       "<tr><td>Mistook modernism for naturalism  </td><td style=\"text-align: right;\"> 10         </td></tr>\n",
       "<tr><td>Mistook romanticism for naturalism</td><td style=\"text-align: right;\">  6         </td></tr>\n",
       "<tr><td>Mistook naturalism for realism    </td><td style=\"text-align: right;\"> 32         </td></tr>\n",
       "<tr><td>Mistook realism for naturalism    </td><td style=\"text-align: right;\">  4         </td></tr>\n",
       "<tr><td>Mistook naturalism for modernism  </td><td style=\"text-align: right;\"> 17         </td></tr>\n",
       "<tr><td>Mistook realism for modernism     </td><td style=\"text-align: right;\">  7         </td></tr>\n",
       "<tr><td>Mistook modernism for romanticism </td><td style=\"text-align: right;\"> 27         </td></tr>\n",
       "<tr><td>Mistook naturalism for romanticism</td><td style=\"text-align: right;\">  4         </td></tr>\n",
       "<tr><td>Mistook romanticism for modernism </td><td style=\"text-align: right;\">  4         </td></tr>\n",
       "</tbody>\n",
       "</table>"
      ],
      "text/plain": [
       "<IPython.core.display.HTML object>"
      ]
     },
     "metadata": {},
     "output_type": "display_data"
    },
    {
     "name": "stdout",
     "output_type": "stream",
     "text": [
      "Success with metric \u001b[0;31msquared_hellinger\u001b[0;0m: \u001b[1m65.39%\u001b[0;0m\n"
     ]
    },
    {
     "data": {
      "text/html": [
       "<table>\n",
       "<thead>\n",
       "<tr><th>Info                              </th><th style=\"text-align: right;\">     Values</th></tr>\n",
       "</thead>\n",
       "<tbody>\n",
       "<tr><td>success                           </td><td style=\"text-align: right;\">565        </td></tr>\n",
       "<tr><td>failures                          </td><td style=\"text-align: right;\">299        </td></tr>\n",
       "<tr><td>unclassified                      </td><td style=\"text-align: right;\">  0        </td></tr>\n",
       "<tr><td>mean_delta                        </td><td style=\"text-align: right;\">  0.0107078</td></tr>\n",
       "<tr><td>Mistook modernism for realism     </td><td style=\"text-align: right;\"> 27        </td></tr>\n",
       "<tr><td>Mistook romanticism for realism   </td><td style=\"text-align: right;\">137        </td></tr>\n",
       "<tr><td>Mistook realism for romanticism   </td><td style=\"text-align: right;\"> 24        </td></tr>\n",
       "<tr><td>Mistook modernism for naturalism  </td><td style=\"text-align: right;\"> 10        </td></tr>\n",
       "<tr><td>Mistook romanticism for naturalism</td><td style=\"text-align: right;\">  6        </td></tr>\n",
       "<tr><td>Mistook naturalism for realism    </td><td style=\"text-align: right;\"> 32        </td></tr>\n",
       "<tr><td>Mistook realism for naturalism    </td><td style=\"text-align: right;\">  4        </td></tr>\n",
       "<tr><td>Mistook naturalism for modernism  </td><td style=\"text-align: right;\"> 17        </td></tr>\n",
       "<tr><td>Mistook realism for modernism     </td><td style=\"text-align: right;\">  7        </td></tr>\n",
       "<tr><td>Mistook modernism for romanticism </td><td style=\"text-align: right;\"> 27        </td></tr>\n",
       "<tr><td>Mistook naturalism for romanticism</td><td style=\"text-align: right;\">  4        </td></tr>\n",
       "<tr><td>Mistook romanticism for modernism </td><td style=\"text-align: right;\">  4        </td></tr>\n",
       "</tbody>\n",
       "</table>"
      ],
      "text/plain": [
       "<IPython.core.display.HTML object>"
      ]
     },
     "metadata": {},
     "output_type": "display_data"
    },
    {
     "name": "stdout",
     "output_type": "stream",
     "text": [
      "\u001b[0;37m==============================\u001b[0;0m\n",
      "Testing dataset \u001b[1mrecipes\u001b[0;0m\n",
      "I will build learning zipfs from \u001b[1mrecipes/learning\u001b[0;0m,\n",
      "testing zipfs from \u001b[1mrecipes/testing\u001b[0;0m\n",
      "and save them in \u001b[1mrecipes/zipfs\u001b[0;0m\n",
      "\n",
      "\u001b[0;37m------------------------------\u001b[0;0m\n",
      "Loading zipfs from \u001b[1mrecipes/zipfs/learning\u001b[0;0m\n"
     ]
    },
    {
     "data": {
      "application/vnd.jupyter.widget-view+json": {
       "model_id": "7ad9dd8a6ec64f52b83ff005ee03af12",
       "version_major": 2,
       "version_minor": 0
      },
      "text/html": [
       "<p>Failed to display Jupyter Widget of type <code>HBox</code>.</p>\n",
       "<p>\n",
       "  If you're reading this message in the Jupyter Notebook or JupyterLab Notebook, it may mean\n",
       "  that the widgets JavaScript is still loading. If this message persists, it\n",
       "  likely means that the widgets JavaScript library is either not installed or\n",
       "  not enabled. See the <a href=\"https://ipywidgets.readthedocs.io/en/stable/user_install.html\">Jupyter\n",
       "  Widgets Documentation</a> for setup instructions.\n",
       "</p>\n",
       "<p>\n",
       "  If you're reading this message in another frontend (for example, a static\n",
       "  rendering on GitHub or <a href=\"https://nbviewer.jupyter.org/\">NBViewer</a>),\n",
       "  it may mean that your frontend doesn't currently support widgets.\n",
       "</p>\n"
      ],
      "text/plain": [
       "HBox(children=(IntProgress(value=0, max=2), HTML(value='')))"
      ]
     },
     "metadata": {},
     "output_type": "display_data"
    },
    {
     "name": "stdout",
     "output_type": "stream",
     "text": [
      "\n"
     ]
    },
    {
     "data": {
      "text/html": [
       "<table>\n",
       "<thead>\n",
       "<tr><th>Path                                   </th><th>Class      </th></tr>\n",
       "</thead>\n",
       "<tbody>\n",
       "<tr><td>recipes/zipfs/learning/non_recipes.json</td><td>non_recipes</td></tr>\n",
       "<tr><td>recipes/zipfs/learning/recipes.json    </td><td>recipes    </td></tr>\n",
       "</tbody>\n",
       "</table>"
      ],
      "text/plain": [
       "<IPython.core.display.HTML object>"
      ]
     },
     "metadata": {},
     "output_type": "display_data"
    },
    {
     "name": "stdout",
     "output_type": "stream",
     "text": [
      "\u001b[0;37m------------------------------\u001b[0;0m\n",
      "Loading tests from \u001b[1mrecipes/zipfs/testing\u001b[0;0m\n"
     ]
    },
    {
     "data": {
      "application/vnd.jupyter.widget-view+json": {
       "model_id": "a795ac9805b1446b8495b5fc26499dd1",
       "version_major": 2,
       "version_minor": 0
      },
      "text/html": [
       "<p>Failed to display Jupyter Widget of type <code>HBox</code>.</p>\n",
       "<p>\n",
       "  If you're reading this message in the Jupyter Notebook or JupyterLab Notebook, it may mean\n",
       "  that the widgets JavaScript is still loading. If this message persists, it\n",
       "  likely means that the widgets JavaScript library is either not installed or\n",
       "  not enabled. See the <a href=\"https://ipywidgets.readthedocs.io/en/stable/user_install.html\">Jupyter\n",
       "  Widgets Documentation</a> for setup instructions.\n",
       "</p>\n",
       "<p>\n",
       "  If you're reading this message in another frontend (for example, a static\n",
       "  rendering on GitHub or <a href=\"https://nbviewer.jupyter.org/\">NBViewer</a>),\n",
       "  it may mean that your frontend doesn't currently support widgets.\n",
       "</p>\n"
      ],
      "text/plain": [
       "HBox(children=(IntProgress(value=0, max=7214), HTML(value='')))"
      ]
     },
     "metadata": {},
     "output_type": "display_data"
    },
    {
     "name": "stdout",
     "output_type": "stream",
     "text": [
      "\n"
     ]
    },
    {
     "data": {
      "text/html": [
       "<table>\n",
       "<thead>\n",
       "<tr><th>Path                                                                   </th><th>Class      </th></tr>\n",
       "</thead>\n",
       "<tbody>\n",
       "<tr><td>recipes/zipfs/testing/non_recipes/3d42a56c681d56a73985877ba3c8bd6f.json</td><td>non_recipes</td></tr>\n",
       "<tr><td>recipes/zipfs/testing/non_recipes/7c3d10eb81a2660e81cff3c3b41a951e.json</td><td>non_recipes</td></tr>\n",
       "<tr><td>recipes/zipfs/testing/recipes/e2cd675ec121020b224e5118b5ae4d1b.json    </td><td>recipes    </td></tr>\n",
       "<tr><td>recipes/zipfs/testing/recipes/2a90bc4cd74f6bbc578c9c5d8fda741f.json    </td><td>recipes    </td></tr>\n",
       "<tr><td>recipes/zipfs/testing/non_recipes/bfbc1b5eee1d423942b8b0b55f82bbff.json</td><td>non_recipes</td></tr>\n",
       "<tr><td>recipes/zipfs/testing/non_recipes/6c41a532214cc6dfdbcc9b3bb5be0630.json</td><td>non_recipes</td></tr>\n",
       "<tr><td>recipes/zipfs/testing/non_recipes/c31a242182356ea14acf080f628b03cc.json</td><td>non_recipes</td></tr>\n",
       "<tr><td>recipes/zipfs/testing/non_recipes/bbecd5cafac80b5441765704a18db2c3.json</td><td>non_recipes</td></tr>\n",
       "<tr><td>recipes/zipfs/testing/non_recipes/3a2b4e9cb1130e371f12e48525e2e190.json</td><td>non_recipes</td></tr>\n",
       "<tr><td>recipes/zipfs/testing/non_recipes/38928442e96835f1897ab5c1cb4276a3.json</td><td>non_recipes</td></tr>\n",
       "</tbody>\n",
       "</table>"
      ],
      "text/plain": [
       "<IPython.core.display.HTML object>"
      ]
     },
     "metadata": {},
     "output_type": "display_data"
    },
    {
     "name": "stdout",
     "output_type": "stream",
     "text": [
      "\u001b[0;37m------------------------------\u001b[0;0m\n",
      "Success with metric \u001b[0;32mjensen_shannon\u001b[0;0m: \u001b[1m85.71%\u001b[0;0m\n"
     ]
    },
    {
     "data": {
      "text/html": [
       "<table>\n",
       "<thead>\n",
       "<tr><th>Info                           </th><th style=\"text-align: right;\">      Values</th></tr>\n",
       "</thead>\n",
       "<tbody>\n",
       "<tr><td>success                        </td><td style=\"text-align: right;\">6183        </td></tr>\n",
       "<tr><td>failures                       </td><td style=\"text-align: right;\">1030        </td></tr>\n",
       "<tr><td>unclassified                   </td><td style=\"text-align: right;\">   1        </td></tr>\n",
       "<tr><td>mean_delta                     </td><td style=\"text-align: right;\">   0.0484755</td></tr>\n",
       "<tr><td>Mistook non_recipes for recipes</td><td style=\"text-align: right;\">1030        </td></tr>\n",
       "</tbody>\n",
       "</table>"
      ],
      "text/plain": [
       "<IPython.core.display.HTML object>"
      ]
     },
     "metadata": {},
     "output_type": "display_data"
    },
    {
     "name": "stdout",
     "output_type": "stream",
     "text": [
      "Success with metric \u001b[0;33mnormal_total_variation\u001b[0;0m: \u001b[1m72.04%\u001b[0;0m\n"
     ]
    },
    {
     "data": {
      "text/html": [
       "<table>\n",
       "<thead>\n",
       "<tr><th>Info                           </th><th style=\"text-align: right;\">      Values</th></tr>\n",
       "</thead>\n",
       "<tbody>\n",
       "<tr><td>success                        </td><td style=\"text-align: right;\">5197        </td></tr>\n",
       "<tr><td>failures                       </td><td style=\"text-align: right;\">2016        </td></tr>\n",
       "<tr><td>unclassified                   </td><td style=\"text-align: right;\">   1        </td></tr>\n",
       "<tr><td>mean_delta                     </td><td style=\"text-align: right;\">   0.0538705</td></tr>\n",
       "<tr><td>Mistook non_recipes for recipes</td><td style=\"text-align: right;\">2016        </td></tr>\n",
       "</tbody>\n",
       "</table>"
      ],
      "text/plain": [
       "<IPython.core.display.HTML object>"
      ]
     },
     "metadata": {},
     "output_type": "display_data"
    },
    {
     "name": "stdout",
     "output_type": "stream",
     "text": [
      "Success with metric \u001b[0;32mintersection_total_variation\u001b[0;0m: \u001b[1m93.64%\u001b[0;0m\n"
     ]
    },
    {
     "data": {
      "text/html": [
       "<table>\n",
       "<thead>\n",
       "<tr><th>Info                           </th><th style=\"text-align: right;\">      Values</th></tr>\n",
       "</thead>\n",
       "<tbody>\n",
       "<tr><td>success                        </td><td style=\"text-align: right;\">6755        </td></tr>\n",
       "<tr><td>failures                       </td><td style=\"text-align: right;\"> 459        </td></tr>\n",
       "<tr><td>unclassified                   </td><td style=\"text-align: right;\">   0        </td></tr>\n",
       "<tr><td>mean_delta                     </td><td style=\"text-align: right;\">   0.0799341</td></tr>\n",
       "<tr><td>Mistook non_recipes for recipes</td><td style=\"text-align: right;\"> 458        </td></tr>\n",
       "<tr><td>Mistook recipes for non_recipes</td><td style=\"text-align: right;\">   1        </td></tr>\n",
       "</tbody>\n",
       "</table>"
      ],
      "text/plain": [
       "<IPython.core.display.HTML object>"
      ]
     },
     "metadata": {},
     "output_type": "display_data"
    },
    {
     "name": "stdout",
     "output_type": "stream",
     "text": [
      "Success with metric \u001b[0;31mkullback_leibler\u001b[0;0m: \u001b[1m28.64%\u001b[0;0m\n"
     ]
    },
    {
     "data": {
      "text/html": [
       "<table>\n",
       "<thead>\n",
       "<tr><th>Info                           </th><th style=\"text-align: right;\">     Values</th></tr>\n",
       "</thead>\n",
       "<tbody>\n",
       "<tr><td>success                        </td><td style=\"text-align: right;\">2066       </td></tr>\n",
       "<tr><td>failures                       </td><td style=\"text-align: right;\">5148       </td></tr>\n",
       "<tr><td>unclassified                   </td><td style=\"text-align: right;\">   0       </td></tr>\n",
       "<tr><td>mean_delta                     </td><td style=\"text-align: right;\">   0.848787</td></tr>\n",
       "<tr><td>Mistook non_recipes for recipes</td><td style=\"text-align: right;\">5148       </td></tr>\n",
       "</tbody>\n",
       "</table>"
      ],
      "text/plain": [
       "<IPython.core.display.HTML object>"
      ]
     },
     "metadata": {},
     "output_type": "display_data"
    },
    {
     "name": "stdout",
     "output_type": "stream",
     "text": [
      "Success with metric \u001b[0;32mintersection_squared_hellinger\u001b[0;0m: \u001b[1m99.79%\u001b[0;0m\n"
     ]
    },
    {
     "data": {
      "text/html": [
       "<table>\n",
       "<thead>\n",
       "<tr><th>Info                           </th><th style=\"text-align: right;\">    Values</th></tr>\n",
       "</thead>\n",
       "<tbody>\n",
       "<tr><td>success                        </td><td style=\"text-align: right;\">7199      </td></tr>\n",
       "<tr><td>failures                       </td><td style=\"text-align: right;\">  15      </td></tr>\n",
       "<tr><td>unclassified                   </td><td style=\"text-align: right;\">   0      </td></tr>\n",
       "<tr><td>mean_delta                     </td><td style=\"text-align: right;\">   6.90183</td></tr>\n",
       "<tr><td>Mistook non_recipes for recipes</td><td style=\"text-align: right;\">  14      </td></tr>\n",
       "<tr><td>Mistook recipes for non_recipes</td><td style=\"text-align: right;\">   1      </td></tr>\n",
       "</tbody>\n",
       "</table>"
      ],
      "text/plain": [
       "<IPython.core.display.HTML object>"
      ]
     },
     "metadata": {},
     "output_type": "display_data"
    },
    {
     "name": "stdout",
     "output_type": "stream",
     "text": [
      "Success with metric \u001b[0;32mhellinger\u001b[0;0m: \u001b[1m92.47%\u001b[0;0m\n"
     ]
    },
    {
     "data": {
      "text/html": [
       "<table>\n",
       "<thead>\n",
       "<tr><th>Info                           </th><th style=\"text-align: right;\">      Values</th></tr>\n",
       "</thead>\n",
       "<tbody>\n",
       "<tr><td>success                        </td><td style=\"text-align: right;\">6671        </td></tr>\n",
       "<tr><td>failures                       </td><td style=\"text-align: right;\"> 541        </td></tr>\n",
       "<tr><td>unclassified                   </td><td style=\"text-align: right;\">   2        </td></tr>\n",
       "<tr><td>mean_delta                     </td><td style=\"text-align: right;\">   0.0540858</td></tr>\n",
       "<tr><td>Mistook non_recipes for recipes</td><td style=\"text-align: right;\"> 541        </td></tr>\n",
       "</tbody>\n",
       "</table>"
      ],
      "text/plain": [
       "<IPython.core.display.HTML object>"
      ]
     },
     "metadata": {},
     "output_type": "display_data"
    },
    {
     "name": "stdout",
     "output_type": "stream",
     "text": [
      "Success with metric \u001b[0;32msquared_hellinger\u001b[0;0m: \u001b[1m92.49%\u001b[0;0m\n"
     ]
    },
    {
     "data": {
      "text/html": [
       "<table>\n",
       "<thead>\n",
       "<tr><th>Info                           </th><th style=\"text-align: right;\">      Values</th></tr>\n",
       "</thead>\n",
       "<tbody>\n",
       "<tr><td>success                        </td><td style=\"text-align: right;\">6672        </td></tr>\n",
       "<tr><td>failures                       </td><td style=\"text-align: right;\"> 541        </td></tr>\n",
       "<tr><td>unclassified                   </td><td style=\"text-align: right;\">   1        </td></tr>\n",
       "<tr><td>mean_delta                     </td><td style=\"text-align: right;\">   0.0821632</td></tr>\n",
       "<tr><td>Mistook non_recipes for recipes</td><td style=\"text-align: right;\"> 541        </td></tr>\n",
       "</tbody>\n",
       "</table>"
      ],
      "text/plain": [
       "<IPython.core.display.HTML object>"
      ]
     },
     "metadata": {},
     "output_type": "display_data"
    },
    {
     "name": "stdout",
     "output_type": "stream",
     "text": [
      "\u001b[0;37m==============================\u001b[0;0m\n"
     ]
    }
   ],
   "source": [
    "for dataset in datasets:\n",
    "    print(\"Testing dataset %s\"%(b(dataset)))\n",
    "    learning_zipfs_path, testing_zipfs_path = get_classifier_paths(dataset)\n",
    "    print(gray('-'*frame_number))\n",
    "    load_zipfs(classifier, learning_zipfs_path)\n",
    "    print(gray('-'*frame_number))\n",
    "    test_couples = load_test_couples(testing_zipfs_path)\n",
    "    print(gray('-'*frame_number))\n",
    "    metrics_test(classifier, test_couples)\n",
    "    classifier.clear()\n",
    "    print(gray('='*frame_number))"
   ]
  },
  {
   "cell_type": "markdown",
   "metadata": {},
   "source": [
    "## Root of errors\n",
    "\n",
    "Here follows a list of some of the possible cause of errors I have diagnosed in the dataset formulation:\n",
    "\n",
    "### Cardinality of difference of sets\n",
    "The difference of the two sets has an important effect on the good result of the classification: if $\\#\\{P \\setminus P \\cap Q\\} >> \\#\\{Q \\setminus P \\cap Q\\}$ the metric should include only the intersection. It is for this reason that the `intersection_squared_hellinger` metric works best generally, but expecially in these situation such in the case of datasets **periods**.\n",
    "\n",
    "### Small texts\n",
    "When a text is significantly smaller than the average element in the learning set it will only be marked as a false positive or negative. In these datasets I have removed elements with less than 200 characters for this reason, since they do not offer enough informations for a significant classification."
   ]
  },
  {
   "cell_type": "markdown",
   "metadata": {},
   "source": [
    "## Conclusions\n",
    "The classification method proposed, expecially using the `intersection_squared_hellinger` is extremely fast: in average it converts to zipf an average recepy and test it in **1.06 ms ± 50.3 µs**. It also is, in the case of web articles in particular, in average, correct and consistent: it could be used as a fast catalogation tecnique for focused web crawlers as a part of the filters to remove unwanted content. Combinations of the distances proposed might bring an higher success rate."
   ]
  },
  {
   "cell_type": "markdown",
   "metadata": {},
   "source": [
    "### Test computer specifications\n",
    "\n",
    "The computer on which the metrics where timed had the following specifications:\n",
    "\n",
    "| Computer specifications               |\n",
    "| --------------------- | ------------- |\n",
    "| Model Name            | MacBook Pro   |\n",
    "| Processor Name        | Intel Core i7 |\n",
    "| Processor Speed       | 2.3 GHz       |\n",
    "| Number of Processors  | 1             |\n",
    "| Total Number of Cores | 4             |\n",
    "| L2 Cache (per Core)   | 256 KB        |\n",
    "| L3 Cache              | 6 MB          |\n",
    "| Memory                | 16 GB         |"
   ]
  },
  {
   "cell_type": "markdown",
   "metadata": {},
   "source": [
    "### Future works\n",
    "In the near future, I'll develop the classifier using a learning algoritms to determine which combinations of distances achieves the best success rate. Also, I'll be trying to use this classifier as a way to power an autonomous crawler starting from the current implementation of an other project of mine [TinyCrawler](https://github.com/LucaCappelletti94/tinycrawler)."
   ]
  }
 ],
 "metadata": {
  "kernelspec": {
   "display_name": "Python 3",
   "language": "python",
   "name": "python3"
  },
  "language_info": {
   "codemirror_mode": {
    "name": "ipython",
    "version": 3
   },
   "file_extension": ".py",
   "mimetype": "text/x-python",
   "name": "python",
   "nbconvert_exporter": "python",
   "pygments_lexer": "ipython3",
   "version": "3.6.4"
  }
 },
 "nbformat": 4,
 "nbformat_minor": 2
}
